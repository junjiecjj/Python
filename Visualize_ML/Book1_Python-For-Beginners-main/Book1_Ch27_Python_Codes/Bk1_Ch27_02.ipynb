{
 "cells": [
  {
   "cell_type": "markdown",
   "id": "b30dcfed-e934-4858-9407-6c72cd0aab12",
   "metadata": {},
   "source": [
    "Chapter 27\n",
    "# 一元OLS线性回归\n",
    "Book_1《编程不难》 | 鸢尾花书：从加减乘除到机器学习  "
   ]
  },
  {
   "cell_type": "code",
   "execution_count": 1,
   "id": "7e9b739a-3c43-45e4-bd7c-aecacbc2aa3e",
   "metadata": {},
   "outputs": [],
   "source": [
    "import numpy as np\n",
    "import statsmodels.api as sm\n",
    "import matplotlib.pyplot as plt"
   ]
  },
  {
   "cell_type": "code",
   "execution_count": 2,
   "id": "2ee2eddb-b865-42f6-94a6-e8923bad3a71",
   "metadata": {},
   "outputs": [],
   "source": [
    "# 生成随机数据\n",
    "num = 50\n",
    "np.random.seed(0)\n",
    "x_data = np.random.uniform(0,10,num)\n",
    "y_data = 0.5 * x_data + 1 + np.random.normal(0, 1, num)\n",
    "data = np.column_stack([x_data,y_data])"
   ]
  },
  {
   "cell_type": "code",
   "execution_count": 3,
   "id": "299ff0a5-0922-4507-ab55-7f96c3d968cb",
   "metadata": {},
   "outputs": [],
   "source": [
    "# 添加常数列\n",
    "X = sm.add_constant(x_data)"
   ]
  },
  {
   "cell_type": "code",
   "execution_count": 4,
   "id": "20719134-8e19-45f9-9238-3b0294257519",
   "metadata": {},
   "outputs": [],
   "source": [
    "# 创建一元OLS线性回归模型\n",
    "model = sm.OLS(y_data, X)"
   ]
  },
  {
   "cell_type": "code",
   "execution_count": 5,
   "id": "03a497fe-8b76-4a32-8ffd-7d44aa090da1",
   "metadata": {},
   "outputs": [],
   "source": [
    "# 拟合模型\n",
    "results = model.fit()"
   ]
  },
  {
   "cell_type": "code",
   "execution_count": 6,
   "id": "b86bed4d-bb74-4c3e-a940-bceca3fe6086",
   "metadata": {},
   "outputs": [
    {
     "name": "stdout",
     "output_type": "stream",
     "text": [
      "                            OLS Regression Results                            \n",
      "==============================================================================\n",
      "Dep. Variable:                      y   R-squared:                       0.656\n",
      "Model:                            OLS   Adj. R-squared:                  0.649\n",
      "Method:                 Least Squares   F-statistic:                     91.59\n",
      "Date:                Tue, 03 Oct 2023   Prob (F-statistic):           1.05e-12\n",
      "Time:                        14:31:11   Log-Likelihood:                -67.046\n",
      "No. Observations:                  50   AIC:                             138.1\n",
      "Df Residuals:                      48   BIC:                             141.9\n",
      "Df Model:                           1                                         \n",
      "Covariance Type:            nonrobust                                         \n",
      "==============================================================================\n",
      "                 coef    std err          t      P>|t|      [0.025      0.975]\n",
      "------------------------------------------------------------------------------\n",
      "const          0.9928      0.296      3.358      0.002       0.398       1.587\n",
      "x1             0.4693      0.049      9.570      0.000       0.371       0.568\n",
      "==============================================================================\n",
      "Omnibus:                        1.199   Durbin-Watson:                   2.274\n",
      "Prob(Omnibus):                  0.549   Jarque-Bera (JB):                1.213\n",
      "Skew:                           0.283   Prob(JB):                        0.545\n",
      "Kurtosis:                       2.487   Cond. No.                         13.6\n",
      "==============================================================================\n",
      "\n",
      "Notes:\n",
      "[1] Standard Errors assume that the covariance matrix of the errors is correctly specified.\n"
     ]
    }
   ],
   "source": [
    "# 打印回归结果\n",
    "print(results.summary())"
   ]
  },
  {
   "cell_type": "code",
   "execution_count": 7,
   "id": "9de8e058-9f7c-4b18-bb0b-76225acf77d2",
   "metadata": {},
   "outputs": [],
   "source": [
    "# 预测\n",
    "x_array = np.linspace(0,10,101)\n",
    "predicted = results.params[1] * x_array + results.params[0]"
   ]
  },
  {
   "cell_type": "code",
   "execution_count": 8,
   "id": "566b8e43-cd93-4ccd-b7e6-a3e54bd08b42",
   "metadata": {},
   "outputs": [
    {
     "data": {
      "text/plain": [
       "(-2.0, 8.0)"
      ]
     },
     "execution_count": 8,
     "metadata": {},
     "output_type": "execute_result"
    },
    {
     "data": {
      "image/png": "[encoded data removed]",
      "text/plain": [
       "<Figure size 640x480 with 1 Axes>"
      ]
     },
     "metadata": {},
     "output_type": "display_data"
    }
   ],
   "source": [
    "fig, ax = plt.subplots()\n",
    "ax.scatter(x_data, y_data)\n",
    "ax.scatter(x_data, results.fittedvalues, \n",
    "           color = 'k', marker = 'x')\n",
    "ax.plot(x_array, predicted, \n",
    "        color = 'r')\n",
    "\n",
    "data_ = np.column_stack([x_data,results.fittedvalues])\n",
    "\n",
    "ax.plot(([i for (i,j) in data_], [i for (i,j) in data]),\n",
    "        ([j for (i,j) in data_], [j for (i,j) in data]),\n",
    "        c=[0.6,0.6,0.6], alpha = 0.5)\n",
    "\n",
    "ax.set_xlabel('x'); ax.set_ylabel('y')\n",
    "ax.set_aspect('equal', adjustable='box')\n",
    "ax.set_xlim(0,10); ax.set_ylim(-2,8)\n",
    "# fig.savefig('一元线性回归.svg', format='svg')"
   ]
  }
 ],
 "metadata": {
  "kernelspec": {
   "display_name": "Python 3 (ipykernel)",
   "language": "python",
   "name": "python3"
  },
  "language_info": {
   "codemirror_mode": {
    "name": "ipython",
    "version": 3
   },
   "file_extension": ".py",
   "mimetype": "text/x-python",
   "name": "python",
   "nbconvert_exporter": "python",
   "pygments_lexer": "ipython3",
   "version": "3.10.9"
  }
 },
 "nbformat": 4,
 "nbformat_minor": 5
}
