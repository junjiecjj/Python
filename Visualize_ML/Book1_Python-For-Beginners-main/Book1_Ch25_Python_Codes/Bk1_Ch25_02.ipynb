{
 "cells": [
  {
   "cell_type": "markdown",
   "id": "c2b7da21-f761-4b32-9b9e-f8985e2f8dc9",
   "metadata": {},
   "source": [
    "Ch25\n",
    "# SymPy线性代数\n",
    "Book_1《编程不难》 | 鸢尾花书：从加减乘除到机器学习  "
   ]
  },
  {
   "cell_type": "markdown",
   "id": "cb1204b2-1f67-47e5-8b6b-890e797d193d",
   "metadata": {},
   "source": [
    "## 矩阵"
   ]
  },
  {
   "cell_type": "code",
   "execution_count": 1,
   "id": "51ab495d-f96b-4f57-807a-e0145fa142de",
   "metadata": {},
   "outputs": [
    {
     "data": {
      "text/latex": [
       "$\\displaystyle \\left[\\begin{matrix}1 & 2 & 3\\\\3 & 2 & 1\\end{matrix}\\right]$"
      ],
      "text/plain": [
       "Matrix([\n",
       "[1, 2, 3],\n",
       "[3, 2, 1]])"
      ]
     },
     "execution_count": 1,
     "metadata": {},
     "output_type": "execute_result"
    }
   ],
   "source": [
    "from sympy import Matrix\n",
    "A = Matrix([[1, 2, 3], [3, 2, 1]])\n",
    "A"
   ]
  },
  {
   "cell_type": "code",
   "execution_count": 2,
   "id": "8fa6e56c-ea2f-4aa7-ba3c-1586f1397adc",
   "metadata": {},
   "outputs": [
    {
     "data": {
      "text/plain": [
       "(2, 3)"
      ]
     },
     "execution_count": 2,
     "metadata": {},
     "output_type": "execute_result"
    }
   ],
   "source": [
    "from sympy import shape\n",
    "shape(A)"
   ]
  },
  {
   "cell_type": "code",
   "execution_count": 3,
   "id": "ffa4887a-08d2-4e82-b487-0e887e6162ad",
   "metadata": {},
   "outputs": [
    {
     "data": {
      "text/latex": [
       "$\\displaystyle \\left[\\begin{matrix}1 & 3\\\\2 & 2\\\\3 & 1\\end{matrix}\\right]$"
      ],
      "text/plain": [
       "Matrix([\n",
       "[1, 3],\n",
       "[2, 2],\n",
       "[3, 1]])"
      ]
     },
     "execution_count": 3,
     "metadata": {},
     "output_type": "execute_result"
    }
   ],
   "source": [
    "A.T"
   ]
  },
  {
   "cell_type": "code",
   "execution_count": 4,
   "id": "5fbbbc7c-d3aa-473d-b536-452bcbb59820",
   "metadata": {},
   "outputs": [
    {
     "data": {
      "text/latex": [
       "$\\displaystyle \\left[\\begin{matrix}1 & 2 & 3\\\\3 & 2 & 1\\\\0 & 0 & -1\\end{matrix}\\right]$"
      ],
      "text/plain": [
       "Matrix([\n",
       "[1, 2,  3],\n",
       "[3, 2,  1],\n",
       "[0, 0, -1]])"
      ]
     },
     "execution_count": 4,
     "metadata": {},
     "output_type": "execute_result"
    }
   ],
   "source": [
    "# 增加一行\n",
    "Matrix([A, (0, 0, -1)])"
   ]
  },
  {
   "cell_type": "code",
   "execution_count": 5,
   "id": "b4b1cc09-97f4-4512-b738-d1d3acad73ca",
   "metadata": {},
   "outputs": [
    {
     "data": {
      "text/latex": [
       "$\\displaystyle \\left[\\begin{matrix}1 & 2 & 3\\\\4 & 5 & 6\\end{matrix}\\right]$"
      ],
      "text/plain": [
       "Matrix([\n",
       "[1, 2, 3],\n",
       "[4, 5, 6]])"
      ]
     },
     "execution_count": 5,
     "metadata": {},
     "output_type": "execute_result"
    }
   ],
   "source": [
    "# 指定形状\n",
    "Matrix(2, 3, [1, 2, 3, 4, 5, 6])"
   ]
  },
  {
   "cell_type": "markdown",
   "id": "7b284643-3499-40f2-8a62-880faf222f22",
   "metadata": {},
   "source": [
    "### 行向量、列向量"
   ]
  },
  {
   "cell_type": "code",
   "execution_count": 6,
   "id": "46e673f9-666e-4075-9017-1878a262556c",
   "metadata": {},
   "outputs": [
    {
     "data": {
      "text/latex": [
       "$\\displaystyle \\left[\\begin{matrix}1\\\\2\\\\3\\end{matrix}\\right]$"
      ],
      "text/plain": [
       "Matrix([\n",
       "[1],\n",
       "[2],\n",
       "[3]])"
      ]
     },
     "execution_count": 6,
     "metadata": {},
     "output_type": "execute_result"
    }
   ],
   "source": [
    "a = Matrix([1, 2, 3])\n",
    "a"
   ]
  },
  {
   "cell_type": "code",
   "execution_count": 7,
   "id": "29965118-d756-402a-b669-f998eef98246",
   "metadata": {},
   "outputs": [
    {
     "data": {
      "text/latex": [
       "$\\displaystyle \\left[\\begin{matrix}1 & 2 & 3\\end{matrix}\\right]$"
      ],
      "text/plain": [
       "Matrix([[1, 2, 3]])"
      ]
     },
     "execution_count": 7,
     "metadata": {},
     "output_type": "execute_result"
    }
   ],
   "source": [
    "a.T"
   ]
  },
  {
   "cell_type": "code",
   "execution_count": 8,
   "id": "d65d62f7-d2cc-47bc-9d4e-ec767b34fc6e",
   "metadata": {},
   "outputs": [
    {
     "data": {
      "text/latex": [
       "$\\displaystyle \\left[\\begin{matrix}1 & 2 & 3\\end{matrix}\\right]$"
      ],
      "text/plain": [
       "Matrix([[1, 2, 3]])"
      ]
     },
     "execution_count": 8,
     "metadata": {},
     "output_type": "execute_result"
    }
   ],
   "source": [
    "Matrix([[1, 2, 3]])"
   ]
  },
  {
   "cell_type": "markdown",
   "id": "0c1884bd-53ed-4a8e-9dca-cfee0cdc7086",
   "metadata": {},
   "source": [
    "### 索引、切片"
   ]
  },
  {
   "cell_type": "code",
   "execution_count": 9,
   "id": "36c076b6-68c0-46bd-a33e-672b96bb8979",
   "metadata": {},
   "outputs": [
    {
     "data": {
      "text/latex": [
       "$\\displaystyle 1$"
      ],
      "text/plain": [
       "1"
      ]
     },
     "execution_count": 9,
     "metadata": {},
     "output_type": "execute_result"
    }
   ],
   "source": [
    "A[0, 0]"
   ]
  },
  {
   "cell_type": "code",
   "execution_count": 10,
   "id": "7358e2d0-146d-429b-8095-146e8889e7d0",
   "metadata": {},
   "outputs": [
    {
     "data": {
      "text/latex": [
       "$\\displaystyle 1$"
      ],
      "text/plain": [
       "1"
      ]
     },
     "execution_count": 10,
     "metadata": {},
     "output_type": "execute_result"
    }
   ],
   "source": [
    "A[-1,-1]"
   ]
  },
  {
   "cell_type": "code",
   "execution_count": 11,
   "id": "67630f3f-bd38-457c-b167-8c4c10135219",
   "metadata": {},
   "outputs": [
    {
     "data": {
      "text/latex": [
       "$\\displaystyle \\left[\\begin{matrix}1 & 2 & 3\\end{matrix}\\right]$"
      ],
      "text/plain": [
       "Matrix([[1, 2, 3]])"
      ]
     },
     "execution_count": 11,
     "metadata": {},
     "output_type": "execute_result"
    }
   ],
   "source": [
    "A[0,:]"
   ]
  },
  {
   "cell_type": "code",
   "execution_count": 12,
   "id": "c7740c29-7a6b-49be-81aa-6b666e1c5845",
   "metadata": {},
   "outputs": [
    {
     "data": {
      "text/latex": [
       "$\\displaystyle \\left[\\begin{matrix}1\\\\3\\end{matrix}\\right]$"
      ],
      "text/plain": [
       "Matrix([\n",
       "[1],\n",
       "[3]])"
      ]
     },
     "execution_count": 12,
     "metadata": {},
     "output_type": "execute_result"
    }
   ],
   "source": [
    "A[:,0]"
   ]
  },
  {
   "cell_type": "code",
   "execution_count": 13,
   "id": "611a6bdc-c549-4a7e-b2aa-fad268940fb5",
   "metadata": {},
   "outputs": [
    {
     "data": {
      "text/latex": [
       "$\\displaystyle \\left[\\begin{matrix}1 & 2 & 3\\end{matrix}\\right]$"
      ],
      "text/plain": [
       "Matrix([[1, 2, 3]])"
      ]
     },
     "execution_count": 13,
     "metadata": {},
     "output_type": "execute_result"
    }
   ],
   "source": [
    "A.row(0)\n",
    "# A.row_del(0) 删除指定行\n",
    "# 插入指定行 M.row_insert(1, Matrix([[0, 4]]))"
   ]
  },
  {
   "cell_type": "code",
   "execution_count": 14,
   "id": "7a799876-b059-42dd-a50d-a25aa71fafd9",
   "metadata": {},
   "outputs": [
    {
     "data": {
      "text/latex": [
       "$\\displaystyle \\left[\\begin{matrix}3 & 2 & 1\\end{matrix}\\right]$"
      ],
      "text/plain": [
       "Matrix([[3, 2, 1]])"
      ]
     },
     "execution_count": 14,
     "metadata": {},
     "output_type": "execute_result"
    }
   ],
   "source": [
    "A.row(-1)"
   ]
  },
  {
   "cell_type": "code",
   "execution_count": 15,
   "id": "e0f2c070-1ccd-4ca1-9037-cef84c655eea",
   "metadata": {},
   "outputs": [
    {
     "data": {
      "text/latex": [
       "$\\displaystyle \\left[\\begin{matrix}1\\\\3\\end{matrix}\\right]$"
      ],
      "text/plain": [
       "Matrix([\n",
       "[1],\n",
       "[3]])"
      ]
     },
     "execution_count": 15,
     "metadata": {},
     "output_type": "execute_result"
    }
   ],
   "source": [
    "A.col(0)\n",
    "# A.col_del(0) 删除指定列\n",
    "# M.col_insert(0, Matrix([1, -2]))"
   ]
  },
  {
   "cell_type": "code",
   "execution_count": 16,
   "id": "29976d55-6a48-4ea9-8b6c-0c8246992eed",
   "metadata": {},
   "outputs": [
    {
     "data": {
      "text/latex": [
       "$\\displaystyle \\left[\\begin{matrix}3\\\\1\\end{matrix}\\right]$"
      ],
      "text/plain": [
       "Matrix([\n",
       "[3],\n",
       "[1]])"
      ]
     },
     "execution_count": 16,
     "metadata": {},
     "output_type": "execute_result"
    }
   ],
   "source": [
    "A.col(-1)"
   ]
  },
  {
   "cell_type": "code",
   "execution_count": 17,
   "id": "d35ca417-658d-41a0-b188-94cbd0b32852",
   "metadata": {},
   "outputs": [
    {
     "data": {
      "text/latex": [
       "$\\displaystyle \\left[\\begin{matrix}1 & 2\\\\3 & 2\\end{matrix}\\right]$"
      ],
      "text/plain": [
       "Matrix([\n",
       "[1, 2],\n",
       "[3, 2]])"
      ]
     },
     "execution_count": 17,
     "metadata": {},
     "output_type": "execute_result"
    }
   ],
   "source": [
    "A[0:2, 0:2]"
   ]
  },
  {
   "cell_type": "markdown",
   "id": "80f2a1f9-7fe1-4f14-8c9f-dd0c61b01b46",
   "metadata": {},
   "source": [
    "### 产生特殊矩阵"
   ]
  },
  {
   "cell_type": "code",
   "execution_count": 18,
   "id": "7de910bc-ca1b-4501-a2c0-5ea64a416db1",
   "metadata": {},
   "outputs": [],
   "source": [
    "from sympy.matrices import Matrix, eye, zeros, ones, diag, GramSchmidt"
   ]
  },
  {
   "cell_type": "code",
   "execution_count": 19,
   "id": "b7d551ad-1787-49e2-9e11-cdeae3ccfd87",
   "metadata": {},
   "outputs": [
    {
     "data": {
      "text/latex": [
       "$\\displaystyle \\left[\\begin{matrix}1 & 0 & 0 & 0\\\\0 & 1 & 0 & 0\\\\0 & 0 & 1 & 0\\\\0 & 0 & 0 & 1\\end{matrix}\\right]$"
      ],
      "text/plain": [
       "Matrix([\n",
       "[1, 0, 0, 0],\n",
       "[0, 1, 0, 0],\n",
       "[0, 0, 1, 0],\n",
       "[0, 0, 0, 1]])"
      ]
     },
     "execution_count": 19,
     "metadata": {},
     "output_type": "execute_result"
    }
   ],
   "source": [
    "eye(4)"
   ]
  },
  {
   "cell_type": "code",
   "execution_count": 20,
   "id": "da24cb14-2c90-48bf-965f-da5eb065203b",
   "metadata": {},
   "outputs": [
    {
     "data": {
      "text/plain": [
       "True"
      ]
     },
     "execution_count": 20,
     "metadata": {},
     "output_type": "execute_result"
    }
   ],
   "source": [
    "m = Matrix(2, 2, [0, 1, 1, 2])\n",
    "m.is_symmetric()"
   ]
  },
  {
   "cell_type": "code",
   "execution_count": 21,
   "id": "8eeceea3-99f6-4310-968f-bd9bb3e36a46",
   "metadata": {},
   "outputs": [
    {
     "data": {
      "text/latex": [
       "$\\displaystyle \\left[\\begin{matrix}0 & 0\\\\0 & 0\\end{matrix}\\right]$"
      ],
      "text/plain": [
       "Matrix([\n",
       "[0, 0],\n",
       "[0, 0]])"
      ]
     },
     "execution_count": 21,
     "metadata": {},
     "output_type": "execute_result"
    }
   ],
   "source": [
    "zeros(2)"
   ]
  },
  {
   "cell_type": "code",
   "execution_count": 22,
   "id": "501a9257-e9a8-4111-82f1-ee132eec8f85",
   "metadata": {},
   "outputs": [
    {
     "data": {
      "text/latex": [
       "$\\displaystyle \\left[\\begin{matrix}0 & 0 & 0 & 0 & 0\\\\0 & 0 & 0 & 0 & 0\\end{matrix}\\right]$"
      ],
      "text/plain": [
       "Matrix([\n",
       "[0, 0, 0, 0, 0],\n",
       "[0, 0, 0, 0, 0]])"
      ]
     },
     "execution_count": 22,
     "metadata": {},
     "output_type": "execute_result"
    }
   ],
   "source": [
    "zeros(2, 5)"
   ]
  },
  {
   "cell_type": "code",
   "execution_count": 23,
   "id": "be2b9c67-bcac-450e-aa05-d9e2d627c48f",
   "metadata": {},
   "outputs": [
    {
     "data": {
      "text/latex": [
       "$\\displaystyle \\left[\\begin{matrix}1 & 1 & 1\\\\1 & 1 & 1\\\\1 & 1 & 1\\end{matrix}\\right]$"
      ],
      "text/plain": [
       "Matrix([\n",
       "[1, 1, 1],\n",
       "[1, 1, 1],\n",
       "[1, 1, 1]])"
      ]
     },
     "execution_count": 23,
     "metadata": {},
     "output_type": "execute_result"
    }
   ],
   "source": [
    "ones(3)"
   ]
  },
  {
   "cell_type": "code",
   "execution_count": 24,
   "id": "f74dc25d-b865-4117-89b2-7586809714cd",
   "metadata": {},
   "outputs": [
    {
     "data": {
      "text/latex": [
       "$\\displaystyle \\left[\\begin{matrix}1 & 1 & 1 & 1 & 1\\\\1 & 1 & 1 & 1 & 1\\\\1 & 1 & 1 & 1 & 1\\end{matrix}\\right]$"
      ],
      "text/plain": [
       "Matrix([\n",
       "[1, 1, 1, 1, 1],\n",
       "[1, 1, 1, 1, 1],\n",
       "[1, 1, 1, 1, 1]])"
      ]
     },
     "execution_count": 24,
     "metadata": {},
     "output_type": "execute_result"
    }
   ],
   "source": [
    "ones(3,5)"
   ]
  },
  {
   "cell_type": "code",
   "execution_count": 25,
   "id": "86b2bd20-841e-4edf-b5f1-46fc0c17f27d",
   "metadata": {},
   "outputs": [
    {
     "data": {
      "text/latex": [
       "$\\displaystyle \\left[\\begin{matrix}1 & 0 & 0\\\\0 & 1 & 0\\\\0 & 0 & 1\\end{matrix}\\right]$"
      ],
      "text/plain": [
       "Matrix([\n",
       "[1, 0, 0],\n",
       "[0, 1, 0],\n",
       "[0, 0, 1]])"
      ]
     },
     "execution_count": 25,
     "metadata": {},
     "output_type": "execute_result"
    }
   ],
   "source": [
    "from sympy import eye\n",
    "eye(3)"
   ]
  },
  {
   "cell_type": "code",
   "execution_count": 26,
   "id": "ee26f455-2763-4d9a-91d1-85745f750c6e",
   "metadata": {},
   "outputs": [
    {
     "data": {
      "text/plain": [
       "True"
      ]
     },
     "execution_count": 26,
     "metadata": {},
     "output_type": "execute_result"
    }
   ],
   "source": [
    "from sympy import eye\n",
    "A = eye(3)\n",
    "A.is_diagonal()"
   ]
  },
  {
   "cell_type": "code",
   "execution_count": 27,
   "id": "8c35b87b-45ae-40e8-87a9-aae5d4b8a63a",
   "metadata": {},
   "outputs": [
    {
     "data": {
      "text/latex": [
       "$\\displaystyle \\left[\\begin{matrix}0 & 0 & 0\\\\0 & 0 & 0\\\\0 & 0 & 0\\end{matrix}\\right]$"
      ],
      "text/plain": [
       "Matrix([\n",
       "[0, 0, 0],\n",
       "[0, 0, 0],\n",
       "[0, 0, 0]])"
      ]
     },
     "execution_count": 27,
     "metadata": {},
     "output_type": "execute_result"
    }
   ],
   "source": [
    "from sympy import zeros\n",
    "zeros(3, 3)\n"
   ]
  },
  {
   "cell_type": "code",
   "execution_count": 28,
   "id": "44c3865b-51a1-4918-9501-adfcaf31cc01",
   "metadata": {},
   "outputs": [
    {
     "data": {
      "text/latex": [
       "$\\displaystyle \\left[\\begin{matrix}1 & 1\\\\1 & 1\\\\1 & 1\\end{matrix}\\right]$"
      ],
      "text/plain": [
       "Matrix([\n",
       "[1, 1],\n",
       "[1, 1],\n",
       "[1, 1]])"
      ]
     },
     "execution_count": 28,
     "metadata": {},
     "output_type": "execute_result"
    }
   ],
   "source": [
    "from sympy import ones\n",
    "ones(3, 2)"
   ]
  },
  {
   "cell_type": "code",
   "execution_count": 29,
   "id": "c4e0bf3a-ea65-4527-bee1-0e806e3ab07b",
   "metadata": {},
   "outputs": [
    {
     "data": {
      "text/latex": [
       "$\\displaystyle \\left[\\begin{matrix}1 & 0 & 0\\\\0 & 2 & 0\\\\0 & 0 & 3\\end{matrix}\\right]$"
      ],
      "text/plain": [
       "Matrix([\n",
       "[1, 0, 0],\n",
       "[0, 2, 0],\n",
       "[0, 0, 3]])"
      ]
     },
     "execution_count": 29,
     "metadata": {},
     "output_type": "execute_result"
    }
   ],
   "source": [
    "from sympy import diag\n",
    "diag(1, 2, 3)"
   ]
  },
  {
   "cell_type": "code",
   "execution_count": 30,
   "id": "94fb6ae5-846c-419a-b1b0-694431cfd122",
   "metadata": {},
   "outputs": [
    {
     "data": {
      "text/plain": [
       "True"
      ]
     },
     "execution_count": 30,
     "metadata": {},
     "output_type": "execute_result"
    }
   ],
   "source": [
    "### 上三角\n",
    "m = Matrix(2, 2, [1, 2, 0, 1])\n",
    "m.is_upper"
   ]
  },
  {
   "cell_type": "code",
   "execution_count": 31,
   "id": "db1a03f5-0efe-48d5-81df-520765a287fa",
   "metadata": {},
   "outputs": [
    {
     "data": {
      "text/latex": [
       "$\\displaystyle \\left[\\begin{matrix}1 & 1 & 1\\\\0 & 1 & 1\\\\0 & 0 & 1\\end{matrix}\\right]$"
      ],
      "text/plain": [
       "Matrix([\n",
       "[1, 1, 1],\n",
       "[0, 1, 1],\n",
       "[0, 0, 1]])"
      ]
     },
     "execution_count": 31,
     "metadata": {},
     "output_type": "execute_result"
    }
   ],
   "source": [
    "### 上三角\n",
    "from sympy import ones\n",
    "A = ones(3)\n",
    "A.upper_triangular()"
   ]
  },
  {
   "cell_type": "code",
   "execution_count": 32,
   "id": "4f53f803-f678-4fc7-b66a-ccdfd600586f",
   "metadata": {},
   "outputs": [
    {
     "data": {
      "text/latex": [
       "$\\displaystyle \\left[\\begin{matrix}1 & 0 & 0 & 0\\\\1 & 1 & 0 & 0\\\\1 & 1 & 1 & 0\\\\1 & 1 & 1 & 1\\end{matrix}\\right]$"
      ],
      "text/plain": [
       "Matrix([\n",
       "[1, 0, 0, 0],\n",
       "[1, 1, 0, 0],\n",
       "[1, 1, 1, 0],\n",
       "[1, 1, 1, 1]])"
      ]
     },
     "execution_count": 32,
     "metadata": {},
     "output_type": "execute_result"
    }
   ],
   "source": [
    "### 下三角\n",
    "from sympy import ones\n",
    "A = ones(4)\n",
    "A.lower_triangular()"
   ]
  },
  {
   "cell_type": "code",
   "execution_count": 33,
   "id": "46963d3a-b511-4847-a2ed-89c93b1c333a",
   "metadata": {},
   "outputs": [],
   "source": [
    "### 变形"
   ]
  },
  {
   "cell_type": "code",
   "execution_count": 34,
   "id": "6f909e45-5f2a-41dc-8ba7-010d4c497241",
   "metadata": {},
   "outputs": [
    {
     "data": {
      "text/latex": [
       "$\\displaystyle \\left[\\begin{matrix}1 & 1 & 1\\\\1 & 1 & 1\\end{matrix}\\right]$"
      ],
      "text/plain": [
       "Matrix([\n",
       "[1, 1, 1],\n",
       "[1, 1, 1]])"
      ]
     },
     "execution_count": 34,
     "metadata": {},
     "output_type": "execute_result"
    }
   ],
   "source": [
    "m = Matrix(2, 3, lambda i, j: 1)\n",
    "m "
   ]
  },
  {
   "cell_type": "code",
   "execution_count": 35,
   "id": "da9869f7-8721-4624-9410-88e16453a319",
   "metadata": {},
   "outputs": [
    {
     "data": {
      "text/latex": [
       "$\\displaystyle \\left[\\begin{matrix}1 & 1 & 1 & 1 & 1 & 1\\end{matrix}\\right]$"
      ],
      "text/plain": [
       "Matrix([[1, 1, 1, 1, 1, 1]])"
      ]
     },
     "execution_count": 35,
     "metadata": {},
     "output_type": "execute_result"
    }
   ],
   "source": [
    "m.reshape(1, 6)"
   ]
  },
  {
   "cell_type": "code",
   "execution_count": 36,
   "id": "4aaf3abe-63d7-4838-a6ba-3215d67bab08",
   "metadata": {},
   "outputs": [
    {
     "data": {
      "text/latex": [
       "$\\displaystyle \\left[\\begin{matrix}1 & 1\\\\1 & 1\\\\1 & 1\\end{matrix}\\right]$"
      ],
      "text/plain": [
       "Matrix([\n",
       "[1, 1],\n",
       "[1, 1],\n",
       "[1, 1]])"
      ]
     },
     "execution_count": 36,
     "metadata": {},
     "output_type": "execute_result"
    }
   ],
   "source": [
    "m.reshape(3, 2)"
   ]
  },
  {
   "cell_type": "code",
   "execution_count": 37,
   "id": "ace71ec8-d1ce-476b-a561-7fe65abff96e",
   "metadata": {},
   "outputs": [
    {
     "data": {
      "text/latex": [
       "$\\displaystyle \\left[\\begin{matrix}a & b\\\\c & d\\end{matrix}\\right]$"
      ],
      "text/plain": [
       "Matrix([\n",
       "[a, b],\n",
       "[c, d]])"
      ]
     },
     "execution_count": 37,
     "metadata": {},
     "output_type": "execute_result"
    }
   ],
   "source": [
    "from sympy import Matrix, symbols\n",
    "A = Matrix(2, 2, symbols('a:d'))\n",
    "A"
   ]
  },
  {
   "cell_type": "code",
   "execution_count": 38,
   "id": "a4103f58-ed36-47ce-996e-dabe6956915e",
   "metadata": {},
   "outputs": [
    {
     "data": {
      "text/latex": [
       "$\\displaystyle \\left[\\begin{matrix}d & c\\\\b & a\\end{matrix}\\right]$"
      ],
      "text/plain": [
       "Matrix([\n",
       "[d, c],\n",
       "[b, a]])"
      ]
     },
     "execution_count": 38,
     "metadata": {},
     "output_type": "execute_result"
    }
   ],
   "source": [
    "A.rot90(-2)"
   ]
  },
  {
   "cell_type": "markdown",
   "id": "7778fdb3-9a9e-4299-a147-2a6d3ccb8b4b",
   "metadata": {},
   "source": [
    "## 基本运算"
   ]
  },
  {
   "cell_type": "code",
   "execution_count": 39,
   "id": "5aedda03-8a51-4f5f-96b0-041cb00a5c47",
   "metadata": {},
   "outputs": [
    {
     "data": {
      "text/latex": [
       "$\\displaystyle \\left[\\begin{matrix}0 & 24\\\\0 & 15\\end{matrix}\\right]$"
      ],
      "text/plain": [
       "Matrix([\n",
       "[0, 24],\n",
       "[0, 15]])"
      ]
     },
     "execution_count": 39,
     "metadata": {},
     "output_type": "execute_result"
    }
   ],
   "source": [
    "from sympy import Matrix\n",
    "\n",
    "A = Matrix([[1, 3], [-2, 3]])\n",
    "B = Matrix([[0, 3], [0, 7]])\n",
    "A + B # 加法\n",
    "A - B # 减法\n",
    "3*A   # 标量乘矩阵\n",
    "A.multiply_elementwise(B) # 逐项积\n",
    "A * B # 矩阵乘法\n",
    "\n"
   ]
  },
  {
   "cell_type": "code",
   "execution_count": 40,
   "id": "6dcbd35a-8efc-4f1a-9877-2fde7f98a89e",
   "metadata": {},
   "outputs": [
    {
     "data": {
      "text/latex": [
       "$\\displaystyle \\left[\\begin{matrix}0 & 24\\\\0 & 15\\end{matrix}\\right]$"
      ],
      "text/plain": [
       "Matrix([\n",
       "[0, 24],\n",
       "[0, 15]])"
      ]
     },
     "execution_count": 40,
     "metadata": {},
     "output_type": "execute_result"
    }
   ],
   "source": [
    "A @ B"
   ]
  },
  {
   "cell_type": "markdown",
   "id": "a1e04dd9-2b14-4b78-8841-751d3b9eaf53",
   "metadata": {},
   "source": [
    "### 加法"
   ]
  },
  {
   "cell_type": "code",
   "execution_count": 41,
   "id": "c7396bf5-a06d-4dc0-8c2c-77bd3f879c1d",
   "metadata": {},
   "outputs": [
    {
     "data": {
      "text/latex": [
       "$\\displaystyle \\left[\\begin{matrix}1 & 6\\\\-2 & 10\\end{matrix}\\right]$"
      ],
      "text/plain": [
       "Matrix([\n",
       "[ 1,  6],\n",
       "[-2, 10]])"
      ]
     },
     "execution_count": 41,
     "metadata": {},
     "output_type": "execute_result"
    }
   ],
   "source": [
    "A + B"
   ]
  },
  {
   "cell_type": "markdown",
   "id": "51bf9fcb-746c-48af-b25b-fdf6fc87867e",
   "metadata": {},
   "source": [
    "### 逐项积"
   ]
  },
  {
   "cell_type": "code",
   "execution_count": 42,
   "id": "a404c009-ca20-469d-972f-326039315083",
   "metadata": {},
   "outputs": [
    {
     "data": {
      "text/latex": [
       "$\\displaystyle \\left[\\begin{matrix}0 & 10 & 200\\\\300 & 40 & 5\\end{matrix}\\right]$"
      ],
      "text/plain": [
       "Matrix([\n",
       "[  0, 10, 200],\n",
       "[300, 40,   5]])"
      ]
     },
     "execution_count": 42,
     "metadata": {},
     "output_type": "execute_result"
    }
   ],
   "source": [
    "A = Matrix([[0, 1, 2], [3, 4, 5]])\n",
    "B = Matrix([[1, 10, 100], [100, 10, 1]])\n",
    "A.multiply_elementwise(B)"
   ]
  },
  {
   "cell_type": "markdown",
   "id": "98a84be2-2de0-4950-9936-2c12d44f5885",
   "metadata": {},
   "source": [
    "## 矩阵乘法"
   ]
  },
  {
   "cell_type": "code",
   "execution_count": 43,
   "id": "93918b13-e61e-40cf-90c0-3235d55c1278",
   "metadata": {},
   "outputs": [],
   "source": [
    "B = Matrix([0, 1, 1])"
   ]
  },
  {
   "cell_type": "code",
   "execution_count": 44,
   "id": "be6bcfba-b752-4439-9c3c-6984901f7d87",
   "metadata": {},
   "outputs": [
    {
     "data": {
      "text/latex": [
       "$\\displaystyle \\left[\\begin{matrix}3\\\\9\\end{matrix}\\right]$"
      ],
      "text/plain": [
       "Matrix([\n",
       "[3],\n",
       "[9]])"
      ]
     },
     "execution_count": 44,
     "metadata": {},
     "output_type": "execute_result"
    }
   ],
   "source": [
    "A*B"
   ]
  },
  {
   "cell_type": "code",
   "execution_count": 45,
   "id": "e12b8a3d-1215-4431-9b5f-3541910e5fc3",
   "metadata": {},
   "outputs": [
    {
     "data": {
      "text/latex": [
       "$\\displaystyle \\left[\\begin{matrix}1.25 & -0.75\\\\-0.75 & 1.25\\end{matrix}\\right]$"
      ],
      "text/plain": [
       "Matrix([\n",
       "[ 1.25, -0.75],\n",
       "[-0.75,  1.25]])"
      ]
     },
     "execution_count": 45,
     "metadata": {},
     "output_type": "execute_result"
    }
   ],
   "source": [
    "Matrix_2x2 = Matrix([[1.25, -0.75],\n",
    "                     [-0.75, 1.25]])\n",
    "Matrix_2x2"
   ]
  },
  {
   "cell_type": "code",
   "execution_count": 46,
   "id": "e2851410-11d8-4083-929f-4cc58d0b3fa2",
   "metadata": {},
   "outputs": [
    {
     "data": {
      "text/plain": [
       "sympy.matrices.dense.MutableDenseMatrix"
      ]
     },
     "execution_count": 46,
     "metadata": {},
     "output_type": "execute_result"
    }
   ],
   "source": [
    "type(Matrix_2x2)"
   ]
  },
  {
   "cell_type": "code",
   "execution_count": 47,
   "id": "8988f5e1-8f56-446f-a1be-6482b480df49",
   "metadata": {},
   "outputs": [
    {
     "data": {
      "text/latex": [
       "$\\displaystyle \\left[\\begin{matrix}1.25 & 0.75\\\\0.75 & 1.25\\end{matrix}\\right]$"
      ],
      "text/plain": [
       "Matrix([\n",
       "[1.25, 0.75],\n",
       "[0.75, 1.25]])"
      ]
     },
     "execution_count": 47,
     "metadata": {},
     "output_type": "execute_result"
    }
   ],
   "source": [
    "# 求逆\n",
    "Matrix_2x2**-1\n"
   ]
  },
  {
   "cell_type": "code",
   "execution_count": 48,
   "id": "d2d7dfec-076b-4043-bd6f-e02f6f3f3b7d",
   "metadata": {},
   "outputs": [
    {
     "data": {
      "text/latex": [
       "$\\displaystyle \\left[\\begin{matrix}1.25 & 0.75\\\\0.75 & 1.25\\end{matrix}\\right]$"
      ],
      "text/plain": [
       "Matrix([\n",
       "[1.25, 0.75],\n",
       "[0.75, 1.25]])"
      ]
     },
     "execution_count": 48,
     "metadata": {},
     "output_type": "execute_result"
    }
   ],
   "source": [
    "Matrix_2x2.inv()"
   ]
  },
  {
   "cell_type": "code",
   "execution_count": 49,
   "id": "4f51aa8d-8093-4154-9ad1-563c132e6c37",
   "metadata": {},
   "outputs": [
    {
     "data": {
      "text/latex": [
       "$\\displaystyle \\left[\\begin{matrix}1.25 & -0.75\\\\-0.75 & 1.25\\end{matrix}\\right]$"
      ],
      "text/plain": [
       "Matrix([\n",
       "[ 1.25, -0.75],\n",
       "[-0.75,  1.25]])"
      ]
     },
     "execution_count": 49,
     "metadata": {},
     "output_type": "execute_result"
    }
   ],
   "source": [
    "# 求转置\n",
    "Matrix_2x2.T"
   ]
  },
  {
   "cell_type": "code",
   "execution_count": 50,
   "id": "39090b2e-4bf0-44ec-a526-5180fdf40069",
   "metadata": {},
   "outputs": [
    {
     "data": {
      "text/plain": [
       "array([[ 1.25, -0.75],\n",
       "       [-0.75,  1.25]])"
      ]
     },
     "execution_count": 50,
     "metadata": {},
     "output_type": "execute_result"
    }
   ],
   "source": [
    "# 将符号矩阵转化为浮点数numpy矩阵\n",
    "import numpy as np\n",
    "\n",
    "np.array(Matrix_2x2).astype(np.float64)"
   ]
  },
  {
   "cell_type": "markdown",
   "id": "d4ad75fd-a848-4501-b567-2588178392b0",
   "metadata": {},
   "source": [
    "## 符号求逆"
   ]
  },
  {
   "cell_type": "code",
   "execution_count": 51,
   "id": "762c778b-8d11-4ed5-8e60-78aad75bfa04",
   "metadata": {},
   "outputs": [
    {
     "data": {
      "text/latex": [
       "$\\displaystyle \\left[\\begin{matrix}\\frac{d}{a d - b c} & - \\frac{b}{a d - b c}\\\\- \\frac{c}{a d - b c} & \\frac{a}{a d - b c}\\end{matrix}\\right]$"
      ],
      "text/plain": [
       "Matrix([\n",
       "[ d/(a*d - b*c), -b/(a*d - b*c)],\n",
       "[-c/(a*d - b*c),  a/(a*d - b*c)]])"
      ]
     },
     "execution_count": 51,
     "metadata": {},
     "output_type": "execute_result"
    }
   ],
   "source": [
    "from sympy import symbols\n",
    "a, b, c, d = symbols('a b c d')\n",
    "A = Matrix([[a, b],\n",
    "            [c, d]])\n",
    "\n",
    "A.inv()"
   ]
  },
  {
   "cell_type": "code",
   "execution_count": 52,
   "id": "ebb1810a-73b2-4e68-90de-0f0a18d2d0e7",
   "metadata": {},
   "outputs": [
    {
     "data": {
      "text/latex": [
       "$\\displaystyle a d - b c$"
      ],
      "text/plain": [
       "a*d - b*c"
      ]
     },
     "execution_count": 52,
     "metadata": {},
     "output_type": "execute_result"
    }
   ],
   "source": [
    "# 行列式值\n",
    "A.det()"
   ]
  },
  {
   "cell_type": "code",
   "execution_count": 53,
   "id": "5a46d9a3-4c63-4a5e-bf2f-26dd491823ea",
   "metadata": {},
   "outputs": [
    {
     "data": {
      "text/latex": [
       "$\\displaystyle a + d$"
      ],
      "text/plain": [
       "a + d"
      ]
     },
     "execution_count": 53,
     "metadata": {},
     "output_type": "execute_result"
    }
   ],
   "source": [
    "# 方阵的迹\n",
    "A.trace()"
   ]
  },
  {
   "cell_type": "markdown",
   "id": "b540e851-133b-4f87-947f-669c41b736c1",
   "metadata": {},
   "source": [
    "## 方程组"
   ]
  },
  {
   "cell_type": "code",
   "execution_count": 54,
   "id": "047a8901-5d4a-4b1b-9251-71c5d7eda6b0",
   "metadata": {},
   "outputs": [
    {
     "data": {
      "text/latex": [
       "$\\displaystyle \\left[\\begin{matrix}- \\frac{5}{3}\\\\\\frac{7}{3}\\\\\\frac{10}{3}\\end{matrix}\\right]$"
      ],
      "text/plain": [
       "Matrix([\n",
       "[-5/3],\n",
       "[ 7/3],\n",
       "[10/3]])"
      ]
     },
     "execution_count": 54,
     "metadata": {},
     "output_type": "execute_result"
    }
   ],
   "source": [
    "A = Matrix([[1, 2, 0], [3, 1, 2], [0, -1, 1]])\n",
    "b = Matrix([[3], [4], [1]])\n",
    "A.inv() @ b"
   ]
  },
  {
   "cell_type": "code",
   "execution_count": 55,
   "id": "4f581fce-d717-46ab-a827-e27ea7abbe9e",
   "metadata": {},
   "outputs": [
    {
     "data": {
      "text/latex": [
       "$\\displaystyle 30 a + \\frac{68 b}{5} - \\frac{74 c}{5}$"
      ],
      "text/plain": [
       "30*a + 68*b/5 - 74*c/5"
      ]
     },
     "execution_count": 55,
     "metadata": {},
     "output_type": "execute_result"
    }
   ],
   "source": [
    "from sympy import Symbol, S\n",
    "\n",
    "a, b, c = Symbol(\"a\"), Symbol(\"b\"), Symbol(\"c\")\n",
    "C = Matrix([[S(1) / 5, 5, 5], [3, 1, 7], [a, b, c]])\n",
    "C.det()\n",
    " "
   ]
  },
  {
   "cell_type": "code",
   "execution_count": 56,
   "id": "7a8868d9-6e5c-42ca-b5b2-9c9477630ff3",
   "metadata": {},
   "outputs": [
    {
     "data": {
      "text/latex": [
       "$\\displaystyle \\left[\\begin{matrix}\\frac{- 35 b + 5 c}{150 a + 68 b - 74 c} & \\frac{25 b - 25 c}{150 a + 68 b - 74 c} & - \\frac{444}{- 444 a - \\frac{5032 b}{25} + \\frac{5476 c}{25}}\\\\\\frac{35 a - 15 c}{150 a + 68 b - 74 c} & \\frac{- 25 a + c}{150 a + 68 b - 74 c} & - \\frac{5032}{- 11100 a - 5032 b + 5476 c}\\\\\\frac{- 5 a + 15 b}{150 a + 68 b - 74 c} & \\frac{25 a - b}{150 a + 68 b - 74 c} & - \\frac{74}{150 a + 68 b - 74 c}\\end{matrix}\\right]$"
      ],
      "text/plain": [
       "Matrix([\n",
       "[(-35*b + 5*c)/(150*a + 68*b - 74*c), (25*b - 25*c)/(150*a + 68*b - 74*c), -444/(-444*a - 5032*b/25 + 5476*c/25)],\n",
       "[(35*a - 15*c)/(150*a + 68*b - 74*c),   (-25*a + c)/(150*a + 68*b - 74*c),    -5032/(-11100*a - 5032*b + 5476*c)],\n",
       "[(-5*a + 15*b)/(150*a + 68*b - 74*c),    (25*a - b)/(150*a + 68*b - 74*c),             -74/(150*a + 68*b - 74*c)]])"
      ]
     },
     "execution_count": 56,
     "metadata": {},
     "output_type": "execute_result"
    }
   ],
   "source": [
    "C.inv()"
   ]
  },
  {
   "cell_type": "code",
   "execution_count": 57,
   "id": "563fb5a8-c4c1-4046-ac81-49a7b543bbe0",
   "metadata": {},
   "outputs": [],
   "source": [
    "## trace"
   ]
  },
  {
   "cell_type": "code",
   "execution_count": 58,
   "id": "d9cafe51-c51f-41c1-a35f-911158eacb1b",
   "metadata": {},
   "outputs": [
    {
     "data": {
      "text/latex": [
       "$\\displaystyle 5$"
      ],
      "text/plain": [
       "5"
      ]
     },
     "execution_count": 58,
     "metadata": {},
     "output_type": "execute_result"
    }
   ],
   "source": [
    "A = Matrix(2, 2, [1, 2, 3, 4])\n",
    "A.trace()"
   ]
  },
  {
   "cell_type": "markdown",
   "id": "22bbb8d2-fee7-433c-b258-e889c56ac1b7",
   "metadata": {},
   "source": [
    "## 正定性"
   ]
  },
  {
   "cell_type": "code",
   "execution_count": 59,
   "id": "cbc54213-f4d6-42e9-93bd-f819473abd08",
   "metadata": {},
   "outputs": [],
   "source": [
    "from sympy import Matrix, symbols\n",
    "from sympy.plotting import plot3d\n",
    "x1, x2 = symbols('x1 x2')\n",
    "x = Matrix([x1, x2])"
   ]
  },
  {
   "cell_type": "markdown",
   "id": "09ae370d-1498-4172-a427-9aabfd4c8826",
   "metadata": {},
   "source": [
    "### 正定"
   ]
  },
  {
   "cell_type": "markdown",
   "id": "c64fe7a4-d368-4754-a823-830f9add059f",
   "metadata": {},
   "source": [
    "$${\\displaystyle M{\\text{ positive-definite}}\\quad \\iff \\quad \\mathbf {x} ^{\\textsf {T}}M\\mathbf {x} >0{\\text{ for all }}\\mathbf {x} \\in \\mathbb {R} ^{n}\\setminus \\{\\mathbf {0} \\}}$$"
   ]
  },
  {
   "cell_type": "code",
   "execution_count": 60,
   "id": "42c1c072-9ba5-4b06-93fe-90dfae06a874",
   "metadata": {},
   "outputs": [
    {
     "data": {
      "text/plain": [
       "True"
      ]
     },
     "execution_count": 60,
     "metadata": {},
     "output_type": "execute_result"
    }
   ],
   "source": [
    "A = Matrix([[1, 0], [0, 1]])\n",
    "A.is_positive_definite"
   ]
  },
  {
   "cell_type": "code",
   "execution_count": 61,
   "id": "3e4510c1-88d1-443c-b2fc-67f07cd1a178",
   "metadata": {},
   "outputs": [
    {
     "data": {
      "text/latex": [
       "$\\displaystyle \\left[\\begin{matrix}x_{1}^{2} + x_{2}^{2}\\end{matrix}\\right]$"
      ],
      "text/plain": [
       "Matrix([[x1**2 + x2**2]])"
      ]
     },
     "execution_count": 61,
     "metadata": {},
     "output_type": "execute_result"
    }
   ],
   "source": [
    "x.T*A*x"
   ]
  },
  {
   "cell_type": "code",
   "execution_count": 62,
   "id": "c48df144-4947-4592-8d40-c7489c77bba7",
   "metadata": {},
   "outputs": [
    {
     "data": {
      "text/latex": [
       "$\\displaystyle x_{1}^{2} + x_{2}^{2}$"
      ],
      "text/plain": [
       "x1**2 + x2**2"
      ]
     },
     "execution_count": 62,
     "metadata": {},
     "output_type": "execute_result"
    }
   ],
   "source": [
    "f_x = x.T*A*x\n",
    "f_x = f_x[0]\n",
    "f_x"
   ]
  },
  {
   "cell_type": "code",
   "execution_count": 63,
   "id": "38e94417-37ac-4ce4-8f20-2055e3371078",
   "metadata": {},
   "outputs": [
    {
     "data": {
      "image/png": "[encoded data removed]",
      "text/plain": [
       "<Figure size 640x480 with 1 Axes>"
      ]
     },
     "metadata": {},
     "output_type": "display_data"
    }
   ],
   "source": [
    "p = plot3d((x.T*A*x)[0, 0], (x1, -1, 1), (x2, -1, 1))"
   ]
  },
  {
   "cell_type": "markdown",
   "id": "772083e4-064a-4fcf-bd33-d913d444e384",
   "metadata": {},
   "source": [
    "### 半正定"
   ]
  },
  {
   "cell_type": "markdown",
   "id": "4ad000b2-9304-499e-abae-d2df12c12dde",
   "metadata": {},
   "source": [
    "$${\\displaystyle M{\\text{ positive semi-definite}}\\quad \\iff \\quad \\mathbf {x} ^{\\textsf {T}}M\\mathbf {x} \\geq 0{\\text{ for all }}\\mathbf {x} \\in \\mathbb {R} ^{n}}$$"
   ]
  },
  {
   "cell_type": "code",
   "execution_count": 64,
   "id": "e5f091a8-d378-4133-811f-82d2ff58a506",
   "metadata": {},
   "outputs": [
    {
     "data": {
      "text/plain": [
       "False"
      ]
     },
     "execution_count": 64,
     "metadata": {},
     "output_type": "execute_result"
    }
   ],
   "source": [
    "A = Matrix([[1, -1], [-1, 1]])\n",
    "A.is_positive_definite"
   ]
  },
  {
   "cell_type": "code",
   "execution_count": 65,
   "id": "25cfc067-1c47-480b-b724-f0e1cd2ca964",
   "metadata": {},
   "outputs": [
    {
     "data": {
      "text/plain": [
       "True"
      ]
     },
     "execution_count": 65,
     "metadata": {},
     "output_type": "execute_result"
    }
   ],
   "source": [
    "A.is_positive_semidefinite"
   ]
  },
  {
   "cell_type": "markdown",
   "id": "b9da797a-3cd8-4ad0-8cc2-039c906c2fff",
   "metadata": {},
   "source": [
    "### 负定"
   ]
  },
  {
   "cell_type": "markdown",
   "id": "0be5e050-33c3-4adf-a9f7-a1fbb5157e60",
   "metadata": {},
   "source": [
    "$$ {\\displaystyle M{\\text{ negative-definite}}\\quad \\iff \\quad \\mathbf {x} ^{\\textsf {T}}M\\mathbf {x} <0{\\text{ for all }}\\mathbf {x} \\in \\mathbb {R} ^{n}\\setminus \\{\\mathbf {0} \\}} $$"
   ]
  },
  {
   "cell_type": "code",
   "execution_count": 66,
   "id": "5cd701c5-7c70-4362-847c-f9678cc1a682",
   "metadata": {},
   "outputs": [
    {
     "data": {
      "text/plain": [
       "True"
      ]
     },
     "execution_count": 66,
     "metadata": {},
     "output_type": "execute_result"
    }
   ],
   "source": [
    "A = Matrix([[-1, 0], [0, -1]])\n",
    "A.is_negative_definite"
   ]
  },
  {
   "cell_type": "code",
   "execution_count": 67,
   "id": "94f9e781-d162-4cf8-9606-654b7c9953d8",
   "metadata": {},
   "outputs": [
    {
     "data": {
      "text/plain": [
       "True"
      ]
     },
     "execution_count": 67,
     "metadata": {},
     "output_type": "execute_result"
    }
   ],
   "source": [
    "A.is_negative_semidefinite"
   ]
  },
  {
   "cell_type": "code",
   "execution_count": 68,
   "id": "2a60136a-e683-486f-bf84-a4ca2f22c044",
   "metadata": {},
   "outputs": [
    {
     "data": {
      "text/plain": [
       "False"
      ]
     },
     "execution_count": 68,
     "metadata": {},
     "output_type": "execute_result"
    }
   ],
   "source": [
    "A.is_indefinite"
   ]
  },
  {
   "cell_type": "markdown",
   "id": "aa4eec7f-b91f-494f-91c3-47e977e45427",
   "metadata": {},
   "source": [
    "### 半负定"
   ]
  },
  {
   "cell_type": "markdown",
   "id": "98ac7d4a-0e80-4669-a9d0-4604ef62ae9e",
   "metadata": {},
   "source": [
    "$$ {\\displaystyle M{\\text{ negative semi-definite}}\\quad \\iff \\quad \\mathbf {x} ^{\\textsf {T}}M\\mathbf {x} \\leq 0{\\text{ for all }}\\mathbf {x} \\in \\mathbb {R} ^{n}} $$"
   ]
  },
  {
   "cell_type": "markdown",
   "id": "e81e2e0b-4a3c-4960-bc3b-b91936f85bbe",
   "metadata": {},
   "source": []
  },
  {
   "cell_type": "markdown",
   "id": "c65eaac6-c50a-483a-9c17-b2f4b854e933",
   "metadata": {},
   "source": [
    "### 不定"
   ]
  },
  {
   "cell_type": "code",
   "execution_count": 69,
   "id": "f86a5111-58fb-4f66-9c07-324b0bd239a0",
   "metadata": {},
   "outputs": [
    {
     "data": {
      "text/plain": [
       "True"
      ]
     },
     "execution_count": 69,
     "metadata": {},
     "output_type": "execute_result"
    }
   ],
   "source": [
    "A = Matrix([[1, 2], [2, -1]])\n",
    "A.is_indefinite"
   ]
  },
  {
   "cell_type": "markdown",
   "id": "7a99af1f-b8a6-4aa8-aea6-fa67dbad6b68",
   "metadata": {},
   "source": [
    "## Cholesky分解"
   ]
  },
  {
   "cell_type": "code",
   "execution_count": 70,
   "id": "48435c46-b205-488f-bbb9-bdfc474fdfb2",
   "metadata": {},
   "outputs": [
    {
     "data": {
      "text/latex": [
       "$\\displaystyle \\left[\\begin{matrix}5 & 0 & 0\\\\3 & 3 & 0\\\\-1 & 1 & 3\\end{matrix}\\right]$"
      ],
      "text/plain": [
       "Matrix([\n",
       "[ 5, 0, 0],\n",
       "[ 3, 3, 0],\n",
       "[-1, 1, 3]])"
      ]
     },
     "execution_count": 70,
     "metadata": {},
     "output_type": "execute_result"
    }
   ],
   "source": [
    "from sympy import Matrix\n",
    "A = Matrix(((25, 15, -5), (15, 18, 0), (-5, 0, 11)))\n",
    "A.cholesky()"
   ]
  },
  {
   "cell_type": "code",
   "execution_count": 71,
   "id": "789cd3dd-98aa-46f3-8ad1-6a39fc31b4bb",
   "metadata": {},
   "outputs": [
    {
     "data": {
      "text/latex": [
       "$\\displaystyle \\left[\\begin{matrix}25 & 15 & -5\\\\15 & 18 & 0\\\\-5 & 0 & 11\\end{matrix}\\right]$"
      ],
      "text/plain": [
       "Matrix([\n",
       "[25, 15, -5],\n",
       "[15, 18,  0],\n",
       "[-5,  0, 11]])"
      ]
     },
     "execution_count": 71,
     "metadata": {},
     "output_type": "execute_result"
    }
   ],
   "source": [
    "A.cholesky() * A.cholesky().T"
   ]
  },
  {
   "cell_type": "markdown",
   "id": "98e47af6-45a7-4d45-a70e-a19df1e702be",
   "metadata": {},
   "source": [
    "## 对角化"
   ]
  },
  {
   "cell_type": "code",
   "execution_count": 72,
   "id": "5a0da903-ca8b-4a3a-8f1c-12d9f407f966",
   "metadata": {},
   "outputs": [
    {
     "data": {
      "text/plain": [
       "True"
      ]
     },
     "execution_count": 72,
     "metadata": {},
     "output_type": "execute_result"
    }
   ],
   "source": [
    "M = Matrix([[1, 2, 0], [0, 3, 0], [2, -4, 2]])\n",
    "M.is_diagonalizable()"
   ]
  },
  {
   "cell_type": "code",
   "execution_count": 73,
   "id": "70163a70-3a4d-4211-b911-297c793fb3c9",
   "metadata": {},
   "outputs": [],
   "source": [
    "M = Matrix([[3, -2,  4, -2], [5,  3, -3, -2], [5, -2,  2, -2], [5, -2, -3,  3]])\n",
    "P, D = M.diagonalize()"
   ]
  },
  {
   "cell_type": "code",
   "execution_count": 74,
   "id": "ac63e93f-6a53-4163-a218-715f013a7e15",
   "metadata": {},
   "outputs": [
    {
     "data": {
      "text/latex": [
       "$\\displaystyle \\left[\\begin{matrix}0 & 1 & 1 & 0\\\\1 & 1 & 1 & -1\\\\1 & 1 & 1 & 0\\\\1 & 1 & 0 & 1\\end{matrix}\\right]$"
      ],
      "text/plain": [
       "Matrix([\n",
       "[0, 1, 1,  0],\n",
       "[1, 1, 1, -1],\n",
       "[1, 1, 1,  0],\n",
       "[1, 1, 0,  1]])"
      ]
     },
     "execution_count": 74,
     "metadata": {},
     "output_type": "execute_result"
    }
   ],
   "source": [
    "P"
   ]
  },
  {
   "cell_type": "code",
   "execution_count": 75,
   "id": "213b32ee-b6f9-49a1-8d15-a6d5b8b58ab3",
   "metadata": {},
   "outputs": [
    {
     "data": {
      "text/latex": [
       "$\\displaystyle \\left[\\begin{matrix}-2 & 0 & 0 & 0\\\\0 & 3 & 0 & 0\\\\0 & 0 & 5 & 0\\\\0 & 0 & 0 & 5\\end{matrix}\\right]$"
      ],
      "text/plain": [
       "Matrix([\n",
       "[-2, 0, 0, 0],\n",
       "[ 0, 3, 0, 0],\n",
       "[ 0, 0, 5, 0],\n",
       "[ 0, 0, 0, 5]])"
      ]
     },
     "execution_count": 75,
     "metadata": {},
     "output_type": "execute_result"
    }
   ],
   "source": [
    "D"
   ]
  },
  {
   "cell_type": "markdown",
   "id": "c0e3614c-d0f7-47e3-9647-0ae5a0a7a013",
   "metadata": {},
   "source": [
    "## 特征值分解"
   ]
  },
  {
   "cell_type": "code",
   "execution_count": 76,
   "id": "f35c1de9-5658-4f30-880e-7fda41d447e1",
   "metadata": {},
   "outputs": [
    {
     "data": {
      "text/latex": [
       "$\\displaystyle \\left[\\begin{matrix}3 & -2 & 4 & -2\\\\5 & 3 & -3 & -2\\\\5 & -2 & 2 & -2\\\\5 & -2 & -3 & 3\\end{matrix}\\right]$"
      ],
      "text/plain": [
       "Matrix([\n",
       "[3, -2,  4, -2],\n",
       "[5,  3, -3, -2],\n",
       "[5, -2,  2, -2],\n",
       "[5, -2, -3,  3]])"
      ]
     },
     "execution_count": 76,
     "metadata": {},
     "output_type": "execute_result"
    }
   ],
   "source": [
    "M = Matrix([[3, -2,  4, -2], [5,  3, -3, -2], [5, -2,  2, -2], [5, -2, -3,  3]])\n",
    "M"
   ]
  },
  {
   "cell_type": "code",
   "execution_count": 77,
   "id": "f82156ca-ada5-4c82-851d-ef40b84a2c22",
   "metadata": {},
   "outputs": [
    {
     "data": {
      "text/plain": [
       "{3: 1, -2: 1, 5: 2}"
      ]
     },
     "execution_count": 77,
     "metadata": {},
     "output_type": "execute_result"
    }
   ],
   "source": [
    "M.eigenvals()"
   ]
  },
  {
   "cell_type": "code",
   "execution_count": 78,
   "id": "2d91dcf5-053b-4472-973a-f05a2e7c26c0",
   "metadata": {},
   "outputs": [
    {
     "data": {
      "text/plain": [
       "[(-2,\n",
       "  1,\n",
       "  [Matrix([\n",
       "   [0],\n",
       "   [1],\n",
       "   [1],\n",
       "   [1]])]),\n",
       " (3,\n",
       "  1,\n",
       "  [Matrix([\n",
       "   [1],\n",
       "   [1],\n",
       "   [1],\n",
       "   [1]])]),\n",
       " (5,\n",
       "  2,\n",
       "  [Matrix([\n",
       "   [1],\n",
       "   [1],\n",
       "   [1],\n",
       "   [0]]),\n",
       "   Matrix([\n",
       "   [ 0],\n",
       "   [-1],\n",
       "   [ 0],\n",
       "   [ 1]])])]"
      ]
     },
     "execution_count": 78,
     "metadata": {},
     "output_type": "execute_result"
    }
   ],
   "source": [
    "M.eigenvects()"
   ]
  },
  {
   "cell_type": "code",
   "execution_count": 79,
   "id": "eb876a29-e2f9-4b30-bf09-e890319edcee",
   "metadata": {},
   "outputs": [
    {
     "data": {
      "text/plain": [
       "{3: 1, -2: 1, 5: 2}"
      ]
     },
     "execution_count": 79,
     "metadata": {},
     "output_type": "execute_result"
    }
   ],
   "source": [
    "### 对符号数值矩阵求特征值\n",
    "M.eigenvals()"
   ]
  },
  {
   "cell_type": "code",
   "execution_count": 80,
   "id": "df3f30d5-a185-407d-931e-e9ca820668fe",
   "metadata": {},
   "outputs": [
    {
     "data": {
      "text/latex": [
       "$\\displaystyle \\left[\\begin{matrix}a^{2} & 2 a b c\\\\2 a b c & b^{2}\\end{matrix}\\right]$"
      ],
      "text/plain": [
       "Matrix([\n",
       "[   a**2, 2*a*b*c],\n",
       "[2*a*b*c,    b**2]])"
      ]
     },
     "execution_count": 80,
     "metadata": {},
     "output_type": "execute_result"
    }
   ],
   "source": [
    "\n",
    "Matrix_2x2_abc = Matrix([[a**2, 2*a*b*c],\n",
    "                         [2*a*b*c, b**2]])\n",
    "Matrix_2x2_abc"
   ]
  },
  {
   "cell_type": "code",
   "execution_count": 81,
   "id": "43a1f6b4-9756-4e1e-b71f-28bfc4d1889d",
   "metadata": {},
   "outputs": [
    {
     "data": {
      "text/plain": [
       "{a**2/2 + b**2/2 - sqrt(a**4 + 16*a**2*b**2*c**2 - 2*a**2*b**2 + b**4)/2: 1,\n",
       " a**2/2 + b**2/2 + sqrt(a**4 + 16*a**2*b**2*c**2 - 2*a**2*b**2 + b**4)/2: 1}"
      ]
     },
     "execution_count": 81,
     "metadata": {},
     "output_type": "execute_result"
    }
   ],
   "source": [
    "Matrix_2x2_abc.eigenvals()"
   ]
  },
  {
   "cell_type": "code",
   "execution_count": 82,
   "id": "46f3e405-3912-4465-af7b-187b0debfd01",
   "metadata": {},
   "outputs": [
    {
     "data": {
      "text/plain": [
       "[(-2,\n",
       "  1,\n",
       "  [Matrix([\n",
       "   [0],\n",
       "   [1],\n",
       "   [1],\n",
       "   [1]])]),\n",
       " (3,\n",
       "  1,\n",
       "  [Matrix([\n",
       "   [1],\n",
       "   [1],\n",
       "   [1],\n",
       "   [1]])]),\n",
       " (5,\n",
       "  2,\n",
       "  [Matrix([\n",
       "   [1],\n",
       "   [1],\n",
       "   [1],\n",
       "   [0]]),\n",
       "   Matrix([\n",
       "   [ 0],\n",
       "   [-1],\n",
       "   [ 0],\n",
       "   [ 1]])])]"
      ]
     },
     "execution_count": 82,
     "metadata": {},
     "output_type": "execute_result"
    }
   ],
   "source": [
    "M.eigenvects()"
   ]
  },
  {
   "cell_type": "code",
   "execution_count": 83,
   "id": "03a61c6d-60d5-44ed-a9bd-e1dbba2add04",
   "metadata": {},
   "outputs": [],
   "source": [
    "## 向量空间"
   ]
  },
  {
   "cell_type": "code",
   "execution_count": 84,
   "id": "30ead826-4a06-4741-bbb4-8e9061ce6d1a",
   "metadata": {},
   "outputs": [
    {
     "data": {
      "text/plain": [
       "[Matrix([\n",
       " [1],\n",
       " [2],\n",
       " [3]]),\n",
       " Matrix([\n",
       " [1],\n",
       " [1],\n",
       " [1]])]"
      ]
     },
     "execution_count": 84,
     "metadata": {},
     "output_type": "execute_result"
    }
   ],
   "source": [
    "M = Matrix([[1, 1, 2], [2 ,1 , 3], [3 , 1, 4]])\n",
    "M.columnspace()"
   ]
  },
  {
   "cell_type": "markdown",
   "id": "6ba783c4-7f20-4115-bd95-0919f6e66a9c",
   "metadata": {},
   "source": [
    "## 奇异值分解"
   ]
  },
  {
   "cell_type": "code",
   "execution_count": 85,
   "id": "eb1bf145-530a-4a4d-ad02-acf9c2349d08",
   "metadata": {},
   "outputs": [],
   "source": [
    "from sympy import Matrix\n",
    "A = Matrix([[0, 1],[1, 1],[1, 0]])\n",
    "# 奇异值分解\n",
    "U, S, V = A.singular_value_decomposition()"
   ]
  },
  {
   "cell_type": "code",
   "execution_count": 86,
   "id": "6d77c147-89b4-455c-a6f7-acae8f9c62cd",
   "metadata": {},
   "outputs": [
    {
     "data": {
      "text/latex": [
       "$\\displaystyle \\left[\\begin{matrix}\\frac{\\sqrt{2}}{2} & \\frac{\\sqrt{6}}{6}\\\\0 & \\frac{\\sqrt{6}}{3}\\\\- \\frac{\\sqrt{2}}{2} & \\frac{\\sqrt{6}}{6}\\end{matrix}\\right]$"
      ],
      "text/plain": [
       "Matrix([\n",
       "[ sqrt(2)/2, sqrt(6)/6],\n",
       "[         0, sqrt(6)/3],\n",
       "[-sqrt(2)/2, sqrt(6)/6]])"
      ]
     },
     "execution_count": 86,
     "metadata": {},
     "output_type": "execute_result"
    }
   ],
   "source": [
    "U"
   ]
  },
  {
   "cell_type": "code",
   "execution_count": 87,
   "id": "ed60f68a-2555-4a52-9e5b-1da1a1c03f48",
   "metadata": {},
   "outputs": [
    {
     "data": {
      "text/latex": [
       "$\\displaystyle \\left[\\begin{matrix}1 & 0\\\\0 & 1\\end{matrix}\\right]$"
      ],
      "text/plain": [
       "Matrix([\n",
       "[1, 0],\n",
       "[0, 1]])"
      ]
     },
     "execution_count": 87,
     "metadata": {},
     "output_type": "execute_result"
    }
   ],
   "source": [
    "U.T @ U"
   ]
  },
  {
   "cell_type": "code",
   "execution_count": 88,
   "id": "59a85ddd-6f26-47dc-9df6-aa601ba87947",
   "metadata": {},
   "outputs": [
    {
     "data": {
      "text/latex": [
       "$\\displaystyle \\left[\\begin{matrix}1 & 0\\\\0 & \\sqrt{3}\\end{matrix}\\right]$"
      ],
      "text/plain": [
       "Matrix([\n",
       "[1,       0],\n",
       "[0, sqrt(3)]])"
      ]
     },
     "execution_count": 88,
     "metadata": {},
     "output_type": "execute_result"
    }
   ],
   "source": [
    "S"
   ]
  },
  {
   "cell_type": "code",
   "execution_count": 89,
   "id": "d1acbd69-c246-4b65-8741-d1e200f2ceab",
   "metadata": {},
   "outputs": [
    {
     "data": {
      "text/latex": [
       "$\\displaystyle \\left[\\begin{matrix}- \\frac{\\sqrt{2}}{2} & \\frac{\\sqrt{2}}{2}\\\\\\frac{\\sqrt{2}}{2} & \\frac{\\sqrt{2}}{2}\\end{matrix}\\right]$"
      ],
      "text/plain": [
       "Matrix([\n",
       "[-sqrt(2)/2, sqrt(2)/2],\n",
       "[ sqrt(2)/2, sqrt(2)/2]])"
      ]
     },
     "execution_count": 89,
     "metadata": {},
     "output_type": "execute_result"
    }
   ],
   "source": [
    "V"
   ]
  },
  {
   "cell_type": "code",
   "execution_count": 90,
   "id": "0831b407-b1df-4a09-a821-8e36f28aefae",
   "metadata": {},
   "outputs": [
    {
     "data": {
      "text/latex": [
       "$\\displaystyle \\left[\\begin{matrix}1 & 0\\\\0 & 1\\end{matrix}\\right]$"
      ],
      "text/plain": [
       "Matrix([\n",
       "[1, 0],\n",
       "[0, 1]])"
      ]
     },
     "execution_count": 90,
     "metadata": {},
     "output_type": "execute_result"
    }
   ],
   "source": [
    "V.T @ V"
   ]
  },
  {
   "cell_type": "code",
   "execution_count": 91,
   "id": "911b9ec9-f953-4db2-a30f-6658eb5ce558",
   "metadata": {},
   "outputs": [
    {
     "data": {
      "text/latex": [
       "$\\displaystyle \\left[\\begin{matrix}1 & 0\\\\0 & 1\\end{matrix}\\right]$"
      ],
      "text/plain": [
       "Matrix([\n",
       "[1, 0],\n",
       "[0, 1]])"
      ]
     },
     "execution_count": 91,
     "metadata": {},
     "output_type": "execute_result"
    }
   ],
   "source": [
    "V * V.T"
   ]
  },
  {
   "cell_type": "code",
   "execution_count": 92,
   "id": "bad0b255-6b4f-4512-865e-64332fa05216",
   "metadata": {},
   "outputs": [],
   "source": [
    "M = A @ A.T"
   ]
  },
  {
   "cell_type": "code",
   "execution_count": 93,
   "id": "da29bce8-ab30-4022-bd9a-674c88fa4ffb",
   "metadata": {},
   "outputs": [
    {
     "data": {
      "text/plain": [
       "[(0,\n",
       "  1,\n",
       "  [Matrix([\n",
       "   [ 1],\n",
       "   [-1],\n",
       "   [ 1]])]),\n",
       " (1,\n",
       "  1,\n",
       "  [Matrix([\n",
       "   [-1],\n",
       "   [ 0],\n",
       "   [ 1]])]),\n",
       " (3,\n",
       "  1,\n",
       "  [Matrix([\n",
       "   [1],\n",
       "   [2],\n",
       "   [1]])])]"
      ]
     },
     "execution_count": 93,
     "metadata": {},
     "output_type": "execute_result"
    }
   ],
   "source": [
    "M.eigenvects()"
   ]
  },
  {
   "cell_type": "code",
   "execution_count": null,
   "id": "a78f5ea0-2fc5-492d-85d6-459295154bbe",
   "metadata": {},
   "outputs": [],
   "source": []
  },
  {
   "cell_type": "code",
   "execution_count": 94,
   "id": "2a76d332-aee9-4e69-b1d7-20b5eac340a5",
   "metadata": {},
   "outputs": [],
   "source": [
    "# Repo: https://github.com/Visualize-ML\n",
    "# Book 1 Python for Beginners  |  From Basic Arithmetic to Machine Learning\n",
    "# Published and copyrighted by Tsinghua University Press\n",
    "# Beijing, China, 2023"
   ]
  }
 ],
 "metadata": {
  "kernelspec": {
   "display_name": "Python 3 (ipykernel)",
   "language": "python",
   "name": "python3"
  },
  "language_info": {
   "codemirror_mode": {
    "name": "ipython",
    "version": 3
   },
   "file_extension": ".py",
   "mimetype": "text/x-python",
   "name": "python",
   "nbconvert_exporter": "python",
   "pygments_lexer": "ipython3",
   "version": "3.10.9"
  }
 },
 "nbformat": 4,
 "nbformat_minor": 5
}
