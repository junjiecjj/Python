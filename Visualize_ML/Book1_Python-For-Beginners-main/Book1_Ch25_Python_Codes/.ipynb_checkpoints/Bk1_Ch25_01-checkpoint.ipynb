{
 "cells": [
  {
   "cell_type": "markdown",
   "id": "c2b7da21-f761-4b32-9b9e-f8985e2f8dc9",
   "metadata": {},
   "source": [
    "Ch25\n",
    "# SymPy代数\n",
    "Book_1《编程不难》 | 鸢尾花书：从加减乘除到机器学习  "
   ]
  },
  {
   "cell_type": "code",
   "execution_count": 1,
   "id": "80988907-c48f-4d3e-8f35-3fa26deb14bd",
   "metadata": {},
   "outputs": [],
   "source": [
    "# 导入包\n",
    "import numpy as np\n",
    "import matplotlib.pyplot as plt\n",
    "\n",
    "from sympy import init_printing\n",
    "init_printing(\"mathjax\")\n",
    "# 这两句的作用是将 SymPy 库中的数学符号以美观的形式打印出来。\n",
    "# from sympy import init_printing 将 init_printing() 函数从 SymPy 库中导入。\n",
    "# 该函数的作用是设置 SymPy 打印输出的格式。\n",
    "\n",
    "# init_printing(\"mathjax\") 将打印输出的格式设置为 MathJax 格式，\n",
    "# MathJax 是一个用于在 Web 上呈现数学公式的 JavaScript 引擎。\n",
    "# 这样，SymPy 就可以在 Jupyter notebook 或 IPython 控制台中以 LaTeX 格式打印出数学符号，使其更易于阅读和理解。"
   ]
  },
  {
   "cell_type": "markdown",
   "id": "b37d20f4-6ebc-4e7a-9dbd-b7b175881e2c",
   "metadata": {},
   "source": [
    "## 定义符号变量"
   ]
  },
  {
   "cell_type": "code",
   "execution_count": 2,
   "id": "51ab495d-f96b-4f57-807a-e0145fa142de",
   "metadata": {},
   "outputs": [],
   "source": [
    "from sympy import symbols\n",
    "# 从sympy中导入symbols"
   ]
  },
  {
   "cell_type": "code",
   "execution_count": 3,
   "id": "ced6d56f-e5b3-4250-ab32-7f1397fa3191",
   "metadata": {},
   "outputs": [],
   "source": [
    "x, y = symbols('x y')\n",
    "# 用sympy.symbols (简做symbols) 定义x和y两个符号变量"
   ]
  },
  {
   "cell_type": "code",
   "execution_count": 4,
   "id": "4647e8d7-3dc8-44da-8975-f2a7a03157c2",
   "metadata": {},
   "outputs": [
    {
     "data": {
      "image/png": "[encoded data removed]",
      "text/latex": [
       "$\\displaystyle x + y$"
      ],
      "text/plain": [
       "x + y"
      ]
     },
     "execution_count": 4,
     "metadata": {},
     "output_type": "execute_result"
    }
   ],
   "source": [
    "# 定义解析式：\n",
    "f1 = x + y\n",
    "f1 # 打印结果"
   ]
  },
  {
   "cell_type": "code",
   "execution_count": 5,
   "id": "a9627e78-4bcf-4455-b495-1f81771ce4aa",
   "metadata": {},
   "outputs": [
    {
     "data": {
      "image/png": "[encoded data removed]",
      "text/latex": [
       "$\\displaystyle x + y + 1$"
      ],
      "text/plain": [
       "x + y + 1"
      ]
     },
     "execution_count": 5,
     "metadata": {},
     "output_type": "execute_result"
    }
   ],
   "source": [
    "f1 + 1"
   ]
  },
  {
   "cell_type": "code",
   "execution_count": 6,
   "id": "47ef03d9-b5ec-47b6-bc86-f1687320646f",
   "metadata": {},
   "outputs": [
    {
     "data": {
      "image/png": "[encoded data removed]",
      "text/latex": [
       "$\\displaystyle x^{2} - y^{2}$"
      ],
      "text/plain": [
       " 2    2\n",
       "x  - y "
      ]
     },
     "execution_count": 6,
     "metadata": {},
     "output_type": "execute_result"
    }
   ],
   "source": [
    "f2 = x**2 - y**2\n",
    "f2 # 打印结果"
   ]
  },
  {
   "cell_type": "code",
   "execution_count": 7,
   "id": "8d2c6e11-4194-4869-b0a6-f8f77d54303e",
   "metadata": {},
   "outputs": [
    {
     "data": {
      "image/png": "[encoded data removed]",
      "text/latex": [
       "$\\displaystyle x^{2} + 2 x - y^{2} + 1$"
      ],
      "text/plain": [
       " 2          2    \n",
       "x  + 2⋅x - y  + 1"
      ]
     },
     "execution_count": 7,
     "metadata": {},
     "output_type": "execute_result"
    }
   ],
   "source": [
    "f2 + 2*x + 1"
   ]
  },
  {
   "cell_type": "code",
   "execution_count": 8,
   "id": "5e3c8178-941d-467a-ab75-0d878ef6bc98",
   "metadata": {},
   "outputs": [
    {
     "data": {
      "image/png": "[encoded data removed]",
      "text/latex": [
       "$\\displaystyle x \\left(x^{2} - y^{2}\\right)$"
      ],
      "text/plain": [
       "  ⎛ 2    2⎞\n",
       "x⋅⎝x  - y ⎠"
      ]
     },
     "execution_count": 8,
     "metadata": {},
     "output_type": "execute_result"
    }
   ],
   "source": [
    "f2 * x"
   ]
  },
  {
   "cell_type": "code",
   "execution_count": 9,
   "id": "3b266150-6c88-44e8-8fc1-0c499ca0da26",
   "metadata": {},
   "outputs": [
    {
     "data": {
      "image/png": "[encoded data removed]",
      "text/latex": [
       "$\\displaystyle \\left(x^{2} - y^{2}\\right)^{x}$"
      ],
      "text/plain": [
       "         x\n",
       "⎛ 2    2⎞ \n",
       "⎝x  - y ⎠ "
      ]
     },
     "execution_count": 9,
     "metadata": {},
     "output_type": "execute_result"
    }
   ],
   "source": [
    "f2 ** x"
   ]
  },
  {
   "cell_type": "markdown",
   "id": "4fa2fa51-ffc3-453f-b482-00bd435d1e92",
   "metadata": {},
   "source": [
    "### 将字符串转化为符号表达式"
   ]
  },
  {
   "cell_type": "code",
   "execution_count": 10,
   "id": "1fad76f9-7fbd-480e-9dcf-7c56a5f27562",
   "metadata": {},
   "outputs": [
    {
     "data": {
      "text/plain": [
       "'x**3 + x**2 + x + 1'"
      ]
     },
     "execution_count": 10,
     "metadata": {},
     "output_type": "execute_result"
    }
   ],
   "source": [
    "str_expression = 'x**3 + x**2 + x + 1'\n",
    "str_expression"
   ]
  },
  {
   "cell_type": "code",
   "execution_count": 11,
   "id": "5fda7a82-0558-418d-88b0-855206dee616",
   "metadata": {},
   "outputs": [
    {
     "data": {
      "image/png": "[encoded data removed]",
      "text/latex": [
       "$\\displaystyle x^{3} + x^{2} + x + 1$"
      ],
      "text/plain": [
       " 3    2        \n",
       "x  + x  + x + 1"
      ]
     },
     "execution_count": 11,
     "metadata": {},
     "output_type": "execute_result"
    }
   ],
   "source": [
    "from sympy import sympify\n",
    "str_2_sym = sympify(str_expression)\n",
    "str_2_sym"
   ]
  },
  {
   "cell_type": "markdown",
   "id": "bb65b153-0e0b-4ffc-b7d1-77e5357ae563",
   "metadata": {},
   "source": [
    "### 分式"
   ]
  },
  {
   "cell_type": "code",
   "execution_count": 12,
   "id": "5b850dcf-189e-4f24-a9ec-d918ef67bc23",
   "metadata": {},
   "outputs": [
    {
     "data": {
      "image/png": "[encoded data removed]",
      "text/latex": [
       "$\\displaystyle \\frac{1}{2}$"
      ],
      "text/plain": [
       "1/2"
      ]
     },
     "execution_count": 12,
     "metadata": {},
     "output_type": "execute_result"
    }
   ],
   "source": [
    "# 定义分式\n",
    "from sympy import Rational\n",
    "Rational(1, 2)"
   ]
  },
  {
   "cell_type": "code",
   "execution_count": 13,
   "id": "e26d0915-552f-4fab-a4cf-090eaec11844",
   "metadata": {},
   "outputs": [
    {
     "data": {
      "image/png": "[encoded data removed]",
      "text/latex": [
       "$\\displaystyle x + \\frac{1}{2}$"
      ],
      "text/plain": [
       "x + 1/2"
      ]
     },
     "execution_count": 13,
     "metadata": {},
     "output_type": "execute_result"
    }
   ],
   "source": [
    "x + Rational(1, 2)"
   ]
  },
  {
   "cell_type": "code",
   "execution_count": 14,
   "id": "9530a8e8-1db2-4f4c-a787-56592b1870ac",
   "metadata": {},
   "outputs": [
    {
     "data": {
      "image/png": "[encoded data removed]",
      "text/latex": [
       "$\\displaystyle \\frac{x}{2}$"
      ],
      "text/plain": [
       "x\n",
       "─\n",
       "2"
      ]
     },
     "execution_count": 14,
     "metadata": {},
     "output_type": "execute_result"
    }
   ],
   "source": [
    "x * Rational(1, 2)"
   ]
  },
  {
   "cell_type": "code",
   "execution_count": 15,
   "id": "d74e6292-0af7-44d1-ad26-1a1e3ad28949",
   "metadata": {
    "tags": []
   },
   "outputs": [],
   "source": [
    "# Rational(x, 2)\n",
    "# 这种形式会报错"
   ]
  },
  {
   "cell_type": "code",
   "execution_count": 16,
   "id": "a5e88433-2cea-4f99-ac9a-82a7bbf07c80",
   "metadata": {},
   "outputs": [
    {
     "data": {
      "image/png": "[encoded data removed]",
      "text/latex": [
       "$\\displaystyle \\frac{1}{1 + \\sqrt{2}}$"
      ],
      "text/plain": [
       "  1   \n",
       "──────\n",
       "1 + √2"
      ]
     },
     "execution_count": 16,
     "metadata": {},
     "output_type": "execute_result"
    }
   ],
   "source": [
    "from sympy import sqrt, simplify\n",
    "1 / (sqrt(2) + 1)"
   ]
  },
  {
   "cell_type": "code",
   "execution_count": 17,
   "id": "8be73077-b072-40dc-94e2-49def5556812",
   "metadata": {},
   "outputs": [
    {
     "data": {
      "image/png": "[encoded data removed]",
      "text/latex": [
       "$\\displaystyle 0.414213562373095$"
      ],
      "text/plain": [
       "0.41421356237309503"
      ]
     },
     "execution_count": 17,
     "metadata": {},
     "output_type": "execute_result"
    }
   ],
   "source": [
    "float(1 / (sqrt(2) + 1))"
   ]
  },
  {
   "cell_type": "code",
   "execution_count": 18,
   "id": "89989dd4-7b98-4ac2-b338-3693e8fc5b21",
   "metadata": {},
   "outputs": [
    {
     "data": {
      "image/png": "[encoded data removed]",
      "text/latex": [
       "$\\displaystyle -1 + \\sqrt{2}$"
      ],
      "text/plain": [
       "-1 + √2"
      ]
     },
     "execution_count": 18,
     "metadata": {},
     "output_type": "execute_result"
    }
   ],
   "source": [
    "simplify(1 / (sqrt(2) + 1))"
   ]
  },
  {
   "cell_type": "markdown",
   "id": "e7a2837d-4ec3-475b-9e9f-8d26a6381cb6",
   "metadata": {},
   "source": [
    "### 假设条件"
   ]
  },
  {
   "cell_type": "code",
   "execution_count": 19,
   "id": "d518b903-c5ab-4ddc-ae7f-6fe830daeb8e",
   "metadata": {},
   "outputs": [],
   "source": [
    "from sympy import symbols\n",
    "k = symbols('k', integer=True)\n",
    "x, y, z = symbols('x,y,z', real=True)"
   ]
  },
  {
   "cell_type": "code",
   "execution_count": null,
   "id": "a1084251-6b78-4d81-987a-438189cb482d",
   "metadata": {},
   "outputs": [],
   "source": []
  },
  {
   "cell_type": "markdown",
   "id": "a67fbc00-9b1c-4797-b33a-a4c89f6e0023",
   "metadata": {},
   "source": [
    "### 符号数字\n",
    "https://docs.sympy.org/latest/modules/evalf.html"
   ]
  },
  {
   "cell_type": "code",
   "execution_count": 20,
   "id": "2cd0f3a0-7cae-44d7-b350-aa7bde0896fe",
   "metadata": {},
   "outputs": [
    {
     "data": {
      "image/png": "[encoded data removed]",
      "text/latex": [
       "$\\displaystyle 1$"
      ],
      "text/plain": [
       "1"
      ]
     },
     "execution_count": 20,
     "metadata": {},
     "output_type": "execute_result"
    }
   ],
   "source": [
    "from sympy import S\n",
    "S(1)"
   ]
  },
  {
   "cell_type": "code",
   "execution_count": 21,
   "id": "dfd2f085-928c-4218-beb5-7c6036caf11c",
   "metadata": {},
   "outputs": [
    {
     "data": {
      "image/png": "[encoded data removed]",
      "text/latex": [
       "$\\displaystyle \\frac{1}{5}$"
      ],
      "text/plain": [
       "1/5"
      ]
     },
     "execution_count": 21,
     "metadata": {},
     "output_type": "execute_result"
    }
   ],
   "source": [
    "1/S(5)"
   ]
  },
  {
   "cell_type": "code",
   "execution_count": 22,
   "id": "557fdfee-0bdc-4489-9e01-651f1882f998",
   "metadata": {},
   "outputs": [
    {
     "data": {
      "image/png": "[encoded data removed]",
      "text/latex": [
       "$\\displaystyle 0.2$"
      ],
      "text/plain": [
       "0.2"
      ]
     },
     "execution_count": 22,
     "metadata": {},
     "output_type": "execute_result"
    }
   ],
   "source": [
    "float(1/S(5))"
   ]
  },
  {
   "cell_type": "code",
   "execution_count": 23,
   "id": "0e19459c-aad2-4241-bbe7-8b5222098e22",
   "metadata": {},
   "outputs": [
    {
     "data": {
      "image/png": "[encoded data removed]",
      "text/latex": [
       "$\\displaystyle \\pi$"
      ],
      "text/plain": [
       "π"
      ]
     },
     "execution_count": 23,
     "metadata": {},
     "output_type": "execute_result"
    }
   ],
   "source": [
    "from sympy import pi\n",
    "pi"
   ]
  },
  {
   "cell_type": "code",
   "execution_count": 24,
   "id": "3422f60e-5fba-4fc2-a1fa-a7ccbfc20637",
   "metadata": {},
   "outputs": [
    {
     "data": {
      "image/png": "[encoded data removed]",
      "text/latex": [
       "$\\displaystyle 3.14159265358979$"
      ],
      "text/plain": [
       "3.141592653589793"
      ]
     },
     "execution_count": 24,
     "metadata": {},
     "output_type": "execute_result"
    }
   ],
   "source": [
    "float(pi)"
   ]
  },
  {
   "cell_type": "code",
   "execution_count": 25,
   "id": "fef41fca-e4f5-45d6-9484-e718e104e46a",
   "metadata": {},
   "outputs": [
    {
     "data": {
      "image/png": "[encoded data removed]",
      "text/latex": [
       "$\\displaystyle 3$"
      ],
      "text/plain": [
       "3"
      ]
     },
     "execution_count": 25,
     "metadata": {},
     "output_type": "execute_result"
    }
   ],
   "source": [
    "int(pi)\n"
   ]
  },
  {
   "cell_type": "code",
   "execution_count": 26,
   "id": "2eee71b8-7ef6-460e-96c5-9451a8c250ac",
   "metadata": {},
   "outputs": [
    {
     "data": {
      "image/png": "[encoded data removed]",
      "text/latex": [
       "$\\displaystyle e^{2}$"
      ],
      "text/plain": [
       " 2\n",
       "ℯ "
      ]
     },
     "execution_count": 26,
     "metadata": {},
     "output_type": "execute_result"
    }
   ],
   "source": [
    "from sympy import exp\n",
    "exp(2)"
   ]
  },
  {
   "cell_type": "code",
   "execution_count": 27,
   "id": "314cf4a1-3940-4ab1-9483-1cdceaa694dd",
   "metadata": {},
   "outputs": [
    {
     "data": {
      "image/png": "[encoded data removed]",
      "text/latex": [
       "$\\displaystyle \\sqrt{2}$"
      ],
      "text/plain": [
       "√2"
      ]
     },
     "execution_count": 27,
     "metadata": {},
     "output_type": "execute_result"
    }
   ],
   "source": [
    "sqrt(2)"
   ]
  },
  {
   "cell_type": "code",
   "execution_count": 28,
   "id": "f2fdfb7f-15ef-42f7-b0e9-fc7081e19c08",
   "metadata": {},
   "outputs": [],
   "source": [
    "expression_sqrt = sqrt(2) + 1"
   ]
  },
  {
   "cell_type": "code",
   "execution_count": 29,
   "id": "566db50f-febb-4d8d-8935-a644edba1e25",
   "metadata": {},
   "outputs": [
    {
     "data": {
      "image/png": "[encoded data removed]",
      "text/latex": [
       "$\\displaystyle 2.41421356237309$"
      ],
      "text/plain": [
       "2.41421356237309"
      ]
     },
     "execution_count": 29,
     "metadata": {},
     "output_type": "execute_result"
    }
   ],
   "source": [
    "expression_sqrt.evalf()"
   ]
  },
  {
   "cell_type": "code",
   "execution_count": 30,
   "id": "7b67122b-ed54-488d-9926-05fb6607af43",
   "metadata": {},
   "outputs": [
    {
     "data": {
      "text/plain": [
       "True"
      ]
     },
     "execution_count": 30,
     "metadata": {},
     "output_type": "execute_result"
    }
   ],
   "source": [
    "import sympy as sym\n",
    "\n",
    "sym.isprime(3)"
   ]
  },
  {
   "cell_type": "markdown",
   "id": "218cfaef-d33b-4e34-8917-3bcc7766d809",
   "metadata": {},
   "source": [
    "## 因式分解、展开"
   ]
  },
  {
   "cell_type": "code",
   "execution_count": 31,
   "id": "dc768998-5028-42fc-b2f4-7d09c08afb5e",
   "metadata": {},
   "outputs": [
    {
     "data": {
      "image/png": "[encoded data removed]",
      "text/latex": [
       "$\\displaystyle x^{2} - y^{2}$"
      ],
      "text/plain": [
       " 2    2\n",
       "x  - y "
      ]
     },
     "execution_count": 31,
     "metadata": {},
     "output_type": "execute_result"
    }
   ],
   "source": [
    "from sympy import expand, factor\n",
    "f2"
   ]
  },
  {
   "cell_type": "code",
   "execution_count": 32,
   "id": "f7191e9f-128c-4a74-8e86-889c66304b3f",
   "metadata": {},
   "outputs": [
    {
     "data": {
      "image/png": "[encoded data removed]",
      "text/latex": [
       "$\\displaystyle \\left(x - y\\right) \\left(x + y\\right)$"
      ],
      "text/plain": [
       "(x - y)⋅(x + y)"
      ]
     },
     "execution_count": 32,
     "metadata": {},
     "output_type": "execute_result"
    }
   ],
   "source": [
    "f2_factored= factor(f2)\n",
    "f2_factored"
   ]
  },
  {
   "cell_type": "code",
   "execution_count": 33,
   "id": "8433b90b-63a1-4e0a-8cc1-4769016e9e33",
   "metadata": {},
   "outputs": [
    {
     "data": {
      "image/png": "[encoded data removed]",
      "text/latex": [
       "$\\displaystyle \\left(x - 1\\right) \\left(x - y\\right)^{2} \\left(x + y\\right)$"
      ],
      "text/plain": [
       "               2        \n",
       "(x - 1)⋅(x - y) ⋅(x + y)"
      ]
     },
     "execution_count": 33,
     "metadata": {},
     "output_type": "execute_result"
    }
   ],
   "source": [
    "f2_b_factored = (x - y)**2*(x + y)*(x - 1)\n",
    "f2_b_factored"
   ]
  },
  {
   "cell_type": "code",
   "execution_count": 34,
   "id": "677020c4-b7f4-4d84-b262-44ae38fa6038",
   "metadata": {},
   "outputs": [
    {
     "data": {
      "image/png": "[encoded data removed]",
      "text/latex": [
       "$\\displaystyle x^{4} - x^{3} y - x^{3} - x^{2} y^{2} + x^{2} y + x y^{3} + x y^{2} - y^{3}$"
      ],
      "text/plain": [
       " 4    3      3    2  2    2        3      2    3\n",
       "x  - x ⋅y - x  - x ⋅y  + x ⋅y + x⋅y  + x⋅y  - y "
      ]
     },
     "execution_count": 34,
     "metadata": {},
     "output_type": "execute_result"
    }
   ],
   "source": [
    "expand(f2_b_factored)"
   ]
  },
  {
   "cell_type": "code",
   "execution_count": 35,
   "id": "5c64aade-049f-4f7d-85bc-f2898e0efb06",
   "metadata": {},
   "outputs": [
    {
     "data": {
      "text/plain": [
       "'(x - 1)*(x - y)**2*(x + y)'"
      ]
     },
     "execution_count": 35,
     "metadata": {},
     "output_type": "execute_result"
    }
   ],
   "source": [
    "# 将符号表达式转化为str\n",
    "\n",
    "str(f2_b_factored)"
   ]
  },
  {
   "cell_type": "code",
   "execution_count": 36,
   "id": "e9247102-c112-40d2-9c42-643ec954bebc",
   "metadata": {},
   "outputs": [
    {
     "data": {
      "text/plain": [
       "'x**4 - x**3*y - x**3 - x**2*y**2 + x**2*y + x*y**3 + x*y**2 - y**3'"
      ]
     },
     "execution_count": 36,
     "metadata": {},
     "output_type": "execute_result"
    }
   ],
   "source": [
    "str(expand(f2_b_factored))"
   ]
  },
  {
   "cell_type": "code",
   "execution_count": 37,
   "id": "cec641f2-584c-45d8-89d9-cabe1c0e9629",
   "metadata": {},
   "outputs": [
    {
     "data": {
      "image/png": "[encoded data removed]",
      "text/latex": [
       "$\\displaystyle \\left( 1, \\  \\left[ \\left( x - 1, \\  1\\right), \\  \\left( x + y, \\  1\\right), \\  \\left( x - y, \\  2\\right)\\right]\\right)$"
      ],
      "text/plain": [
       "(1, [(x - 1, 1), (x + y, 1), (x - y, 2)])"
      ]
     },
     "execution_count": 37,
     "metadata": {},
     "output_type": "execute_result"
    }
   ],
   "source": [
    "expr_x_y = x**4 - x**3*y - x**3 - x**2*y**2 + x**2*y + x*y**3 + x*y**2 - y**3\n",
    "from sympy import factor_list\n",
    "factor_list(expr_x_y)"
   ]
  },
  {
   "cell_type": "markdown",
   "id": "848113b4-7b7f-44ae-a464-911b9f212511",
   "metadata": {},
   "source": [
    "### 判断两个多项式是否等价"
   ]
  },
  {
   "cell_type": "code",
   "execution_count": 38,
   "id": "f44a5e44-b19b-42ce-8e24-329407139272",
   "metadata": {},
   "outputs": [
    {
     "data": {
      "image/png": "[encoded data removed]",
      "text/latex": [
       "$\\displaystyle 0$"
      ],
      "text/plain": [
       "0"
      ]
     },
     "execution_count": 38,
     "metadata": {},
     "output_type": "execute_result"
    }
   ],
   "source": [
    "from sympy import simplify\n",
    "simplify(f2 - f2_factored)"
   ]
  },
  {
   "cell_type": "code",
   "execution_count": 39,
   "id": "81204326-d954-46a5-b456-44b71176090e",
   "metadata": {},
   "outputs": [
    {
     "data": {
      "text/plain": [
       "True"
      ]
     },
     "execution_count": 39,
     "metadata": {},
     "output_type": "execute_result"
    }
   ],
   "source": [
    "# 第二种方法\n",
    "f2_factored.equals(f2)"
   ]
  },
  {
   "cell_type": "code",
   "execution_count": 40,
   "id": "8d7ff949-8510-4d35-89fd-a73abe681a6c",
   "metadata": {},
   "outputs": [
    {
     "data": {
      "image/png": "[encoded data removed]",
      "text/latex": [
       "$\\displaystyle x - 1$"
      ],
      "text/plain": [
       "x - 1"
      ]
     },
     "execution_count": 40,
     "metadata": {},
     "output_type": "execute_result"
    }
   ],
   "source": [
    "# 化简\n",
    "simplify((x**3 + x**2 - x - 1)/(x**2 + 2*x + 1))"
   ]
  },
  {
   "cell_type": "markdown",
   "id": "1f02dd20-9647-4d1a-a8c2-7d5a1db25799",
   "metadata": {},
   "source": [
    "### 合并同类项"
   ]
  },
  {
   "cell_type": "code",
   "execution_count": 41,
   "id": "f7fc120f-abaf-4e03-aa40-046db47771f0",
   "metadata": {},
   "outputs": [
    {
     "data": {
      "image/png": "[encoded data removed]",
      "text/latex": [
       "$\\displaystyle x^{3} + x^{2} \\cdot \\left(2 - z\\right) + x \\left(y + 1\\right) - 3$"
      ],
      "text/plain": [
       " 3    2                        \n",
       "x  + x ⋅(2 - z) + x⋅(y + 1) - 3"
      ]
     },
     "execution_count": 41,
     "metadata": {},
     "output_type": "execute_result"
    }
   ],
   "source": [
    "from sympy import collect\n",
    "\n",
    "expr = x*y + x - 3 + 2*x**2 - z*x**2 + x**3\n",
    "collect(expr, x)"
   ]
  },
  {
   "cell_type": "markdown",
   "id": "d8c3f647-9499-4969-b791-d93f726b292b",
   "metadata": {},
   "source": [
    "## 带下角标的变量"
   ]
  },
  {
   "cell_type": "code",
   "execution_count": 42,
   "id": "843202bf-12d8-4580-bc07-2528c6ae128c",
   "metadata": {},
   "outputs": [],
   "source": [
    "x1, x2 = symbols('x1 x2')"
   ]
  },
  {
   "cell_type": "code",
   "execution_count": 43,
   "id": "73fab728-b113-4f5f-a2f1-06fec333f079",
   "metadata": {},
   "outputs": [
    {
     "data": {
      "image/png": "[encoded data removed]",
      "text/latex": [
       "$\\displaystyle x_{1} + x_{2}$"
      ],
      "text/plain": [
       "x₁ + x₂"
      ]
     },
     "execution_count": 43,
     "metadata": {},
     "output_type": "execute_result"
    }
   ],
   "source": [
    "f4 = x1 + x2\n",
    "f4"
   ]
  },
  {
   "cell_type": "code",
   "execution_count": 44,
   "id": "4ee06b42-f0df-41c9-a114-1f61e534b09a",
   "metadata": {},
   "outputs": [
    {
     "data": {
      "image/png": "[encoded data removed]",
      "text/latex": [
       "$\\displaystyle \\left(x_{1} - x_{2}\\right)^{5}$"
      ],
      "text/plain": [
       "         5\n",
       "(x₁ - x₂) "
      ]
     },
     "execution_count": 44,
     "metadata": {},
     "output_type": "execute_result"
    }
   ],
   "source": [
    "f5 = (x1 - x2)**5\n",
    "f5"
   ]
  },
  {
   "cell_type": "code",
   "execution_count": 45,
   "id": "65150697-2cde-4e68-b16f-05010bf2e42a",
   "metadata": {},
   "outputs": [
    {
     "data": {
      "image/png": "[encoded data removed]",
      "text/latex": [
       "$\\displaystyle x_{1}^{5} - 5 x_{1}^{4} x_{2} + 10 x_{1}^{3} x_{2}^{2} - 10 x_{1}^{2} x_{2}^{3} + 5 x_{1} x_{2}^{4} - x_{2}^{5}$"
      ],
      "text/plain": [
       "  5       4           3   2        2   3          4     5\n",
       "x₁  - 5⋅x₁ ⋅x₂ + 10⋅x₁ ⋅x₂  - 10⋅x₁ ⋅x₂  + 5⋅x₁⋅x₂  - x₂ "
      ]
     },
     "execution_count": 45,
     "metadata": {},
     "output_type": "execute_result"
    }
   ],
   "source": [
    "f5_expanded = expand(f5)\n",
    "f5_expanded"
   ]
  },
  {
   "cell_type": "markdown",
   "id": "3f44b239-848f-4356-ba23-ff3dd5650706",
   "metadata": {},
   "source": [
    "### 提取系数"
   ]
  },
  {
   "cell_type": "code",
   "execution_count": 46,
   "id": "22d275a3-f322-4e45-b2ae-816294b60b27",
   "metadata": {},
   "outputs": [
    {
     "data": {
      "image/png": "[encoded data removed]",
      "text/latex": [
       "$\\displaystyle \\left[ 1, \\  - 5 x_{2}, \\  10 x_{2}^{2}, \\  - 10 x_{2}^{3}, \\  5 x_{2}^{4}, \\  - x_{2}^{5}\\right]$"
      ],
      "text/plain": [
       "⎡               2        3      4     5⎤\n",
       "⎣1, -5⋅x₂, 10⋅x₂ , -10⋅x₂ , 5⋅x₂ , -x₂ ⎦"
      ]
     },
     "execution_count": 46,
     "metadata": {},
     "output_type": "execute_result"
    }
   ],
   "source": [
    "from sympy import Poly\n",
    "# 导入sympy.Poly，简做Poly\n",
    "\n",
    "f5_expanded_x1 = Poly(f5_expanded, x1)\n",
    "# 将x2看成常数\n",
    "\n",
    "f5_expanded_x1.coeffs()"
   ]
  },
  {
   "cell_type": "code",
   "execution_count": 47,
   "id": "c7374029-479f-4d62-8dce-a4f5c5e5d433",
   "metadata": {},
   "outputs": [
    {
     "data": {
      "image/png": "[encoded data removed]",
      "text/latex": [
       "$\\displaystyle \\left[ -1, \\  5 x_{1}, \\  - 10 x_{1}^{2}, \\  10 x_{1}^{3}, \\  - 5 x_{1}^{4}, \\  x_{1}^{5}\\right]$"
      ],
      "text/plain": [
       "⎡                2       3       4    5⎤\n",
       "⎣-1, 5⋅x₁, -10⋅x₁ , 10⋅x₁ , -5⋅x₁ , x₁ ⎦"
      ]
     },
     "execution_count": 47,
     "metadata": {},
     "output_type": "execute_result"
    }
   ],
   "source": [
    "f5_expanded_x2 = Poly(f5_expanded, x2)\n",
    "# 将x1看成常数\n",
    "\n",
    "f5_expanded_x2.coeffs()"
   ]
  },
  {
   "cell_type": "code",
   "execution_count": 48,
   "id": "7b9ee5a9-367d-4c5f-b4e8-7f99c871f93b",
   "metadata": {},
   "outputs": [
    {
     "data": {
      "image/png": "[encoded data removed]",
      "text/latex": [
       "$\\displaystyle \\left[ 1, \\  -5, \\  10, \\  -10, \\  5, \\  -1\\right]$"
      ],
      "text/plain": [
       "[1, -5, 10, -10, 5, -1]"
      ]
     },
     "execution_count": 48,
     "metadata": {},
     "output_type": "execute_result"
    }
   ],
   "source": [
    "f5_expanded_x1x2 = Poly(f5_expanded, [x1, x2])\n",
    "# 将x1、x2都看成是变量\n",
    "\n",
    "coefficients = f5_expanded_x1x2.coeffs()\n",
    "coefficients"
   ]
  },
  {
   "cell_type": "code",
   "execution_count": 49,
   "id": "4f272096-7dba-4e91-913f-170d53783a11",
   "metadata": {},
   "outputs": [
    {
     "data": {
      "text/plain": [
       "list"
      ]
     },
     "execution_count": 49,
     "metadata": {},
     "output_type": "execute_result"
    }
   ],
   "source": [
    "type(coefficients)\n",
    "# 判断结果类型"
   ]
  },
  {
   "cell_type": "code",
   "execution_count": 50,
   "id": "d18e9b4e-6513-4b34-b89e-a11507a4583c",
   "metadata": {},
   "outputs": [
    {
     "data": {
      "text/plain": [
       "sympy.core.numbers.One"
      ]
     },
     "execution_count": 50,
     "metadata": {},
     "output_type": "execute_result"
    }
   ],
   "source": [
    "# 判断元素类型\n",
    "type(coefficients[0])"
   ]
  },
  {
   "cell_type": "code",
   "execution_count": 51,
   "id": "8ce1ac59-daa6-4164-b132-51acee234520",
   "metadata": {},
   "outputs": [],
   "source": [
    "# 将数值转化为浮点数float\n",
    "\n",
    "coefficients_float = eval(str(coefficients))\n",
    "# 先将coefficients 转化为str，再转化为浮点数\n"
   ]
  },
  {
   "cell_type": "code",
   "execution_count": 52,
   "id": "b6a8bd61-7ad4-4fdd-8e41-7c8c7aeec026",
   "metadata": {},
   "outputs": [
    {
     "data": {
      "text/plain": [
       "<StemContainer object of 3 artists>"
      ]
     },
     "execution_count": 52,
     "metadata": {},
     "output_type": "execute_result"
    },
    {
     "data": {
      "image/png": "[encoded data removed]",
      "text/plain": [
       "<Figure size 640x480 with 1 Axes>"
      ]
     },
     "metadata": {},
     "output_type": "display_data"
    }
   ],
   "source": [
    "import matplotlib.pyplot as plt\n",
    "\n",
    "plt.stem(coefficients_float)\n"
   ]
  },
  {
   "cell_type": "markdown",
   "id": "c28ac7f4-8165-4d54-831c-b7588889c973",
   "metadata": {},
   "source": []
  },
  {
   "cell_type": "markdown",
   "id": "442dbcd1-caa8-4535-8c2d-bdb72f49cd21",
   "metadata": {},
   "source": [
    "## 解等式"
   ]
  },
  {
   "cell_type": "code",
   "execution_count": 53,
   "id": "fe43566c-a398-4aac-8cfe-444279dae540",
   "metadata": {},
   "outputs": [
    {
     "data": {
      "image/png": "[encoded data removed]",
      "text/latex": [
       "$\\displaystyle \\left[ -2, \\  2\\right]$"
      ],
      "text/plain": [
       "[-2, 2]"
      ]
     },
     "execution_count": 53,
     "metadata": {},
     "output_type": "execute_result"
    }
   ],
   "source": [
    "from sympy import solve\n",
    "\n",
    "equality = x**2 - 4\n",
    "solve(equality, x)"
   ]
  },
  {
   "cell_type": "code",
   "execution_count": 54,
   "id": "7bcf322f-e379-4df2-b3bf-5ae6bcda3618",
   "metadata": {},
   "outputs": [
    {
     "data": {
      "image/png": "[encoded data removed]",
      "text/latex": [
       "$\\displaystyle \\left\\{-1, 1\\right\\}$"
      ],
      "text/plain": [
       "{-1, 1}"
      ]
     },
     "execution_count": 54,
     "metadata": {},
     "output_type": "execute_result"
    }
   ],
   "source": [
    "from sympy import solveset,Eq\n",
    "\n",
    "solveset(Eq(x**2, 1), x)"
   ]
  },
  {
   "cell_type": "code",
   "execution_count": 55,
   "id": "6dc6b674-e76d-47c2-ae3f-ec9cb566c24d",
   "metadata": {},
   "outputs": [
    {
     "data": {
      "image/png": "[encoded data removed]",
      "text/latex": [
       "$\\displaystyle \\left\\{-1, 1\\right\\}$"
      ],
      "text/plain": [
       "{-1, 1}"
      ]
     },
     "execution_count": 55,
     "metadata": {},
     "output_type": "execute_result"
    }
   ],
   "source": [
    "solveset(Eq(x**2 - 1, 0), x)"
   ]
  },
  {
   "cell_type": "code",
   "execution_count": 56,
   "id": "12645e58-d34b-46ad-8ec9-6ec535c8db67",
   "metadata": {},
   "outputs": [],
   "source": [
    "a,b,c = symbols(\"a,b,c\", real=True)\n",
    "\n",
    "equation = Eq(a*x**2+b*x, -c)"
   ]
  },
  {
   "cell_type": "code",
   "execution_count": 57,
   "id": "81020ace-0781-4c82-8964-d015bcf14c52",
   "metadata": {},
   "outputs": [
    {
     "data": {
      "image/png": "[encoded data removed]",
      "text/latex": [
       "$\\displaystyle \\left[ \\right]$"
      ],
      "text/plain": [
       "[]"
      ]
     },
     "execution_count": 57,
     "metadata": {},
     "output_type": "execute_result"
    }
   ],
   "source": [
    "solve(_, x)\n",
    "# _ 是上一个cell计算结果"
   ]
  },
  {
   "cell_type": "markdown",
   "id": "caf7b90e-8eca-49b6-9ff3-7d09e127861a",
   "metadata": {},
   "source": [
    "## 阶乘、组合数、Gamma函数"
   ]
  },
  {
   "cell_type": "markdown",
   "id": "8a41921c-4c10-41ff-93eb-c7a1f8d3153b",
   "metadata": {},
   "source": [
    "#### 阶乘"
   ]
  },
  {
   "cell_type": "code",
   "execution_count": 58,
   "id": "4828e007-260d-4994-9ac0-8433dd86d7c7",
   "metadata": {},
   "outputs": [
    {
     "data": {
      "image/png": "[encoded data removed]",
      "text/latex": [
       "$\\displaystyle 120$"
      ],
      "text/plain": [
       "120"
      ]
     },
     "execution_count": 58,
     "metadata": {},
     "output_type": "execute_result"
    }
   ],
   "source": [
    "from sympy import factorial\n",
    "factorial(5)"
   ]
  },
  {
   "cell_type": "markdown",
   "id": "79b400ae-0ea6-4789-ba8b-ef5dd6407f9e",
   "metadata": {},
   "source": [
    "阶乘是一个正整数的连乘积，通常表示为$n!$，\n",
    "其中$n$是一个非负整数。阶乘的定义如下：\n",
    "$$ n!=n \\times (n-1) \\times (n-2)\\times ⋯\\times 2\\times 1$$\n",
    "例如，4!=4×3×2×1=24。  \n",
    "注意，0的阶乘为1，即0! = 1。  \n",
    "阶乘在组合数学和数学分析中经常出现，是求排列和组合数的基本方法之一，同时也用于定义各种数学函数，如Gamma函数和Beta函数等。  \n",
    "阶乘还出现在各种算法和计算中，如计算机科学中的递归算法和概率统计中的二项分布、多项分布、Dirichlet分布等。"
   ]
  },
  {
   "cell_type": "code",
   "execution_count": 59,
   "id": "16feb174-f6d2-410f-8c28-aba322b9611b",
   "metadata": {},
   "outputs": [
    {
     "data": {
      "image/png": "[encoded data removed]",
      "text/latex": [
       "$\\displaystyle x!$"
      ],
      "text/plain": [
       "x!"
      ]
     },
     "execution_count": 59,
     "metadata": {},
     "output_type": "execute_result"
    }
   ],
   "source": [
    "factorial(x)"
   ]
  },
  {
   "cell_type": "markdown",
   "id": "aff42560-4e83-416f-9f17-3e076ddebcc4",
   "metadata": {},
   "source": [
    "#### 组合数"
   ]
  },
  {
   "cell_type": "markdown",
   "id": "f1f81756-7027-4d12-adf6-f319f0ca3653",
   "metadata": {},
   "source": [
    "这一句的作用是从 SymPy 库中导入 binomial() 函数。  \n",
    "binomial() 函数是计算组合数的函数，用于计算从 n 个不同元素中取出 k 个元素的组合数。  \n",
    "组合数通常表示为 $C(n,k)$ 或 $C_n^k$。  \n",
    "$$ C_n^k = \\frac {n!}{k!(n-k)!} $$\n",
    "binomial() 函数的参数为两个整数 n 和 k，返回值为整数型或 SymPy 的数值类型，表示从 n 个不同元素中取出 k 个元素的组合数。  \n",
    "该函数在组合数学、概率统计、数学分析和计算机科学等领域经常被使用。"
   ]
  },
  {
   "cell_type": "markdown",
   "id": "d7e89d69-2721-48f5-b9e3-910cb46758f8",
   "metadata": {},
   "source": [
    "$$ C_5^4 = \\frac {5!}{4!} = 5$$"
   ]
  },
  {
   "cell_type": "code",
   "execution_count": 60,
   "id": "70545a98-faa0-4548-8031-68c95a13842d",
   "metadata": {},
   "outputs": [],
   "source": [
    "from sympy import binomial"
   ]
  },
  {
   "cell_type": "code",
   "execution_count": 61,
   "id": "b2559de9-6e83-4aee-a272-b9b97f40d488",
   "metadata": {},
   "outputs": [
    {
     "data": {
      "image/png": "[encoded data removed]",
      "text/latex": [
       "$\\displaystyle 5$"
      ],
      "text/plain": [
       "5"
      ]
     },
     "execution_count": 61,
     "metadata": {},
     "output_type": "execute_result"
    }
   ],
   "source": [
    "binomial(5, 4)"
   ]
  },
  {
   "cell_type": "code",
   "execution_count": 62,
   "id": "c0d97bf9-580c-4848-b25b-8ee67da912fb",
   "metadata": {},
   "outputs": [
    {
     "data": {
      "image/png": "[encoded data removed]",
      "text/latex": [
       "$\\displaystyle 5$"
      ],
      "text/plain": [
       "5"
      ]
     },
     "execution_count": 62,
     "metadata": {},
     "output_type": "execute_result"
    }
   ],
   "source": [
    "factorial(5)/factorial(4)"
   ]
  },
  {
   "cell_type": "code",
   "execution_count": 63,
   "id": "a88bd4f4-ae8c-4822-94ad-6ff6e325e6f3",
   "metadata": {},
   "outputs": [
    {
     "data": {
      "image/png": "[encoded data removed]",
      "text/latex": [
       "$\\displaystyle 20$"
      ],
      "text/plain": [
       "20"
      ]
     },
     "execution_count": 63,
     "metadata": {},
     "output_type": "execute_result"
    }
   ],
   "source": [
    "binomial(6, 3)"
   ]
  },
  {
   "cell_type": "code",
   "execution_count": 64,
   "id": "8751ee8a-4581-436e-93fe-f41e9680235e",
   "metadata": {},
   "outputs": [
    {
     "data": {
      "image/png": "[encoded data removed]",
      "text/latex": [
       "$\\displaystyle 120$"
      ],
      "text/plain": [
       "120"
      ]
     },
     "execution_count": 64,
     "metadata": {},
     "output_type": "execute_result"
    }
   ],
   "source": [
    "factorial(6)/factorial(3)"
   ]
  },
  {
   "cell_type": "markdown",
   "id": "114f2e5a-27a7-4dab-a0e2-81b12285541d",
   "metadata": {},
   "source": [
    "#### Gamma函数"
   ]
  },
  {
   "cell_type": "markdown",
   "id": "f3b427c9-33fc-4e76-8445-3397e829d84a",
   "metadata": {},
   "source": [
    "Gamma函数是数学中的一种特殊函数，通常表示为$\\Gamma(x)$，是阶乘函数的推广。  \n",
    "它可以看作是从正整数阶乘函数$ n! $（$n$为正整数）推广到实数、复数和甚至负数的一种函数。  \n",
    "Gamma函数的定义如下：\n",
    "$$\\Gamma(x) = \\int_{0}^{\\infty} t^{x-1} e^{-t} dt$$  \n",
    "其中$x$是一个实数或复数。  \n",
    "$ \\Gamma(x) $ 在实数$x>0$时被定义为阶乘函数的推广，即$\\Gamma(x) = (x-1)!$。  \n",
    "Gamma函数具有许多重要的数学性质，如对于正整数$n$，有$\\Gamma(n) =(n-1)!$；  \n",
    "对于任意实数或复数$z$，有$ \\Gamma(z + 1) =  z \\Gamma(z)$。  \n",
    "Gamma函数在数学物理学、概率论、统计学、数论、组合数学等领域广泛应用。"
   ]
  },
  {
   "cell_type": "code",
   "execution_count": 65,
   "id": "bfd16a72-1616-4f38-850d-fa1bdb5a920f",
   "metadata": {},
   "outputs": [
    {
     "data": {
      "image/png": "[encoded data removed]",
      "text/latex": [
       "$\\displaystyle 24$"
      ],
      "text/plain": [
       "24"
      ]
     },
     "execution_count": 65,
     "metadata": {},
     "output_type": "execute_result"
    }
   ],
   "source": [
    "from sympy import gamma\n",
    "gamma(5)"
   ]
  },
  {
   "cell_type": "markdown",
   "id": "9729953e-c610-4ce5-998d-5515fb65769c",
   "metadata": {},
   "source": [
    "$$\\Gamma(5) =(4-1)! = 4 \\times 3 \\times 2 \\times 1 = 24$$"
   ]
  },
  {
   "cell_type": "markdown",
   "id": "3084e82b-1cf1-4b0d-94c9-95fe61b23581",
   "metadata": {},
   "source": [
    "## 函数"
   ]
  },
  {
   "cell_type": "markdown",
   "id": "6b9405a8-8345-4525-b3f2-073ba937b269",
   "metadata": {},
   "source": [
    "### 引入更复杂的符号函数"
   ]
  },
  {
   "cell_type": "code",
   "execution_count": 66,
   "id": "3b2d7fe6-448c-49f2-b79d-89e9c9ad199c",
   "metadata": {},
   "outputs": [],
   "source": [
    "from sympy import exp, cos, sin, sqrt"
   ]
  },
  {
   "cell_type": "code",
   "execution_count": 67,
   "id": "24809abb-b01b-43c5-aff9-0436a4ed504e",
   "metadata": {},
   "outputs": [
    {
     "data": {
      "image/png": "[encoded data removed]",
      "text/latex": [
       "$\\displaystyle e^{- x_{1}^{2}}$"
      ],
      "text/plain": [
       "    2\n",
       " -x₁ \n",
       "ℯ    "
      ]
     },
     "execution_count": 67,
     "metadata": {},
     "output_type": "execute_result"
    }
   ],
   "source": [
    "f_gaussian_x1 = exp(-x1**2)\n",
    "f_gaussian_x1"
   ]
  },
  {
   "cell_type": "code",
   "execution_count": 68,
   "id": "4e1af17e-c624-4d41-8145-cb5a13ec4a4f",
   "metadata": {},
   "outputs": [
    {
     "data": {
      "image/png": "[encoded data removed]",
      "text/latex": [
       "$\\displaystyle \\sin{\\left(x_{1} \\right)}$"
      ],
      "text/plain": [
       "sin(x₁)"
      ]
     },
     "execution_count": 68,
     "metadata": {},
     "output_type": "execute_result"
    }
   ],
   "source": [
    "f_sin_x1 = sin(x1)\n",
    "f_sin_x1"
   ]
  },
  {
   "cell_type": "code",
   "execution_count": 69,
   "id": "bb2f2409-4043-4e97-8446-efb56de981c5",
   "metadata": {},
   "outputs": [
    {
     "data": {
      "image/png": "[encoded data removed]",
      "text/latex": [
       "$\\displaystyle \\log{\\left(x y \\right)}$"
      ],
      "text/plain": [
       "log(x⋅y)"
      ]
     },
     "execution_count": 69,
     "metadata": {},
     "output_type": "execute_result"
    }
   ],
   "source": [
    "from sympy import log\n",
    "log(x*y)"
   ]
  },
  {
   "cell_type": "markdown",
   "id": "d826a748-1461-4cda-a885-7c8bade15748",
   "metadata": {},
   "source": [
    "#### log展开"
   ]
  },
  {
   "cell_type": "code",
   "execution_count": 70,
   "id": "b4630ab9-c21e-45b7-b42d-3e1931dc4145",
   "metadata": {},
   "outputs": [
    {
     "data": {
      "image/png": "[encoded data removed]",
      "text/latex": [
       "$\\displaystyle \\log{\\left(x \\right)} + \\log{\\left(y \\right)}$"
      ],
      "text/plain": [
       "log(x) + log(y)"
      ]
     },
     "execution_count": 70,
     "metadata": {},
     "output_type": "execute_result"
    }
   ],
   "source": [
    "# 假设条件\n",
    "from sympy import expand_log\n",
    "x, y = symbols('x y', positive=True)\n",
    "expand_log(log(x*y))"
   ]
  },
  {
   "cell_type": "code",
   "execution_count": 71,
   "id": "9c44e6d7-8c8a-4a9c-bc12-576a57cd60c6",
   "metadata": {},
   "outputs": [
    {
     "data": {
      "image/png": "[encoded data removed]",
      "text/latex": [
       "$\\displaystyle 2 \\log{\\left(x \\right)}$"
      ],
      "text/plain": [
       "2⋅log(x)"
      ]
     },
     "execution_count": 71,
     "metadata": {},
     "output_type": "execute_result"
    }
   ],
   "source": [
    "expand_log(log(x**2))"
   ]
  },
  {
   "cell_type": "markdown",
   "id": "dd23b957-863b-4a00-97a5-29c8844df777",
   "metadata": {},
   "source": [
    "#### 三角函数展开"
   ]
  },
  {
   "cell_type": "code",
   "execution_count": 72,
   "id": "a93fa730-3dfd-42e3-8cec-37a06651bba9",
   "metadata": {},
   "outputs": [],
   "source": [
    "from sympy import expand_trig\n",
    "expr = sin(2*x) + cos(2*x)"
   ]
  },
  {
   "cell_type": "code",
   "execution_count": 73,
   "id": "611db9d5-86da-42b9-bcf0-b3b657bd9d95",
   "metadata": {},
   "outputs": [
    {
     "data": {
      "image/png": "[encoded data removed]",
      "text/latex": [
       "$\\displaystyle 2 \\sin{\\left(x \\right)} \\cos{\\left(x \\right)} + 2 \\cos^{2}{\\left(x \\right)} - 1$"
      ],
      "text/plain": [
       "                       2       \n",
       "2⋅sin(x)⋅cos(x) + 2⋅cos (x) - 1"
      ]
     },
     "execution_count": 73,
     "metadata": {},
     "output_type": "execute_result"
    }
   ],
   "source": [
    "expand_trig(expr)"
   ]
  },
  {
   "cell_type": "markdown",
   "id": "0980131f-1f3d-46dd-97b3-502bd2257b56",
   "metadata": {},
   "source": [
    "### Gamma函数"
   ]
  },
  {
   "cell_type": "code",
   "execution_count": 74,
   "id": "48be2b66-01c6-4d93-aedd-d3c4e8428b71",
   "metadata": {},
   "outputs": [
    {
     "data": {
      "image/png": "[encoded data removed]",
      "text/latex": [
       "$\\displaystyle \\Gamma\\left(x\\right)$"
      ],
      "text/plain": [
       "Γ(x)"
      ]
     },
     "execution_count": 74,
     "metadata": {},
     "output_type": "execute_result"
    }
   ],
   "source": [
    "from sympy import gamma\n",
    "gamma(x)"
   ]
  },
  {
   "cell_type": "code",
   "execution_count": 75,
   "id": "65be903c-24e6-4160-b986-4a677e29cceb",
   "metadata": {},
   "outputs": [
    {
     "data": {
      "image/png": "[encoded data removed]",
      "text/latex": [
       "$\\displaystyle \\left(x - 2\\right) \\left(x - 1\\right)$"
      ],
      "text/plain": [
       "(x - 2)⋅(x - 1)"
      ]
     },
     "execution_count": 75,
     "metadata": {},
     "output_type": "execute_result"
    }
   ],
   "source": [
    "simplify(gamma(x)/gamma(x - 2))"
   ]
  },
  {
   "cell_type": "markdown",
   "id": "c5b2487f-9068-49ee-9782-93867991d809",
   "metadata": {},
   "source": [
    "### 将符号变量替换成具体数值"
   ]
  },
  {
   "cell_type": "code",
   "execution_count": 76,
   "id": "4fea75cd-164c-4889-9bb6-5a904af40469",
   "metadata": {},
   "outputs": [
    {
     "data": {
      "image/png": "[encoded data removed]",
      "text/latex": [
       "$\\displaystyle x + y$"
      ],
      "text/plain": [
       "x + y"
      ]
     },
     "execution_count": 76,
     "metadata": {},
     "output_type": "execute_result"
    }
   ],
   "source": [
    "f1"
   ]
  },
  {
   "cell_type": "code",
   "execution_count": 77,
   "id": "cff50f53-f598-4c06-8ad0-2e8d4ac7870b",
   "metadata": {},
   "outputs": [
    {
     "data": {
      "image/png": "[encoded data removed]",
      "text/latex": [
       "$\\displaystyle x + y$"
      ],
      "text/plain": [
       "x + y"
      ]
     },
     "execution_count": 77,
     "metadata": {},
     "output_type": "execute_result"
    }
   ],
   "source": [
    "f1_x_to_2 = f1.subs(x, 2)\n",
    "f1_x_to_2\n",
    "# x = 1赋值运算对符号变量没有影响"
   ]
  },
  {
   "cell_type": "code",
   "execution_count": 78,
   "id": "76001776-f0ac-4b33-a70a-20c73497d652",
   "metadata": {},
   "outputs": [
    {
     "data": {
      "image/png": "[encoded data removed]",
      "text/latex": [
       "$\\displaystyle x + y$"
      ],
      "text/plain": [
       "x + y"
      ]
     },
     "execution_count": 78,
     "metadata": {},
     "output_type": "execute_result"
    }
   ],
   "source": [
    "# 同时将x、y替换成数值\n",
    "f1.subs([(x, 2), (y, 4)])"
   ]
  },
  {
   "cell_type": "code",
   "execution_count": 79,
   "id": "ac46ec6c-30e2-4b4b-9ced-24bdcf5b4915",
   "metadata": {},
   "outputs": [
    {
     "data": {
      "image/png": "[encoded data removed]",
      "text/latex": [
       "$\\displaystyle x + y$"
      ],
      "text/plain": [
       "x + y"
      ]
     },
     "execution_count": 79,
     "metadata": {},
     "output_type": "execute_result"
    }
   ],
   "source": [
    "f1.evalf(subs={x: 2})"
   ]
  },
  {
   "cell_type": "code",
   "execution_count": 80,
   "id": "b276468a-9900-49d5-9099-7ac88ac110a3",
   "metadata": {},
   "outputs": [
    {
     "data": {
      "image/png": "[encoded data removed]",
      "text/latex": [
       "$\\displaystyle x + y$"
      ],
      "text/plain": [
       "x + y"
      ]
     },
     "execution_count": 80,
     "metadata": {},
     "output_type": "execute_result"
    }
   ],
   "source": [
    "f1.evalf(subs={x: 2, y: 4})"
   ]
  },
  {
   "cell_type": "code",
   "execution_count": 81,
   "id": "d40062b4-1b4d-4d20-bed7-6c982ca93cad",
   "metadata": {},
   "outputs": [],
   "source": [
    "# 也可以用subs() 将变量替换成其他变量、表达式"
   ]
  },
  {
   "cell_type": "code",
   "execution_count": 82,
   "id": "18270019-5893-4254-88de-836312f3f2ae",
   "metadata": {},
   "outputs": [
    {
     "data": {
      "image/png": "[encoded data removed]",
      "text/latex": [
       "$\\displaystyle x + y$"
      ],
      "text/plain": [
       "x + y"
      ]
     },
     "execution_count": 82,
     "metadata": {},
     "output_type": "execute_result"
    }
   ],
   "source": [
    "f1.subs(x, x**2)"
   ]
  },
  {
   "cell_type": "code",
   "execution_count": 83,
   "id": "97dc05d0-93b9-4db5-8440-7294f819179c",
   "metadata": {},
   "outputs": [
    {
     "data": {
      "image/png": "[encoded data removed]",
      "text/latex": [
       "$\\displaystyle x + y$"
      ],
      "text/plain": [
       "x + y"
      ]
     },
     "execution_count": 83,
     "metadata": {},
     "output_type": "execute_result"
    }
   ],
   "source": [
    "f1.subs(x, sin(x))"
   ]
  },
  {
   "cell_type": "code",
   "execution_count": 84,
   "id": "8d622a24-8b6f-4a57-a82f-7f0ff08a9abd",
   "metadata": {},
   "outputs": [
    {
     "data": {
      "image/png": "[encoded data removed]",
      "text/latex": [
       "$\\displaystyle x + y$"
      ],
      "text/plain": [
       "x + y"
      ]
     },
     "execution_count": 84,
     "metadata": {},
     "output_type": "execute_result"
    }
   ],
   "source": [
    "f1_ = f1.subs([(x, sin(x)), (y, -exp(-y**2))])\n",
    "f1_"
   ]
  },
  {
   "cell_type": "code",
   "execution_count": 85,
   "id": "677be944-93bb-4c9c-8bce-6eb79ac28cd2",
   "metadata": {},
   "outputs": [
    {
     "data": {
      "image/png": "[encoded data removed]",
      "text/latex": [
       "$\\displaystyle x + y$"
      ],
      "text/plain": [
       "x + y"
      ]
     },
     "execution_count": 85,
     "metadata": {},
     "output_type": "execute_result"
    }
   ],
   "source": [
    "# 进一步替换\n",
    "f1_.subs(sin(x),exp(x))"
   ]
  },
  {
   "cell_type": "markdown",
   "id": "d3fcbb13-b9a4-4978-90df-6abdcbd55fea",
   "metadata": {},
   "source": [
    "### 将符号函数转化为Python函数"
   ]
  },
  {
   "cell_type": "code",
   "execution_count": 86,
   "id": "65cf44dc-f90e-4096-8b72-bd77a991e8fb",
   "metadata": {},
   "outputs": [
    {
     "data": {
      "image/png": "[encoded data removed]",
      "text/latex": [
       "$\\displaystyle e^{- x_{1}^{2}}$"
      ],
      "text/plain": [
       "    2\n",
       " -x₁ \n",
       "ℯ    "
      ]
     },
     "execution_count": 86,
     "metadata": {},
     "output_type": "execute_result"
    }
   ],
   "source": [
    "# 一元函数\n",
    "\n",
    "f_gaussian_x1"
   ]
  },
  {
   "cell_type": "code",
   "execution_count": 87,
   "id": "380214c5-74ee-4a1b-a09d-abd44188ca34",
   "metadata": {},
   "outputs": [
    {
     "data": {
      "text/plain": [
       "<function _lambdifygenerated(x1)>"
      ]
     },
     "execution_count": 87,
     "metadata": {},
     "output_type": "execute_result"
    }
   ],
   "source": [
    "from sympy import lambdify\n",
    "f_gaussian_x1_fcn = lambdify(x1, f_gaussian_x1)\n",
    "f_gaussian_x1_fcn"
   ]
  },
  {
   "cell_type": "code",
   "execution_count": 88,
   "id": "74713984-c272-4e7d-83a9-6bfe207c659a",
   "metadata": {},
   "outputs": [],
   "source": [
    "import numpy as np\n",
    "x1_array = np.linspace(-3,3,100)\n",
    "\n",
    "f_x1_array = f_gaussian_x1_fcn(x1_array)"
   ]
  },
  {
   "cell_type": "code",
   "execution_count": 89,
   "id": "5a76963f-a96e-4590-bb2d-7d77bc9a5a61",
   "metadata": {},
   "outputs": [
    {
     "data": {
      "text/plain": [
       "[<matplotlib.lines.Line2D at 0x2971efb9450>]"
      ]
     },
     "execution_count": 89,
     "metadata": {},
     "output_type": "execute_result"
    },
    {
     "data": {
      "image/png": "[encoded data removed]",
      "text/plain": [
       "<Figure size 640x480 with 1 Axes>"
      ]
     },
     "metadata": {},
     "output_type": "display_data"
    }
   ],
   "source": [
    "plt.plot(x1_array, f_x1_array)"
   ]
  },
  {
   "cell_type": "markdown",
   "id": "01e2519d-7eb0-4905-a351-452ead9a17db",
   "metadata": {},
   "source": [
    "### 二元函数"
   ]
  },
  {
   "cell_type": "code",
   "execution_count": 90,
   "id": "71fab4a3-a2ef-4b81-82ad-55ed9aacc94a",
   "metadata": {},
   "outputs": [
    {
     "data": {
      "image/png": "[encoded data removed]",
      "text/latex": [
       "$\\displaystyle e^{- x_{1}^{2} - x_{2}^{2}}$"
      ],
      "text/plain": [
       "     2     2\n",
       " - x₁  - x₂ \n",
       "ℯ           "
      ]
     },
     "execution_count": 90,
     "metadata": {},
     "output_type": "execute_result"
    }
   ],
   "source": [
    "f_gaussian_x1x2 = exp(-x1**2 - x2**2)\n",
    "f_gaussian_x1x2"
   ]
  },
  {
   "cell_type": "code",
   "execution_count": 91,
   "id": "c44c8343-7dee-4765-a80b-8cdf6c6c563f",
   "metadata": {},
   "outputs": [
    {
     "data": {
      "text/plain": [
       "<function _lambdifygenerated(x1, x2)>"
      ]
     },
     "execution_count": 91,
     "metadata": {},
     "output_type": "execute_result"
    }
   ],
   "source": [
    "f_gaussian_x1x2_fcn = lambdify([x1,x2],f_gaussian_x1x2)\n",
    "f_gaussian_x1x2_fcn"
   ]
  },
  {
   "cell_type": "code",
   "execution_count": 92,
   "id": "97db236c-f9e9-488a-9e76-257cfc16dbc8",
   "metadata": {},
   "outputs": [],
   "source": [
    "xx1,xx2 = np.meshgrid(np.linspace(-3,3,100),np.linspace(-3,3,100))"
   ]
  },
  {
   "cell_type": "code",
   "execution_count": 93,
   "id": "9183440d-d1b0-425a-abdb-20dc48397d5a",
   "metadata": {},
   "outputs": [
    {
     "data": {
      "text/plain": [
       "<matplotlib.contour.QuadContourSet at 0x2971e97a290>"
      ]
     },
     "execution_count": 93,
     "metadata": {},
     "output_type": "execute_result"
    },
    {
     "data": {
      "image/png": "[encoded data removed]",
      "text/plain": [
       "<Figure size 640x480 with 1 Axes>"
      ]
     },
     "metadata": {},
     "output_type": "display_data"
    }
   ],
   "source": [
    "ff = f_gaussian_x1x2_fcn(xx1,xx2)\n",
    "plt.contourf(xx1,xx2,ff, levels = 20, cmap = 'RdYlBu_r')"
   ]
  },
  {
   "cell_type": "code",
   "execution_count": 94,
   "id": "5113164b-b43d-4552-89b3-df70759ac50d",
   "metadata": {},
   "outputs": [
    {
     "data": {
      "text/plain": [
       "<mpl_toolkits.mplot3d.art3d.Line3DCollection at 0x2971e6e0040>"
      ]
     },
     "execution_count": 94,
     "metadata": {},
     "output_type": "execute_result"
    },
    {
     "data": {
      "image/png": "[encoded data removed]",
      "text/plain": [
       "<Figure size 640x480 with 1 Axes>"
      ]
     },
     "metadata": {},
     "output_type": "display_data"
    }
   ],
   "source": [
    "fig = plt.figure()\n",
    "ax = fig.add_subplot(projection='3d')\n",
    "\n",
    "ax.plot_wireframe(xx1,xx2,ff)"
   ]
  },
  {
   "cell_type": "code",
   "execution_count": 95,
   "id": "2a76d332-aee9-4e69-b1d7-20b5eac340a5",
   "metadata": {},
   "outputs": [],
   "source": [
    "# Repo: https://github.com/Visualize-ML\n",
    "# Book 1 Python for Beginners  |  From Basic Arithmetic to Machine Learning\n",
    "# Published and copyrighted by Tsinghua University Press\n",
    "# Beijing, China, 2023"
   ]
  }
 ],
 "metadata": {
  "kernelspec": {
   "display_name": "Python 3 (ipykernel)",
   "language": "python",
   "name": "python3"
  },
  "language_info": {
   "codemirror_mode": {
    "name": "ipython",
    "version": 3
   },
   "file_extension": ".py",
   "mimetype": "text/x-python",
   "name": "python",
   "nbconvert_exporter": "python",
   "pygments_lexer": "ipython3",
   "version": "3.9.13"
  }
 },
 "nbformat": 4,
 "nbformat_minor": 5
}
