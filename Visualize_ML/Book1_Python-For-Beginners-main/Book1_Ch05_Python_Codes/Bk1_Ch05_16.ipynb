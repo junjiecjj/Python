{
 "cells": [
  {
   "cell_type": "markdown",
   "id": "ddacac8c-40ed-456a-a71c-8e278517865c",
   "metadata": {},
   "source": [
    "Chapter 05\n",
    "# 有关字典的常见操作\n",
    "Book_1《编程不难》 | 鸢尾花书：从加减乘除到机器学习  \n"
   ]
  },
  {
   "cell_type": "code",
   "execution_count": 1,
   "id": "b54b93e8-ec50-4998-89ad-c939c8bc4b24",
   "metadata": {},
   "outputs": [],
   "source": [
    "# 使用大括号创建字典\n",
    "person = {'name': 'James', 'age': 88, 'gender': 'male'}"
   ]
  },
  {
   "cell_type": "code",
   "execution_count": 2,
   "id": "b213643c-48df-4d03-a0c2-5e4cf3c2b858",
   "metadata": {},
   "outputs": [],
   "source": [
    "# 使用 dict() 函数创建字典\n",
    "fruits = dict(apple=88, banana=888, cherry=8888)"
   ]
  },
  {
   "cell_type": "code",
   "execution_count": 3,
   "id": "d25c260d-8cca-428a-83ca-b0320c476ee2",
   "metadata": {},
   "outputs": [
    {
     "name": "stdout",
     "output_type": "stream",
     "text": [
      "James\n",
      "8888\n"
     ]
    }
   ],
   "source": [
    "# 访问字典中的值\n",
    "print(person['name']) \n",
    "print(fruits['cherry'])  "
   ]
  },
  {
   "cell_type": "code",
   "execution_count": 4,
   "id": "aeac445b-6747-450c-bbd4-a73bef446dc1",
   "metadata": {},
   "outputs": [
    {
     "name": "stdout",
     "output_type": "stream",
     "text": [
      "{'name': 'James', 'age': 28, 'gender': 'male'}\n"
     ]
    }
   ],
   "source": [
    "# 修改字典中的值\n",
    "person['age'] = 28\n",
    "print(person)  "
   ]
  },
  {
   "cell_type": "code",
   "execution_count": 5,
   "id": "8a020b32-64e4-49d5-a8f1-7ed9436110a3",
   "metadata": {},
   "outputs": [
    {
     "name": "stdout",
     "output_type": "stream",
     "text": [
      "{'name': 'James', 'age': 28, 'gender': 'male', 'city': 'Toronto'}\n"
     ]
    }
   ],
   "source": [
    "# 添加键值对\n",
    "person['city'] = 'Toronto'\n",
    "print(person) "
   ]
  },
  {
   "cell_type": "code",
   "execution_count": 6,
   "id": "c7774642-5da4-4bf1-b106-1d46a445ff61",
   "metadata": {},
   "outputs": [
    {
     "name": "stdout",
     "output_type": "stream",
     "text": [
      "{'name': 'James', 'age': 28, 'city': 'Toronto'}\n"
     ]
    }
   ],
   "source": [
    "# 删除键值对\n",
    "del person['gender']\n",
    "print(person)  "
   ]
  },
  {
   "cell_type": "code",
   "execution_count": 7,
   "id": "d8a8d3b7-50d6-4eb0-805c-6bd613a6c537",
   "metadata": {},
   "outputs": [
    {
     "name": "stdout",
     "output_type": "stream",
     "text": [
      "dict_keys(['name', 'age', 'city'])\n",
      "dict_values(['James', 28, 'Toronto'])\n",
      "dict_items([('name', 'James'), ('age', 28), ('city', 'Toronto')])\n"
     ]
    }
   ],
   "source": [
    "# 获取键、值、键值对列表\n",
    "print(person.keys())  \n",
    "print(person.values())  \n",
    "print(person.items())  "
   ]
  }
 ],
 "metadata": {
  "kernelspec": {
   "display_name": "Python 3 (ipykernel)",
   "language": "python",
   "name": "python3"
  },
  "language_info": {
   "codemirror_mode": {
    "name": "ipython",
    "version": 3
   },
   "file_extension": ".py",
   "mimetype": "text/x-python",
   "name": "python",
   "nbconvert_exporter": "python",
   "pygments_lexer": "ipython3",
   "version": "3.10.9"
  }
 },
 "nbformat": 4,
 "nbformat_minor": 5
}
