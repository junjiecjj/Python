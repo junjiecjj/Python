{
 "cells": [
  {
   "cell_type": "markdown",
   "id": "f2c3644a-3a66-40fa-8887-ec47e5cd59fa",
   "metadata": {},
   "source": [
    "Chapter 05\n",
    "# Python中三类数值\n",
    "Book_1《编程不难》 | 鸢尾花书：从加减乘除到机器学习  \n"
   ]
  },
  {
   "cell_type": "code",
   "execution_count": 1,
   "id": "772a2bcf-393f-464f-99c4-a3aea5f7a5ee",
   "metadata": {},
   "outputs": [],
   "source": [
    "x = 88     # 整数\n",
    "y = -8.88  # 浮点数\n",
    "z = 8 + 8j # 复数"
   ]
  },
  {
   "cell_type": "code",
   "execution_count": 2,
   "id": "9a7e4926-3b42-4744-bfb4-ea0cbb20289d",
   "metadata": {},
   "outputs": [
    {
     "name": "stdout",
     "output_type": "stream",
     "text": [
      "<class 'int'>\n"
     ]
    }
   ],
   "source": [
    "print(type(x))  \n",
    "# <class 'int'>"
   ]
  },
  {
   "cell_type": "code",
   "execution_count": 3,
   "id": "5bac8689-7a74-4966-9754-8de9668878f1",
   "metadata": {},
   "outputs": [
    {
     "name": "stdout",
     "output_type": "stream",
     "text": [
      "<class 'float'>\n"
     ]
    }
   ],
   "source": [
    "print(type(y))  \n",
    "# <class 'float'>"
   ]
  },
  {
   "cell_type": "code",
   "execution_count": 4,
   "id": "d4bf7396-599c-460f-bdcd-e25054c3b87e",
   "metadata": {},
   "outputs": [
    {
     "name": "stdout",
     "output_type": "stream",
     "text": [
      "<class 'complex'>\n"
     ]
    }
   ],
   "source": [
    "print(type(z))  \n",
    "# <class 'complex'>"
   ]
  },
  {
   "cell_type": "code",
   "execution_count": null,
   "id": "fe267b01-91f5-4da6-b76b-4bc2d076870e",
   "metadata": {},
   "outputs": [],
   "source": []
  },
  {
   "cell_type": "code",
   "execution_count": null,
   "id": "04936262-74d1-4218-b602-ee5e6f1debce",
   "metadata": {},
   "outputs": [],
   "source": []
  }
 ],
 "metadata": {
  "kernelspec": {
   "display_name": "Python 3 (ipykernel)",
   "language": "python",
   "name": "python3"
  },
  "language_info": {
   "codemirror_mode": {
    "name": "ipython",
    "version": 3
   },
   "file_extension": ".py",
   "mimetype": "text/x-python",
   "name": "python",
   "nbconvert_exporter": "python",
   "pygments_lexer": "ipython3",
   "version": "3.10.9"
  }
 },
 "nbformat": 4,
 "nbformat_minor": 5
}
