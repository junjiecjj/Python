{
 "cells": [
  {
   "cell_type": "markdown",
   "id": "ffaa78a8-8fa4-4414-8064-9ba609fba827",
   "metadata": {},
   "source": [
    "Chapter 05\n",
    "# Math模块中的特殊数值\n",
    "Book_1《编程不难》 | 鸢尾花书：从加减乘除到机器学习  \n"
   ]
  },
  {
   "cell_type": "code",
   "execution_count": 1,
   "id": "f96c3c48-fe9e-4f09-88d4-a3741301b4c3",
   "metadata": {},
   "outputs": [
    {
     "name": "stdout",
     "output_type": "stream",
     "text": [
      "3.141592653589793\n"
     ]
    }
   ],
   "source": [
    "import math\n",
    "\n",
    "print(math.pi)      # 输出π的值"
   ]
  },
  {
   "cell_type": "code",
   "execution_count": 2,
   "id": "494de254-10ce-4950-9e8d-b077397f6ad5",
   "metadata": {},
   "outputs": [
    {
     "name": "stdout",
     "output_type": "stream",
     "text": [
      "2.718281828459045\n"
     ]
    }
   ],
   "source": [
    "print(math.e)       # 输出e的值"
   ]
  },
  {
   "cell_type": "code",
   "execution_count": 3,
   "id": "cec9962a-896e-4a00-a173-2113a56e07ff",
   "metadata": {},
   "outputs": [
    {
     "name": "stdout",
     "output_type": "stream",
     "text": [
      "1.4142135623730951\n"
     ]
    }
   ],
   "source": [
    "print(math.sqrt(2)) # 输出根号2的值"
   ]
  }
 ],
 "metadata": {
  "kernelspec": {
   "display_name": "Python 3 (ipykernel)",
   "language": "python",
   "name": "python3"
  },
  "language_info": {
   "codemirror_mode": {
    "name": "ipython",
    "version": 3
   },
   "file_extension": ".py",
   "mimetype": "text/x-python",
   "name": "python",
   "nbconvert_exporter": "python",
   "pygments_lexer": "ipython3",
   "version": "3.10.9"
  }
 },
 "nbformat": 4,
 "nbformat_minor": 5
}
