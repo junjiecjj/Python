{
 "cells": [
  {
   "cell_type": "markdown",
   "id": "4db5a065-6414-42d2-981d-2a4f5da0e9ba",
   "metadata": {},
   "source": [
    "Chapter 08\n",
    "# 无输入、无输出函数\n",
    "Book_1《编程不难》 | 鸢尾花书：从加减乘除到机器学习 "
   ]
  },
  {
   "cell_type": "code",
   "execution_count": null,
   "id": "7d462c48-871d-462d-8555-47fd28fbbb3e",
   "metadata": {},
   "outputs": [],
   "source": [
    "def say_hello():\n",
    "    # 自定义函数：打印问候\n",
    "    # 输入：无\n",
    "    # 输出：无\n",
    "    print(\"Hello!\")"
   ]
  },
  {
   "cell_type": "code",
   "execution_count": null,
   "id": "6bf2dbb3-c37a-4cfe-bf25-4d9c17ddc682",
   "metadata": {},
   "outputs": [
    {
     "name": "stdout",
     "output_type": "stream",
     "text": [
      "Hello!\n"
     ]
    }
   ],
   "source": [
    "# 调用自定义函数\n",
    "say_hello()"
   ]
  },
  {
   "cell_type": "code",
   "execution_count": null,
   "id": "07b3009a-237c-4679-9d33-b02110f7b9e3",
   "metadata": {},
   "outputs": [],
   "source": []
  }
 ],
 "metadata": {
  "kernelspec": {
   "display_name": "Python 3 (ipykernel)",
   "language": "python",
   "name": "python3"
  },
  "language_info": {
   "codemirror_mode": {
    "name": "ipython",
    "version": 3
   },
   "file_extension": ".py",
   "mimetype": "text/x-python",
   "name": "python",
   "nbconvert_exporter": "python",
   "pygments_lexer": "ipython3",
   "version": "3.10.9"
  }
 },
 "nbformat": 4,
 "nbformat_minor": 5
}
