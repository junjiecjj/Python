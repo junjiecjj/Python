{
 "cells": [
  {
   "cell_type": "markdown",
   "id": "da62f32f-6925-4a67-adf5-4d809597daf3",
   "metadata": {},
   "source": [
    "Chapter 08\n",
    "# 2 × 2矩阵的逆\n",
    "Book_1《编程不难》 | 鸢尾花书：从加减乘除到机器学习 "
   ]
  },
  {
   "cell_type": "code",
   "execution_count": 1,
   "id": "fac975f0-e3b1-4385-8073-a4cea9a7369f",
   "metadata": {},
   "outputs": [],
   "source": [
    "def inverse_2x2(matrix):\n",
    "    if len(matrix) != 2 or len(matrix[0]) != 2:\n",
    "        raise ValueError(\"Matrix must be 2x2\")\n",
    "    \n",
    "    a = matrix[0][0]\n",
    "    b = matrix[0][1]\n",
    "    c = matrix[1][0]\n",
    "    d = matrix[1][1]\n",
    "    \n",
    "    det = a * d - b * c\n",
    "    if det == 0:\n",
    "        raise ValueError(\"Matrix is not invertible\")\n",
    "    \n",
    "    inv_det = 1 / det\n",
    "    inv_matrix = [[d * inv_det, -b * inv_det],\n",
    "                  [-c * inv_det, a * inv_det]]\n",
    "    \n",
    "    return inv_matrix"
   ]
  },
  {
   "cell_type": "code",
   "execution_count": 2,
   "id": "a1842fd0-59d3-451c-97ce-5738146be61d",
   "metadata": {},
   "outputs": [],
   "source": [
    "A = [[2, 3],\n",
    "     [4, 5]]"
   ]
  },
  {
   "cell_type": "code",
   "execution_count": 3,
   "id": "3462f370-a4af-4e77-b93a-34b32faca2bd",
   "metadata": {},
   "outputs": [
    {
     "data": {
      "text/plain": [
       "[[-2.5, 1.5], [2.0, -1.0]]"
      ]
     },
     "execution_count": 3,
     "metadata": {},
     "output_type": "execute_result"
    }
   ],
   "source": [
    "inv_matrix = inverse_2x2(A)\n",
    "inv_matrix"
   ]
  }
 ],
 "metadata": {
  "kernelspec": {
   "display_name": "Python 3 (ipykernel)",
   "language": "python",
   "name": "python3"
  },
  "language_info": {
   "codemirror_mode": {
    "name": "ipython",
    "version": 3
   },
   "file_extension": ".py",
   "mimetype": "text/x-python",
   "name": "python",
   "nbconvert_exporter": "python",
   "pygments_lexer": "ipython3",
   "version": "3.10.9"
  }
 },
 "nbformat": 4,
 "nbformat_minor": 5
}
