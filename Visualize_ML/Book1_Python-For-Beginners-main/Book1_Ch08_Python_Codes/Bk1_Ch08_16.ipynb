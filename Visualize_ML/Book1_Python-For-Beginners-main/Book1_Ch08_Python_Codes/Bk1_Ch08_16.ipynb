{
 "cells": [
  {
   "cell_type": "markdown",
   "id": "d2756f81-0f44-4536-95f7-895239a134f1",
   "metadata": {},
   "source": [
    "Chapter 08\n",
    "# 计算方阵的迹\n",
    "Book_1《编程不难》 | 鸢尾花书：从加减乘除到机器学习 "
   ]
  },
  {
   "cell_type": "code",
   "execution_count": 1,
   "id": "5d4fcc62-e66a-4c8e-9b3b-7d49f132c25f",
   "metadata": {},
   "outputs": [],
   "source": [
    "def trace(matrix):\n",
    "    rows = len(matrix)\n",
    "    cols = len(matrix[0])\n",
    "    if rows != cols:\n",
    "        raise ValueError(\"Matrix is not square\")\n",
    "    diagonal_sum = sum(matrix[i][i] for i in range(rows))\n",
    "    return diagonal_sum"
   ]
  },
  {
   "cell_type": "code",
   "execution_count": 2,
   "id": "bfc311e4-02f3-4432-b201-60374c7cb313",
   "metadata": {},
   "outputs": [],
   "source": [
    "# 示例用法\n",
    "A = [[1, 2, 3],\n",
    "     [4, 5, 6],\n",
    "     [7, 8, 9]]"
   ]
  },
  {
   "cell_type": "code",
   "execution_count": 3,
   "id": "fcfc170a-fb26-4f24-a948-7dfd643db951",
   "metadata": {},
   "outputs": [
    {
     "name": "stdout",
     "output_type": "stream",
     "text": [
      "矩阵的迹为: 15\n"
     ]
    }
   ],
   "source": [
    "trace_A = trace(A)\n",
    "print(\"矩阵的迹为:\", trace_A)"
   ]
  }
 ],
 "metadata": {
  "kernelspec": {
   "display_name": "Python 3 (ipykernel)",
   "language": "python",
   "name": "python3"
  },
  "language_info": {
   "codemirror_mode": {
    "name": "ipython",
    "version": 3
   },
   "file_extension": ".py",
   "mimetype": "text/x-python",
   "name": "python",
   "nbconvert_exporter": "python",
   "pygments_lexer": "ipython3",
   "version": "3.10.9"
  }
 },
 "nbformat": 4,
 "nbformat_minor": 5
}
