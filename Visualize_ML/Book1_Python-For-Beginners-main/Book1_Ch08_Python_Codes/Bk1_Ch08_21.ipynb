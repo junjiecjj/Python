{
 "cells": [
  {
   "cell_type": "markdown",
   "id": "e980236b-51b7-493e-b42b-cfdf7f617b04",
   "metadata": {},
   "source": [
    "Chapter 08\n",
    "# 使用递归方法生成阶乘\n",
    "Book_1《编程不难》 | 鸢尾花书：从加减乘除到机器学习 "
   ]
  },
  {
   "cell_type": "code",
   "execution_count": 1,
   "id": "208e2f9d-7e14-4991-b2c3-9b742a06285d",
   "metadata": {},
   "outputs": [],
   "source": [
    "def factorial(n):\n",
    "    # 基本情况：当n等于0或1时，阶乘为1\n",
    "    if n == 0 or n == 1:\n",
    "        return 1\n",
    "    # 递归情况：计算n的阶乘等于n乘以(n-1)的阶乘\n",
    "    else:\n",
    "        return n * factorial(n - 1)"
   ]
  },
  {
   "cell_type": "code",
   "execution_count": 2,
   "id": "e0c0011b-8fbe-4892-af63-7c2e7b52a464",
   "metadata": {},
   "outputs": [
    {
     "name": "stdout",
     "output_type": "stream",
     "text": [
      "0! = 1\n",
      "1! = 1\n",
      "2! = 2\n",
      "3! = 6\n",
      "4! = 24\n",
      "5! = 120\n",
      "6! = 720\n",
      "7! = 5040\n",
      "8! = 40320\n",
      "9! = 362880\n"
     ]
    }
   ],
   "source": [
    "# 测试阶乘函数\n",
    "for i in range(10):\n",
    "    print(f'{i}! = {factorial(i)}')"
   ]
  }
 ],
 "metadata": {
  "kernelspec": {
   "display_name": "Python 3 (ipykernel)",
   "language": "python",
   "name": "python3"
  },
  "language_info": {
   "codemirror_mode": {
    "name": "ipython",
    "version": 3
   },
   "file_extension": ".py",
   "mimetype": "text/x-python",
   "name": "python",
   "nbconvert_exporter": "python",
   "pygments_lexer": "ipython3",
   "version": "3.10.9"
  }
 },
 "nbformat": 4,
 "nbformat_minor": 5
}
