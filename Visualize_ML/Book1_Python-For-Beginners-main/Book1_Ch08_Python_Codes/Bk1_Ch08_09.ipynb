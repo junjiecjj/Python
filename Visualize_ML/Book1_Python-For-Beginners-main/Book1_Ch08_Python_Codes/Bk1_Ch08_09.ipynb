{
 "cells": [
  {
   "cell_type": "markdown",
   "id": "7cdd3a4c-2ed4-46fe-ac90-152353ef39e1",
   "metadata": {},
   "source": [
    "Chapter 08\n",
    "# 增加矩阵形状不匹配的报错信息\n",
    "Book_1《编程不难》 | 鸢尾花书：从加减乘除到机器学习 "
   ]
  },
  {
   "cell_type": "code",
   "execution_count": 1,
   "id": "7f9ac4ac-d94d-4953-8f2f-d7bc64001bc4",
   "metadata": {},
   "outputs": [],
   "source": [
    "# 自定义函数\n",
    "def matrix_multiplication(A,B):\n",
    "    \n",
    "    # 检查两个矩阵形状是否匹配\n",
    "    if len(A[0]) != len(B):\n",
    "        raise ValueError(\"Error: check matrix sizes\")\n",
    "\n",
    "    else:\n",
    "        # 定义全 0 矩阵 C 用来存放结果\n",
    "        C = [[0] * len(B[0]) for i in range(len(A))]\n",
    "\n",
    "        # 遍历 A 的行\n",
    "        for i in range(len(A)): # len(A) 给出 A 的行数\n",
    "\n",
    "            # 遍历 B 的列\n",
    "            for j in range(len(B[0])):  \n",
    "            # len(B[0]) 给出 B 的列数\n",
    "\n",
    "                # 这一层相当于消去 p 所在的维度，即压缩\n",
    "                for k in range(len(B)):\n",
    "                    C[i][j] += A[i][k] * B[k][j]\n",
    "                    # 完成对应元素相乘，再求和\n",
    "\n",
    "        return C"
   ]
  },
  {
   "cell_type": "code",
   "execution_count": 2,
   "id": "19abce57-30c6-4f49-9606-e38f63673b84",
   "metadata": {},
   "outputs": [],
   "source": [
    "    \n",
    "# 定义矩阵 A 和 B\n",
    "A = [[1], [2], [3], [4]]\n",
    "B = [[1, 2, 3]]"
   ]
  },
  {
   "cell_type": "code",
   "execution_count": 3,
   "id": "2cd963cb-bf4f-4448-8610-d06a1d3f05c3",
   "metadata": {},
   "outputs": [
    {
     "name": "stdout",
     "output_type": "stream",
     "text": [
      "A @ B = \n",
      "[1, 2, 3]\n",
      "[2, 4, 6]\n",
      "[3, 6, 9]\n",
      "[4, 8, 12]\n"
     ]
    }
   ],
   "source": [
    "print('A @ B = ')\n",
    "C = matrix_multiplication(A,B) # 调用自定义函数\n",
    "for row in C:\n",
    "    print(row)"
   ]
  },
  {
   "cell_type": "code",
   "execution_count": 4,
   "id": "39aa8501-fd81-46cc-ba4e-377b23a6d079",
   "metadata": {},
   "outputs": [
    {
     "name": "stdout",
     "output_type": "stream",
     "text": [
      "B @ A = \n"
     ]
    },
    {
     "ename": "ValueError",
     "evalue": "Error: check matrix sizes",
     "output_type": "error",
     "traceback": [
      "\u001b[1;31m---------------------------------------------------------------------------\u001b[0m",
      "\u001b[1;31mValueError\u001b[0m                                Traceback (most recent call last)",
      "Cell \u001b[1;32mIn[4], line 2\u001b[0m\n\u001b[0;32m      1\u001b[0m \u001b[38;5;28mprint\u001b[39m(\u001b[38;5;124m'\u001b[39m\u001b[38;5;124mB @ A = \u001b[39m\u001b[38;5;124m'\u001b[39m)\n\u001b[1;32m----> 2\u001b[0m D \u001b[38;5;241m=\u001b[39m \u001b[43mmatrix_multiplication\u001b[49m\u001b[43m(\u001b[49m\u001b[43mB\u001b[49m\u001b[43m,\u001b[49m\u001b[43mA\u001b[49m\u001b[43m)\u001b[49m\n",
      "Cell \u001b[1;32mIn[1], line 6\u001b[0m, in \u001b[0;36mmatrix_multiplication\u001b[1;34m(A, B)\u001b[0m\n\u001b[0;32m      2\u001b[0m \u001b[38;5;28;01mdef\u001b[39;00m \u001b[38;5;21mmatrix_multiplication\u001b[39m(A,B):\n\u001b[0;32m      3\u001b[0m     \n\u001b[0;32m      4\u001b[0m     \u001b[38;5;66;03m# 检查两个矩阵形状是否匹配\u001b[39;00m\n\u001b[0;32m      5\u001b[0m     \u001b[38;5;28;01mif\u001b[39;00m \u001b[38;5;28mlen\u001b[39m(A[\u001b[38;5;241m0\u001b[39m]) \u001b[38;5;241m!=\u001b[39m \u001b[38;5;28mlen\u001b[39m(B):\n\u001b[1;32m----> 6\u001b[0m         \u001b[38;5;28;01mraise\u001b[39;00m \u001b[38;5;167;01mValueError\u001b[39;00m(\u001b[38;5;124m\"\u001b[39m\u001b[38;5;124mError: check matrix sizes\u001b[39m\u001b[38;5;124m\"\u001b[39m)\n\u001b[0;32m      8\u001b[0m     \u001b[38;5;28;01melse\u001b[39;00m:\n\u001b[0;32m      9\u001b[0m         \u001b[38;5;66;03m# 定义全 0 矩阵 C 用来存放结果\u001b[39;00m\n\u001b[0;32m     10\u001b[0m         C \u001b[38;5;241m=\u001b[39m [[\u001b[38;5;241m0\u001b[39m] \u001b[38;5;241m*\u001b[39m \u001b[38;5;28mlen\u001b[39m(B[\u001b[38;5;241m0\u001b[39m]) \u001b[38;5;28;01mfor\u001b[39;00m i \u001b[38;5;129;01min\u001b[39;00m \u001b[38;5;28mrange\u001b[39m(\u001b[38;5;28mlen\u001b[39m(A))]\n",
      "\u001b[1;31mValueError\u001b[0m: Error: check matrix sizes"
     ]
    }
   ],
   "source": [
    "print('B @ A = ')\n",
    "D = matrix_multiplication(B,A) # 会报错"
   ]
  }
 ],
 "metadata": {
  "kernelspec": {
   "display_name": "Python 3 (ipykernel)",
   "language": "python",
   "name": "python3"
  },
  "language_info": {
   "codemirror_mode": {
    "name": "ipython",
    "version": 3
   },
   "file_extension": ".py",
   "mimetype": "text/x-python",
   "name": "python",
   "nbconvert_exporter": "python",
   "pygments_lexer": "ipython3",
   "version": "3.10.9"
  }
 },
 "nbformat": 4,
 "nbformat_minor": 5
}
