{
 "cells": [
  {
   "cell_type": "markdown",
   "id": "2ff6e3aa-2699-4126-b9c5-678457ab831c",
   "metadata": {},
   "source": [
    "Chapter 08\n",
    "# 判断矩阵是否为对称矩阵\n",
    "Book_1《编程不难》 | 鸢尾花书：从加减乘除到机器学习 "
   ]
  },
  {
   "cell_type": "code",
   "execution_count": 1,
   "id": "4ab58e85-0476-4ac1-aab7-51eeca081cd8",
   "metadata": {},
   "outputs": [],
   "source": [
    "def is_symmetric(matrix):\n",
    "    rows = len(matrix)\n",
    "    cols = len(matrix[0])\n",
    "    # 首先判断矩阵是否为方阵\n",
    "    if rows != cols:\n",
    "        return False \n",
    "    # 判断矩阵元素是否沿对称轴镜像对称\n",
    "    for i in range(rows):\n",
    "        for j in range(cols):\n",
    "            if matrix[i][j] != matrix[j][i]:\n",
    "                return False\n",
    "    return True"
   ]
  },
  {
   "cell_type": "code",
   "execution_count": 2,
   "id": "13dab309-ebea-4502-b420-34c250181279",
   "metadata": {},
   "outputs": [],
   "source": [
    "# 两个矩阵\n",
    "A = [[1, 2, 3],\n",
    "     [2, 4, 5],\n",
    "     [3, 5, 6]]\n",
    "\n",
    "B = [[1, 2, 3],\n",
    "     [2, 4, 0],\n",
    "     [0, 5, 6]]"
   ]
  },
  {
   "cell_type": "code",
   "execution_count": 3,
   "id": "95453512-f09d-42c9-8c9d-c5fb930ed760",
   "metadata": {},
   "outputs": [
    {
     "name": "stdout",
     "output_type": "stream",
     "text": [
      "是否为对称矩阵: True\n"
     ]
    }
   ],
   "source": [
    "print(\"是否为对称矩阵:\", is_symmetric(A))"
   ]
  },
  {
   "cell_type": "code",
   "execution_count": 4,
   "id": "953129af-4bd2-42f3-ac1f-3111d443c7ba",
   "metadata": {},
   "outputs": [
    {
     "name": "stdout",
     "output_type": "stream",
     "text": [
      "是否为对称矩阵: False\n"
     ]
    }
   ],
   "source": [
    "print(\"是否为对称矩阵:\", is_symmetric(B))"
   ]
  }
 ],
 "metadata": {
  "kernelspec": {
   "display_name": "Python 3 (ipykernel)",
   "language": "python",
   "name": "python3"
  },
  "language_info": {
   "codemirror_mode": {
    "name": "ipython",
    "version": 3
   },
   "file_extension": ".py",
   "mimetype": "text/x-python",
   "name": "python",
   "nbconvert_exporter": "python",
   "pygments_lexer": "ipython3",
   "version": "3.10.9"
  }
 },
 "nbformat": 4,
 "nbformat_minor": 5
}
