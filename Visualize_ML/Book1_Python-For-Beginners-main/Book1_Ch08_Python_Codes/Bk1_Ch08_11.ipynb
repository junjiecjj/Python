{
 "cells": [
  {
   "cell_type": "markdown",
   "id": "cd67423e-80c3-4deb-9ca5-a33160cd6f85",
   "metadata": {},
   "source": [
    "Chapter 08\n",
    "# 自定义函数中的帮助文档\n",
    "Book_1《编程不难》 | 鸢尾花书：从加减乘除到机器学习 "
   ]
  },
  {
   "cell_type": "code",
   "execution_count": 1,
   "id": "01ad8b42-d42e-48c6-ae53-10dbb51d64f4",
   "metadata": {},
   "outputs": [],
   "source": [
    "# 计算向量内积\n",
    "def inner_prod(a,b):\n",
    "    \n",
    "    '''\n",
    "    自定义函数计算两个向量内积\n",
    "    输入：\n",
    "    a：向量，类型为数据列表\n",
    "    b：向量，类型为数据列表\n",
    "    输出：\n",
    "    c：标量\n",
    "    参考：\n",
    "    https://mathworld.wolfram.com/InnerProduct.html\n",
    "    '''\n",
    "\n",
    "    # 检查两个向量元素数量是否相同\n",
    "    if len(a) != len(b):\n",
    "        raise ValueError(\"Error: check a/b lengths\")\n",
    "        \n",
    "    # 初始化内积为0\n",
    "    dot_product = 0\n",
    "    # 使用for循环计算内积\n",
    "    for i in range(len(a)):\n",
    "        dot_product += a[i] * b[i]\n",
    "        \n",
    "    return dot_product"
   ]
  },
  {
   "cell_type": "code",
   "execution_count": 2,
   "id": "bfbda7cf-6d2b-4b88-b4a0-c607817ca6ae",
   "metadata": {},
   "outputs": [
    {
     "name": "stdout",
     "output_type": "stream",
     "text": [
      "Help on function inner_prod in module __main__:\n",
      "\n",
      "inner_prod(a, b)\n",
      "    自定义函数计算两个向量内积\n",
      "    输入：\n",
      "    a：向量，类型为数据列表\n",
      "    b：向量，类型为数据列表\n",
      "    输出：\n",
      "    c：标量\n",
      "    参考：\n",
      "    https://mathworld.wolfram.com/InnerProduct.html\n",
      "\n"
     ]
    }
   ],
   "source": [
    "# 查询自定义函数文档，两种办法\n",
    "help(inner_prod)"
   ]
  },
  {
   "cell_type": "code",
   "execution_count": 3,
   "id": "64bd7b12-5a82-4fa0-8c41-cd47069a13fd",
   "metadata": {},
   "outputs": [
    {
     "name": "stdout",
     "output_type": "stream",
     "text": [
      "\n",
      "    自定义函数计算两个向量内积\n",
      "    输入：\n",
      "    a：向量，类型为数据列表\n",
      "    b：向量，类型为数据列表\n",
      "    输出：\n",
      "    c：标量\n",
      "    参考：\n",
      "    https://mathworld.wolfram.com/InnerProduct.html\n",
      "    \n"
     ]
    }
   ],
   "source": [
    "print(inner_prod.__doc__)"
   ]
  },
  {
   "cell_type": "code",
   "execution_count": 4,
   "id": "c53c7d18-e462-463a-9623-2f2ce4e605a0",
   "metadata": {},
   "outputs": [],
   "source": [
    "# 定义向量a和b\n",
    "a = [1, 2, 3, 4, 5, 6, 7, 8, 9]\n",
    "b = a[::-1]"
   ]
  },
  {
   "cell_type": "code",
   "execution_count": 5,
   "id": "cd112374-7ed0-4a21-a407-974be2345c7a",
   "metadata": {},
   "outputs": [],
   "source": [
    "# 调用函数\n",
    "c = inner_prod(a,b)"
   ]
  },
  {
   "cell_type": "code",
   "execution_count": 6,
   "id": "84450220-1b79-46d9-885f-4b7e4f5bc2fc",
   "metadata": {},
   "outputs": [
    {
     "name": "stdout",
     "output_type": "stream",
     "text": [
      "向量内积为： 165\n"
     ]
    }
   ],
   "source": [
    "# 打印内积\n",
    "print(\"向量内积为：\", c)"
   ]
  }
 ],
 "metadata": {
  "kernelspec": {
   "display_name": "Python 3 (ipykernel)",
   "language": "python",
   "name": "python3"
  },
  "language_info": {
   "codemirror_mode": {
    "name": "ipython",
    "version": 3
   },
   "file_extension": ".py",
   "mimetype": "text/x-python",
   "name": "python",
   "nbconvert_exporter": "python",
   "pygments_lexer": "ipython3",
   "version": "3.10.9"
  }
 },
 "nbformat": 4,
 "nbformat_minor": 5
}
