{
 "cells": [
  {
   "cell_type": "markdown",
   "id": "c2b7da21-f761-4b32-9b9e-f8985e2f8dc9",
   "metadata": {},
   "source": [
    "Chapter 16\n",
    "# NumPy数组规整\n",
    "Book_1《编程不难》 | 鸢尾花书：从加减乘除到机器学习  "
   ]
  },
  {
   "cell_type": "code",
   "execution_count": 1,
   "id": "a963642f-ed29-4266-85fc-2e3815b08edc",
   "metadata": {},
   "outputs": [],
   "source": [
    "# 导入包\n",
    "import numpy as np\n",
    "import seaborn as sns\n",
    "import matplotlib.pyplot as plt\n",
    "import math\n",
    "import os\n",
    "\n",
    "# 如果文件夹不存在，创建文件夹\n",
    "if not os.path.isdir(\"Figures\"):\n",
    "    os.makedirs(\"Figures\")"
   ]
  },
  {
   "cell_type": "markdown",
   "id": "8a127334-ef1a-4830-ba85-aa725c4c0e4b",
   "metadata": {},
   "source": [
    "## 定义可视化函数"
   ]
  },
  {
   "cell_type": "code",
   "execution_count": 74,
   "id": "14ac1471-23c1-4f10-af2d-fb89b126430e",
   "metadata": {},
   "outputs": [],
   "source": [
    "def visualize_2D(array, title, vmax, vmin):\n",
    "    \n",
    "    fig_width  = math.ceil(array.shape[1] * 0.5)\n",
    "    fig_length = math.ceil(array.shape[0] * 0.5)\n",
    "    \n",
    "    fig, ax = plt.subplots(figsize=(fig_width, fig_length))\n",
    "    # 注意，seaborn.heatmap() 目前只能接受2D数组\n",
    "    # 本书中，一维数组可视化时用圆圈\n",
    "    # 可视化时，只有二维、三维数组用方块\n",
    "    \n",
    "    sns.heatmap(array, \n",
    "                vmax = vmax,\n",
    "                vmin = vmin,\n",
    "                annot = True,      # 增加注释\n",
    "                fmt = \".0f\",       # 注释数值的格式\n",
    "                square = True,     # 热图方格为正方形\n",
    "                cmap = 'RdYlBu_r', # 指定色谱\n",
    "                linewidths = .5,   # 方格线宽\n",
    "                cbar = False,      # 不显示色谱条\n",
    "                yticklabels=False, # 不显示纵轴标签\n",
    "                xticklabels=False, # 不显示横轴标签\n",
    "                ax = ax)           # 指定绘制热图的轴\n",
    "    \n",
    "    fig.savefig('Figures/' + title + '.svg', format='svg')\n",
    "\n",
    "# 定义绘制一元数组可视化函数\n",
    "\n",
    "def visualize_1D(array, title, vmax, vmin):\n",
    "    fig, ax = plt.subplots()\n",
    "    \n",
    "    cmap = plt.colormaps.get_cmap(\"RdYlBu_r\")\n",
    "    \n",
    "    array_norm = (array - vmin) / (vmax - vmin)\n",
    "\n",
    "    colors = cmap(array_norm)\n",
    "\n",
    "    for idx in range(len(array)):\n",
    "\n",
    "        circle_idx = plt.Circle((idx, 0), 0.5, facecolor=colors[idx], edgecolor = 'w')\n",
    "        ax.add_patch(circle_idx)\n",
    "        ax.text(idx, 0, s = \"{:.1f}\".format(array[idx]),\n",
    "                horizontalalignment = 'center',\n",
    "                verticalalignment = 'center')\n",
    "\n",
    "    ax.set_xlim(-0.6, 0.6 + len(array))\n",
    "    ax.set_ylim(-0.6, 0.6)\n",
    "    ax.set_aspect('equal', adjustable='box')\n",
    "    ax.axis('off')\n",
    "    fig.savefig('Figures/' + title + '.svg', format='svg')"
   ]
  },
  {
   "cell_type": "markdown",
   "id": "cb1204b2-1f67-47e5-8b6b-890e797d193d",
   "metadata": {},
   "source": [
    "## 堆叠"
   ]
  },
  {
   "cell_type": "code",
   "execution_count": 3,
   "id": "51ab495d-f96b-4f57-807a-e0145fa142de",
   "metadata": {},
   "outputs": [
    {
     "data": {
      "text/plain": [
       "array([1, 2, 3, 4, 5])"
      ]
     },
     "execution_count": 3,
     "metadata": {},
     "output_type": "execute_result"
    }
   ],
   "source": [
    "a1 = np.arange(1, 5 + 1)\n",
    "a1"
   ]
  },
  {
   "cell_type": "code",
   "execution_count": 75,
   "id": "fcbb647c-82cc-42b6-9a85-4180976ee445",
   "metadata": {},
   "outputs": [
    {
     "data": {
      "image/png": "[encoded data removed]",
      "text/plain": [
       "<Figure size 640x480 with 1 Axes>"
      ]
     },
     "metadata": {},
     "output_type": "display_data"
    }
   ],
   "source": [
    "visualize_1D(a1, 'a1，一维', 5, -5)"
   ]
  },
  {
   "cell_type": "code",
   "execution_count": 5,
   "id": "8fa6e56c-ea2f-4aa7-ba3c-1586f1397adc",
   "metadata": {},
   "outputs": [
    {
     "data": {
      "text/plain": [
       "array([-5, -4, -3, -2, -1])"
      ]
     },
     "execution_count": 5,
     "metadata": {},
     "output_type": "execute_result"
    }
   ],
   "source": [
    "a2 = np.arange(-5, 0)\n",
    "a2"
   ]
  },
  {
   "cell_type": "code",
   "execution_count": 76,
   "id": "d27cd90d-cc98-4a0b-9c92-edfa2716ec3b",
   "metadata": {},
   "outputs": [
    {
     "data": {
      "image/png": "[encoded data removed]",
      "text/plain": [
       "<Figure size 640x480 with 1 Axes>"
      ]
     },
     "metadata": {},
     "output_type": "display_data"
    }
   ],
   "source": [
    "visualize_1D(a2, 'a2，一维', 5, -5)"
   ]
  },
  {
   "cell_type": "markdown",
   "id": "0c1884bd-53ed-4a8e-9dca-cfee0cdc7086",
   "metadata": {},
   "source": [
    "### 沿行堆叠"
   ]
  },
  {
   "cell_type": "code",
   "execution_count": 89,
   "id": "7253dfa7-bf19-4c16-a204-3b9fdcc3b5bd",
   "metadata": {},
   "outputs": [
    {
     "data": {
      "text/plain": [
       "array([[ 1,  2,  3,  4,  5],\n",
       "       [-5, -4, -3, -2, -1]])"
      ]
     },
     "execution_count": 89,
     "metadata": {},
     "output_type": "execute_result"
    }
   ],
   "source": [
    "np.stack((a1, a2))\n",
    "# 默认， axis = 0"
   ]
  },
  {
   "cell_type": "code",
   "execution_count": 85,
   "id": "62d25e24-adfe-4b21-9760-213f94cf335f",
   "metadata": {},
   "outputs": [
    {
     "data": {
      "image/png": "[encoded data removed]",
      "text/plain": [
       "<Figure size 300x100 with 1 Axes>"
      ]
     },
     "metadata": {},
     "output_type": "display_data"
    }
   ],
   "source": [
    "visualize_2D(np.stack((a1, a2)), '沿行叠加，np.stack', 5, -5)"
   ]
  },
  {
   "cell_type": "code",
   "execution_count": 143,
   "id": "23edbfff-06dc-40c2-9ecc-f9e6303690bd",
   "metadata": {},
   "outputs": [
    {
     "data": {
      "text/plain": [
       "array([[ 1,  2,  3,  4,  5],\n",
       "       [-5, -4, -3, -2, -1],\n",
       "       [ 1,  2,  3,  4,  5],\n",
       "       [-5, -4, -3, -2, -1],\n",
       "       [ 1,  2,  3,  4,  5],\n",
       "       [-5, -4, -3, -2, -1]])"
      ]
     },
     "execution_count": 143,
     "metadata": {},
     "output_type": "execute_result"
    }
   ],
   "source": [
    "# 多个数组拼接\n",
    "np.stack((a1, a2, a1, a2, a1, a2))"
   ]
  },
  {
   "cell_type": "code",
   "execution_count": 78,
   "id": "f5520250-2043-4a16-b539-362183719410",
   "metadata": {},
   "outputs": [
    {
     "data": {
      "text/plain": [
       "array([[ 1,  2,  3,  4,  5],\n",
       "       [-5, -4, -3, -2, -1]])"
      ]
     },
     "execution_count": 78,
     "metadata": {},
     "output_type": "execute_result"
    }
   ],
   "source": [
    "np.row_stack((a1, a2))"
   ]
  },
  {
   "cell_type": "code",
   "execution_count": 79,
   "id": "10afb6a1-ae1d-4005-bf2d-7c7edd5c3492",
   "metadata": {},
   "outputs": [
    {
     "data": {
      "text/plain": [
       "array([[ 1,  2,  3,  4,  5],\n",
       "       [-5, -4, -3, -2, -1]])"
      ]
     },
     "execution_count": 79,
     "metadata": {},
     "output_type": "execute_result"
    }
   ],
   "source": [
    "np.vstack((a1, a2))"
   ]
  },
  {
   "cell_type": "code",
   "execution_count": 11,
   "id": "4d2bf2dc-ce59-4f27-aafe-6284dabd48b3",
   "metadata": {},
   "outputs": [
    {
     "data": {
      "text/plain": [
       "array([[ 1],\n",
       "       [ 2],\n",
       "       [ 3],\n",
       "       [ 4],\n",
       "       [ 5],\n",
       "       [-5],\n",
       "       [-4],\n",
       "       [-3],\n",
       "       [-2],\n",
       "       [-1]])"
      ]
     },
     "execution_count": 11,
     "metadata": {},
     "output_type": "execute_result"
    }
   ],
   "source": [
    "np.vstack((a1.reshape(-1,1), a2.reshape(-1,1)))"
   ]
  },
  {
   "cell_type": "code",
   "execution_count": 200,
   "id": "6506de51-4ffc-4e88-9dc1-61f688ed2094",
   "metadata": {},
   "outputs": [
    {
     "name": "stdout",
     "output_type": "stream",
     "text": [
      "[[0 1 2]\n",
      " [1 2 3]\n",
      " [2 3 4]\n",
      " [3 4 5]\n",
      " [4 5 6]]\n"
     ]
    }
   ],
   "source": [
    "# 创建一个空数组\n",
    "arr = np.empty((0, 3), dtype=int)\n",
    "\n",
    "# 通过for循环向数组中添加元素\n",
    "for i in range(5):\n",
    "    row = [i, i+1, i+2]\n",
    "    arr = np.vstack([arr, row])\n",
    "\n",
    "print(arr)\n",
    "\n",
    "# 在这个示例中，首先使用np.empty()函数创建了一个空数组，\n",
    "# 其形状为(0, 3)，表示该数组有0行3列。\n",
    "# 接着通过for循环，生成一个包含5行3列的数组，\n",
    "# 每一行的值都是从i开始的三个连续整数。\n",
    "\n",
    "# 在for循环中，使用np.vstack()函数将每一行添加到数组中。\n",
    "# np.vstack()函数可以将多个数组沿着垂直方向堆叠起来，\n",
    "# 因此可以将每一行当作一个数组，\n",
    "# 然后将它们依次添加到原来的数组中。"
   ]
  },
  {
   "cell_type": "markdown",
   "id": "4da0c9b6-7ac4-4732-9d4f-c7a03007ed6d",
   "metadata": {},
   "source": [
    "### 沿列堆叠"
   ]
  },
  {
   "cell_type": "code",
   "execution_count": 80,
   "id": "76c56a99-ceb0-41e9-b20f-f7352d854c62",
   "metadata": {},
   "outputs": [
    {
     "data": {
      "text/plain": [
       "array([[ 1, -5],\n",
       "       [ 2, -4],\n",
       "       [ 3, -3],\n",
       "       [ 4, -2],\n",
       "       [ 5, -1]])"
      ]
     },
     "execution_count": 80,
     "metadata": {},
     "output_type": "execute_result"
    }
   ],
   "source": [
    "np.stack((a1, a2), axis = 1)"
   ]
  },
  {
   "cell_type": "code",
   "execution_count": 86,
   "id": "f4a184cc-cc07-40c0-8587-ab12a0f5c410",
   "metadata": {},
   "outputs": [
    {
     "data": {
      "image/png": "[encoded data removed]",
      "text/plain": [
       "<Figure size 100x300 with 1 Axes>"
      ]
     },
     "metadata": {},
     "output_type": "display_data"
    }
   ],
   "source": [
    "visualize_2D(np.stack((a1, a2), axis = 1), '沿列叠加，np.stack', 5, -5)"
   ]
  },
  {
   "cell_type": "code",
   "execution_count": 82,
   "id": "75364932-0f9a-4a16-aa87-9f49980ac3fe",
   "metadata": {},
   "outputs": [
    {
     "data": {
      "text/plain": [
       "array([[ 1, -5],\n",
       "       [ 2, -4],\n",
       "       [ 3, -3],\n",
       "       [ 4, -2],\n",
       "       [ 5, -1]])"
      ]
     },
     "execution_count": 82,
     "metadata": {},
     "output_type": "execute_result"
    }
   ],
   "source": [
    "np.column_stack((a1, a2))"
   ]
  },
  {
   "cell_type": "code",
   "execution_count": 83,
   "id": "6dd7193f-21f7-4905-a47e-33bcbec6feb6",
   "metadata": {},
   "outputs": [
    {
     "data": {
      "text/plain": [
       "array([ 1,  2,  3,  4,  5, -5, -4, -3, -2, -1])"
      ]
     },
     "execution_count": 83,
     "metadata": {},
     "output_type": "execute_result"
    }
   ],
   "source": [
    "np.hstack((a1, a2))\n",
    "# numpy.hstack 函数可以用来沿着水平方向将多个数组堆叠在一起，形成一个新的数组"
   ]
  },
  {
   "cell_type": "code",
   "execution_count": 87,
   "id": "b1700f23-b2d4-44df-9597-220118b5f7b0",
   "metadata": {},
   "outputs": [
    {
     "data": {
      "image/png": "[encoded data removed]",
      "text/plain": [
       "<Figure size 640x480 with 1 Axes>"
      ]
     },
     "metadata": {},
     "output_type": "display_data"
    }
   ],
   "source": [
    "visualize_1D(np.hstack((a1, a2)), 'a1，a2，一维堆叠', 5, -5)"
   ]
  },
  {
   "cell_type": "code",
   "execution_count": 88,
   "id": "5cd178cd-4c6d-48bd-aa53-cdd041196a00",
   "metadata": {},
   "outputs": [
    {
     "data": {
      "image/png": "[encoded data removed]",
      "text/plain": [
       "<Figure size 640x480 with 1 Axes>"
      ]
     },
     "metadata": {},
     "output_type": "display_data"
    }
   ],
   "source": [
    "visualize_1D(np.hstack((a2, a1)), 'a1，a2，一维堆叠，反向', 5, -5)"
   ]
  },
  {
   "cell_type": "code",
   "execution_count": 84,
   "id": "742dd9a1-dcc9-438a-958a-17a60cdc38f1",
   "metadata": {},
   "outputs": [
    {
     "data": {
      "text/plain": [
       "array([[ 1, -5],\n",
       "       [ 2, -4],\n",
       "       [ 3, -3],\n",
       "       [ 4, -2],\n",
       "       [ 5, -1]])"
      ]
     },
     "execution_count": 84,
     "metadata": {},
     "output_type": "execute_result"
    }
   ],
   "source": [
    "np.hstack((a1.reshape(-1,1), a2.reshape(-1,1)))"
   ]
  },
  {
   "cell_type": "markdown",
   "id": "adbfa562-2150-467a-92d6-7b8cc288aacf",
   "metadata": {},
   "source": [
    "### 拼接numpy.concatenate()"
   ]
  },
  {
   "cell_type": "code",
   "execution_count": 132,
   "id": "771f7d16-da59-4960-8f04-e5fafb2c1608",
   "metadata": {},
   "outputs": [
    {
     "data": {
      "text/plain": [
       "array([[-4, -3, -2],\n",
       "       [-1,  0,  1],\n",
       "       [ 2,  3,  4]])"
      ]
     },
     "execution_count": 132,
     "metadata": {},
     "output_type": "execute_result"
    }
   ],
   "source": [
    "A_3_by_3 = np.arange(-4,4+1).reshape(3,3)\n",
    "A_3_by_3"
   ]
  },
  {
   "cell_type": "code",
   "execution_count": 133,
   "id": "8939a9fa-ea55-4cd7-988d-6078f9764ed2",
   "metadata": {},
   "outputs": [
    {
     "data": {
      "image/png": "[encoded data removed]",
      "text/plain": [
       "<Figure size 200x200 with 1 Axes>"
      ]
     },
     "metadata": {},
     "output_type": "display_data"
    }
   ],
   "source": [
    "visualize_2D(A_3_by_3, 'A_3_by_3', 5, -5)"
   ]
  },
  {
   "cell_type": "code",
   "execution_count": 134,
   "id": "51e0337b-fac7-48c0-a0be-87f63536b1c4",
   "metadata": {},
   "outputs": [
    {
     "data": {
      "text/plain": [
       "array([[4, 0, 4]])"
      ]
     },
     "execution_count": 134,
     "metadata": {},
     "output_type": "execute_result"
    }
   ],
   "source": [
    "B_3_by_1 = np.array([[4, 0, 4]])\n",
    "B_3_by_1"
   ]
  },
  {
   "cell_type": "code",
   "execution_count": 141,
   "id": "f8b5c848-d837-4527-9568-d36b3f822931",
   "metadata": {},
   "outputs": [
    {
     "data": {
      "image/png": "[encoded data removed]",
      "text/plain": [
       "<Figure size 200x100 with 1 Axes>"
      ]
     },
     "metadata": {},
     "output_type": "display_data"
    }
   ],
   "source": [
    "visualize_2D(B_3_by_1, 'B_3_by_1', 5, -5)"
   ]
  },
  {
   "cell_type": "code",
   "execution_count": 135,
   "id": "bfa9c59c-1174-4858-a2bb-ea2555dc1d41",
   "metadata": {},
   "outputs": [
    {
     "data": {
      "text/plain": [
       "array([[4],\n",
       "       [0],\n",
       "       [4]])"
      ]
     },
     "execution_count": 135,
     "metadata": {},
     "output_type": "execute_result"
    }
   ],
   "source": [
    "B_3_by_1.T\n",
    "# 转置"
   ]
  },
  {
   "cell_type": "code",
   "execution_count": 142,
   "id": "d904aa08-10a9-4542-ab85-90267d44ef18",
   "metadata": {},
   "outputs": [
    {
     "data": {
      "image/png": "[encoded data removed]",
      "text/plain": [
       "<Figure size 100x200 with 1 Axes>"
      ]
     },
     "metadata": {},
     "output_type": "display_data"
    }
   ],
   "source": [
    "visualize_2D(B_3_by_1.T, 'B_3_by_1.T', 5, -5)"
   ]
  },
  {
   "cell_type": "markdown",
   "id": "bc033434-e96a-4971-840a-2d9d90df0c9e",
   "metadata": {},
   "source": [
    "#### 沿行"
   ]
  },
  {
   "cell_type": "code",
   "execution_count": 136,
   "id": "b65545a5-e6aa-4a5e-8a5a-8006d2788161",
   "metadata": {},
   "outputs": [
    {
     "data": {
      "text/plain": [
       "array([[-4, -3, -2],\n",
       "       [-1,  0,  1],\n",
       "       [ 2,  3,  4],\n",
       "       [ 4,  0,  4]])"
      ]
     },
     "execution_count": 136,
     "metadata": {},
     "output_type": "execute_result"
    }
   ],
   "source": [
    "np.concatenate((A_3_by_3, B_3_by_1), axis=0)"
   ]
  },
  {
   "cell_type": "code",
   "execution_count": 137,
   "id": "e217a2b9-1481-4442-b537-cad32a449f79",
   "metadata": {},
   "outputs": [
    {
     "data": {
      "image/png": "[encoded data removed]",
      "text/plain": [
       "<Figure size 200x200 with 1 Axes>"
      ]
     },
     "metadata": {},
     "output_type": "display_data"
    }
   ],
   "source": [
    "visualize_2D(np.concatenate((A_3_by_3, B_3_by_1), axis=0), '拼接，沿行', 5, -5)"
   ]
  },
  {
   "cell_type": "code",
   "execution_count": 138,
   "id": "1fe8d6b1-32e4-4ec3-8abe-969ff937d218",
   "metadata": {},
   "outputs": [
    {
     "data": {
      "text/plain": [
       "array([[-4, -3, -2],\n",
       "       [-1,  0,  1],\n",
       "       [ 2,  3,  4],\n",
       "       [ 4,  0,  4]])"
      ]
     },
     "execution_count": 138,
     "metadata": {},
     "output_type": "execute_result"
    }
   ],
   "source": [
    "np.vstack((A_3_by_3, B_3_by_1))"
   ]
  },
  {
   "cell_type": "markdown",
   "id": "4f4a6c81-3f41-4b0a-88b2-4767a55916ee",
   "metadata": {},
   "source": [
    "#### 沿列"
   ]
  },
  {
   "cell_type": "code",
   "execution_count": 128,
   "id": "7b3b83b0-8d0f-4da4-876b-39a167f3f0fe",
   "metadata": {},
   "outputs": [
    {
     "data": {
      "text/plain": [
       "array([[-4, -3, -2,  4],\n",
       "       [-1,  0,  1,  0],\n",
       "       [ 2,  3,  4,  4]])"
      ]
     },
     "execution_count": 128,
     "metadata": {},
     "output_type": "execute_result"
    }
   ],
   "source": [
    "np.concatenate((A_3_by_3, B_3_by_1.T), axis=1)"
   ]
  },
  {
   "cell_type": "code",
   "execution_count": 140,
   "id": "685f9752-73bf-4d3e-a80a-e28ef089efe8",
   "metadata": {},
   "outputs": [
    {
     "data": {
      "image/png": "[encoded data removed]",
      "text/plain": [
       "<Figure size 200x200 with 1 Axes>"
      ]
     },
     "metadata": {},
     "output_type": "display_data"
    }
   ],
   "source": [
    "visualize_2D(np.concatenate((A_3_by_3, B_3_by_1.T), axis=1), '拼接，沿列', 5, -5)"
   ]
  },
  {
   "cell_type": "code",
   "execution_count": 129,
   "id": "cdd3d26d-0d73-4ab6-a356-75afc6c04433",
   "metadata": {},
   "outputs": [
    {
     "data": {
      "text/plain": [
       "array([[-4, -3, -2,  4],\n",
       "       [-1,  0,  1,  0],\n",
       "       [ 2,  3,  4,  4]])"
      ]
     },
     "execution_count": 129,
     "metadata": {},
     "output_type": "execute_result"
    }
   ],
   "source": [
    "np.hstack((A_3_by_3, B_3_by_1.T))"
   ]
  },
  {
   "cell_type": "code",
   "execution_count": 130,
   "id": "4c4d71bd-32f6-4182-a0de-d3eda663a098",
   "metadata": {},
   "outputs": [
    {
     "data": {
      "text/plain": [
       "array([-4, -3, -2, -1,  0,  1,  2,  3,  4,  4,  0,  4])"
      ]
     },
     "execution_count": 130,
     "metadata": {},
     "output_type": "execute_result"
    }
   ],
   "source": [
    "np.concatenate((A_3_by_3, B_3_by_1), axis=None)"
   ]
  },
  {
   "cell_type": "markdown",
   "id": "3da7accb-6159-4f6c-a498-a1d1b1055b22",
   "metadata": {},
   "source": [
    "### 堆叠结果为三维数组"
   ]
  },
  {
   "cell_type": "code",
   "execution_count": 95,
   "id": "53445c1f-1987-4a64-aa36-8ce61723f790",
   "metadata": {},
   "outputs": [
    {
     "data": {
      "text/plain": [
       "array([[ 1,  2,  3,  4,  5,  6],\n",
       "       [ 7,  8,  9, 10, 11, 12],\n",
       "       [13, 14, 15, 16, 17, 18],\n",
       "       [19, 20, 21, 22, 23, 24]])"
      ]
     },
     "execution_count": 95,
     "metadata": {},
     "output_type": "execute_result"
    }
   ],
   "source": [
    "A = np.arange(1, 24 + 1).reshape(4, -1) \n",
    "A"
   ]
  },
  {
   "cell_type": "code",
   "execution_count": 96,
   "id": "6c6741bd-eabe-45fe-b961-56ac61f865e6",
   "metadata": {},
   "outputs": [
    {
     "data": {
      "image/png": "[encoded data removed]",
      "text/plain": [
       "<Figure size 300x200 with 1 Axes>"
      ]
     },
     "metadata": {},
     "output_type": "display_data"
    }
   ],
   "source": [
    "visualize_2D(A, '二维数组A', 24, -24)"
   ]
  },
  {
   "cell_type": "code",
   "execution_count": 97,
   "id": "3ea7933c-bcfb-43c3-a6db-2878c9c026eb",
   "metadata": {},
   "outputs": [
    {
     "data": {
      "text/plain": [
       "array([[-24, -23, -22, -21, -20, -19],\n",
       "       [-18, -17, -16, -15, -14, -13],\n",
       "       [-12, -11, -10,  -9,  -8,  -7],\n",
       "       [ -6,  -5,  -4,  -3,  -2,  -1]])"
      ]
     },
     "execution_count": 97,
     "metadata": {},
     "output_type": "execute_result"
    }
   ],
   "source": [
    "B = np.arange(-24, 0).reshape(4, -1)\n",
    "B"
   ]
  },
  {
   "cell_type": "code",
   "execution_count": 98,
   "id": "09bb57d5-58db-42e0-821f-d334e68ac65b",
   "metadata": {},
   "outputs": [
    {
     "data": {
      "image/png": "[encoded data removed]",
      "text/plain": [
       "<Figure size 300x200 with 1 Axes>"
      ]
     },
     "metadata": {},
     "output_type": "display_data"
    }
   ],
   "source": [
    "visualize_2D(B, '二维数组B', 24, -24)"
   ]
  },
  {
   "cell_type": "markdown",
   "id": "3e601483-d6fa-44e0-9517-b7e47bfd967f",
   "metadata": {},
   "source": [
    "#### axis = 0，前后堆叠"
   ]
  },
  {
   "cell_type": "code",
   "execution_count": 99,
   "id": "a407bb9a-51db-4384-bb55-a596eeaebb75",
   "metadata": {},
   "outputs": [
    {
     "data": {
      "text/plain": [
       "array([[[  1,   2,   3,   4,   5,   6],\n",
       "        [  7,   8,   9,  10,  11,  12],\n",
       "        [ 13,  14,  15,  16,  17,  18],\n",
       "        [ 19,  20,  21,  22,  23,  24]],\n",
       "\n",
       "       [[-24, -23, -22, -21, -20, -19],\n",
       "        [-18, -17, -16, -15, -14, -13],\n",
       "        [-12, -11, -10,  -9,  -8,  -7],\n",
       "        [ -6,  -5,  -4,  -3,  -2,  -1]]])"
      ]
     },
     "execution_count": 99,
     "metadata": {},
     "output_type": "execute_result"
    }
   ],
   "source": [
    "A_B_0 = np.stack((A, B))\n",
    "# 默认叠合方向 axis = 0\n",
    "A_B_0"
   ]
  },
  {
   "cell_type": "code",
   "execution_count": 100,
   "id": "3f935c85-0e85-47f7-a10c-cd01e1146721",
   "metadata": {},
   "outputs": [
    {
     "data": {
      "text/plain": [
       "(2, 4, 6)"
      ]
     },
     "execution_count": 100,
     "metadata": {},
     "output_type": "execute_result"
    }
   ],
   "source": [
    "A_B_0.shape"
   ]
  },
  {
   "cell_type": "code",
   "execution_count": 101,
   "id": "4ace7520-a822-4998-8114-caff6019be45",
   "metadata": {},
   "outputs": [
    {
     "data": {
      "text/plain": [
       "array([[ 1,  2,  3,  4,  5,  6],\n",
       "       [ 7,  8,  9, 10, 11, 12],\n",
       "       [13, 14, 15, 16, 17, 18],\n",
       "       [19, 20, 21, 22, 23, 24]])"
      ]
     },
     "execution_count": 101,
     "metadata": {},
     "output_type": "execute_result"
    }
   ],
   "source": [
    "# 取出第一页A\n",
    "A_B_0[0, :, :]"
   ]
  },
  {
   "cell_type": "code",
   "execution_count": 102,
   "id": "01c193de-475a-476f-a183-f532b7d5c380",
   "metadata": {},
   "outputs": [
    {
     "data": {
      "text/plain": [
       "array([[ 1,  2,  3,  4,  5,  6],\n",
       "       [ 7,  8,  9, 10, 11, 12],\n",
       "       [13, 14, 15, 16, 17, 18],\n",
       "       [19, 20, 21, 22, 23, 24]])"
      ]
     },
     "execution_count": 102,
     "metadata": {},
     "output_type": "execute_result"
    }
   ],
   "source": [
    "A_B_0[0, ...]"
   ]
  },
  {
   "cell_type": "code",
   "execution_count": 103,
   "id": "7f237640-3ee3-481a-b9e3-ac50570281e8",
   "metadata": {},
   "outputs": [
    {
     "data": {
      "image/png": "[encoded data removed]",
      "text/plain": [
       "<Figure size 300x200 with 1 Axes>"
      ]
     },
     "metadata": {},
     "output_type": "display_data"
    }
   ],
   "source": [
    "visualize_2D(A_B_0[0, ...], '沿深度堆叠，axis = 0，第0页', 12, -12)"
   ]
  },
  {
   "cell_type": "code",
   "execution_count": 104,
   "id": "e0f765a4-0d36-49f2-86f5-aa81a722e370",
   "metadata": {},
   "outputs": [
    {
     "data": {
      "image/png": "[encoded data removed]",
      "text/plain": [
       "<Figure size 300x200 with 1 Axes>"
      ]
     },
     "metadata": {},
     "output_type": "display_data"
    }
   ],
   "source": [
    "visualize_2D(A_B_0[1, ...], '沿深度堆叠，axis = 0，第1页', 12, -12)"
   ]
  },
  {
   "cell_type": "code",
   "execution_count": 105,
   "id": "df2c862c-cbed-43b6-9797-df80a82f39cb",
   "metadata": {},
   "outputs": [
    {
     "data": {
      "text/plain": [
       "array([[ 1,  2,  3,  4,  5,  6],\n",
       "       [ 7,  8,  9, 10, 11, 12],\n",
       "       [13, 14, 15, 16, 17, 18],\n",
       "       [19, 20, 21, 22, 23, 24]])"
      ]
     },
     "execution_count": 105,
     "metadata": {},
     "output_type": "execute_result"
    }
   ],
   "source": [
    "A_B_0[0]"
   ]
  },
  {
   "cell_type": "markdown",
   "id": "e73b8804-35dc-4712-b44e-a8070a3d229c",
   "metadata": {},
   "source": [
    "#### axis = 1，上下堆叠"
   ]
  },
  {
   "cell_type": "code",
   "execution_count": 106,
   "id": "a5766ed4-1ed5-4476-8a79-a96b9ed2cd4e",
   "metadata": {},
   "outputs": [
    {
     "data": {
      "text/plain": [
       "array([[[  1,   2,   3,   4,   5,   6],\n",
       "        [-24, -23, -22, -21, -20, -19]],\n",
       "\n",
       "       [[  7,   8,   9,  10,  11,  12],\n",
       "        [-18, -17, -16, -15, -14, -13]],\n",
       "\n",
       "       [[ 13,  14,  15,  16,  17,  18],\n",
       "        [-12, -11, -10,  -9,  -8,  -7]],\n",
       "\n",
       "       [[ 19,  20,  21,  22,  23,  24],\n",
       "        [ -6,  -5,  -4,  -3,  -2,  -1]]])"
      ]
     },
     "execution_count": 106,
     "metadata": {},
     "output_type": "execute_result"
    }
   ],
   "source": [
    "A_B_1 = np.stack((A, B), axis=1)  \n",
    "# dimension 1\n",
    "A_B_1"
   ]
  },
  {
   "cell_type": "code",
   "execution_count": 27,
   "id": "1a88949d-b5e6-4ace-a101-498d4408cbad",
   "metadata": {},
   "outputs": [
    {
     "data": {
      "text/plain": [
       "(3, 2, 4)"
      ]
     },
     "execution_count": 27,
     "metadata": {},
     "output_type": "execute_result"
    }
   ],
   "source": [
    "A_B_1.shape"
   ]
  },
  {
   "cell_type": "code",
   "execution_count": 113,
   "id": "02fa1d52-14c6-49cd-86a2-683aa6b2a755",
   "metadata": {},
   "outputs": [
    {
     "data": {
      "image/png": "[encoded data removed]",
      "text/plain": [
       "<Figure size 300x100 with 1 Axes>"
      ]
     },
     "metadata": {},
     "output_type": "display_data"
    }
   ],
   "source": [
    "visualize_2D(A_B_1[0, ...], '沿深度堆叠，axis = 1，第0页', 24, -24)"
   ]
  },
  {
   "cell_type": "code",
   "execution_count": 112,
   "id": "51ab3af1-4fd6-4efe-a72b-201f34676d8f",
   "metadata": {},
   "outputs": [
    {
     "data": {
      "image/png": "[encoded data removed]",
      "text/plain": [
       "<Figure size 300x100 with 1 Axes>"
      ]
     },
     "metadata": {},
     "output_type": "display_data"
    }
   ],
   "source": [
    "visualize_2D(A_B_1[1, ...], '沿深度堆叠，axis = 1，第1页', 24, -24)"
   ]
  },
  {
   "cell_type": "code",
   "execution_count": 111,
   "id": "054226c7-1575-4525-94eb-2e606aa1067d",
   "metadata": {},
   "outputs": [
    {
     "data": {
      "image/png": "[encoded data removed]",
      "text/plain": [
       "<Figure size 300x100 with 1 Axes>"
      ]
     },
     "metadata": {},
     "output_type": "display_data"
    }
   ],
   "source": [
    "visualize_2D(A_B_1[2, ...], '沿深度堆叠，axis = 1，第2页', 24, -24)"
   ]
  },
  {
   "cell_type": "code",
   "execution_count": 115,
   "id": "c263a329-c014-4d63-a613-8ef9b63a21f6",
   "metadata": {},
   "outputs": [
    {
     "data": {
      "image/png": "[encoded data removed]",
      "text/plain": [
       "<Figure size 300x100 with 1 Axes>"
      ]
     },
     "metadata": {},
     "output_type": "display_data"
    }
   ],
   "source": [
    "visualize_2D(A_B_1[3, ...], '沿深度堆叠，axis = 1，第3页', 24, -24)"
   ]
  },
  {
   "cell_type": "code",
   "execution_count": 114,
   "id": "ad48afc4-717a-446a-8f59-74078e81c3e2",
   "metadata": {},
   "outputs": [
    {
     "data": {
      "text/plain": [
       "array([[ 1,  2,  3,  4,  5,  6],\n",
       "       [ 7,  8,  9, 10, 11, 12],\n",
       "       [13, 14, 15, 16, 17, 18],\n",
       "       [19, 20, 21, 22, 23, 24]])"
      ]
     },
     "execution_count": 114,
     "metadata": {},
     "output_type": "execute_result"
    }
   ],
   "source": [
    "# 取出A\n",
    "A_B_1[:, 0, :]"
   ]
  },
  {
   "cell_type": "markdown",
   "id": "97153f0a-1357-41d9-be59-a00eb47c15e9",
   "metadata": {},
   "source": [
    "#### axis = 2，左右堆叠"
   ]
  },
  {
   "cell_type": "code",
   "execution_count": 116,
   "id": "308c9102-72ee-4787-a972-7a0ae3f5c4c3",
   "metadata": {},
   "outputs": [
    {
     "data": {
      "text/plain": [
       "array([[[  1, -24],\n",
       "        [  2, -23],\n",
       "        [  3, -22],\n",
       "        [  4, -21],\n",
       "        [  5, -20],\n",
       "        [  6, -19]],\n",
       "\n",
       "       [[  7, -18],\n",
       "        [  8, -17],\n",
       "        [  9, -16],\n",
       "        [ 10, -15],\n",
       "        [ 11, -14],\n",
       "        [ 12, -13]],\n",
       "\n",
       "       [[ 13, -12],\n",
       "        [ 14, -11],\n",
       "        [ 15, -10],\n",
       "        [ 16,  -9],\n",
       "        [ 17,  -8],\n",
       "        [ 18,  -7]],\n",
       "\n",
       "       [[ 19,  -6],\n",
       "        [ 20,  -5],\n",
       "        [ 21,  -4],\n",
       "        [ 22,  -3],\n",
       "        [ 23,  -2],\n",
       "        [ 24,  -1]]])"
      ]
     },
     "execution_count": 116,
     "metadata": {},
     "output_type": "execute_result"
    }
   ],
   "source": [
    "A_B_2 = np.stack((A, B), axis=2)  \n",
    "# dimension 2\n",
    "A_B_2"
   ]
  },
  {
   "cell_type": "code",
   "execution_count": 117,
   "id": "2636adc9-137f-43b5-9ad7-4f7a8e60b854",
   "metadata": {},
   "outputs": [
    {
     "data": {
      "text/plain": [
       "(4, 6, 2)"
      ]
     },
     "execution_count": 117,
     "metadata": {},
     "output_type": "execute_result"
    }
   ],
   "source": [
    "A_B_2.shape"
   ]
  },
  {
   "cell_type": "code",
   "execution_count": 118,
   "id": "bf2c5f43-25bc-4423-9daf-3ad68899398d",
   "metadata": {},
   "outputs": [
    {
     "data": {
      "image/png": "[encoded data removed]",
      "text/plain": [
       "<Figure size 100x300 with 1 Axes>"
      ]
     },
     "metadata": {},
     "output_type": "display_data"
    }
   ],
   "source": [
    "visualize_2D(A_B_2[0, ...], '沿深度堆叠，axis = 2，第0页', 24, -24)"
   ]
  },
  {
   "cell_type": "code",
   "execution_count": 119,
   "id": "8879e8c2-2dc2-4888-ba52-02b45b387acb",
   "metadata": {},
   "outputs": [
    {
     "data": {
      "image/png": "[encoded data removed]",
      "text/plain": [
       "<Figure size 100x300 with 1 Axes>"
      ]
     },
     "metadata": {},
     "output_type": "display_data"
    }
   ],
   "source": [
    "visualize_2D(A_B_2[1, ...], '沿深度堆叠，axis = 2，第1页', 24, -24)"
   ]
  },
  {
   "cell_type": "code",
   "execution_count": 120,
   "id": "7a7e2b21-5cc6-4e55-bbbb-8882681343e5",
   "metadata": {},
   "outputs": [
    {
     "data": {
      "image/png": "[encoded data removed]",
      "text/plain": [
       "<Figure size 100x300 with 1 Axes>"
      ]
     },
     "metadata": {},
     "output_type": "display_data"
    }
   ],
   "source": [
    "visualize_2D(A_B_2[2, ...], '沿深度堆叠，axis = 2，第2页', 24, -24)"
   ]
  },
  {
   "cell_type": "code",
   "execution_count": 123,
   "id": "6a09519b-c448-4d5a-b5dc-700a9f218a53",
   "metadata": {},
   "outputs": [
    {
     "data": {
      "image/png": "[encoded data removed]",
      "text/plain": [
       "<Figure size 100x300 with 1 Axes>"
      ]
     },
     "metadata": {},
     "output_type": "display_data"
    }
   ],
   "source": [
    "visualize_2D(A_B_2[3, ...], '沿深度堆叠，axis = 2，第3页', 24, -24)"
   ]
  },
  {
   "cell_type": "code",
   "execution_count": 122,
   "id": "46e002d1-0a4d-4757-b262-191e39c5c540",
   "metadata": {},
   "outputs": [
    {
     "data": {
      "text/plain": [
       "array([[ 1,  2,  3,  4,  5,  6],\n",
       "       [ 7,  8,  9, 10, 11, 12],\n",
       "       [13, 14, 15, 16, 17, 18],\n",
       "       [19, 20, 21, 22, 23, 24]])"
      ]
     },
     "execution_count": 122,
     "metadata": {},
     "output_type": "execute_result"
    }
   ],
   "source": [
    "# 取出A\n",
    "A_B_2[...,0]"
   ]
  },
  {
   "cell_type": "markdown",
   "id": "c799b8bc-2452-4384-a2a8-8856892ac250",
   "metadata": {},
   "source": [
    "## 重复"
   ]
  },
  {
   "cell_type": "markdown",
   "id": "4aa8408f-b95f-44da-b24e-b064e58d6545",
   "metadata": {},
   "source": [
    "### 重复numpy.repeat()"
   ]
  },
  {
   "cell_type": "code",
   "execution_count": 146,
   "id": "583c6031-aff1-461a-9fc8-b708ef268f80",
   "metadata": {},
   "outputs": [],
   "source": [
    "a_1D = np.arange(-2,2+1)"
   ]
  },
  {
   "cell_type": "code",
   "execution_count": 147,
   "id": "fd6d5abe-0996-41d9-a476-b7dcbaba54e8",
   "metadata": {},
   "outputs": [
    {
     "data": {
      "image/png": "[encoded data removed]",
      "text/plain": [
       "<Figure size 640x480 with 1 Axes>"
      ]
     },
     "metadata": {},
     "output_type": "display_data"
    }
   ],
   "source": [
    "visualize_1D(a_1D, 'a_1D，一维', 3, -3)"
   ]
  },
  {
   "cell_type": "code",
   "execution_count": 47,
   "id": "ab48e1bd-2548-47b0-9b7b-a7da56c6d89b",
   "metadata": {},
   "outputs": [
    {
     "data": {
      "text/plain": [
       "array([-3, -3, -2, -2, -1, -1,  0,  0,  1,  1,  2,  2])"
      ]
     },
     "execution_count": 47,
     "metadata": {},
     "output_type": "execute_result"
    }
   ],
   "source": [
    "np.repeat(a_1D, 2)"
   ]
  },
  {
   "cell_type": "code",
   "execution_count": 148,
   "id": "1d4a2337-15be-452e-a55b-e4239ccf29be",
   "metadata": {},
   "outputs": [
    {
     "data": {
      "image/png": "[encoded data removed]",
      "text/plain": [
       "<Figure size 640x480 with 1 Axes>"
      ]
     },
     "metadata": {},
     "output_type": "display_data"
    }
   ],
   "source": [
    "visualize_1D(np.repeat(a_1D, 2), 'a_1D，一维，重复两次', 3, -3)"
   ]
  },
  {
   "cell_type": "code",
   "execution_count": 149,
   "id": "9911d42c-073a-40af-91f5-f8f7f2121de9",
   "metadata": {},
   "outputs": [
    {
     "data": {
      "image/png": "[encoded data removed]",
      "text/plain": [
       "<Figure size 640x480 with 1 Axes>"
      ]
     },
     "metadata": {},
     "output_type": "display_data"
    }
   ],
   "source": [
    "visualize_1D(np.repeat(a_1D, 3), 'a_1D，一维，重复三次', 3, -3)"
   ]
  },
  {
   "cell_type": "markdown",
   "id": "d2d890f8-6aa1-4aa9-bc48-d737af98f4a0",
   "metadata": {},
   "source": [
    "### 瓷砖numpy.tile()"
   ]
  },
  {
   "cell_type": "code",
   "execution_count": 150,
   "id": "62ca591c-b317-40b2-aa81-98f85fbd3463",
   "metadata": {},
   "outputs": [
    {
     "data": {
      "text/plain": [
       "array([-2, -1,  0,  1,  2, -2, -1,  0,  1,  2])"
      ]
     },
     "execution_count": 150,
     "metadata": {},
     "output_type": "execute_result"
    }
   ],
   "source": [
    "np.tile(a_1D, 2)"
   ]
  },
  {
   "cell_type": "code",
   "execution_count": 151,
   "id": "7aca2cac-289e-4460-92f6-560b0e6050db",
   "metadata": {},
   "outputs": [
    {
     "data": {
      "image/png": "[encoded data removed]",
      "text/plain": [
       "<Figure size 640x480 with 1 Axes>"
      ]
     },
     "metadata": {},
     "output_type": "display_data"
    }
   ],
   "source": [
    "visualize_1D(np.tile(a_1D, 2), 'a_1D，一维，瓷砖二次', 3, -3)"
   ]
  },
  {
   "cell_type": "code",
   "execution_count": 152,
   "id": "9dc65c1c-b289-4e5c-8813-781214116708",
   "metadata": {},
   "outputs": [
    {
     "data": {
      "image/png": "[encoded data removed]",
      "text/plain": [
       "<Figure size 640x480 with 1 Axes>"
      ]
     },
     "metadata": {},
     "output_type": "display_data"
    }
   ],
   "source": [
    "visualize_1D(np.tile(a_1D, 3), 'a_1D，一维，瓷砖三次', 3, -3)"
   ]
  },
  {
   "cell_type": "code",
   "execution_count": 49,
   "id": "3403dff6-39f4-4744-9bc7-bf4167085922",
   "metadata": {},
   "outputs": [
    {
     "data": {
      "text/plain": [
       "array([[-3, -2, -1,  0,  1,  2],\n",
       "       [-3, -2, -1,  0,  1,  2]])"
      ]
     },
     "execution_count": 49,
     "metadata": {},
     "output_type": "execute_result"
    }
   ],
   "source": [
    "np.tile(a_1D, (2,1))"
   ]
  },
  {
   "cell_type": "code",
   "execution_count": 154,
   "id": "9efeedc2-8bd1-4f7d-94d5-6b2d8f0360ce",
   "metadata": {},
   "outputs": [
    {
     "data": {
      "image/png": "[encoded data removed]",
      "text/plain": [
       "<Figure size 300x100 with 1 Axes>"
      ]
     },
     "metadata": {},
     "output_type": "display_data"
    }
   ],
   "source": [
    "visualize_2D(np.tile(a_1D, (2,1)), 'a_1D，一维，瓷砖(2,1)', 3, -3)"
   ]
  },
  {
   "cell_type": "code",
   "execution_count": 50,
   "id": "0d35667d-1379-4822-ba5d-14ca5c94b9f5",
   "metadata": {},
   "outputs": [
    {
     "data": {
      "text/plain": [
       "array([[-3, -2, -1,  0,  1,  2, -3, -2, -1,  0,  1,  2],\n",
       "       [-3, -2, -1,  0,  1,  2, -3, -2, -1,  0,  1,  2]])"
      ]
     },
     "execution_count": 50,
     "metadata": {},
     "output_type": "execute_result"
    }
   ],
   "source": [
    "np.tile(a_1D, (2,2))"
   ]
  },
  {
   "cell_type": "code",
   "execution_count": 155,
   "id": "872e7c25-b131-4422-9696-0c8b5ce0ee5c",
   "metadata": {},
   "outputs": [
    {
     "data": {
      "image/png": "[encoded data removed]",
      "text/plain": [
       "<Figure size 500x100 with 1 Axes>"
      ]
     },
     "metadata": {},
     "output_type": "display_data"
    }
   ],
   "source": [
    "visualize_2D(np.tile(a_1D, (2,2)), 'a_1D，一维，瓷砖(2,2)', 3, -3)"
   ]
  },
  {
   "cell_type": "code",
   "execution_count": 51,
   "id": "2c28bec3-4e0e-456b-b8df-1fe6b36212ff",
   "metadata": {},
   "outputs": [
    {
     "data": {
      "text/plain": [
       "array([[-3, -2, -1],\n",
       "       [ 0,  1,  2]])"
      ]
     },
     "execution_count": 51,
     "metadata": {},
     "output_type": "execute_result"
    }
   ],
   "source": [
    "A = a_1D.reshape(2,3)\n",
    "A"
   ]
  },
  {
   "cell_type": "code",
   "execution_count": 52,
   "id": "37a7dc0e-e892-48c1-807b-5679e32a345c",
   "metadata": {},
   "outputs": [
    {
     "data": {
      "text/plain": [
       "array([[-3, -2, -1, -3, -2, -1],\n",
       "       [ 0,  1,  2,  0,  1,  2]])"
      ]
     },
     "execution_count": 52,
     "metadata": {},
     "output_type": "execute_result"
    }
   ],
   "source": [
    "np.tile(A, 2)"
   ]
  },
  {
   "cell_type": "code",
   "execution_count": 53,
   "id": "51d5b20a-367c-429b-9da0-0fc56ab85201",
   "metadata": {},
   "outputs": [
    {
     "data": {
      "text/plain": [
       "array([[-3, -2, -1],\n",
       "       [ 0,  1,  2],\n",
       "       [-3, -2, -1],\n",
       "       [ 0,  1,  2]])"
      ]
     },
     "execution_count": 53,
     "metadata": {},
     "output_type": "execute_result"
    }
   ],
   "source": [
    "np.tile(A, (2,1))"
   ]
  },
  {
   "cell_type": "code",
   "execution_count": 54,
   "id": "fca1ccbc-2c11-4cc4-adc5-00182f12b226",
   "metadata": {},
   "outputs": [
    {
     "data": {
      "text/plain": [
       "array([[-3, -2, -1, -3, -2, -1],\n",
       "       [ 0,  1,  2,  0,  1,  2],\n",
       "       [-3, -2, -1, -3, -2, -1],\n",
       "       [ 0,  1,  2,  0,  1,  2]])"
      ]
     },
     "execution_count": 54,
     "metadata": {},
     "output_type": "execute_result"
    }
   ],
   "source": [
    "np.tile(A, (2,2))"
   ]
  },
  {
   "cell_type": "markdown",
   "id": "20a15f06-0785-45df-a8b5-9f21baf27f2f",
   "metadata": {},
   "source": [
    "## 分块矩阵"
   ]
  },
  {
   "cell_type": "markdown",
   "id": "b60e3f05-2304-4d60-8b7e-03127adf0711",
   "metadata": {},
   "source": [
    "### 合成"
   ]
  },
  {
   "cell_type": "code",
   "execution_count": 160,
   "id": "0c40053e-b136-47b5-a967-c3b01f6c3ead",
   "metadata": {},
   "outputs": [
    {
     "data": {
      "text/plain": [
       "array([[1., 0.],\n",
       "       [0., 1.]])"
      ]
     },
     "execution_count": 160,
     "metadata": {},
     "output_type": "execute_result"
    }
   ],
   "source": [
    "A = np.eye(2)\n",
    "A"
   ]
  },
  {
   "cell_type": "code",
   "execution_count": 161,
   "id": "61ce091f-5d61-4143-8e23-522dfd350dab",
   "metadata": {},
   "outputs": [
    {
     "data": {
      "text/plain": [
       "array([[-4, -3, -2],\n",
       "       [-1,  0,  1],\n",
       "       [ 2,  3,  4]])"
      ]
     },
     "execution_count": 161,
     "metadata": {},
     "output_type": "execute_result"
    }
   ],
   "source": [
    "B = np.arange(-4,4+1).reshape(3,3)\n",
    "B"
   ]
  },
  {
   "cell_type": "code",
   "execution_count": 166,
   "id": "6afdcb7e-c238-43f7-a887-688b5f222154",
   "metadata": {},
   "outputs": [
    {
     "data": {
      "text/plain": [
       "array([[ 1.,  0.,  0.,  0.,  0.],\n",
       "       [ 0.,  1.,  0.,  0.,  0.],\n",
       "       [ 0.,  0., -4., -3., -2.],\n",
       "       [ 0.,  0., -1.,  0.,  1.],\n",
       "       [ 0.,  0.,  2.,  3.,  4.]])"
      ]
     },
     "execution_count": 166,
     "metadata": {},
     "output_type": "execute_result"
    }
   ],
   "source": [
    "M = np.block([[A,                np.zeros((2, 3))],\n",
    "              [np.zeros((3, 2)), B               ]])\n",
    "M"
   ]
  },
  {
   "cell_type": "code",
   "execution_count": 165,
   "id": "ebe283f2-b48a-499e-bd4b-32de43ca9b79",
   "metadata": {},
   "outputs": [
    {
     "data": {
      "image/png": "[encoded data removed]",
      "text/plain": [
       "<Figure size 300x300 with 1 Axes>"
      ]
     },
     "metadata": {},
     "output_type": "display_data"
    }
   ],
   "source": [
    "visualize_2D(M, '合成矩阵M', 5, -5)"
   ]
  },
  {
   "cell_type": "markdown",
   "id": "50ec4456-93d0-4ee1-9c09-c5efe91ab8ed",
   "metadata": {},
   "source": [
    "### 切割"
   ]
  },
  {
   "cell_type": "markdown",
   "id": "b75c2dd2-61e8-4a0d-84ed-d31caa2ac986",
   "metadata": {},
   "source": [
    "#### 沿指定轴numpy.split()"
   ]
  },
  {
   "cell_type": "code",
   "execution_count": 188,
   "id": "5a144990-e84b-44ee-98dd-928b8c3a3686",
   "metadata": {},
   "outputs": [
    {
     "data": {
      "text/plain": [
       "array([-9, -8, -7, -6, -5, -4, -3, -2, -1,  0,  1,  2,  3,  4,  5,  6,  7,\n",
       "        8])"
      ]
     },
     "execution_count": 188,
     "metadata": {},
     "output_type": "execute_result"
    }
   ],
   "source": [
    "a_1D = np.arange(-9,9)\n",
    "a_1D"
   ]
  },
  {
   "cell_type": "code",
   "execution_count": 189,
   "id": "e8fbd44a-f966-4b92-ae18-d432dec913b6",
   "metadata": {},
   "outputs": [
    {
     "data": {
      "text/plain": [
       "18"
      ]
     },
     "execution_count": 189,
     "metadata": {},
     "output_type": "execute_result"
    }
   ],
   "source": [
    "len(a_1D)"
   ]
  },
  {
   "cell_type": "code",
   "execution_count": 190,
   "id": "79c4e5dd-c3a8-4cb6-be01-3229a57f879d",
   "metadata": {},
   "outputs": [
    {
     "data": {
      "image/png": "[encoded data removed]",
      "text/plain": [
       "<Figure size 640x480 with 1 Axes>"
      ]
     },
     "metadata": {},
     "output_type": "display_data"
    }
   ],
   "source": [
    "visualize_1D(a_1D, 'a_1D，一维', 10, -10)"
   ]
  },
  {
   "cell_type": "code",
   "execution_count": 191,
   "id": "a6778e1e-ee40-40fb-b1d7-84b088eea01e",
   "metadata": {},
   "outputs": [
    {
     "data": {
      "text/plain": [
       "[array([-9, -8, -7, -6, -5, -4]),\n",
       " array([-3, -2, -1,  0,  1,  2]),\n",
       " array([3, 4, 5, 6, 7, 8])]"
      ]
     },
     "execution_count": 191,
     "metadata": {},
     "output_type": "execute_result"
    }
   ],
   "source": [
    "a_3_splits = np.split(a_1D, 3)\n",
    "a_3_splits"
   ]
  },
  {
   "cell_type": "code",
   "execution_count": 175,
   "id": "a1c159c4-9825-444c-9a0d-0b393bf72aa2",
   "metadata": {},
   "outputs": [
    {
     "data": {
      "text/plain": [
       "array([-4, -3, -2])"
      ]
     },
     "execution_count": 175,
     "metadata": {},
     "output_type": "execute_result"
    }
   ],
   "source": [
    "a_3_splits[0]"
   ]
  },
  {
   "cell_type": "code",
   "execution_count": 176,
   "id": "6e28ada4-94ff-4d4c-8282-a7efb665f718",
   "metadata": {},
   "outputs": [
    {
     "data": {
      "text/plain": [
       "array([-1,  0,  1])"
      ]
     },
     "execution_count": 176,
     "metadata": {},
     "output_type": "execute_result"
    }
   ],
   "source": [
    "a_3_splits[1]"
   ]
  },
  {
   "cell_type": "code",
   "execution_count": 177,
   "id": "3e4ec99d-0b9c-4c9b-b5cf-b24b36e09c21",
   "metadata": {},
   "outputs": [
    {
     "data": {
      "text/plain": [
       "array([2, 3, 4])"
      ]
     },
     "execution_count": 177,
     "metadata": {},
     "output_type": "execute_result"
    }
   ],
   "source": [
    "a_3_splits[2]"
   ]
  },
  {
   "cell_type": "code",
   "execution_count": 194,
   "id": "6b113e71-01eb-4202-ae74-b809a2d528f3",
   "metadata": {},
   "outputs": [
    {
     "data": {
      "text/plain": [
       "[array([-9, -8, -7]),\n",
       " array([-6, -5]),\n",
       " array([-4]),\n",
       " array([-3, -2, -1,  0]),\n",
       " array([1, 2, 3, 4, 5, 6]),\n",
       " array([7, 8])]"
      ]
     },
     "execution_count": 194,
     "metadata": {},
     "output_type": "execute_result"
    }
   ],
   "source": [
    "np.split(a_1D, [3, 5, 6, 10, 16])\n",
    "# 指定切割indexes "
   ]
  },
  {
   "cell_type": "code",
   "execution_count": 180,
   "id": "d9868922-7ebd-4011-94f3-e8c582d030dd",
   "metadata": {},
   "outputs": [
    {
     "data": {
      "text/plain": [
       "array([[-40, -39, -38, -37, -36, -35, -34, -33, -32],\n",
       "       [-31, -30, -29, -28, -27, -26, -25, -24, -23],\n",
       "       [-22, -21, -20, -19, -18, -17, -16, -15, -14],\n",
       "       [-13, -12, -11, -10,  -9,  -8,  -7,  -6,  -5],\n",
       "       [ -4,  -3,  -2,  -1,   0,   1,   2,   3,   4],\n",
       "       [  5,   6,   7,   8,   9,  10,  11,  12,  13],\n",
       "       [ 14,  15,  16,  17,  18,  19,  20,  21,  22],\n",
       "       [ 23,  24,  25,  26,  27,  28,  29,  30,  31],\n",
       "       [ 32,  33,  34,  35,  36,  37,  38,  39,  40]])"
      ]
     },
     "execution_count": 180,
     "metadata": {},
     "output_type": "execute_result"
    }
   ],
   "source": [
    "A_9_by_9 = np.arange(-40,40+1).reshape(9,9)\n",
    "A_9_by_9"
   ]
  },
  {
   "cell_type": "code",
   "execution_count": 185,
   "id": "b23e5f60-c70d-4b92-b7e8-ab59e56a625b",
   "metadata": {},
   "outputs": [
    {
     "data": {
      "image/png": "[encoded data removed]",
      "text/plain": [
       "<Figure size 500x500 with 1 Axes>"
      ]
     },
     "metadata": {},
     "output_type": "display_data"
    }
   ],
   "source": [
    "visualize_2D(A_9_by_9, 'A_9_by_9', 40, -40)"
   ]
  },
  {
   "cell_type": "code",
   "execution_count": 183,
   "id": "7fb8c8ae-63be-4c51-b0c6-d58c60e3957d",
   "metadata": {},
   "outputs": [
    {
     "data": {
      "text/plain": [
       "[array([[-40, -39, -38, -37, -36, -35, -34, -33, -32],\n",
       "        [-31, -30, -29, -28, -27, -26, -25, -24, -23],\n",
       "        [-22, -21, -20, -19, -18, -17, -16, -15, -14]]),\n",
       " array([[-13, -12, -11, -10,  -9,  -8,  -7,  -6,  -5],\n",
       "        [ -4,  -3,  -2,  -1,   0,   1,   2,   3,   4],\n",
       "        [  5,   6,   7,   8,   9,  10,  11,  12,  13]]),\n",
       " array([[14, 15, 16, 17, 18, 19, 20, 21, 22],\n",
       "        [23, 24, 25, 26, 27, 28, 29, 30, 31],\n",
       "        [32, 33, 34, 35, 36, 37, 38, 39, 40]])]"
      ]
     },
     "execution_count": 183,
     "metadata": {},
     "output_type": "execute_result"
    }
   ],
   "source": [
    "A_3_splits_axis_0 = np.split(A_9_by_9, 3)\n",
    "A_3_splits_axis_0"
   ]
  },
  {
   "cell_type": "code",
   "execution_count": 184,
   "id": "2f9ee19a-b330-4463-b9b8-e9c923eaf67a",
   "metadata": {},
   "outputs": [
    {
     "data": {
      "text/plain": [
       "[array([[-40, -39, -38],\n",
       "        [-31, -30, -29],\n",
       "        [-22, -21, -20],\n",
       "        [-13, -12, -11],\n",
       "        [ -4,  -3,  -2],\n",
       "        [  5,   6,   7],\n",
       "        [ 14,  15,  16],\n",
       "        [ 23,  24,  25],\n",
       "        [ 32,  33,  34]]),\n",
       " array([[-37, -36, -35],\n",
       "        [-28, -27, -26],\n",
       "        [-19, -18, -17],\n",
       "        [-10,  -9,  -8],\n",
       "        [ -1,   0,   1],\n",
       "        [  8,   9,  10],\n",
       "        [ 17,  18,  19],\n",
       "        [ 26,  27,  28],\n",
       "        [ 35,  36,  37]]),\n",
       " array([[-34, -33, -32],\n",
       "        [-25, -24, -23],\n",
       "        [-16, -15, -14],\n",
       "        [ -7,  -6,  -5],\n",
       "        [  2,   3,   4],\n",
       "        [ 11,  12,  13],\n",
       "        [ 20,  21,  22],\n",
       "        [ 29,  30,  31],\n",
       "        [ 38,  39,  40]])]"
      ]
     },
     "execution_count": 184,
     "metadata": {},
     "output_type": "execute_result"
    }
   ],
   "source": [
    "A_3_splits_axis_1 = np.split(A_9_by_9, 3, axis = 1)\n",
    "A_3_splits_axis_1"
   ]
  },
  {
   "cell_type": "markdown",
   "id": "eec58985-a153-49c7-8027-8c86cdc524b7",
   "metadata": {},
   "source": [
    "#### 沿着水平方向切割"
   ]
  },
  {
   "cell_type": "code",
   "execution_count": 196,
   "id": "db825f3f-3563-4c0a-8612-a49f22b26ae9",
   "metadata": {},
   "outputs": [
    {
     "data": {
      "text/plain": [
       "[array([[-40, -39, -38],\n",
       "        [-31, -30, -29],\n",
       "        [-22, -21, -20],\n",
       "        [-13, -12, -11],\n",
       "        [ -4,  -3,  -2],\n",
       "        [  5,   6,   7],\n",
       "        [ 14,  15,  16],\n",
       "        [ 23,  24,  25],\n",
       "        [ 32,  33,  34]]),\n",
       " array([[-37, -36, -35],\n",
       "        [-28, -27, -26],\n",
       "        [-19, -18, -17],\n",
       "        [-10,  -9,  -8],\n",
       "        [ -1,   0,   1],\n",
       "        [  8,   9,  10],\n",
       "        [ 17,  18,  19],\n",
       "        [ 26,  27,  28],\n",
       "        [ 35,  36,  37]]),\n",
       " array([[-34, -33, -32],\n",
       "        [-25, -24, -23],\n",
       "        [-16, -15, -14],\n",
       "        [ -7,  -6,  -5],\n",
       "        [  2,   3,   4],\n",
       "        [ 11,  12,  13],\n",
       "        [ 20,  21,  22],\n",
       "        [ 29,  30,  31],\n",
       "        [ 38,  39,  40]])]"
      ]
     },
     "execution_count": 196,
     "metadata": {},
     "output_type": "execute_result"
    }
   ],
   "source": [
    "np.hsplit(A_9_by_9, 3)"
   ]
  },
  {
   "cell_type": "markdown",
   "id": "70792002-c157-402b-a63e-502d59433b60",
   "metadata": {},
   "source": [
    "#### 沿着竖直方向切割"
   ]
  },
  {
   "cell_type": "code",
   "execution_count": 197,
   "id": "d1b4e212-ccfc-4d76-bc99-7d6f5c0b0d9f",
   "metadata": {},
   "outputs": [
    {
     "data": {
      "text/plain": [
       "[array([[-40, -39, -38, -37, -36, -35, -34, -33, -32],\n",
       "        [-31, -30, -29, -28, -27, -26, -25, -24, -23],\n",
       "        [-22, -21, -20, -19, -18, -17, -16, -15, -14]]),\n",
       " array([[-13, -12, -11, -10,  -9,  -8,  -7,  -6,  -5],\n",
       "        [ -4,  -3,  -2,  -1,   0,   1,   2,   3,   4],\n",
       "        [  5,   6,   7,   8,   9,  10,  11,  12,  13]]),\n",
       " array([[14, 15, 16, 17, 18, 19, 20, 21, 22],\n",
       "        [23, 24, 25, 26, 27, 28, 29, 30, 31],\n",
       "        [32, 33, 34, 35, 36, 37, 38, 39, 40]])]"
      ]
     },
     "execution_count": 197,
     "metadata": {},
     "output_type": "execute_result"
    }
   ],
   "source": [
    "np.vsplit(A_9_by_9, 3)"
   ]
  },
  {
   "cell_type": "markdown",
   "id": "37fd918a-9b2f-42ed-b348-d9005f1f13c3",
   "metadata": {},
   "source": [
    "## 插入、删除"
   ]
  },
  {
   "cell_type": "markdown",
   "id": "c2790b8b-71d4-4046-812c-741c9b78acf5",
   "metadata": {},
   "source": [
    "### 附加numpy.append()"
   ]
  },
  {
   "cell_type": "code",
   "execution_count": 198,
   "id": "b5d4c78d-4957-42ec-8180-04f6753f8e7e",
   "metadata": {},
   "outputs": [
    {
     "data": {
      "text/plain": [
       "array([1, 2, 3, 4, 5, 6, 7, 8, 9])"
      ]
     },
     "execution_count": 198,
     "metadata": {},
     "output_type": "execute_result"
    }
   ],
   "source": [
    "np.append([1, 2, 3], [[4, 5, 6], [7, 8, 9]])"
   ]
  },
  {
   "cell_type": "code",
   "execution_count": 199,
   "id": "a85b465c-1672-41d2-8174-e398f5807cc8",
   "metadata": {},
   "outputs": [
    {
     "data": {
      "text/plain": [
       "array([[1, 2, 3],\n",
       "       [4, 5, 6],\n",
       "       [7, 8, 9]])"
      ]
     },
     "execution_count": 199,
     "metadata": {},
     "output_type": "execute_result"
    }
   ],
   "source": [
    "np.append([[1, 2, 3], [4, 5, 6]], [[7, 8, 9]], axis=0)"
   ]
  },
  {
   "cell_type": "markdown",
   "id": "1720c046-6105-450a-8d80-c3f0e19ef611",
   "metadata": {},
   "source": [
    "### 插入"
   ]
  },
  {
   "cell_type": "code",
   "execution_count": 69,
   "id": "08bbdfc0-7104-4b1f-9a48-dacae92e4120",
   "metadata": {},
   "outputs": [
    {
     "data": {
      "text/plain": [
       "array([[1, 1, 1],\n",
       "       [2, 2, 2],\n",
       "       [3, 3, 3]])"
      ]
     },
     "execution_count": 69,
     "metadata": {},
     "output_type": "execute_result"
    }
   ],
   "source": [
    "a = np.array([[1, 1], [2, 2], [3, 3]])\n",
    "np.insert(a, [1], [[1],[2],[3]], axis=1)"
   ]
  },
  {
   "cell_type": "code",
   "execution_count": 70,
   "id": "3ef471c6-1ac9-4afe-9e9c-7ef88dd7aa8a",
   "metadata": {},
   "outputs": [
    {
     "data": {
      "text/plain": [
       "array([[1, 1, 1],\n",
       "       [2, 2, 2],\n",
       "       [3, 3, 3]])"
      ]
     },
     "execution_count": 70,
     "metadata": {},
     "output_type": "execute_result"
    }
   ],
   "source": [
    "np.insert(a, 1, [1, 2, 3], axis=1)"
   ]
  },
  {
   "cell_type": "markdown",
   "id": "a7bc3652-bb6d-4fbe-94f2-b252a6dcc556",
   "metadata": {},
   "source": [
    "### 删除"
   ]
  },
  {
   "cell_type": "code",
   "execution_count": 71,
   "id": "57e76903-ed35-4f68-8eca-c4e9c4ef6c88",
   "metadata": {},
   "outputs": [
    {
     "data": {
      "text/plain": [
       "array([[ 1,  2,  3,  4],\n",
       "       [ 9, 10, 11, 12]])"
      ]
     },
     "execution_count": 71,
     "metadata": {},
     "output_type": "execute_result"
    }
   ],
   "source": [
    "arr = np.array([[1,2,3,4], [5,6,7,8], [9,10,11,12]])\n",
    "np.delete(arr, 1, 0)"
   ]
  },
  {
   "cell_type": "code",
   "execution_count": 72,
   "id": "2a76d332-aee9-4e69-b1d7-20b5eac340a5",
   "metadata": {},
   "outputs": [],
   "source": [
    "# Repo: https://github.com/Visualize-ML\n",
    "# Book 1 Python for Beginners  |  From Basic Arithmetic to Machine Learning\n",
    "# Published and copyrighted by Tsinghua University Press\n",
    "# Beijing, China, 2023"
   ]
  }
 ],
 "metadata": {
  "kernelspec": {
   "display_name": "Python 3 (ipykernel)",
   "language": "python",
   "name": "python3"
  },
  "language_info": {
   "codemirror_mode": {
    "name": "ipython",
    "version": 3
   },
   "file_extension": ".py",
   "mimetype": "text/x-python",
   "name": "python",
   "nbconvert_exporter": "python",
   "pygments_lexer": "ipython3",
   "version": "3.10.9"
  }
 },
 "nbformat": 4,
 "nbformat_minor": 5
}
