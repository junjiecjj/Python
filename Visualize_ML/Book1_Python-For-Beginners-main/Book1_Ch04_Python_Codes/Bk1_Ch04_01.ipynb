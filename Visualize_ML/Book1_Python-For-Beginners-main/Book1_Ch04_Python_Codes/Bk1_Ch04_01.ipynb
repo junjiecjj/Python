{
 "cells": [
  {
   "cell_type": "markdown",
   "id": "57fa5682-5381-47a0-81ba-63f3ea473422",
   "metadata": {},
   "source": [
    "Chapter 04\n",
    "# 代码注释\n",
    "Book_1《编程不难》 | 鸢尾花书：从加减乘除到机器学习  "
   ]
  },
  {
   "cell_type": "code",
   "execution_count": 1,
   "id": "afcb5306-e6d4-4143-a228-596e3b24df85",
   "metadata": {},
   "outputs": [
    {
     "name": "stdout",
     "output_type": "stream",
     "text": [
      "[0 1 2 3 4 5 6 7 8 9]\n"
     ]
    }
   ],
   "source": [
    "import numpy as np \n",
    "# 导入名为NumPy的第三方库，并将其重命名为np\n",
    "\n",
    "x_array = np.arange(10) # x_array有10个元素\n",
    "# 这行代码使用NumPy库中的函数numpy.arange()\n",
    "# 创建了一个名为x_array的一维数组\n",
    "# 包含从0到9共10个整数\n",
    "\n",
    "print(x_array) # 打印数组"
   ]
  },
  {
   "cell_type": "code",
   "execution_count": 2,
   "id": "f074ae4d-ad3d-409a-947a-431a4ac553fa",
   "metadata": {},
   "outputs": [
    {
     "name": "stdout",
     "output_type": "stream",
     "text": [
      "3.5\n"
     ]
    }
   ],
   "source": [
    "def my_function(x, y):\n",
    "    \"\"\"\n",
    "    这个自定义函数计算两个数值x和y的和\n",
    "    函数输入为:\n",
    "        x: The first number to be added.\n",
    "        y: The second number to be added.\n",
    "    函数输出为:\n",
    "        The sum of x and y.\n",
    "    \"\"\"\n",
    "    return x + y\n",
    "\n",
    "# 打印结果\n",
    "print(my_function(1.5, 2))"
   ]
  },
  {
   "cell_type": "code",
   "execution_count": null,
   "id": "21f7806c-b843-4bd7-8d5d-276818a7c1cc",
   "metadata": {},
   "outputs": [],
   "source": []
  }
 ],
 "metadata": {
  "kernelspec": {
   "display_name": "Python 3 (ipykernel)",
   "language": "python",
   "name": "python3"
  },
  "language_info": {
   "codemirror_mode": {
    "name": "ipython",
    "version": 3
   },
   "file_extension": ".py",
   "mimetype": "text/x-python",
   "name": "python",
   "nbconvert_exporter": "python",
   "pygments_lexer": "ipython3",
   "version": "3.10.9"
  }
 },
 "nbformat": 4,
 "nbformat_minor": 5
}
