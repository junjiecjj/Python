{
 "cells": [
  {
   "cell_type": "markdown",
   "id": "08823fd9-4d2e-4676-9a06-8b330287b835",
   "metadata": {},
   "source": [
    "Chapter 04\n",
    "# for循环\n",
    "Book_1《编程不难》 | 鸢尾花书：从加减乘除到机器学习  "
   ]
  },
  {
   "cell_type": "code",
   "execution_count": 1,
   "id": "b19430df-029c-4de8-a1aa-e5b7d5d81e86",
   "metadata": {},
   "outputs": [
    {
     "name": "stdout",
     "output_type": "stream",
     "text": [
      "P\n",
      "y\n",
      "t\n",
      "h\n",
      "o\n",
      "n\n",
      " \n",
      "i\n",
      "s\n",
      " \n",
      "F\n",
      "U\n",
      "N\n",
      "!\n"
     ]
    }
   ],
   "source": [
    "x_string = 'Python is FUN!'\n",
    "\n",
    "# 利用for循环打印每个字符\n",
    "for i_str in x_string:\n",
    "    print(i_str)"
   ]
  }
 ],
 "metadata": {
  "kernelspec": {
   "display_name": "Python 3 (ipykernel)",
   "language": "python",
   "name": "python3"
  },
  "language_info": {
   "codemirror_mode": {
    "name": "ipython",
    "version": 3
   },
   "file_extension": ".py",
   "mimetype": "text/x-python",
   "name": "python",
   "nbconvert_exporter": "python",
   "pygments_lexer": "ipython3",
   "version": "3.10.9"
  }
 },
 "nbformat": 4,
 "nbformat_minor": 5
}
