{
 "cells": [
  {
   "cell_type": "markdown",
   "id": "c2b7da21-f761-4b32-9b9e-f8985e2f8dc9",
   "metadata": {},
   "source": [
    "Chapter 15\n",
    "# NumPy常见运算\n",
    "Book_1《编程不难》 | 鸢尾花书：从加减乘除到机器学习  "
   ]
  },
  {
   "cell_type": "markdown",
   "id": "6096674a-fdbe-4c1c-8337-03766190b08b",
   "metadata": {},
   "source": [
    "## 导入包"
   ]
  },
  {
   "cell_type": "code",
   "execution_count": 1,
   "id": "14ac1471-23c1-4f10-af2d-fb89b126430e",
   "metadata": {},
   "outputs": [],
   "source": [
    "import numpy as np\n",
    "import matplotlib.pyplot as plt\n",
    "import seaborn as sns\n",
    "import math\n",
    "from matplotlib import cm \n",
    "import os\n",
    "\n",
    "# 如果文件夹不存在，创建文件夹\n",
    "if not os.path.isdir(\"Figures\"):\n",
    "    os.makedirs(\"Figures\")"
   ]
  },
  {
   "cell_type": "markdown",
   "id": "cb1204b2-1f67-47e5-8b6b-890e797d193d",
   "metadata": {},
   "source": [
    "## 自定义函数"
   ]
  },
  {
   "cell_type": "code",
   "execution_count": 122,
   "id": "51ab495d-f96b-4f57-807a-e0145fa142de",
   "metadata": {},
   "outputs": [],
   "source": [
    "def visualize_2D(array, title, vmax, vmin):\n",
    "    \n",
    "    fig_width  = math.ceil(array.shape[1] * 0.5)\n",
    "    fig_length = math.ceil(array.shape[0] * 0.5)\n",
    "    \n",
    "    fig, ax = plt.subplots(figsize=(fig_width, fig_length))\n",
    "    # 注意，seaborn.heatmap() 目前只能接受2D数组\n",
    "    # 本书中，一维数组可视化时用圆圈\n",
    "    # 可视化时，只有二维、三维数组用方块\n",
    "    \n",
    "    sns.heatmap(array, \n",
    "                vmax = vmax,\n",
    "                vmin = vmin,\n",
    "                annot = True,      # 增加注释\n",
    "                fmt = \".2f\",       # 注释数值的格式\n",
    "                square = True,     # 热图方格为正方形\n",
    "                cmap = 'RdYlBu_r', # 指定色谱\n",
    "                linewidths = .5,   # 方格线宽\n",
    "                cbar = False,      # 不显示色谱条\n",
    "                yticklabels=False, # 不显示纵轴标签\n",
    "                xticklabels=False, # 不显示横轴标签\n",
    "                ax = ax)           # 指定绘制热图的轴\n",
    "    \n",
    "    fig.savefig('Figures/' + title + '.svg', format='svg')\n",
    "\n",
    "# 定义绘制一元数组可视化函数\n",
    "\n",
    "def visualize_1D(array, title, vmax, vmin):\n",
    "    fig, ax = plt.subplots()\n",
    "    \n",
    "    cmap = plt.colormaps.get_cmap(\"RdYlBu\")\n",
    "    \n",
    "    array_norm = (array - vmin) / (vmax - vmin)\n",
    "\n",
    "    colors = cmap(array_norm)\n",
    "\n",
    "    for idx in range(len(array)):\n",
    "\n",
    "        circle_idx = plt.Circle((idx, 0), 0.5, facecolor=colors[idx], edgecolor = 'w')\n",
    "        ax.add_patch(circle_idx)\n",
    "        ax.text(idx, 0, s = \"{:.1f}\".format(array[idx]),\n",
    "                horizontalalignment = 'center',\n",
    "                verticalalignment = 'center')\n",
    "\n",
    "    ax.set_xlim(-0.6, 0.6 + len(array))\n",
    "    ax.set_ylim(-0.6, 0.6)\n",
    "    ax.set_aspect('equal', adjustable='box')\n",
    "    ax.axis('off')\n",
    "    fig.savefig('Figures/' + title + '.svg', format='svg')"
   ]
  },
  {
   "cell_type": "markdown",
   "id": "0ab3ed23-e708-4ba6-aa5d-6515f054efe5",
   "metadata": {},
   "source": [
    "## 加减乘除、乘幂"
   ]
  },
  {
   "cell_type": "markdown",
   "id": "b979586f-3fbe-4662-b119-64ab8b23077d",
   "metadata": {},
   "source": [
    "### 一维"
   ]
  },
  {
   "cell_type": "markdown",
   "id": "6cedaea9-7acb-4d61-b536-15baa1f710ca",
   "metadata": {},
   "source": [
    "#### 定义数组"
   ]
  },
  {
   "cell_type": "code",
   "execution_count": 3,
   "id": "4a4c340b-1ae9-49ee-baf0-13cedf06726a",
   "metadata": {},
   "outputs": [
    {
     "data": {
      "image/png": "[encoded data removed]",
      "text/plain": [
       "<Figure size 640x480 with 1 Axes>"
      ]
     },
     "metadata": {},
     "output_type": "display_data"
    }
   ],
   "source": [
    "a_1D = np.arange(-2,2+1)\n",
    "visualize_1D(a_1D, '一维数组', -4, 4)"
   ]
  },
  {
   "cell_type": "code",
   "execution_count": 4,
   "id": "3c62f64f-65c5-47a1-ba64-ec5befc43042",
   "metadata": {},
   "outputs": [
    {
     "data": {
      "text/plain": [
       "array([2, 2, 2, 2, 2])"
      ]
     },
     "execution_count": 4,
     "metadata": {},
     "output_type": "execute_result"
    }
   ],
   "source": [
    "all_twos = 2*np.ones_like(a_1D)\n",
    "all_twos"
   ]
  },
  {
   "cell_type": "code",
   "execution_count": 34,
   "id": "dc176830-566c-4cf8-8559-acacae1dd51c",
   "metadata": {},
   "outputs": [
    {
     "data": {
      "text/plain": [
       "array([2, 2, 2, 2, 2])"
      ]
     },
     "execution_count": 34,
     "metadata": {},
     "output_type": "execute_result"
    }
   ],
   "source": [
    "np.full_like(a_1D, 2)"
   ]
  },
  {
   "cell_type": "code",
   "execution_count": 5,
   "id": "775d3b45-6b92-4515-b3da-43b34d14de90",
   "metadata": {},
   "outputs": [
    {
     "data": {
      "image/png": "[encoded data removed]",
      "text/plain": [
       "<Figure size 640x480 with 1 Axes>"
      ]
     },
     "metadata": {},
     "output_type": "display_data"
    }
   ],
   "source": [
    "visualize_1D(all_twos, '一维数组，全2', -4, 4)"
   ]
  },
  {
   "cell_type": "markdown",
   "id": "78d135e9-c398-4c42-ace9-390e76390cd0",
   "metadata": {},
   "source": [
    "#### 加法"
   ]
  },
  {
   "cell_type": "code",
   "execution_count": 6,
   "id": "898deb61-aacf-4f9e-b07c-c832ebca8035",
   "metadata": {},
   "outputs": [
    {
     "data": {
      "text/plain": [
       "array([0, 1, 2, 3, 4])"
      ]
     },
     "execution_count": 6,
     "metadata": {},
     "output_type": "execute_result"
    }
   ],
   "source": [
    "a_1D + all_twos"
   ]
  },
  {
   "cell_type": "code",
   "execution_count": 7,
   "id": "e9f5302a-63a6-400f-a519-96617ed4b27b",
   "metadata": {},
   "outputs": [
    {
     "data": {
      "image/png": "[encoded data removed]",
      "text/plain": [
       "<Figure size 640x480 with 1 Axes>"
      ]
     },
     "metadata": {},
     "output_type": "display_data"
    }
   ],
   "source": [
    "visualize_1D(a_1D + all_twos, '一维数组，加法', -4, 4)"
   ]
  },
  {
   "cell_type": "code",
   "execution_count": 8,
   "id": "9be8860f-569b-4155-a9e4-f4760ffe6a4b",
   "metadata": {},
   "outputs": [
    {
     "data": {
      "text/plain": [
       "array([0, 1, 2, 3, 4])"
      ]
     },
     "execution_count": 8,
     "metadata": {},
     "output_type": "execute_result"
    }
   ],
   "source": [
    "np.add(a_1D, all_twos)"
   ]
  },
  {
   "cell_type": "markdown",
   "id": "29ea730a-a004-4da5-adf5-e95cb15ac939",
   "metadata": {},
   "source": [
    "#### 减法"
   ]
  },
  {
   "cell_type": "code",
   "execution_count": 9,
   "id": "3aba7ab5-53a7-4f20-80a4-cc1c7d685d4f",
   "metadata": {},
   "outputs": [
    {
     "data": {
      "text/plain": [
       "array([-4, -3, -2, -1,  0])"
      ]
     },
     "execution_count": 9,
     "metadata": {},
     "output_type": "execute_result"
    }
   ],
   "source": [
    "a_1D - all_twos"
   ]
  },
  {
   "cell_type": "code",
   "execution_count": 10,
   "id": "55a8ab69-989e-4bbe-99d8-160f9cd0813f",
   "metadata": {},
   "outputs": [
    {
     "data": {
      "image/png": "[encoded data removed]",
      "text/plain": [
       "<Figure size 640x480 with 1 Axes>"
      ]
     },
     "metadata": {},
     "output_type": "display_data"
    }
   ],
   "source": [
    "visualize_1D(a_1D - all_twos, '一维数组，减法', -4, 4)"
   ]
  },
  {
   "cell_type": "code",
   "execution_count": 11,
   "id": "ff967750-f2f0-4700-bdc1-945f840fb17a",
   "metadata": {},
   "outputs": [
    {
     "data": {
      "text/plain": [
       "array([-4, -3, -2, -1,  0])"
      ]
     },
     "execution_count": 11,
     "metadata": {},
     "output_type": "execute_result"
    }
   ],
   "source": [
    "np.subtract(a_1D, all_twos)"
   ]
  },
  {
   "cell_type": "markdown",
   "id": "20410ec3-64c7-4365-81cb-99648cd1f6f0",
   "metadata": {},
   "source": [
    "#### 乘法"
   ]
  },
  {
   "cell_type": "code",
   "execution_count": 12,
   "id": "59600bb5-5e36-41e7-87fa-fea54a78374c",
   "metadata": {},
   "outputs": [
    {
     "data": {
      "text/plain": [
       "array([-4, -2,  0,  2,  4])"
      ]
     },
     "execution_count": 12,
     "metadata": {},
     "output_type": "execute_result"
    }
   ],
   "source": [
    "a_1D * all_twos"
   ]
  },
  {
   "cell_type": "code",
   "execution_count": 13,
   "id": "0479ec1f-e1f5-457a-8d6e-f1f8c06568f8",
   "metadata": {},
   "outputs": [
    {
     "data": {
      "image/png": "[encoded data removed]",
      "text/plain": [
       "<Figure size 640x480 with 1 Axes>"
      ]
     },
     "metadata": {},
     "output_type": "display_data"
    }
   ],
   "source": [
    "visualize_1D(a_1D * all_twos, '一维数组，乘法', -4, 4)"
   ]
  },
  {
   "cell_type": "code",
   "execution_count": 14,
   "id": "4046e0c7-77e9-4a6e-8d50-cbc742e4f42d",
   "metadata": {},
   "outputs": [
    {
     "data": {
      "text/plain": [
       "array([-4, -2,  0,  2,  4])"
      ]
     },
     "execution_count": 14,
     "metadata": {},
     "output_type": "execute_result"
    }
   ],
   "source": [
    "np.multiply(a_1D, all_twos)"
   ]
  },
  {
   "cell_type": "markdown",
   "id": "ada07a75-fcc2-4474-95a7-95b631263acf",
   "metadata": {},
   "source": [
    "#### 除法"
   ]
  },
  {
   "cell_type": "code",
   "execution_count": 15,
   "id": "522dc775-0371-4b27-b845-877d3940c3e9",
   "metadata": {},
   "outputs": [
    {
     "data": {
      "text/plain": [
       "array([-1. , -0.5,  0. ,  0.5,  1. ])"
      ]
     },
     "execution_count": 15,
     "metadata": {},
     "output_type": "execute_result"
    }
   ],
   "source": [
    "a_1D/all_twos"
   ]
  },
  {
   "cell_type": "code",
   "execution_count": 16,
   "id": "2e587d32-31a8-4256-b44f-1fbbd2c5ffb3",
   "metadata": {},
   "outputs": [
    {
     "data": {
      "image/png": "[encoded data removed]",
      "text/plain": [
       "<Figure size 640x480 with 1 Axes>"
      ]
     },
     "metadata": {},
     "output_type": "display_data"
    }
   ],
   "source": [
    "visualize_1D(a_1D/all_twos, '一维数组，除法', -4, 4)"
   ]
  },
  {
   "cell_type": "code",
   "execution_count": 17,
   "id": "236a454a-86a8-4f8e-b002-ddc395e9d7ce",
   "metadata": {},
   "outputs": [
    {
     "data": {
      "text/plain": [
       "array([-1. , -0.5,  0. ,  0.5,  1. ])"
      ]
     },
     "execution_count": 17,
     "metadata": {},
     "output_type": "execute_result"
    }
   ],
   "source": [
    "np.divide(a_1D, all_twos)"
   ]
  },
  {
   "cell_type": "markdown",
   "id": "4da59507-0907-4bbc-88ca-4616db9a0533",
   "metadata": {},
   "source": [
    "#### 乘幂"
   ]
  },
  {
   "cell_type": "code",
   "execution_count": 18,
   "id": "9fa8a591-b79d-47b3-a9c3-bfb3f90d0e20",
   "metadata": {},
   "outputs": [
    {
     "data": {
      "text/plain": [
       "array([4, 1, 0, 1, 4])"
      ]
     },
     "execution_count": 18,
     "metadata": {},
     "output_type": "execute_result"
    }
   ],
   "source": [
    "a_1D ** all_twos"
   ]
  },
  {
   "cell_type": "code",
   "execution_count": 19,
   "id": "530e9581-ef8c-421b-a1af-4237d50fdfd1",
   "metadata": {},
   "outputs": [
    {
     "data": {
      "image/png": "[encoded data removed]",
      "text/plain": [
       "<Figure size 640x480 with 1 Axes>"
      ]
     },
     "metadata": {},
     "output_type": "display_data"
    }
   ],
   "source": [
    "visualize_1D(a_1D ** all_twos, '一维数组，乘幂', -4, 4)"
   ]
  },
  {
   "cell_type": "code",
   "execution_count": 20,
   "id": "cd8f706f-3968-4588-86c3-84c44c0e69a0",
   "metadata": {},
   "outputs": [
    {
     "data": {
      "text/plain": [
       "array([4, 1, 0, 1, 4])"
      ]
     },
     "execution_count": 20,
     "metadata": {},
     "output_type": "execute_result"
    }
   ],
   "source": [
    "np.power(a_1D,all_twos)"
   ]
  },
  {
   "cell_type": "markdown",
   "id": "8f5a9712-7c55-455c-a099-37f150daa9be",
   "metadata": {},
   "source": [
    "### 二维数组"
   ]
  },
  {
   "cell_type": "code",
   "execution_count": 75,
   "id": "74436879-76af-4687-9e26-e6e342ee03dd",
   "metadata": {},
   "outputs": [
    {
     "data": {
      "text/plain": [
       "array([[ 0.6391556 ,  0.95224626, -0.61295641, -0.48545067, -0.43084599,\n",
       "         0.87781143],\n",
       "       [-0.86419333, -0.19204597,  0.33640025,  0.94593556,  0.24107051,\n",
       "         0.21652763],\n",
       "       [ 0.34992486, -0.24471072,  0.11767816, -0.43756292,  0.0671183 ,\n",
       "         0.83192725],\n",
       "       [-0.68293344, -0.16157024, -0.66423099,  0.5000902 , -0.28232899,\n",
       "        -0.76968265]])"
      ]
     },
     "execution_count": 75,
     "metadata": {},
     "output_type": "execute_result"
    }
   ],
   "source": [
    "a_2D = np.random.uniform(-1, 1, (4,6))\n",
    "a_2D"
   ]
  },
  {
   "cell_type": "code",
   "execution_count": 76,
   "id": "d71e7b24-f285-4df0-9eb4-c6953403cf3e",
   "metadata": {},
   "outputs": [
    {
     "data": {
      "image/png": "[encoded data removed]",
      "text/plain": [
       "<Figure size 300x200 with 1 Axes>"
      ]
     },
     "metadata": {},
     "output_type": "display_data"
    }
   ],
   "source": [
    "visualize_2D(a_2D, '二维数组', 3, -3)"
   ]
  },
  {
   "cell_type": "code",
   "execution_count": 61,
   "id": "5abbc551-73c2-4b65-9859-24d3f386e1de",
   "metadata": {},
   "outputs": [
    {
     "data": {
      "text/plain": [
       "array([[2., 2., 2., 2., 2., 2.],\n",
       "       [2., 2., 2., 2., 2., 2.],\n",
       "       [2., 2., 2., 2., 2., 2.],\n",
       "       [2., 2., 2., 2., 2., 2.]])"
      ]
     },
     "execution_count": 61,
     "metadata": {},
     "output_type": "execute_result"
    }
   ],
   "source": [
    "all_twos_2D = np.full_like(a_2D, 2)\n",
    "all_twos_2D"
   ]
  },
  {
   "cell_type": "code",
   "execution_count": 86,
   "id": "fbaf51c5-af71-49d2-a406-f01612c4ac7c",
   "metadata": {},
   "outputs": [
    {
     "data": {
      "image/png": "[encoded data removed]",
      "text/plain": [
       "<Figure size 300x200 with 1 Axes>"
      ]
     },
     "metadata": {},
     "output_type": "display_data"
    }
   ],
   "source": [
    "visualize_2D(all_twos_2D, '二维，全2', 3, -3)"
   ]
  },
  {
   "cell_type": "markdown",
   "id": "5e3e77fa-615b-48b1-bb1d-de17957077e5",
   "metadata": {},
   "source": [
    "#### 加法"
   ]
  },
  {
   "cell_type": "code",
   "execution_count": 77,
   "id": "a8f3d581-17d3-4fd8-b806-81c71c6a8cbf",
   "metadata": {},
   "outputs": [
    {
     "data": {
      "text/plain": [
       "array([[2.6391556 , 2.95224626, 1.38704359, 1.51454933, 1.56915401,\n",
       "        2.87781143],\n",
       "       [1.13580667, 1.80795403, 2.33640025, 2.94593556, 2.24107051,\n",
       "        2.21652763],\n",
       "       [2.34992486, 1.75528928, 2.11767816, 1.56243708, 2.0671183 ,\n",
       "        2.83192725],\n",
       "       [1.31706656, 1.83842976, 1.33576901, 2.5000902 , 1.71767101,\n",
       "        1.23031735]])"
      ]
     },
     "execution_count": 77,
     "metadata": {},
     "output_type": "execute_result"
    }
   ],
   "source": [
    "a_2D + all_twos_2D"
   ]
  },
  {
   "cell_type": "code",
   "execution_count": 78,
   "id": "9bf8b73e-c063-4030-857e-f72436ff32aa",
   "metadata": {},
   "outputs": [
    {
     "data": {
      "image/png": "[encoded data removed]",
      "text/plain": [
       "<Figure size 300x200 with 1 Axes>"
      ]
     },
     "metadata": {},
     "output_type": "display_data"
    }
   ],
   "source": [
    "visualize_2D(a_2D + all_twos_2D, '二维加法', 3, -3)"
   ]
  },
  {
   "cell_type": "markdown",
   "id": "e1ab7cbe-6d15-40d6-b54c-b3c691bee1ae",
   "metadata": {},
   "source": [
    "#### 减法"
   ]
  },
  {
   "cell_type": "code",
   "execution_count": 64,
   "id": "8f5bc863-8dbe-46d2-90c2-787adcc57bb1",
   "metadata": {},
   "outputs": [
    {
     "data": {
      "text/plain": [
       "array([[-1.43646641, -2.97549686, -1.6880573 , -2.68677732, -2.87147646,\n",
       "        -2.44475814],\n",
       "       [-1.17020027, -2.73179726, -1.22898272, -1.34564713, -2.12286432,\n",
       "        -2.33653862],\n",
       "       [-1.74769853, -2.33826076, -1.12947727, -2.62675825, -1.72857763,\n",
       "        -1.22995091],\n",
       "       [-1.19062451, -1.97619001, -1.94987926, -2.54738284, -1.34135024,\n",
       "        -2.25476876]])"
      ]
     },
     "execution_count": 64,
     "metadata": {},
     "output_type": "execute_result"
    }
   ],
   "source": [
    "a_2D - all_twos_2D"
   ]
  },
  {
   "cell_type": "code",
   "execution_count": 79,
   "id": "2452ff64-fb93-45c6-b2c3-29b7d92d8270",
   "metadata": {},
   "outputs": [
    {
     "data": {
      "image/png": "[encoded data removed]",
      "text/plain": [
       "<Figure size 300x200 with 1 Axes>"
      ]
     },
     "metadata": {},
     "output_type": "display_data"
    }
   ],
   "source": [
    "visualize_2D(a_2D - all_twos_2D, '二维减法', 3, -3)"
   ]
  },
  {
   "cell_type": "markdown",
   "id": "e2d38c49-bb1c-4dce-b2db-cffa2507b7d4",
   "metadata": {},
   "source": [
    "#### 乘法"
   ]
  },
  {
   "cell_type": "code",
   "execution_count": 80,
   "id": "7a228630-0bc2-4926-832f-21a2301209ba",
   "metadata": {},
   "outputs": [
    {
     "data": {
      "text/plain": [
       "array([[ 1.2783112 ,  1.90449252, -1.22591282, -0.97090134, -0.86169198,\n",
       "         1.75562287],\n",
       "       [-1.72838666, -0.38409195,  0.67280051,  1.89187111,  0.48214102,\n",
       "         0.43305527],\n",
       "       [ 0.69984971, -0.48942143,  0.23535633, -0.87512584,  0.13423659,\n",
       "         1.6638545 ],\n",
       "       [-1.36586688, -0.32314047, -1.32846198,  1.0001804 , -0.56465798,\n",
       "        -1.53936529]])"
      ]
     },
     "execution_count": 80,
     "metadata": {},
     "output_type": "execute_result"
    }
   ],
   "source": [
    "a_2D * all_twos_2D"
   ]
  },
  {
   "cell_type": "code",
   "execution_count": 81,
   "id": "6a3cc6f4-f5c5-4efe-8b61-a60f86f36609",
   "metadata": {},
   "outputs": [
    {
     "data": {
      "image/png": "[encoded data removed]",
      "text/plain": [
       "<Figure size 300x200 with 1 Axes>"
      ]
     },
     "metadata": {},
     "output_type": "display_data"
    }
   ],
   "source": [
    "visualize_2D(a_2D * all_twos_2D, '二维乘法', 3, -3)"
   ]
  },
  {
   "cell_type": "markdown",
   "id": "dd19b58c-7d07-45c7-bdd9-64181ea5f10d",
   "metadata": {},
   "source": [
    "#### 除法"
   ]
  },
  {
   "cell_type": "code",
   "execution_count": 82,
   "id": "27ec27f6-2efd-4f3d-a198-dcd7e4fdcc29",
   "metadata": {},
   "outputs": [
    {
     "data": {
      "text/plain": [
       "array([[ 0.3195778 ,  0.47612313, -0.30647821, -0.24272534, -0.21542299,\n",
       "         0.43890572],\n",
       "       [-0.43209666, -0.09602299,  0.16820013,  0.47296778,  0.12053525,\n",
       "         0.10826382],\n",
       "       [ 0.17496243, -0.12235536,  0.05883908, -0.21878146,  0.03355915,\n",
       "         0.41596362],\n",
       "       [-0.34146672, -0.08078512, -0.33211549,  0.2500451 , -0.1411645 ,\n",
       "        -0.38484132]])"
      ]
     },
     "execution_count": 82,
     "metadata": {},
     "output_type": "execute_result"
    }
   ],
   "source": [
    "a_2D / all_twos_2D"
   ]
  },
  {
   "cell_type": "code",
   "execution_count": 83,
   "id": "299bfa39-6994-4f40-972d-40fee40cb726",
   "metadata": {},
   "outputs": [
    {
     "data": {
      "image/png": "[encoded data removed]",
      "text/plain": [
       "<Figure size 300x200 with 1 Axes>"
      ]
     },
     "metadata": {},
     "output_type": "display_data"
    }
   ],
   "source": [
    "visualize_2D(a_2D / all_twos_2D, '二维除法', 3, -3)"
   ]
  },
  {
   "cell_type": "markdown",
   "id": "4383eb04-267b-4b75-be6c-593c088492a2",
   "metadata": {},
   "source": [
    "#### 乘幂"
   ]
  },
  {
   "cell_type": "code",
   "execution_count": 84,
   "id": "25f79109-e90a-4a9b-8bed-aeb8b0697f21",
   "metadata": {},
   "outputs": [
    {
     "data": {
      "text/plain": [
       "array([[0.40851988, 0.90677294, 0.37571556, 0.23566235, 0.18562827,\n",
       "        0.77055291],\n",
       "       [0.74683011, 0.03688166, 0.11316513, 0.89479408, 0.05811499,\n",
       "        0.04688422],\n",
       "       [0.12244741, 0.05988333, 0.01384815, 0.19146131, 0.00450487,\n",
       "        0.69210295],\n",
       "       [0.46639808, 0.02610494, 0.4412028 , 0.25009021, 0.07970966,\n",
       "        0.59241138]])"
      ]
     },
     "execution_count": 84,
     "metadata": {},
     "output_type": "execute_result"
    }
   ],
   "source": [
    "a_2D ** all_twos_2D"
   ]
  },
  {
   "cell_type": "code",
   "execution_count": 85,
   "id": "a08fca45-8969-438d-ac75-b5b3bcc06925",
   "metadata": {},
   "outputs": [
    {
     "data": {
      "image/png": "[encoded data removed]",
      "text/plain": [
       "<Figure size 300x200 with 1 Axes>"
      ]
     },
     "metadata": {},
     "output_type": "display_data"
    }
   ],
   "source": [
    "visualize_2D(a_2D ** all_twos_2D, '二维乘幂', 3, -3)"
   ]
  },
  {
   "cell_type": "markdown",
   "id": "d467a732-1c65-4c03-8f37-313e035e0458",
   "metadata": {},
   "source": [
    "## 广播原则"
   ]
  },
  {
   "cell_type": "markdown",
   "id": "404e79ce-7cc5-4e36-9034-e6696d87c9d5",
   "metadata": {},
   "source": [
    "### 一维"
   ]
  },
  {
   "cell_type": "code",
   "execution_count": 21,
   "id": "0a5eeceb-3941-432d-ac22-c78a4ce352ca",
   "metadata": {},
   "outputs": [
    {
     "data": {
      "text/plain": [
       "array([0, 1, 2, 3, 4])"
      ]
     },
     "execution_count": 21,
     "metadata": {},
     "output_type": "execute_result"
    }
   ],
   "source": [
    "a_1D + 2"
   ]
  },
  {
   "cell_type": "code",
   "execution_count": 22,
   "id": "540f3e1e-24a7-4bb4-9631-17cb070beb6b",
   "metadata": {},
   "outputs": [
    {
     "data": {
      "text/plain": [
       "array([-4, -3, -2, -1,  0])"
      ]
     },
     "execution_count": 22,
     "metadata": {},
     "output_type": "execute_result"
    }
   ],
   "source": [
    "a_1D - 2"
   ]
  },
  {
   "cell_type": "code",
   "execution_count": 23,
   "id": "c7c95178-aae2-4327-94bd-c9f2cfe64b7b",
   "metadata": {},
   "outputs": [
    {
     "data": {
      "text/plain": [
       "array([-4, -2,  0,  2,  4])"
      ]
     },
     "execution_count": 23,
     "metadata": {},
     "output_type": "execute_result"
    }
   ],
   "source": [
    "a_1D * 2"
   ]
  },
  {
   "cell_type": "code",
   "execution_count": 24,
   "id": "25911a93-41f5-44c6-a0fa-e3e3f71479d9",
   "metadata": {},
   "outputs": [
    {
     "data": {
      "text/plain": [
       "array([-1. , -0.5,  0. ,  0.5,  1. ])"
      ]
     },
     "execution_count": 24,
     "metadata": {},
     "output_type": "execute_result"
    }
   ],
   "source": [
    "a_1D / 2"
   ]
  },
  {
   "cell_type": "code",
   "execution_count": 25,
   "id": "0fbc7e93-3f56-4674-a81f-515ca4042ae5",
   "metadata": {},
   "outputs": [
    {
     "data": {
      "text/plain": [
       "array([4, 1, 0, 1, 4])"
      ]
     },
     "execution_count": 25,
     "metadata": {},
     "output_type": "execute_result"
    }
   ],
   "source": [
    "a_1D ** 2"
   ]
  },
  {
   "cell_type": "code",
   "execution_count": 26,
   "id": "cc179df1-97c9-460e-a2bc-a711bb138a04",
   "metadata": {},
   "outputs": [
    {
     "data": {
      "text/plain": [
       "array([0, 1, 0, 1, 0], dtype=int32)"
      ]
     },
     "execution_count": 26,
     "metadata": {},
     "output_type": "execute_result"
    }
   ],
   "source": [
    "a_1D % 2"
   ]
  },
  {
   "cell_type": "markdown",
   "id": "2bc614ae-b190-4fb8-bfbf-69fb039c7b58",
   "metadata": {},
   "source": [
    "### 一维数组、列向量运算"
   ]
  },
  {
   "cell_type": "code",
   "execution_count": 106,
   "id": "fac38621-d8f3-4c96-bffd-a51c07f468c7",
   "metadata": {},
   "outputs": [
    {
     "data": {
      "image/png": "[encoded data removed]",
      "text/plain": [
       "<Figure size 100x200 with 1 Axes>"
      ]
     },
     "metadata": {},
     "output_type": "display_data"
    }
   ],
   "source": [
    "visualize_2D(np.array([[1], [2], [3]]), '列向量，二维', 5, -5)"
   ]
  },
  {
   "cell_type": "code",
   "execution_count": 97,
   "id": "6f297288-67e6-4e01-88d7-896fbbbf179a",
   "metadata": {},
   "outputs": [
    {
     "data": {
      "text/plain": [
       "array([[-1,  0,  1,  2,  3],\n",
       "       [ 0,  1,  2,  3,  4],\n",
       "       [ 1,  2,  3,  4,  5]])"
      ]
     },
     "execution_count": 97,
     "metadata": {},
     "output_type": "execute_result"
    }
   ],
   "source": [
    "a_1D + np.array([[1], [2], [3]])"
   ]
  },
  {
   "cell_type": "code",
   "execution_count": 108,
   "id": "7f3373df-7bed-4872-aada-058ddf35ab64",
   "metadata": {},
   "outputs": [
    {
     "data": {
      "image/png": "[encoded data removed]",
      "text/plain": [
       "<Figure size 300x200 with 1 Axes>"
      ]
     },
     "metadata": {},
     "output_type": "display_data"
    }
   ],
   "source": [
    "visualize_2D(a_1D + np.array([[1], [2], [3]]), '一维数组、列向量运算，加法', 5, -5)"
   ]
  },
  {
   "cell_type": "code",
   "execution_count": 88,
   "id": "f942201d-68b1-4695-9e12-8f212c2c81bc",
   "metadata": {},
   "outputs": [
    {
     "data": {
      "text/plain": [
       "array([[-2, -1,  0,  1,  2],\n",
       "       [-4, -2,  0,  2,  4],\n",
       "       [-6, -3,  0,  3,  6]])"
      ]
     },
     "execution_count": 88,
     "metadata": {},
     "output_type": "execute_result"
    }
   ],
   "source": [
    "a_1D * np.array([[1], [2], [3]])"
   ]
  },
  {
   "cell_type": "code",
   "execution_count": 109,
   "id": "160acac6-48f2-499b-ad73-b6f1e7a1bcb3",
   "metadata": {},
   "outputs": [
    {
     "data": {
      "image/png": "[encoded data removed]",
      "text/plain": [
       "<Figure size 300x200 with 1 Axes>"
      ]
     },
     "metadata": {},
     "output_type": "display_data"
    }
   ],
   "source": [
    "visualize_2D(a_1D * np.array([[1], [2], [3]]), '一维数组、列向量运算，乘法', 5, -5)"
   ]
  },
  {
   "cell_type": "code",
   "execution_count": 89,
   "id": "dad4a8e5-9a39-4481-b0f5-aed2af7e1508",
   "metadata": {},
   "outputs": [
    {
     "data": {
      "text/plain": [
       "array([[-2, -1,  0,  1,  2],\n",
       "       [ 4,  1,  0,  1,  4],\n",
       "       [-8, -1,  0,  1,  8]])"
      ]
     },
     "execution_count": 89,
     "metadata": {},
     "output_type": "execute_result"
    }
   ],
   "source": [
    "a_1D ** np.array([[1], [2], [3]])"
   ]
  },
  {
   "cell_type": "code",
   "execution_count": 110,
   "id": "495646f0-bddf-4a69-9141-7f9b14f1c826",
   "metadata": {},
   "outputs": [
    {
     "data": {
      "image/png": "[encoded data removed]",
      "text/plain": [
       "<Figure size 300x200 with 1 Axes>"
      ]
     },
     "metadata": {},
     "output_type": "display_data"
    }
   ],
   "source": [
    "visualize_2D(a_1D ** np.array([[1], [2], [3]]), '一维数组、列向量运算，乘幂', 5, -5)"
   ]
  },
  {
   "cell_type": "markdown",
   "id": "06fdde68-ddca-47f6-a433-937e3a1bb586",
   "metadata": {},
   "source": [
    "### 二维数组和标量"
   ]
  },
  {
   "cell_type": "markdown",
   "id": "2288b3b1-8cde-47ec-8ada-2edf09aaa607",
   "metadata": {},
   "source": [
    "#### 加法"
   ]
  },
  {
   "cell_type": "code",
   "execution_count": 112,
   "id": "b39b1bbe-7562-4f65-b7e4-4bc683b9b1bb",
   "metadata": {},
   "outputs": [
    {
     "data": {
      "text/plain": [
       "array([[2.6391556 , 2.95224626, 1.38704359, 1.51454933, 1.56915401,\n",
       "        2.87781143],\n",
       "       [1.13580667, 1.80795403, 2.33640025, 2.94593556, 2.24107051,\n",
       "        2.21652763],\n",
       "       [2.34992486, 1.75528928, 2.11767816, 1.56243708, 2.0671183 ,\n",
       "        2.83192725],\n",
       "       [1.31706656, 1.83842976, 1.33576901, 2.5000902 , 1.71767101,\n",
       "        1.23031735]])"
      ]
     },
     "execution_count": 112,
     "metadata": {},
     "output_type": "execute_result"
    }
   ],
   "source": [
    "a_2D + 2"
   ]
  },
  {
   "cell_type": "markdown",
   "id": "52184adb-3df2-4cb5-8770-e698b1f33ff0",
   "metadata": {},
   "source": [
    "### 二维数组和一维数组"
   ]
  },
  {
   "cell_type": "code",
   "execution_count": 116,
   "id": "cc78e5ef-32cb-4b3b-b116-9ffa6b033151",
   "metadata": {},
   "outputs": [
    {
     "data": {
      "text/plain": [
       "array([-1. , -0.6, -0.2,  0.2,  0.6,  1. ])"
      ]
     },
     "execution_count": 116,
     "metadata": {},
     "output_type": "execute_result"
    }
   ],
   "source": [
    "np.linspace(-1,1,6)"
   ]
  },
  {
   "cell_type": "code",
   "execution_count": 238,
   "id": "61884aba-6876-4c78-bd69-dc378a9000bf",
   "metadata": {},
   "outputs": [
    {
     "data": {
      "text/plain": [
       "array([[-1. , -0.6, -0.2,  0.2,  0.6,  1. ],\n",
       "       [-1. , -0.6, -0.2,  0.2,  0.6,  1. ],\n",
       "       [-1. , -0.6, -0.2,  0.2,  0.6,  1. ],\n",
       "       [-1. , -0.6, -0.2,  0.2,  0.6,  1. ]])"
      ]
     },
     "execution_count": 238,
     "metadata": {},
     "output_type": "execute_result"
    }
   ],
   "source": [
    "np.broadcast_to(np.linspace(-1,1,6), (4, 6))"
   ]
  },
  {
   "cell_type": "code",
   "execution_count": 120,
   "id": "1df50b1d-1d9f-4005-9aed-50dc24e03b1b",
   "metadata": {},
   "outputs": [
    {
     "data": {
      "image/png": "[encoded data removed]",
      "text/plain": [
       "<Figure size 640x480 with 1 Axes>"
      ]
     },
     "metadata": {},
     "output_type": "display_data"
    }
   ],
   "source": [
    "visualize_1D(np.linspace(-1,1,6), '一维数组，6个元素', -4, 4)"
   ]
  },
  {
   "cell_type": "code",
   "execution_count": 117,
   "id": "955cff1c-9219-424e-9229-67f747fcd901",
   "metadata": {},
   "outputs": [
    {
     "data": {
      "text/plain": [
       "array([[-0.3608444 ,  0.35224626, -0.81295641, -0.28545067,  0.16915401,\n",
       "         1.87781143],\n",
       "       [-1.86419333, -0.79204597,  0.13640025,  1.14593556,  0.84107051,\n",
       "         1.21652763],\n",
       "       [-0.65007514, -0.84471072, -0.08232184, -0.23756292,  0.6671183 ,\n",
       "         1.83192725],\n",
       "       [-1.68293344, -0.76157024, -0.86423099,  0.7000902 ,  0.31767101,\n",
       "         0.23031735]])"
      ]
     },
     "execution_count": 117,
     "metadata": {},
     "output_type": "execute_result"
    }
   ],
   "source": [
    "a_2D + np.linspace(-1,1,6)"
   ]
  },
  {
   "cell_type": "code",
   "execution_count": 123,
   "id": "77e4a8b8-fa99-4cce-85ab-2bb3f6913151",
   "metadata": {},
   "outputs": [
    {
     "data": {
      "image/png": "[encoded data removed]",
      "text/plain": [
       "<Figure size 300x200 with 1 Axes>"
      ]
     },
     "metadata": {},
     "output_type": "display_data"
    }
   ],
   "source": [
    "visualize_2D(a_2D + np.linspace(-1,1,6), '二维数组和一维数组，加法', 5, -5)"
   ]
  },
  {
   "cell_type": "code",
   "execution_count": 134,
   "id": "e7c1e279-7a6a-4ff2-b0df-2defc7327a69",
   "metadata": {},
   "outputs": [
    {
     "data": {
      "text/plain": [
       "array([[-1. , -0.6, -0.2,  0.2,  0.6,  1. ]])"
      ]
     },
     "execution_count": 134,
     "metadata": {},
     "output_type": "execute_result"
    }
   ],
   "source": [
    "# 行向量\n",
    "np.linspace(-1,1,6).reshape(1,-1)"
   ]
  },
  {
   "cell_type": "code",
   "execution_count": 137,
   "id": "5d50989c-46fb-49fe-a7b2-56e6ced7c385",
   "metadata": {},
   "outputs": [
    {
     "data": {
      "image/png": "[encoded data removed]",
      "text/plain": [
       "<Figure size 300x100 with 1 Axes>"
      ]
     },
     "metadata": {},
     "output_type": "display_data"
    }
   ],
   "source": [
    "visualize_2D(np.linspace(-1,1,6).reshape(1,-1), '行向量，6个元素', 5, -5)"
   ]
  },
  {
   "cell_type": "code",
   "execution_count": 135,
   "id": "f0fecd1a-7dfb-41b7-8450-3cf5dc68ae90",
   "metadata": {},
   "outputs": [
    {
     "data": {
      "image/png": "[encoded data removed]",
      "text/plain": [
       "<Figure size 300x200 with 1 Axes>"
      ]
     },
     "metadata": {},
     "output_type": "display_data"
    }
   ],
   "source": [
    "visualize_2D(a_2D + np.linspace(-1,1,6).reshape(1,-1), '二维数组和行向量，加法', 5, -5)"
   ]
  },
  {
   "cell_type": "code",
   "execution_count": 124,
   "id": "51450b42-888f-4474-a35e-b63ba5f3b40d",
   "metadata": {},
   "outputs": [
    {
     "data": {
      "text/plain": [
       "array([[-0.6391556 , -0.57134776,  0.12259128, -0.09709013, -0.25850759,\n",
       "         0.87781143],\n",
       "       [ 0.86419333,  0.11522758, -0.06728005,  0.18918711,  0.14464231,\n",
       "         0.21652763],\n",
       "       [-0.34992486,  0.14682643, -0.02353563, -0.08751258,  0.04027098,\n",
       "         0.83192725],\n",
       "       [ 0.68293344,  0.09694214,  0.1328462 ,  0.10001804, -0.16939739,\n",
       "        -0.76968265]])"
      ]
     },
     "execution_count": 124,
     "metadata": {},
     "output_type": "execute_result"
    }
   ],
   "source": [
    "a_2D * np.linspace(-1,1,6)"
   ]
  },
  {
   "cell_type": "code",
   "execution_count": 125,
   "id": "850e0598-6bd8-4a09-a815-c3debe431f9d",
   "metadata": {},
   "outputs": [
    {
     "data": {
      "image/png": "[encoded data removed]",
      "text/plain": [
       "<Figure size 300x200 with 1 Axes>"
      ]
     },
     "metadata": {},
     "output_type": "display_data"
    }
   ],
   "source": [
    "visualize_2D(a_2D * np.linspace(-1,1,6), '二维数组和一维数组，乘法', 5, -5)"
   ]
  },
  {
   "cell_type": "code",
   "execution_count": 136,
   "id": "0c4dddd9-eccc-4322-9be2-d3c35df9dfb4",
   "metadata": {},
   "outputs": [
    {
     "data": {
      "image/png": "[encoded data removed]",
      "text/plain": [
       "<Figure size 300x200 with 1 Axes>"
      ]
     },
     "metadata": {},
     "output_type": "display_data"
    }
   ],
   "source": [
    "visualize_2D(a_2D * np.linspace(-1,1,6).reshape(1,-1), '二维数组和行向量，乘法', 5, -5)"
   ]
  },
  {
   "cell_type": "code",
   "execution_count": 128,
   "id": "dcfde459-1576-4ae0-9b2c-3a3a31bf76c7",
   "metadata": {},
   "outputs": [
    {
     "ename": "ValueError",
     "evalue": "operands could not be broadcast together with shapes (4,6) (4,) ",
     "output_type": "error",
     "traceback": [
      "\u001b[1;31m---------------------------------------------------------------------------\u001b[0m",
      "\u001b[1;31mValueError\u001b[0m                                Traceback (most recent call last)",
      "Cell \u001b[1;32mIn[128], line 1\u001b[0m\n\u001b[1;32m----> 1\u001b[0m \u001b[43ma_2D\u001b[49m\u001b[43m \u001b[49m\u001b[38;5;241;43m+\u001b[39;49m\u001b[43m \u001b[49m\u001b[43mnp\u001b[49m\u001b[38;5;241;43m.\u001b[39;49m\u001b[43marray\u001b[49m\u001b[43m(\u001b[49m\u001b[43m[\u001b[49m\u001b[38;5;241;43m-\u001b[39;49m\u001b[38;5;241;43m2\u001b[39;49m\u001b[43m,\u001b[49m\u001b[43m \u001b[49m\u001b[38;5;241;43m-\u001b[39;49m\u001b[38;5;241;43m1\u001b[39;49m\u001b[43m,\u001b[49m\u001b[43m \u001b[49m\u001b[38;5;241;43m0\u001b[39;49m\u001b[43m,\u001b[49m\u001b[43m \u001b[49m\u001b[38;5;241;43m1\u001b[39;49m\u001b[43m]\u001b[49m\u001b[43m)\u001b[49m\n",
      "\u001b[1;31mValueError\u001b[0m: operands could not be broadcast together with shapes (4,6) (4,) "
     ]
    }
   ],
   "source": [
    "a_2D + np.array([-2, -1, 0, 1])\n",
    "# 报错"
   ]
  },
  {
   "cell_type": "code",
   "execution_count": 133,
   "id": "e20ee218-3112-4382-8fba-f96f4567e3b2",
   "metadata": {},
   "outputs": [
    {
     "data": {
      "image/png": "[encoded data removed]",
      "text/plain": [
       "<Figure size 100x200 with 1 Axes>"
      ]
     },
     "metadata": {},
     "output_type": "display_data"
    }
   ],
   "source": [
    "visualize_2D(np.array([[-2], [-1], [0], [1]]), '列向量，4个元素', 5, -5)"
   ]
  },
  {
   "cell_type": "code",
   "execution_count": 139,
   "id": "573c83c3-4444-4d90-ae3a-308001ee1fb8",
   "metadata": {},
   "outputs": [
    {
     "data": {
      "image/png": "[encoded data removed]",
      "text/plain": [
       "<Figure size 300x200 with 1 Axes>"
      ]
     },
     "metadata": {},
     "output_type": "display_data"
    }
   ],
   "source": [
    "visualize_2D(a_2D + np.array([[-2], [-1], [0], [1]]), '二维数组和列向量，加法', 5, -5)"
   ]
  },
  {
   "cell_type": "code",
   "execution_count": 138,
   "id": "d1b71a4b-ad09-4be0-bb99-91dcb8abaa81",
   "metadata": {},
   "outputs": [
    {
     "data": {
      "image/png": "[encoded data removed]",
      "text/plain": [
       "<Figure size 300x200 with 1 Axes>"
      ]
     },
     "metadata": {},
     "output_type": "display_data"
    }
   ],
   "source": [
    "visualize_2D(a_2D * np.array([[-2], [-1], [0], [1]]), '二维数组和列向量，乘法', 5, -5)"
   ]
  },
  {
   "cell_type": "markdown",
   "id": "1faa1693-7d37-43a5-b6b4-b269345bc263",
   "metadata": {},
   "source": [
    "### 三维"
   ]
  },
  {
   "cell_type": "code",
   "execution_count": 140,
   "id": "a2d0e8fe-d50d-4516-9fd3-056e4c2f4e25",
   "metadata": {},
   "outputs": [
    {
     "data": {
      "text/plain": [
       "array([[[-30, -29, -28, -27, -26],\n",
       "        [-25, -24, -23, -22, -21],\n",
       "        [-20, -19, -18, -17, -16],\n",
       "        [-15, -14, -13, -12, -11]],\n",
       "\n",
       "       [[-10,  -9,  -8,  -7,  -6],\n",
       "        [ -5,  -4,  -3,  -2,  -1],\n",
       "        [  0,   1,   2,   3,   4],\n",
       "        [  5,   6,   7,   8,   9]],\n",
       "\n",
       "       [[ 10,  11,  12,  13,  14],\n",
       "        [ 15,  16,  17,  18,  19],\n",
       "        [ 20,  21,  22,  23,  24],\n",
       "        [ 25,  26,  27,  28,  29]]])"
      ]
     },
     "execution_count": 140,
     "metadata": {},
     "output_type": "execute_result"
    }
   ],
   "source": [
    "A_3D = np.arange(-30, 30).reshape(3,4,5)\n",
    "A_3D"
   ]
  },
  {
   "cell_type": "code",
   "execution_count": 141,
   "id": "dd59453d-ef84-41c1-9180-047b5760c9c6",
   "metadata": {},
   "outputs": [
    {
     "data": {
      "text/plain": [
       "array([[[-28, -27, -26, -25, -24],\n",
       "        [-23, -22, -21, -20, -19],\n",
       "        [-18, -17, -16, -15, -14],\n",
       "        [-13, -12, -11, -10,  -9]],\n",
       "\n",
       "       [[ -8,  -7,  -6,  -5,  -4],\n",
       "        [ -3,  -2,  -1,   0,   1],\n",
       "        [  2,   3,   4,   5,   6],\n",
       "        [  7,   8,   9,  10,  11]],\n",
       "\n",
       "       [[ 12,  13,  14,  15,  16],\n",
       "        [ 17,  18,  19,  20,  21],\n",
       "        [ 22,  23,  24,  25,  26],\n",
       "        [ 27,  28,  29,  30,  31]]])"
      ]
     },
     "execution_count": 141,
     "metadata": {},
     "output_type": "execute_result"
    }
   ],
   "source": [
    "A_3D + 2"
   ]
  },
  {
   "cell_type": "code",
   "execution_count": 142,
   "id": "23fb9f19-7755-4f7c-8f78-938bc40ceb5e",
   "metadata": {},
   "outputs": [
    {
     "data": {
      "text/plain": [
       "array([[[-29, -27, -25, -23, -21],\n",
       "        [-24, -22, -20, -18, -16],\n",
       "        [-19, -17, -15, -13, -11],\n",
       "        [-14, -12, -10,  -8,  -6]],\n",
       "\n",
       "       [[ -9,  -7,  -5,  -3,  -1],\n",
       "        [ -4,  -2,   0,   2,   4],\n",
       "        [  1,   3,   5,   7,   9],\n",
       "        [  6,   8,  10,  12,  14]],\n",
       "\n",
       "       [[ 11,  13,  15,  17,  19],\n",
       "        [ 16,  18,  20,  22,  24],\n",
       "        [ 21,  23,  25,  27,  29],\n",
       "        [ 26,  28,  30,  32,  34]]])"
      ]
     },
     "execution_count": 142,
     "metadata": {},
     "output_type": "execute_result"
    }
   ],
   "source": [
    "A_3D + np.arange(1,5+1)"
   ]
  },
  {
   "cell_type": "code",
   "execution_count": 143,
   "id": "9dedd238-bd27-4d4d-93dc-863472a0aa67",
   "metadata": {},
   "outputs": [
    {
     "data": {
      "text/plain": [
       "array([[[1, 2, 3, 4, 5]]])"
      ]
     },
     "execution_count": 143,
     "metadata": {},
     "output_type": "execute_result"
    }
   ],
   "source": [
    "np.array([[[1, 2, 3, 4, 5]]])"
   ]
  },
  {
   "cell_type": "code",
   "execution_count": 144,
   "id": "1c5b56a3-15cf-418f-9d55-551eaaef7ea9",
   "metadata": {},
   "outputs": [
    {
     "data": {
      "text/plain": [
       "array([[[-29, -27, -25, -23, -21],\n",
       "        [-24, -22, -20, -18, -16],\n",
       "        [-19, -17, -15, -13, -11],\n",
       "        [-14, -12, -10,  -8,  -6]],\n",
       "\n",
       "       [[ -9,  -7,  -5,  -3,  -1],\n",
       "        [ -4,  -2,   0,   2,   4],\n",
       "        [  1,   3,   5,   7,   9],\n",
       "        [  6,   8,  10,  12,  14]],\n",
       "\n",
       "       [[ 11,  13,  15,  17,  19],\n",
       "        [ 16,  18,  20,  22,  24],\n",
       "        [ 21,  23,  25,  27,  29],\n",
       "        [ 26,  28,  30,  32,  34]]])"
      ]
     },
     "execution_count": 144,
     "metadata": {},
     "output_type": "execute_result"
    }
   ],
   "source": [
    "A_3D + np.array([[[1, 2, 3, 4, 5]]])"
   ]
  },
  {
   "cell_type": "code",
   "execution_count": 145,
   "id": "c143b996-6565-4b7c-b443-166b0ca02fb8",
   "metadata": {},
   "outputs": [
    {
     "data": {
      "text/plain": [
       "array([[[1]],\n",
       "\n",
       "       [[2]],\n",
       "\n",
       "       [[3]]])"
      ]
     },
     "execution_count": 145,
     "metadata": {},
     "output_type": "execute_result"
    }
   ],
   "source": [
    "np.array([[[1]],[[2]],[[3]]])"
   ]
  },
  {
   "cell_type": "code",
   "execution_count": 146,
   "id": "ff058c7c-888f-4689-9e62-4d5ab87215c7",
   "metadata": {},
   "outputs": [
    {
     "data": {
      "text/plain": [
       "array([[[-29, -28, -27, -26, -25],\n",
       "        [-24, -23, -22, -21, -20],\n",
       "        [-19, -18, -17, -16, -15],\n",
       "        [-14, -13, -12, -11, -10]],\n",
       "\n",
       "       [[ -8,  -7,  -6,  -5,  -4],\n",
       "        [ -3,  -2,  -1,   0,   1],\n",
       "        [  2,   3,   4,   5,   6],\n",
       "        [  7,   8,   9,  10,  11]],\n",
       "\n",
       "       [[ 13,  14,  15,  16,  17],\n",
       "        [ 18,  19,  20,  21,  22],\n",
       "        [ 23,  24,  25,  26,  27],\n",
       "        [ 28,  29,  30,  31,  32]]])"
      ]
     },
     "execution_count": 146,
     "metadata": {},
     "output_type": "execute_result"
    }
   ],
   "source": [
    "A_3D + np.array([[[1]],[[2]],[[3]]])"
   ]
  },
  {
   "cell_type": "code",
   "execution_count": 147,
   "id": "853fc983-4ba0-40f4-bd1e-c1e59586f421",
   "metadata": {},
   "outputs": [
    {
     "data": {
      "text/plain": [
       "array([[[1],\n",
       "        [2],\n",
       "        [3],\n",
       "        [4]]])"
      ]
     },
     "execution_count": 147,
     "metadata": {},
     "output_type": "execute_result"
    }
   ],
   "source": [
    "np.array([[[1],[2],[3],[4]]])"
   ]
  },
  {
   "cell_type": "code",
   "execution_count": 148,
   "id": "79e42eee-efe6-408b-b9b9-d037e93d6e08",
   "metadata": {},
   "outputs": [
    {
     "data": {
      "text/plain": [
       "array([[[-29, -28, -27, -26, -25],\n",
       "        [-23, -22, -21, -20, -19],\n",
       "        [-17, -16, -15, -14, -13],\n",
       "        [-11, -10,  -9,  -8,  -7]],\n",
       "\n",
       "       [[ -9,  -8,  -7,  -6,  -5],\n",
       "        [ -3,  -2,  -1,   0,   1],\n",
       "        [  3,   4,   5,   6,   7],\n",
       "        [  9,  10,  11,  12,  13]],\n",
       "\n",
       "       [[ 11,  12,  13,  14,  15],\n",
       "        [ 17,  18,  19,  20,  21],\n",
       "        [ 23,  24,  25,  26,  27],\n",
       "        [ 29,  30,  31,  32,  33]]])"
      ]
     },
     "execution_count": 148,
     "metadata": {},
     "output_type": "execute_result"
    }
   ],
   "source": [
    "A_3D + np.array([[[1],[2],[3], [4]]])"
   ]
  },
  {
   "cell_type": "markdown",
   "id": "2e48ac2a-1bcd-4f7e-849e-a5d35c58d82b",
   "metadata": {},
   "source": [
    "## 数学函数\n",
    "NumPy有大量数学函数，这个笔记我们仅仅选取几个常用的数学函数，并可视化函数图形。"
   ]
  },
  {
   "cell_type": "code",
   "execution_count": 149,
   "id": "86b2bd20-841e-4edf-b5f1-46fc0c17f27d",
   "metadata": {
    "tags": []
   },
   "outputs": [
    {
     "data": {
      "text/plain": [
       "array([-4. , -3.9, -3.8, -3.7, -3.6, -3.5, -3.4, -3.3, -3.2, -3.1, -3. ,\n",
       "       -2.9, -2.8, -2.7, -2.6, -2.5, -2.4, -2.3, -2.2, -2.1, -2. , -1.9,\n",
       "       -1.8, -1.7, -1.6, -1.5, -1.4, -1.3, -1.2, -1.1, -1. , -0.9, -0.8,\n",
       "       -0.7, -0.6, -0.5, -0.4, -0.3, -0.2, -0.1,  0. ,  0.1,  0.2,  0.3,\n",
       "        0.4,  0.5,  0.6,  0.7,  0.8,  0.9,  1. ,  1.1,  1.2,  1.3,  1.4,\n",
       "        1.5,  1.6,  1.7,  1.8,  1.9,  2. ,  2.1,  2.2,  2.3,  2.4,  2.5,\n",
       "        2.6,  2.7,  2.8,  2.9,  3. ,  3.1,  3.2,  3.3,  3.4,  3.5,  3.6,\n",
       "        3.7,  3.8,  3.9,  4. ])"
      ]
     },
     "execution_count": 149,
     "metadata": {},
     "output_type": "execute_result"
    }
   ],
   "source": [
    "x_array = np.linspace(-4,4,81)\n",
    "x_array"
   ]
  },
  {
   "cell_type": "code",
   "execution_count": 154,
   "id": "c633e9f9-f6ef-4f05-b6c8-b3e6c82af19e",
   "metadata": {},
   "outputs": [
    {
     "data": {
      "image/png": "[encoded data removed]",
      "text/plain": [
       "<Figure size 400x400 with 1 Axes>"
      ]
     },
     "metadata": {},
     "output_type": "display_data"
    }
   ],
   "source": [
    "title = '绝对值函数'\n",
    "visualize_fx(x_array, np.abs(x_array), title)"
   ]
  },
  {
   "cell_type": "code",
   "execution_count": 155,
   "id": "a7a64cec-356c-4045-8d5f-29e4d6ca1d86",
   "metadata": {},
   "outputs": [
    {
     "data": {
      "image/png": "[encoded data removed]",
      "text/plain": [
       "<Figure size 400x400 with 1 Axes>"
      ]
     },
     "metadata": {},
     "output_type": "display_data"
    }
   ],
   "source": [
    "title = '正弦函数'\n",
    "visualize_fx(x_array, np.sin(x_array), title)"
   ]
  },
  {
   "cell_type": "code",
   "execution_count": 156,
   "id": "015d8970-0032-499e-b4b7-9dd1fe89bf55",
   "metadata": {},
   "outputs": [
    {
     "data": {
      "image/png": "[encoded data removed]",
      "text/plain": [
       "<Figure size 400x400 with 1 Axes>"
      ]
     },
     "metadata": {},
     "output_type": "display_data"
    }
   ],
   "source": [
    "title = '余弦函数'\n",
    "visualize_fx(x_array, np.cos(x_array), title)"
   ]
  },
  {
   "cell_type": "code",
   "execution_count": 157,
   "id": "2e901584-7e40-4940-aaa3-60db8a936466",
   "metadata": {},
   "outputs": [
    {
     "data": {
      "image/png": "[encoded data removed]",
      "text/plain": [
       "<Figure size 400x400 with 1 Axes>"
      ]
     },
     "metadata": {},
     "output_type": "display_data"
    }
   ],
   "source": [
    "title = '指数函数'\n",
    "visualize_fx(x_array, np.exp(x_array), title)\n",
    "# 指数函数通常特指以e为底数的指数函数"
   ]
  },
  {
   "cell_type": "code",
   "execution_count": null,
   "id": "c2f239e0-ca2a-41a2-8a29-fbb16f00550d",
   "metadata": {},
   "outputs": [],
   "source": [
    "# 请大家可视化更多一元函数"
   ]
  },
  {
   "cell_type": "markdown",
   "id": "4913e51f-8fa9-4c2a-92de-0e2a66105e95",
   "metadata": {},
   "source": [
    "## 统计函数"
   ]
  },
  {
   "cell_type": "code",
   "execution_count": 194,
   "id": "088f00b6-d254-4841-8287-98420072e97c",
   "metadata": {},
   "outputs": [
    {
     "data": {
      "text/plain": [
       "array([[4, 3, 3, 8, 9, 9],\n",
       "       [0, 8, 2, 4, 1, 1],\n",
       "       [7, 7, 6, 7, 8, 6],\n",
       "       [1, 9, 0, 2, 3, 7]])"
      ]
     },
     "execution_count": 194,
     "metadata": {},
     "output_type": "execute_result"
    }
   ],
   "source": [
    "A_2D = np.random.randint(0,10, size = (4,6))\n",
    "A_2D"
   ]
  },
  {
   "cell_type": "code",
   "execution_count": 195,
   "id": "442df415-f499-4110-8b3b-ce02bd3d9e9a",
   "metadata": {},
   "outputs": [
    {
     "data": {
      "image/png": "[encoded data removed]",
      "text/plain": [
       "<Figure size 300x200 with 1 Axes>"
      ]
     },
     "metadata": {},
     "output_type": "display_data"
    }
   ],
   "source": [
    "visualize_2D(A_2D, '二维数组', 9, 0)"
   ]
  },
  {
   "cell_type": "code",
   "execution_count": 158,
   "id": "aa5fbfd1-4864-4b7d-9506-912ef39c8531",
   "metadata": {},
   "outputs": [],
   "source": [
    "from sklearn.datasets import load_iris\n",
    "\n",
    "iris = load_iris()\n",
    "iris_data_array = iris.data"
   ]
  },
  {
   "cell_type": "code",
   "execution_count": 159,
   "id": "8a2cdd20-6794-4bdb-875e-522d145bd035",
   "metadata": {},
   "outputs": [
    {
     "data": {
      "image/png": "[encoded data removed]",
      "text/plain": [
       "<Figure size 500x500 with 2 Axes>"
      ]
     },
     "metadata": {},
     "output_type": "display_data"
    }
   ],
   "source": [
    "import seaborn as sns\n",
    "fig, ax = plt.subplots(figsize = (5,5))\n",
    "sns.heatmap(iris_data_array,   # 鸢尾花数据数组\n",
    "            cmap = 'RdYlBu_r', # 指定色谱\n",
    "            ax = ax,           # 指定轴\n",
    "            vmax = 8,          # 色谱最大值\n",
    "            vmin = 0,          # 色谱最小值\n",
    "            xticklabels = [],  # 不显示横轴标签\n",
    "            yticklabels = [],  # 不显示纵轴标签\n",
    "            cbar = True)       # 显示色谱条\n",
    "\n",
    "fig.savefig('Figures/鸢尾花数据热图.svg', format='svg')"
   ]
  },
  {
   "cell_type": "markdown",
   "id": "c6def0d1-d91e-4db9-b827-012d74cc2fd4",
   "metadata": {},
   "source": [
    "### 最大值"
   ]
  },
  {
   "cell_type": "code",
   "execution_count": 196,
   "id": "012a4d97-ab4d-4f0f-8aae-77687bf51a14",
   "metadata": {},
   "outputs": [
    {
     "data": {
      "text/plain": [
       "9"
      ]
     },
     "execution_count": 196,
     "metadata": {},
     "output_type": "execute_result"
    }
   ],
   "source": [
    "A_2D.max()"
   ]
  },
  {
   "cell_type": "code",
   "execution_count": 197,
   "id": "35aabe6f-c76b-4dd5-8cb4-3cc70629844c",
   "metadata": {},
   "outputs": [
    {
     "data": {
      "text/plain": [
       "array([7, 9, 6, 8, 9, 9])"
      ]
     },
     "execution_count": 197,
     "metadata": {},
     "output_type": "execute_result"
    }
   ],
   "source": [
    "A_2D.max(axis = 0)"
   ]
  },
  {
   "cell_type": "code",
   "execution_count": 198,
   "id": "ad5b0f7b-f772-4c52-a400-12615d711ba2",
   "metadata": {},
   "outputs": [
    {
     "data": {
      "image/png": "[encoded data removed]",
      "text/plain": [
       "<Figure size 640x480 with 1 Axes>"
      ]
     },
     "metadata": {},
     "output_type": "display_data"
    }
   ],
   "source": [
    "visualize_1D(A_2D.max(axis = 0), '沿axis = 0，最大值', 0, 9)"
   ]
  },
  {
   "cell_type": "code",
   "execution_count": 199,
   "id": "f34934c4-127f-429c-8f95-55bd0cefee12",
   "metadata": {},
   "outputs": [
    {
     "data": {
      "text/plain": [
       "array([9, 8, 8, 9])"
      ]
     },
     "execution_count": 199,
     "metadata": {},
     "output_type": "execute_result"
    }
   ],
   "source": [
    "A_2D.max(axis = 1)"
   ]
  },
  {
   "cell_type": "code",
   "execution_count": 207,
   "id": "0d37bd75-5d19-42f9-b6b2-b587b0f40a8a",
   "metadata": {},
   "outputs": [
    {
     "data": {
      "text/plain": [
       "array([[9],\n",
       "       [8],\n",
       "       [8],\n",
       "       [9]])"
      ]
     },
     "execution_count": 207,
     "metadata": {},
     "output_type": "execute_result"
    }
   ],
   "source": [
    "A_2D.max(axis = 1, keepdims = True)"
   ]
  },
  {
   "cell_type": "code",
   "execution_count": 208,
   "id": "7c44a88e-e7cd-48c1-a861-2810cbbcadf0",
   "metadata": {},
   "outputs": [
    {
     "data": {
      "image/png": "[encoded data removed]",
      "text/plain": [
       "<Figure size 640x480 with 1 Axes>"
      ]
     },
     "metadata": {},
     "output_type": "display_data"
    }
   ],
   "source": [
    "visualize_1D(A_2D.max(axis = 1), '沿axis = 1，最大值', 0, 9)"
   ]
  },
  {
   "cell_type": "code",
   "execution_count": 160,
   "id": "2e88142c-9a19-4943-8d82-598a153fa0a4",
   "metadata": {},
   "outputs": [
    {
     "data": {
      "text/plain": [
       "7.9"
      ]
     },
     "execution_count": 160,
     "metadata": {},
     "output_type": "execute_result"
    }
   ],
   "source": [
    "iris_data_array.max()"
   ]
  },
  {
   "cell_type": "code",
   "execution_count": 161,
   "id": "2770afe1-1459-42fa-9e64-9e3ebe7cbde3",
   "metadata": {},
   "outputs": [
    {
     "data": {
      "text/plain": [
       "array([7.9, 4.4, 6.9, 2.5])"
      ]
     },
     "execution_count": 161,
     "metadata": {},
     "output_type": "execute_result"
    }
   ],
   "source": [
    "iris_data_array.max(axis = 0)"
   ]
  },
  {
   "cell_type": "code",
   "execution_count": 182,
   "id": "4c42bc9a-0272-494b-a4d6-84d9e4a2290e",
   "metadata": {},
   "outputs": [
    {
     "data": {
      "image/png": "[encoded data removed]",
      "text/plain": [
       "<Figure size 640x480 with 1 Axes>"
      ]
     },
     "metadata": {},
     "output_type": "display_data"
    }
   ],
   "source": [
    "visualize_1D(iris_data_array.max(axis = 0), '鸢尾花沿axis = 0，最大值', 0, 8)"
   ]
  },
  {
   "cell_type": "code",
   "execution_count": 162,
   "id": "4f5167ee-6b33-4973-8a3e-e38d3a5d2542",
   "metadata": {},
   "outputs": [
    {
     "data": {
      "text/plain": [
       "array([131,  15, 118, 100], dtype=int64)"
      ]
     },
     "execution_count": 162,
     "metadata": {},
     "output_type": "execute_result"
    }
   ],
   "source": [
    "np.argmax(iris_data_array, axis=0)"
   ]
  },
  {
   "cell_type": "code",
   "execution_count": 163,
   "id": "b87c43ee-4cca-40b7-a0a8-f246fd8e883f",
   "metadata": {},
   "outputs": [
    {
     "data": {
      "text/plain": [
       "array([5.1, 4.9, 4.7, 4.6, 5. , 5.4, 4.6, 5. , 4.4, 4.9, 5.4, 4.8, 4.8,\n",
       "       4.3, 5.8, 5.7, 5.4, 5.1, 5.7, 5.1, 5.4, 5.1, 4.6, 5.1, 4.8, 5. ,\n",
       "       5. , 5.2, 5.2, 4.7, 4.8, 5.4, 5.2, 5.5, 4.9, 5. , 5.5, 4.9, 4.4,\n",
       "       5.1, 5. , 4.5, 4.4, 5. , 5.1, 4.8, 5.1, 4.6, 5.3, 5. , 7. , 6.4,\n",
       "       6.9, 5.5, 6.5, 5.7, 6.3, 4.9, 6.6, 5.2, 5. , 5.9, 6. , 6.1, 5.6,\n",
       "       6.7, 5.6, 5.8, 6.2, 5.6, 5.9, 6.1, 6.3, 6.1, 6.4, 6.6, 6.8, 6.7,\n",
       "       6. , 5.7, 5.5, 5.5, 5.8, 6. , 5.4, 6. , 6.7, 6.3, 5.6, 5.5, 5.5,\n",
       "       6.1, 5.8, 5. , 5.6, 5.7, 5.7, 6.2, 5.1, 5.7, 6.3, 5.8, 7.1, 6.3,\n",
       "       6.5, 7.6, 4.9, 7.3, 6.7, 7.2, 6.5, 6.4, 6.8, 5.7, 5.8, 6.4, 6.5,\n",
       "       7.7, 7.7, 6. , 6.9, 5.6, 7.7, 6.3, 6.7, 7.2, 6.2, 6.1, 6.4, 7.2,\n",
       "       7.4, 7.9, 6.4, 6.3, 6.1, 7.7, 6.3, 6.4, 6. , 6.9, 6.7, 6.9, 5.8,\n",
       "       6.8, 6.7, 6.7, 6.3, 6.5, 6.2, 5.9])"
      ]
     },
     "execution_count": 163,
     "metadata": {},
     "output_type": "execute_result"
    }
   ],
   "source": [
    "iris_data_array.max(axis = 1)"
   ]
  },
  {
   "cell_type": "code",
   "execution_count": 164,
   "id": "67390d79-e2d7-4cf4-8210-bc48d09c34aa",
   "metadata": {},
   "outputs": [
    {
     "data": {
      "text/plain": [
       "array([0, 0, 0, 0, 0, 0, 0, 0, 0, 0, 0, 0, 0, 0, 0, 0, 0, 0, 0, 0, 0, 0,\n",
       "       0, 0, 0, 0, 0, 0, 0, 0, 0, 0, 0, 0, 0, 0, 0, 0, 0, 0, 0, 0, 0, 0,\n",
       "       0, 0, 0, 0, 0, 0, 0, 0, 0, 0, 0, 0, 0, 0, 0, 0, 0, 0, 0, 0, 0, 0,\n",
       "       0, 0, 0, 0, 0, 0, 0, 0, 0, 0, 0, 0, 0, 0, 0, 0, 0, 0, 0, 0, 0, 0,\n",
       "       0, 0, 0, 0, 0, 0, 0, 0, 0, 0, 0, 0, 0, 0, 0, 0, 0, 0, 0, 0, 0, 0,\n",
       "       0, 0, 0, 0, 0, 0, 0, 0, 0, 0, 0, 0, 0, 0, 0, 0, 0, 0, 0, 0, 0, 0,\n",
       "       0, 0, 0, 0, 0, 0, 0, 0, 0, 0, 0, 0, 0, 0, 0, 0, 0, 0], dtype=int64)"
      ]
     },
     "execution_count": 164,
     "metadata": {},
     "output_type": "execute_result"
    }
   ],
   "source": [
    "np.argmax(iris_data_array, axis=1)"
   ]
  },
  {
   "cell_type": "markdown",
   "id": "eb0f6d73-c3a9-4871-89a1-45ff3ff8c660",
   "metadata": {},
   "source": [
    "### 最小值"
   ]
  },
  {
   "cell_type": "code",
   "execution_count": 201,
   "id": "77983c01-272e-4883-adc4-5ff055b38c90",
   "metadata": {},
   "outputs": [
    {
     "data": {
      "text/plain": [
       "0"
      ]
     },
     "execution_count": 201,
     "metadata": {},
     "output_type": "execute_result"
    }
   ],
   "source": [
    "A_2D.min()"
   ]
  },
  {
   "cell_type": "code",
   "execution_count": 202,
   "id": "9aabb50e-eaed-4b16-a598-136ef8f9a30e",
   "metadata": {},
   "outputs": [
    {
     "data": {
      "text/plain": [
       "array([0, 3, 0, 2, 1, 1])"
      ]
     },
     "execution_count": 202,
     "metadata": {},
     "output_type": "execute_result"
    }
   ],
   "source": [
    "A_2D.min(axis = 0)"
   ]
  },
  {
   "cell_type": "code",
   "execution_count": 204,
   "id": "922898d6-ce1a-4b65-afd9-32614a96c802",
   "metadata": {},
   "outputs": [
    {
     "data": {
      "image/png": "[encoded data removed]",
      "text/plain": [
       "<Figure size 640x480 with 1 Axes>"
      ]
     },
     "metadata": {},
     "output_type": "display_data"
    }
   ],
   "source": [
    "visualize_1D(A_2D.min(axis = 0), '鸢尾花沿axis = 0，最小值', 0, 8)"
   ]
  },
  {
   "cell_type": "code",
   "execution_count": 188,
   "id": "dac22399-fd15-414d-a462-2c2364f98e60",
   "metadata": {},
   "outputs": [
    {
     "data": {
      "text/plain": [
       "array([-7, -2,  3])"
      ]
     },
     "execution_count": 188,
     "metadata": {},
     "output_type": "execute_result"
    }
   ],
   "source": [
    "A_2D.min(axis = 1)"
   ]
  },
  {
   "cell_type": "code",
   "execution_count": 206,
   "id": "e4d445c9-6c7f-4f53-93ba-b77baa2363a4",
   "metadata": {},
   "outputs": [
    {
     "data": {
      "image/png": "[encoded data removed]",
      "text/plain": [
       "<Figure size 640x480 with 1 Axes>"
      ]
     },
     "metadata": {},
     "output_type": "display_data"
    }
   ],
   "source": [
    "visualize_1D(A_2D.min(axis = 1), '鸢尾花沿axis = 1，最小值', 0, 8)"
   ]
  },
  {
   "cell_type": "code",
   "execution_count": 169,
   "id": "d3ac5a7c-8ae7-4804-a6c4-611e24c87520",
   "metadata": {},
   "outputs": [
    {
     "data": {
      "text/plain": [
       "0.1"
      ]
     },
     "execution_count": 169,
     "metadata": {},
     "output_type": "execute_result"
    }
   ],
   "source": [
    "iris_data_array.min()"
   ]
  },
  {
   "cell_type": "code",
   "execution_count": 170,
   "id": "054cfb43-196b-4b3d-b8f7-548b2f716c3e",
   "metadata": {},
   "outputs": [
    {
     "data": {
      "text/plain": [
       "array([4.3, 2. , 1. , 0.1])"
      ]
     },
     "execution_count": 170,
     "metadata": {},
     "output_type": "execute_result"
    }
   ],
   "source": [
    "iris_data_array.min(axis = 0)"
   ]
  },
  {
   "cell_type": "code",
   "execution_count": 172,
   "id": "5ad79272-5933-4e65-a788-e6bd1e2f39af",
   "metadata": {},
   "outputs": [
    {
     "data": {
      "image/png": "[encoded data removed]",
      "text/plain": [
       "<Figure size 640x480 with 1 Axes>"
      ]
     },
     "metadata": {},
     "output_type": "display_data"
    }
   ],
   "source": [
    "visualize_1D(iris_data_array.min(axis = 0), '沿axis = 0，最小值', 0, 8)"
   ]
  },
  {
   "cell_type": "code",
   "execution_count": 173,
   "id": "0a65104c-1828-4575-b7f0-94a8e787e8ae",
   "metadata": {},
   "outputs": [
    {
     "data": {
      "text/plain": [
       "array([13, 60, 22,  9], dtype=int64)"
      ]
     },
     "execution_count": 173,
     "metadata": {},
     "output_type": "execute_result"
    }
   ],
   "source": [
    "np.argmin(iris_data_array, axis=0)"
   ]
  },
  {
   "cell_type": "code",
   "execution_count": 174,
   "id": "f796156e-9411-4a66-89b4-e8473ba385ea",
   "metadata": {},
   "outputs": [
    {
     "data": {
      "text/plain": [
       "array([0.2, 0.2, 0.2, 0.2, 0.2, 0.4, 0.3, 0.2, 0.2, 0.1, 0.2, 0.2, 0.1,\n",
       "       0.1, 0.2, 0.4, 0.4, 0.3, 0.3, 0.3, 0.2, 0.4, 0.2, 0.5, 0.2, 0.2,\n",
       "       0.4, 0.2, 0.2, 0.2, 0.2, 0.4, 0.1, 0.2, 0.2, 0.2, 0.2, 0.1, 0.2,\n",
       "       0.2, 0.3, 0.3, 0.2, 0.6, 0.4, 0.3, 0.2, 0.2, 0.2, 0.2, 1.4, 1.5,\n",
       "       1.5, 1.3, 1.5, 1.3, 1.6, 1. , 1.3, 1.4, 1. , 1.5, 1. , 1.4, 1.3,\n",
       "       1.4, 1.5, 1. , 1.5, 1.1, 1.8, 1.3, 1.5, 1.2, 1.3, 1.4, 1.4, 1.7,\n",
       "       1.5, 1. , 1.1, 1. , 1.2, 1.6, 1.5, 1.6, 1.5, 1.3, 1.3, 1.3, 1.2,\n",
       "       1.4, 1.2, 1. , 1.3, 1.2, 1.3, 1.3, 1.1, 1.3, 2.5, 1.9, 2.1, 1.8,\n",
       "       2.2, 2.1, 1.7, 1.8, 1.8, 2.5, 2. , 1.9, 2.1, 2. , 2.4, 2.3, 1.8,\n",
       "       2.2, 2.3, 1.5, 2.3, 2. , 2. , 1.8, 2.1, 1.8, 1.8, 1.8, 2.1, 1.6,\n",
       "       1.9, 2. , 2.2, 1.5, 1.4, 2.3, 2.4, 1.8, 1.8, 2.1, 2.4, 2.3, 1.9,\n",
       "       2.3, 2.5, 2.3, 1.9, 2. , 2.3, 1.8])"
      ]
     },
     "execution_count": 174,
     "metadata": {},
     "output_type": "execute_result"
    }
   ],
   "source": [
    "iris_data_array.min(axis = 1)"
   ]
  },
  {
   "cell_type": "markdown",
   "id": "f983acd7-5434-4fdc-ba77-27c9db6a1afe",
   "metadata": {},
   "source": [
    "### 求和"
   ]
  },
  {
   "cell_type": "code",
   "execution_count": null,
   "id": "d634129c-4738-4daa-965b-432fa49e310d",
   "metadata": {},
   "outputs": [],
   "source": [
    "iris_data_array.sum()"
   ]
  },
  {
   "cell_type": "code",
   "execution_count": null,
   "id": "feccf368-aaae-47e2-a651-b417c5b09d1d",
   "metadata": {},
   "outputs": [],
   "source": [
    "iris_data_array.sum(axis = 0)"
   ]
  },
  {
   "cell_type": "code",
   "execution_count": null,
   "id": "d4d0fc1d-06ae-4d64-8ef7-7788608211e3",
   "metadata": {},
   "outputs": [],
   "source": [
    "iris_data_array.sum(axis = 1)"
   ]
  },
  {
   "cell_type": "markdown",
   "id": "0823342f-6274-458b-ac96-5e24852c1778",
   "metadata": {},
   "source": [
    "### 平均值\n",
    "$${\\displaystyle \\mu ={\\frac {1}{n}}\\sum _{i=1}^{n}x_{i}.} $$"
   ]
  },
  {
   "cell_type": "code",
   "execution_count": 215,
   "id": "512be22c-0daf-4cad-a5cd-d617f2da0c8b",
   "metadata": {},
   "outputs": [
    {
     "data": {
      "text/plain": [
       "3.4644999999999997"
      ]
     },
     "execution_count": 215,
     "metadata": {},
     "output_type": "execute_result"
    }
   ],
   "source": [
    "np.average(iris_data_array)"
   ]
  },
  {
   "cell_type": "code",
   "execution_count": 210,
   "id": "d499c594-9f33-46ae-9aba-385e2c130a06",
   "metadata": {},
   "outputs": [
    {
     "data": {
      "text/plain": [
       "array([5.84333333, 3.05733333, 3.758     , 1.19933333])"
      ]
     },
     "execution_count": 210,
     "metadata": {},
     "output_type": "execute_result"
    }
   ],
   "source": [
    "np.average(iris_data_array, axis = 0)"
   ]
  },
  {
   "cell_type": "code",
   "execution_count": 211,
   "id": "c5e95730-e5d0-4664-b7e8-81e310d1ca3c",
   "metadata": {},
   "outputs": [
    {
     "data": {
      "text/plain": [
       "array([2.55 , 2.375, 2.35 , 2.35 , 2.55 , 2.85 , 2.425, 2.525, 2.225,\n",
       "       2.4  , 2.7  , 2.5  , 2.325, 2.125, 2.8  , 3.   , 2.75 , 2.575,\n",
       "       2.875, 2.675, 2.675, 2.675, 2.35 , 2.65 , 2.575, 2.45 , 2.6  ,\n",
       "       2.6  , 2.55 , 2.425, 2.425, 2.675, 2.725, 2.825, 2.425, 2.4  ,\n",
       "       2.625, 2.5  , 2.225, 2.55 , 2.525, 2.1  , 2.275, 2.675, 2.8  ,\n",
       "       2.375, 2.675, 2.35 , 2.675, 2.475, 4.075, 3.9  , 4.1  , 3.275,\n",
       "       3.85 , 3.575, 3.975, 2.9  , 3.85 , 3.3  , 2.875, 3.65 , 3.3  ,\n",
       "       3.775, 3.35 , 3.9  , 3.65 , 3.4  , 3.6  , 3.275, 3.925, 3.55 ,\n",
       "       3.8  , 3.7  , 3.725, 3.85 , 3.95 , 4.1  , 3.725, 3.2  , 3.2  ,\n",
       "       3.15 , 3.4  , 3.85 , 3.6  , 3.875, 4.   , 3.575, 3.5  , 3.325,\n",
       "       3.425, 3.775, 3.4  , 2.9  , 3.45 , 3.525, 3.525, 3.675, 2.925,\n",
       "       3.475, 4.525, 3.875, 4.525, 4.15 , 4.375, 4.825, 3.4  , 4.575,\n",
       "       4.2  , 4.85 , 4.2  , 4.075, 4.35 , 3.8  , 4.025, 4.3  , 4.2  ,\n",
       "       5.1  , 4.875, 3.675, 4.525, 3.825, 4.8  , 3.925, 4.45 , 4.55 ,\n",
       "       3.9  , 3.95 , 4.225, 4.4  , 4.55 , 5.025, 4.25 , 3.925, 3.925,\n",
       "       4.775, 4.425, 4.2  , 3.9  , 4.375, 4.45 , 4.35 , 3.875, 4.55 ,\n",
       "       4.55 , 4.3  , 3.925, 4.175, 4.325, 3.95 ])"
      ]
     },
     "execution_count": 211,
     "metadata": {},
     "output_type": "execute_result"
    }
   ],
   "source": [
    "np.average(iris_data_array, axis = 1)"
   ]
  },
  {
   "cell_type": "markdown",
   "id": "a8126a14-742e-4ee3-8e3f-548b8b0989ee",
   "metadata": {},
   "source": [
    "### 方差\n",
    "$${\\displaystyle \\operatorname {Var} (X)={\\frac {1}{n - 1}}\\sum _{i=1}^{n}(x_{i}-\\mu )^{2}}$$"
   ]
  },
  {
   "cell_type": "code",
   "execution_count": 212,
   "id": "ad1f8a2b-13b6-414e-ab00-e80d9171b7bb",
   "metadata": {},
   "outputs": [
    {
     "data": {
      "text/plain": [
       "3.896056416666667"
      ]
     },
     "execution_count": 212,
     "metadata": {},
     "output_type": "execute_result"
    }
   ],
   "source": [
    "np.var(iris_data_array)\n",
    "# 注意，NumPy中默认分母为n"
   ]
  },
  {
   "cell_type": "markdown",
   "id": "c3328425-3497-43b7-882e-eeb04b885270",
   "metadata": {},
   "source": [
    "NumPy默认计算：\n",
    "$${\\displaystyle \\operatorname {Var} (X)={\\frac {1}{n}}\\sum _{i=1}^{n}(x_{i}-\\mu )^{2}}$$"
   ]
  },
  {
   "cell_type": "code",
   "execution_count": 216,
   "id": "01e3d5c3-eab4-426e-8c2b-762b860478d8",
   "metadata": {},
   "outputs": [
    {
     "data": {
      "text/plain": [
       "array([0.68112222, 0.18871289, 3.09550267, 0.57713289])"
      ]
     },
     "execution_count": 216,
     "metadata": {},
     "output_type": "execute_result"
    }
   ],
   "source": [
    "np.var(iris_data_array, axis = 0)"
   ]
  },
  {
   "cell_type": "code",
   "execution_count": 219,
   "id": "900c40c4-f885-4fb4-96b9-f9019b30cd0e",
   "metadata": {},
   "outputs": [
    {
     "data": {
      "text/plain": [
       "array([0.68569351, 0.18997942, 3.11627785, 0.58100626])"
      ]
     },
     "execution_count": 219,
     "metadata": {},
     "output_type": "execute_result"
    }
   ],
   "source": [
    "np.var(iris_data_array, axis = 0, ddof = 1)\n",
    "# 将分母设为n - 1"
   ]
  },
  {
   "cell_type": "markdown",
   "id": "8001ed3e-0f9d-4d16-a4a4-5658a8ff2169",
   "metadata": {},
   "source": [
    "### 标准差"
   ]
  },
  {
   "cell_type": "code",
   "execution_count": 220,
   "id": "c9c3293a-fc92-4c82-88a0-e230a90b6948",
   "metadata": {},
   "outputs": [
    {
     "data": {
      "text/plain": [
       "array([0.82530129, 0.43441097, 1.75940407, 0.75969263])"
      ]
     },
     "execution_count": 220,
     "metadata": {},
     "output_type": "execute_result"
    }
   ],
   "source": [
    "np.std(iris_data_array, axis = 0)\n",
    "# 注意，NumPy中默认分母为n"
   ]
  },
  {
   "cell_type": "markdown",
   "id": "3c3ab80c-a0f5-4b44-8c50-c0579a3576de",
   "metadata": {},
   "source": [
    "### 协方差矩阵"
   ]
  },
  {
   "cell_type": "code",
   "execution_count": 225,
   "id": "64456392-a8b3-4ad2-95db-2059437e2958",
   "metadata": {},
   "outputs": [
    {
     "data": {
      "text/plain": [
       "array([[ 0.68569351, -0.042434  ,  1.27431544,  0.51627069],\n",
       "       [-0.042434  ,  0.18997942, -0.32965638, -0.12163937],\n",
       "       [ 1.27431544, -0.32965638,  3.11627785,  1.2956094 ],\n",
       "       [ 0.51627069, -0.12163937,  1.2956094 ,  0.58100626]])"
      ]
     },
     "execution_count": 225,
     "metadata": {},
     "output_type": "execute_result"
    }
   ],
   "source": [
    "np.cov(iris_data_array.T, ddof = 1)\n",
    "# 注意转置"
   ]
  },
  {
   "cell_type": "code",
   "execution_count": 231,
   "id": "39b41977-950c-497c-b383-fbf160ff69f4",
   "metadata": {},
   "outputs": [
    {
     "data": {
      "image/png": "[encoded data removed]",
      "text/plain": [
       "<Figure size 500x500 with 2 Axes>"
      ]
     },
     "metadata": {},
     "output_type": "display_data"
    }
   ],
   "source": [
    "\n",
    "fig, ax = plt.subplots(figsize = (5,5))\n",
    "sns.heatmap(np.cov(iris_data_array.T, ddof = 1),   \n",
    "            cmap = 'RdYlBu_r', # 指定色谱\n",
    "            annot = True,      # 注释\n",
    "            ax = ax,           # 指定轴\n",
    "            fmt = \".2f\",       # 注释数值的格式\n",
    "            square = True,     # 热图方格为正方形\n",
    "            xticklabels = [],  # 不显示横轴标签\n",
    "            yticklabels = [],  # 不显示纵轴标签\n",
    "            cbar = True)       # 显示色谱条\n",
    "\n",
    "fig.savefig('Figures/鸢尾花数据协方差矩阵.svg', format='svg')"
   ]
  },
  {
   "cell_type": "markdown",
   "id": "3223aab6-f0d0-4162-b234-3d824c361c24",
   "metadata": {},
   "source": [
    "### 相关性系数矩阵"
   ]
  },
  {
   "cell_type": "code",
   "execution_count": 227,
   "id": "36a099a8-a62a-472e-a6ec-a22df3250e27",
   "metadata": {},
   "outputs": [
    {
     "data": {
      "text/plain": [
       "array([[ 1.        , -0.11756978,  0.87175378,  0.81794113],\n",
       "       [-0.11756978,  1.        , -0.4284401 , -0.36612593],\n",
       "       [ 0.87175378, -0.4284401 ,  1.        ,  0.96286543],\n",
       "       [ 0.81794113, -0.36612593,  0.96286543,  1.        ]])"
      ]
     },
     "execution_count": 227,
     "metadata": {},
     "output_type": "execute_result"
    }
   ],
   "source": [
    "np.corrcoef(iris_data_array.T)\n",
    "# 注意转置"
   ]
  },
  {
   "cell_type": "code",
   "execution_count": 232,
   "id": "72ceb537-dd33-40c6-86a6-88325fa94b85",
   "metadata": {},
   "outputs": [
    {
     "data": {
      "image/png": "[encoded data removed]",
      "text/plain": [
       "<Figure size 500x500 with 2 Axes>"
      ]
     },
     "metadata": {},
     "output_type": "display_data"
    }
   ],
   "source": [
    "\n",
    "fig, ax = plt.subplots(figsize = (5,5))\n",
    "sns.heatmap(np.corrcoef(iris_data_array.T),   \n",
    "            cmap = 'RdYlBu_r', # 指定色谱\n",
    "            annot = True,      # 注释\n",
    "            ax = ax,           # 指定轴\n",
    "            fmt = \".2f\",       # 注释数值的格式\n",
    "            square = True,     # 热图方格为正方形\n",
    "            xticklabels = [],  # 不显示横轴标签\n",
    "            yticklabels = [],  # 不显示纵轴标签\n",
    "            cbar = True)       # 显示色谱条\n",
    "\n",
    "fig.savefig('Figures/鸢尾花数据相关性系数矩阵.svg', format='svg')"
   ]
  },
  {
   "cell_type": "markdown",
   "id": "da9ae719-b1d6-4f5e-b559-4b8dfed4d528",
   "metadata": {},
   "source": [
    "请大家自行学习如下函数：  \n",
    "numpy.percentile()  \n",
    "numpy.quantile()  \n",
    "numpy.median()   \n",
    "numpy.nanmean()  \n",
    "numpy.nanmedian()  \n",
    "numpy.nanstd()  \n",
    "numpy.nanvar()  "
   ]
  },
  {
   "cell_type": "markdown",
   "id": "042a86cc-f750-4081-a2ab-65f0fe5d18ad",
   "metadata": {},
   "source": [
    "## 参考阅读"
   ]
  },
  {
   "cell_type": "markdown",
   "id": "81862b64-94b1-4ff5-8e21-019067c7116d",
   "metadata": {},
   "source": [
    "关于广播原则，请参考：  \n",
    "https://numpy.org/doc/stable/user/basics.broadcasting.html  \n",
    "有关数学函数，请参考：  \n",
    "https://numpy.org/doc/stable/reference/routines.math.html  \n",
    "有关统计函数，请参考：  \n",
    "https://numpy.org/doc/stable/reference/routines.statistics.html  \n",
    "有关逻辑函数，请参考：  \n",
    "https://numpy.org/doc/stable/reference/routines.logic.html  "
   ]
  },
  {
   "cell_type": "code",
   "execution_count": null,
   "id": "2a76d332-aee9-4e69-b1d7-20b5eac340a5",
   "metadata": {},
   "outputs": [],
   "source": [
    "# Repo: https://github.com/Visualize-ML\n",
    "# Book 1 Python for Beginners  |  From Basic Arithmetic to Machine Learning\n",
    "# Published and copyrighted by Tsinghua University Press\n",
    "# Beijing, China, 2023"
   ]
  }
 ],
 "metadata": {
  "kernelspec": {
   "display_name": "Python 3 (ipykernel)",
   "language": "python",
   "name": "python3"
  },
  "language_info": {
   "codemirror_mode": {
    "name": "ipython",
    "version": 3
   },
   "file_extension": ".py",
   "mimetype": "text/x-python",
   "name": "python",
   "nbconvert_exporter": "python",
   "pygments_lexer": "ipython3",
   "version": "3.10.9"
  }
 },
 "nbformat": 4,
 "nbformat_minor": 5
}
