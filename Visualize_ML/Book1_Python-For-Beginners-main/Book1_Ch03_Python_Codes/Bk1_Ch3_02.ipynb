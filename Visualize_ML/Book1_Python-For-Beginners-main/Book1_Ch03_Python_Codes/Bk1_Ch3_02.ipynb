{
 "cells": [
  {
   "cell_type": "markdown",
   "id": "21fced6d-87d6-4fd2-8bc7-e488477b07f2",
   "metadata": {},
   "source": [
    "Chapter 03\n",
    "# Markdown中的各种常用元素\n",
    "Book_1《编程不难》 | 鸢尾花书：从加减乘除到机器学习  "
   ]
  },
  {
   "cell_type": "markdown",
   "id": "6969ff84-1d6f-42e7-b9df-a185467cae6f",
   "metadata": {},
   "source": [
    "# Level 1 Header"
   ]
  },
  {
   "cell_type": "markdown",
   "id": "348d474d-9033-4cab-8a76-00065c03c10c",
   "metadata": {},
   "source": [
    "## Level 2 Header"
   ]
  },
  {
   "cell_type": "markdown",
   "id": "a1f7fbe8-52c5-4d24-a54e-8acb2dd2a030",
   "metadata": {},
   "source": [
    "### Level 3 Header"
   ]
  },
  {
   "cell_type": "markdown",
   "id": "71a31676-f09b-417a-a1e7-b80100e4149e",
   "metadata": {},
   "source": [
    "#### Level 4 Header"
   ]
  },
  {
   "cell_type": "markdown",
   "id": "955ffdb8-24e8-4be9-b152-9f8768b521d6",
   "metadata": {},
   "source": [
    "##### Level 5 Header"
   ]
  },
  {
   "cell_type": "markdown",
   "id": "d9dee2bf-2399-44ca-b0b8-dd313299fd3d",
   "metadata": {},
   "source": [
    "<h1> Level 1 Header </h1>"
   ]
  },
  {
   "cell_type": "markdown",
   "id": "4c9d147f-8ea9-4328-a013-1f4c67b31fc2",
   "metadata": {},
   "source": [
    "<h2> Level 2 Header </h2>"
   ]
  },
  {
   "cell_type": "markdown",
   "id": "dcd8ed8d-b810-4c92-902b-e6a11ee6b08a",
   "metadata": {},
   "source": [
    "<h3> Level 3 Header </h3>"
   ]
  },
  {
   "cell_type": "markdown",
   "id": "34d4d76a-d91f-47eb-a683-d8820584833f",
   "metadata": {},
   "source": [
    "<h4> Level 4 Header </h4>"
   ]
  },
  {
   "cell_type": "markdown",
   "id": "95db49c8-4cea-4d02-89e9-3e14fb3d0f4e",
   "metadata": {},
   "source": [
    "<h5> Level 5 Header </h5>"
   ]
  },
  {
   "cell_type": "markdown",
   "id": "8741b31b-ef4c-4309-a0a4-41bbc9b0a351",
   "metadata": {},
   "source": [
    "<font color=blue> colored text</font>"
   ]
  },
  {
   "cell_type": "markdown",
   "id": "591f5ad1-5b5f-47e9-b368-ebbfef7db13f",
   "metadata": {},
   "source": [
    "*italic text*"
   ]
  },
  {
   "cell_type": "markdown",
   "id": "dc227002-8205-4aef-ad68-eb23c2da2a2c",
   "metadata": {},
   "source": [
    "_italic text_"
   ]
  },
  {
   "cell_type": "markdown",
   "id": "cee64e67-a147-41d0-865d-7bc079df57fa",
   "metadata": {},
   "source": [
    "<em>italic text</em>"
   ]
  },
  {
   "cell_type": "markdown",
   "id": "a7873471-3e3b-4614-833c-7adbaeeea47d",
   "metadata": {},
   "source": [
    "**bold text**"
   ]
  },
  {
   "cell_type": "markdown",
   "id": "cdacd58b-44b7-4fd8-acd6-e459f6acdc22",
   "metadata": {},
   "source": [
    "<strong>bold text</strong>"
   ]
  },
  {
   "cell_type": "markdown",
   "id": "fdeb5704-7e13-4201-93f9-106d68aac651",
   "metadata": {},
   "source": [
    "<b>bold text</b>"
   ]
  },
  {
   "cell_type": "markdown",
   "id": "d0590358-3ae8-41f0-9111-bfc4b14dc69c",
   "metadata": {},
   "source": [
    "__bond text__"
   ]
  },
  {
   "cell_type": "markdown",
   "id": "04b9948b-d16d-4a55-95d9-ba0de9b7b861",
   "metadata": {},
   "source": [
    "***bold and italic text***"
   ]
  },
  {
   "cell_type": "markdown",
   "id": "6888d5bf-7c05-4a15-ba66-72186eb8c06f",
   "metadata": {},
   "source": [
    "___bold and italic text___"
   ]
  },
  {
   "cell_type": "markdown",
   "id": "e8f229f9-b4f0-4bbf-bfba-33a7b04d9057",
   "metadata": {},
   "source": [
    "<strong><em> bold and italic text </em></strong>"
   ]
  },
  {
   "cell_type": "markdown",
   "id": "76b69527-25b3-4df7-a2c5-878bba935c36",
   "metadata": {},
   "source": [
    "~~Scratch this~~"
   ]
  },
  {
   "cell_type": "markdown",
   "id": "1652a466-a667-4a36-bcaa-bb2fcb281050",
   "metadata": {},
   "source": [
    "<del>Scratch this</del>"
   ]
  },
  {
   "cell_type": "markdown",
   "id": "37c6fade-2448-4e30-9537-6c8daa52c825",
   "metadata": {},
   "source": [
    "***"
   ]
  },
  {
   "cell_type": "markdown",
   "id": "acba691f-9e87-4ab3-b78d-3353c78f63d3",
   "metadata": {},
   "source": [
    "---"
   ]
  },
  {
   "cell_type": "markdown",
   "id": "f6731072-73ff-498f-8f81-b70ccf892a15",
   "metadata": {},
   "source": [
    "___"
   ]
  },
  {
   "cell_type": "markdown",
   "id": "15eca8a2-1018-45cb-b0cf-b650bb9f3931",
   "metadata": {},
   "source": [
    "<hr>"
   ]
  },
  {
   "cell_type": "markdown",
   "id": "5cc073ea-3b3a-4372-ac0b-422e76d904af",
   "metadata": {},
   "source": [
    "* bullet point 1\n",
    "* bullet point 2"
   ]
  },
  {
   "cell_type": "markdown",
   "id": "d8d411a7-2f53-4034-bcff-011fa636286f",
   "metadata": {},
   "source": [
    "- bullet point 1\n",
    "- bullet point 2"
   ]
  },
  {
   "cell_type": "markdown",
   "id": "4ffaf67f-00d9-44be-9f98-3d2d43569b28",
   "metadata": {},
   "source": [
    "- bullet point 1\n",
    "    - bullet point 1.1\n",
    "        - bullet point 1.1.1\n",
    "        - bullet point 1.1.2\n",
    "    - bullet point 1.2"
   ]
  },
  {
   "cell_type": "markdown",
   "id": "e51e02b8-f001-496b-ae59-8e21e0832711",
   "metadata": {},
   "source": [
    "1. bullet point\n",
    "2. bullet point"
   ]
  },
  {
   "cell_type": "markdown",
   "id": "f2ec05b9-6e84-4b6e-a1d3-5a4ab2d5bbee",
   "metadata": {},
   "source": [
    "<ul>\n",
    "<li>item 1</li>\n",
    "<li>item 2</li>\n",
    "<li>item 3</li>\n",
    "</ul>"
   ]
  },
  {
   "cell_type": "markdown",
   "id": "7a22c75a-567c-4da3-bfaa-08df7c5bf39c",
   "metadata": {},
   "source": [
    "<ol>\n",
    "<li>item 1</li>\n",
    "<li>item 2</li>\n",
    "<li>item 3</li>\n",
    "</ol>"
   ]
  },
  {
   "cell_type": "markdown",
   "id": "3159a593-8ac6-4a44-9930-6365352e1781",
   "metadata": {},
   "source": [
    "- [x] Done\n",
    "- [ ] To Do"
   ]
  },
  {
   "cell_type": "markdown",
   "id": "5df8a141-dd6c-494c-9e3c-f8128c6cc938",
   "metadata": {},
   "source": [
    "paragraph 1<br> paragraph 2<br>"
   ]
  },
  {
   "cell_type": "markdown",
   "id": "ea231a0a-510e-43c2-934c-92b541c1d2f3",
   "metadata": {},
   "source": [
    "<p>paragraph 1</p>\n",
    "<p>paragraph 2</p>"
   ]
  },
  {
   "cell_type": "markdown",
   "id": "a4f222cb-655d-4149-b838-98f01c6c5b40",
   "metadata": {},
   "source": [
    "> Quote"
   ]
  },
  {
   "cell_type": "markdown",
   "id": "d2f931c1-cfa3-4a44-a5d7-3b27643ee280",
   "metadata": {},
   "source": [
    "> Quote level 1\n",
    ">> Quote level 2\n",
    ">>> Quote level 3"
   ]
  },
  {
   "cell_type": "markdown",
   "id": "eb37e483-f616-4da0-ac58-75e9c03bc480",
   "metadata": {},
   "source": [
    "$\\pi$"
   ]
  },
  {
   "cell_type": "markdown",
   "id": "959dba91-c7f8-4d39-a92e-05f5b1b31110",
   "metadata": {},
   "source": [
    "$$\\pi$$"
   ]
  },
  {
   "cell_type": "markdown",
   "id": "ab8d9e9d-017b-4c2f-9d07-f301d0faace3",
   "metadata": {},
   "source": [
    "| col 1 | col 2 | col 3 |\n",
    "|:-:    |:-:    |:-:    |\n",
    "|   1   |   A   |   a   |\n",
    "|   2   |   B   |   b   |"
   ]
  },
  {
   "cell_type": "markdown",
   "id": "ca5bd97c-4866-4575-8835-1be2d68701ae",
   "metadata": {},
   "source": [
    "\\*"
   ]
  },
  {
   "cell_type": "markdown",
   "id": "8ddba89a-9019-4a69-b0ff-b1d5cb164024",
   "metadata": {},
   "source": [
    "Repos [link](https://github.com/Visualize-ML)."
   ]
  },
  {
   "cell_type": "markdown",
   "id": "98aa4682-4092-4f7a-90bf-c479bd28b11f",
   "metadata": {},
   "source": [
    "~~~python\n",
    "print('Python is fun!')\n",
    "~~~"
   ]
  },
  {
   "cell_type": "code",
   "execution_count": null,
   "id": "8b3b328b-c5e4-4ece-90ba-7532a8ce3daf",
   "metadata": {},
   "outputs": [],
   "source": []
  },
  {
   "cell_type": "code",
   "execution_count": null,
   "id": "10615411-53b3-4d52-a891-7799134a8145",
   "metadata": {},
   "outputs": [],
   "source": []
  }
 ],
 "metadata": {
  "kernelspec": {
   "display_name": "Python 3 (ipykernel)",
   "language": "python",
   "name": "python3"
  },
  "language_info": {
   "codemirror_mode": {
    "name": "ipython",
    "version": 3
   },
   "file_extension": ".py",
   "mimetype": "text/x-python",
   "name": "python",
   "nbconvert_exporter": "python",
   "pygments_lexer": "ipython3",
   "version": "3.10.9"
  }
 },
 "nbformat": 4,
 "nbformat_minor": 5
}
