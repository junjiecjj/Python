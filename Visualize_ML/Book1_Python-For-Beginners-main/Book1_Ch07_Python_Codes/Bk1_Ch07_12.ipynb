{
 "cells": [
  {
   "cell_type": "markdown",
   "id": "01772a01-906f-47ae-8afd-0709cf67872a",
   "metadata": {},
   "source": [
    "Chapter 07\n",
    "# 使用zip() 同步遍历多个对象\n",
    "Book_1《编程不难》 | 鸢尾花书：从加减乘除到机器学习 "
   ]
  },
  {
   "cell_type": "code",
   "execution_count": 1,
   "id": "1354c3d6-54f5-4389-8a21-739aab50cb72",
   "metadata": {},
   "outputs": [
    {
     "name": "stdout",
     "output_type": "stream",
     "text": [
      "Alice 80\n",
      "Bob 90\n",
      "Charlie 75\n"
     ]
    }
   ],
   "source": [
    "names = ['Alice', 'Bob', 'Charlie']\n",
    "scores = [80, 90, 75]\n",
    "\n",
    "for name, score in zip(names, scores):\n",
    "    print(name, score)"
   ]
  }
 ],
 "metadata": {
  "kernelspec": {
   "display_name": "Python 3 (ipykernel)",
   "language": "python",
   "name": "python3"
  },
  "language_info": {
   "codemirror_mode": {
    "name": "ipython",
    "version": 3
   },
   "file_extension": ".py",
   "mimetype": "text/x-python",
   "name": "python",
   "nbconvert_exporter": "python",
   "pygments_lexer": "ipython3",
   "version": "3.10.9"
  }
 },
 "nbformat": 4,
 "nbformat_minor": 5
}
