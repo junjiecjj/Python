{
 "cells": [
  {
   "cell_type": "markdown",
   "id": "07797cb2-e7e8-4d5e-b115-d154e18961a0",
   "metadata": {},
   "source": [
    "Chapter 07\n",
    "# 利用两层列表生成式完成矩阵转置\n",
    "Book_1《编程不难》 | 鸢尾花书：从加减乘除到机器学习 "
   ]
  },
  {
   "cell_type": "code",
   "execution_count": 1,
   "id": "6c179357-bfb5-4edd-bbb6-981a253a9864",
   "metadata": {},
   "outputs": [],
   "source": [
    "def transpose_2(matrix):\n",
    "    transposed = []\n",
    "    rows = len(matrix)\n",
    "    cols = len(matrix[0])\n",
    "\n",
    "    transposed = [[matrix[j][i] \n",
    "                  for j in range(rows)] \n",
    "                 for i in range(cols)]\n",
    "\n",
    "    return transposed"
   ]
  },
  {
   "cell_type": "code",
   "execution_count": 2,
   "id": "66a5d743-ffe1-4a42-8a7f-198ab39e0479",
   "metadata": {},
   "outputs": [],
   "source": [
    "# 示例用法\n",
    "A = [[1, 2, 3],\n",
    "     [4, 5, 6]]"
   ]
  },
  {
   "cell_type": "code",
   "execution_count": 3,
   "id": "03d6384d-7e85-49fc-87d1-2af6e66e2d4c",
   "metadata": {},
   "outputs": [
    {
     "data": {
      "text/plain": [
       "[[1, 4], [2, 5], [3, 6]]"
      ]
     },
     "execution_count": 3,
     "metadata": {},
     "output_type": "execute_result"
    }
   ],
   "source": [
    "# 调用自定义函数\n",
    "B = transpose_2(A)\n",
    "B"
   ]
  }
 ],
 "metadata": {
  "kernelspec": {
   "display_name": "Python 3 (ipykernel)",
   "language": "python",
   "name": "python3"
  },
  "language_info": {
   "codemirror_mode": {
    "name": "ipython",
    "version": 3
   },
   "file_extension": ".py",
   "mimetype": "text/x-python",
   "name": "python",
   "nbconvert_exporter": "python",
   "pygments_lexer": "ipython3",
   "version": "3.10.9"
  }
 },
 "nbformat": 4,
 "nbformat_minor": 5
}
