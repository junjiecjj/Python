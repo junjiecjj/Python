{
 "cells": [
  {
   "cell_type": "markdown",
   "id": "72d723fe-651b-4c26-af75-3335efd7773d",
   "metadata": {},
   "source": [
    "Chapter 07\n",
    "# 计算向量内积\n",
    "Book_1《编程不难》 | 鸢尾花书：从加减乘除到机器学习 "
   ]
  },
  {
   "cell_type": "code",
   "execution_count": 1,
   "id": "9560d781-bc05-4e0c-a5a3-304c8ca05840",
   "metadata": {},
   "outputs": [],
   "source": [
    "# 计算向量内积\n",
    "\n",
    "# 定义向量a和b\n",
    "a = [1, 2, 3, 4, 5]\n",
    "b = [6, 7, 8, 9, 0]"
   ]
  },
  {
   "cell_type": "code",
   "execution_count": 2,
   "id": "71ae7645-b3a3-49fa-ac9b-b89ff9ce05dd",
   "metadata": {},
   "outputs": [],
   "source": [
    "# 初始化内积为0\n",
    "dot_product = 0"
   ]
  },
  {
   "cell_type": "code",
   "execution_count": 3,
   "id": "8d126a52-1c31-4ef2-aaa7-58a5fce56b51",
   "metadata": {},
   "outputs": [
    {
     "name": "stdout",
     "output_type": "stream",
     "text": [
      "向量内积为： 80\n"
     ]
    }
   ],
   "source": [
    "# 使用for循环计算内积\n",
    "for i in range(len(a)):\n",
    "    dot_product += a[i] * b[i]\n",
    "\n",
    "# 打印内积\n",
    "print(\"向量内积为：\", dot_product)"
   ]
  }
 ],
 "metadata": {
  "kernelspec": {
   "display_name": "Python 3 (ipykernel)",
   "language": "python",
   "name": "python3"
  },
  "language_info": {
   "codemirror_mode": {
    "name": "ipython",
    "version": 3
   },
   "file_extension": ".py",
   "mimetype": "text/x-python",
   "name": "python",
   "nbconvert_exporter": "python",
   "pygments_lexer": "ipython3",
   "version": "3.10.9"
  }
 },
 "nbformat": 4,
 "nbformat_minor": 5
}
