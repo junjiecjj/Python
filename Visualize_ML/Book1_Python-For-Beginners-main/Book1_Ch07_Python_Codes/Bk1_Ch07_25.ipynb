{
 "cells": [
  {
   "cell_type": "markdown",
   "id": "92b0ebc4-8311-4ee7-b812-bacb7627b1ac",
   "metadata": {},
   "source": [
    "Chapter 07\n",
    "# 3个字符无放回取2个排列\n",
    "Book_1《编程不难》 | 鸢尾花书：从加减乘除到机器学习 "
   ]
  },
  {
   "cell_type": "code",
   "execution_count": 1,
   "id": "1f4a9578-6b12-4f2a-803a-d9989ffda5ae",
   "metadata": {},
   "outputs": [
    {
     "name": "stdout",
     "output_type": "stream",
     "text": [
      "ab\n",
      "ac\n",
      "ba\n",
      "bc\n",
      "ca\n",
      "cb\n"
     ]
    }
   ],
   "source": [
    "import itertools\n",
    "string = 'abc'\n",
    "\n",
    "# 3个不放回取2个的排列\n",
    "perms_2 = itertools.permutations(string, 2)\n",
    "# 返回一个包含所有长度为2的排列的可迭代对象perms\n",
    "\n",
    "for perm_idx in perms_2:\n",
    "    print(''.join(perm_idx))"
   ]
  }
 ],
 "metadata": {
  "kernelspec": {
   "display_name": "Python 3 (ipykernel)",
   "language": "python",
   "name": "python3"
  },
  "language_info": {
   "codemirror_mode": {
    "name": "ipython",
    "version": 3
   },
   "file_extension": ".py",
   "mimetype": "text/x-python",
   "name": "python",
   "nbconvert_exporter": "python",
   "pygments_lexer": "ipython3",
   "version": "3.10.9"
  }
 },
 "nbformat": 4,
 "nbformat_minor": 5
}
