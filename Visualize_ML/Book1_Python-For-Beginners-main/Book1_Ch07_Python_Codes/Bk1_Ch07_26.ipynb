{
 "cells": [
  {
   "cell_type": "markdown",
   "id": "81860c5e-a04c-43b6-889f-b62740a570fa",
   "metadata": {},
   "source": [
    "Chapter 07\n",
    "# 3个字符无放回取2个组合\n",
    "Book_1《编程不难》 | 鸢尾花书：从加减乘除到机器学习 "
   ]
  },
  {
   "cell_type": "code",
   "execution_count": 1,
   "id": "8530428a-3595-4c65-b7ca-34ebd7c36c1f",
   "metadata": {},
   "outputs": [
    {
     "name": "stdout",
     "output_type": "stream",
     "text": [
      "ab\n",
      "ac\n",
      "bc\n"
     ]
    }
   ],
   "source": [
    "import itertools\n",
    "string = 'abc'\n",
    "\n",
    "# 3个取2个的组合\n",
    "combs_2 = itertools.combinations(string, 2)\n",
    "# 返回一个包含所有长度为2的组合的可迭代对象combs_2\n",
    "\n",
    "for combo_idx in combs_2:\n",
    "    print(''.join(combo_idx))"
   ]
  }
 ],
 "metadata": {
  "kernelspec": {
   "display_name": "Python 3 (ipykernel)",
   "language": "python",
   "name": "python3"
  },
  "language_info": {
   "codemirror_mode": {
    "name": "ipython",
    "version": 3
   },
   "file_extension": ".py",
   "mimetype": "text/x-python",
   "name": "python",
   "nbconvert_exporter": "python",
   "pygments_lexer": "ipython3",
   "version": "3.10.9"
  }
 },
 "nbformat": 4,
 "nbformat_minor": 5
}
