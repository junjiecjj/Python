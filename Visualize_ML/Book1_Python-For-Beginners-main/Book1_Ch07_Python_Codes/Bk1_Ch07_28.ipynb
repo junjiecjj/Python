{
 "cells": [
  {
   "cell_type": "markdown",
   "id": "21532835-bf78-4a55-9fc9-47b63efcaef2",
   "metadata": {},
   "source": [
    "Chapter 07\n",
    "# 3个字符有放回取2个的组合\n",
    "Book_1《编程不难》 | 鸢尾花书：从加减乘除到机器学习 "
   ]
  },
  {
   "cell_type": "code",
   "execution_count": 1,
   "id": "629625e0-bae6-4a07-99a5-8b723e135df6",
   "metadata": {},
   "outputs": [],
   "source": [
    "import itertools\n",
    "\n",
    "string = 'abc'\n",
    "# 定义元素列表\n",
    "elements = list(string)"
   ]
  },
  {
   "cell_type": "code",
   "execution_count": 2,
   "id": "0ad0c33d-a32c-4d78-b62a-473e50939568",
   "metadata": {},
   "outputs": [],
   "source": [
    "# 指定组合长度\n",
    "length = 2\n",
    "\n",
    "# 生成有放回组合\n",
    "combos = itertools.combinations_with_replacement(elements, length)"
   ]
  },
  {
   "cell_type": "code",
   "execution_count": 3,
   "id": "a81a1c65-1eb4-4a23-9c23-a6fbdfccafc5",
   "metadata": {},
   "outputs": [
    {
     "name": "stdout",
     "output_type": "stream",
     "text": [
      "aa\n",
      "ab\n",
      "ac\n",
      "bb\n",
      "bc\n",
      "cc\n"
     ]
    }
   ],
   "source": [
    "# 遍历并打印所有组合\n",
    "for combination_idx in combos:\n",
    "    print(''.join(combination_idx))"
   ]
  }
 ],
 "metadata": {
  "kernelspec": {
   "display_name": "Python 3 (ipykernel)",
   "language": "python",
   "name": "python3"
  },
  "language_info": {
   "codemirror_mode": {
    "name": "ipython",
    "version": 3
   },
   "file_extension": ".py",
   "mimetype": "text/x-python",
   "name": "python",
   "nbconvert_exporter": "python",
   "pygments_lexer": "ipython3",
   "version": "3.10.9"
  }
 },
 "nbformat": 4,
 "nbformat_minor": 5
}
