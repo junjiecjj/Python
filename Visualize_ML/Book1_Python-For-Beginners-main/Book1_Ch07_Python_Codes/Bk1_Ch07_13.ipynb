{
 "cells": [
  {
   "cell_type": "markdown",
   "id": "d824106a-4240-4ae7-bdd8-da575f979884",
   "metadata": {},
   "source": [
    "\n",
    "Chapter 07\n",
    "# 使用zip() 计算向量内积\n",
    "Book_1《编程不难》 | 鸢尾花书：从加减乘除到机器学习 "
   ]
  },
  {
   "cell_type": "code",
   "execution_count": 1,
   "id": "a5e7e58d-cbbb-4a1c-9b65-5a3975259886",
   "metadata": {},
   "outputs": [],
   "source": [
    "# 计算向量内积\n",
    "\n",
    "# 定义向量a和b\n",
    "a = [1, 2, 3, 4, 5]\n",
    "b = [6, 7, 8, 9, 0]"
   ]
  },
  {
   "cell_type": "code",
   "execution_count": 2,
   "id": "e58dcea1-0a26-449a-a4a6-651b8090fbd8",
   "metadata": {},
   "outputs": [],
   "source": [
    "# 初始化内积为0\n",
    "dot_product = 0"
   ]
  },
  {
   "cell_type": "code",
   "execution_count": 3,
   "id": "b1326409-9717-4366-9ad2-186fec5dd83e",
   "metadata": {},
   "outputs": [
    {
     "name": "stdout",
     "output_type": "stream",
     "text": [
      "向量内积为： 80\n"
     ]
    }
   ],
   "source": [
    "# 使用for循环计算内积\n",
    "for a_i, b_i in zip(a, b):\n",
    "    dot_product += (a_i * b_i)\n",
    "\n",
    "# 打印内积\n",
    "print(\"向量内积为：\", dot_product)"
   ]
  },
  {
   "cell_type": "code",
   "execution_count": null,
   "id": "0067648f-cf25-4cf6-9068-55bad4283a59",
   "metadata": {},
   "outputs": [],
   "source": []
  }
 ],
 "metadata": {
  "kernelspec": {
   "display_name": "Python 3 (ipykernel)",
   "language": "python",
   "name": "python3"
  },
  "language_info": {
   "codemirror_mode": {
    "name": "ipython",
    "version": 3
   },
   "file_extension": ".py",
   "mimetype": "text/x-python",
   "name": "python",
   "nbconvert_exporter": "python",
   "pygments_lexer": "ipython3",
   "version": "3.10.9"
  }
 },
 "nbformat": 4,
 "nbformat_minor": 5
}
