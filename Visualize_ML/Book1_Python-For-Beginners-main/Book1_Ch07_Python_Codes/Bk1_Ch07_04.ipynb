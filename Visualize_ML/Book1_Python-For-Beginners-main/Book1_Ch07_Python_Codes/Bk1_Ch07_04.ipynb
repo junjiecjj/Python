{
 "cells": [
  {
   "cell_type": "markdown",
   "id": "30220d13-af68-4af3-967e-2c06a2f53905",
   "metadata": {},
   "source": [
    "Chapter 07\n",
    "# break打断for循环\n",
    "Book_1《编程不难》 | 鸢尾花书：从加减乘除到机器学习 "
   ]
  },
  {
   "cell_type": "code",
   "execution_count": 1,
   "id": "72cd0c79-2b7a-486e-971a-68e6386105e1",
   "metadata": {},
   "outputs": [
    {
     "name": "stdout",
     "output_type": "stream",
     "text": [
      "0\n",
      "1\n",
      "2\n",
      "3\n",
      "4\n",
      "5\n",
      "6\n",
      "7\n"
     ]
    }
   ],
   "source": [
    "for x in range(10):\n",
    "    if x >= 8:\n",
    "        break\n",
    "    else:\n",
    "        print(x)\n",
    "else: \n",
    "    print(\"For loop finished\")"
   ]
  }
 ],
 "metadata": {
  "kernelspec": {
   "display_name": "Python 3 (ipykernel)",
   "language": "python",
   "name": "python3"
  },
  "language_info": {
   "codemirror_mode": {
    "name": "ipython",
    "version": 3
   },
   "file_extension": ".py",
   "mimetype": "text/x-python",
   "name": "python",
   "nbconvert_exporter": "python",
   "pygments_lexer": "ipython3",
   "version": "3.10.9"
  }
 },
 "nbformat": 4,
 "nbformat_minor": 5
}
