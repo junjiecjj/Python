{
 "cells": [
  {
   "cell_type": "markdown",
   "id": "413db3c1-7980-4fd1-a48d-988b515fe256",
   "metadata": {},
   "source": [
    "Chapter 09\n",
    "# 定义、使用“鸡”类，设置默认参数变量\n",
    "Book_1《编程不难》 | 鸢尾花书：从加减乘除到机器学习  "
   ]
  },
  {
   "cell_type": "code",
   "execution_count": 1,
   "id": "7469a327-0eb0-4607-acda-dfcd0ddd28cc",
   "metadata": {},
   "outputs": [],
   "source": [
    "# 创建了一个名为 \"Chicken\" 的类\n",
    "class Chicken:\n",
    "    def __init__(self, name, age, \n",
    "                 color = '黄色', weight = '2'):\n",
    "    # 初始化对象的属性；毛色默认 '黄色'，体重默认 2 (kg)\n",
    "        # 设置实例变量self.name来存储小鸡名字的参数\n",
    "        self.name = name\n",
    "        # 设置实例变量self.age来存储小鸡名字的年龄\n",
    "        self.age = age\n",
    "        # 设置实例变量self.color来存储小鸡名字的颜色\n",
    "        self.color = color\n",
    "        # 设置实例变量self.weight来存储小鸡名字的体重\n",
    "        self.weight = weight"
   ]
  },
  {
   "cell_type": "code",
   "execution_count": 2,
   "id": "62b688fb-25d2-4da6-bfbc-8a9a133bb164",
   "metadata": {},
   "outputs": [],
   "source": [
    "# 调用Chicken类\n",
    "chicken_01 = Chicken(name = \"小红\", age = 1, \n",
    "                     color = '白色') # 覆盖默认 color"
   ]
  },
  {
   "cell_type": "code",
   "execution_count": 3,
   "id": "a801fe01-912c-4595-91d7-2cbf727a1148",
   "metadata": {},
   "outputs": [
    {
     "name": "stdout",
     "output_type": "stream",
     "text": [
      "==小鸡的名字==\n",
      "小红\n",
      "==小鸡的年龄，yr==\n",
      "1\n",
      "==小鸡的颜色==\n",
      "白色\n",
      "==小鸡的体重，kg==\n",
      "2\n"
     ]
    }
   ],
   "source": [
    "print('==小鸡的名字=='); print(chicken_01.name)\n",
    "print('==小鸡的年龄，yr=='); print(chicken_01.age)\n",
    "print('==小鸡的颜色=='); print(chicken_01.color)\n",
    "print('==小鸡的体重，kg=='); print(chicken_01.weight)"
   ]
  }
 ],
 "metadata": {
  "kernelspec": {
   "display_name": "Python 3 (ipykernel)",
   "language": "python",
   "name": "python3"
  },
  "language_info": {
   "codemirror_mode": {
    "name": "ipython",
    "version": 3
   },
   "file_extension": ".py",
   "mimetype": "text/x-python",
   "name": "python",
   "nbconvert_exporter": "python",
   "pygments_lexer": "ipython3",
   "version": "3.10.9"
  }
 },
 "nbformat": 4,
 "nbformat_minor": 5
}
