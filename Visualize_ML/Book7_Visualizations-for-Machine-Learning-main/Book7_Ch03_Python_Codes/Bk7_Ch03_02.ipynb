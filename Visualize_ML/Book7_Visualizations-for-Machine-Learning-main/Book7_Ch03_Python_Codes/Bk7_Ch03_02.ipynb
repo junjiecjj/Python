{
 "cells": [
  {
   "cell_type": "markdown",
   "id": "74009db4-368c-425f-85de-579545f7f969",
   "metadata": {},
   "source": [
    "Chapter 03\n",
    "\n",
    "# 高斯条件概率\n",
    "Book_7《机器学习》 | 鸢尾花书：从加减乘除到机器学习"
   ]
  },
  {
   "cell_type": "code",
   "execution_count": 1,
   "id": "3308805c-1a0d-4e6a-9d87-7c1f52dfb1fe",
   "metadata": {},
   "outputs": [],
   "source": [
    "# initializations\n",
    "import pandas as pd\n",
    "import pandas_datareader as web\n",
    "import seaborn as sns\n",
    "import matplotlib.pyplot as plt\n",
    "import numpy as np\n",
    "import scipy.stats as stats\n",
    "import yfinance as yf"
   ]
  },
  {
   "cell_type": "code",
   "execution_count": 2,
   "id": "768a34b6-c3d1-4ecd-af88-ca36058a1b43",
   "metadata": {},
   "outputs": [
    {
     "name": "stdout",
     "output_type": "stream",
     "text": [
      "[*********************100%%**********************]  13 of 13 completed\n"
     ]
    }
   ],
   "source": [
    "tickers = ['^GSPC','TSLA','WMT','MCD','USB',\n",
    "           'YUM','NFLX','JPM','PFE',\n",
    "           'F','GM','COST','JNJ'];\n",
    "\n",
    "stock_levels_df = yf.download(tickers, start='2020-07-01', end='2020-12-31')\n",
    "stock_levels_df.to_csv('stock_levels_df.csv')\n",
    "stock_levels_df.to_pickle('stock_levels_df.pkl')"
   ]
  },
  {
   "cell_type": "code",
   "execution_count": 3,
   "id": "358a99bf-c8c7-4c9e-9f08-02eaec23068c",
   "metadata": {},
   "outputs": [],
   "source": [
    "y_X_df = stock_levels_df['Adj Close'].pct_change()\n",
    "y_X_df.dropna(inplace = True)\n",
    "\n",
    "y_X_df.rename(columns={\"^GSPC\": \"SP500\"},inplace = True)\n",
    "X_df_no_1 = y_X_df[tickers[1:]]\n",
    "y_df = y_X_df[['SP500']]"
   ]
  },
  {
   "cell_type": "code",
   "execution_count": 4,
   "id": "b46674ca-5c67-41d2-8457-e1329a553d60",
   "metadata": {},
   "outputs": [],
   "source": [
    "labels = ['SP500','TSLA','WMT','MCD','USB',\n",
    "           'YUM','NFLX','JPM','PFE',\n",
    "           'F','GM','COST','JNJ'];"
   ]
  },
  {
   "cell_type": "code",
   "execution_count": 5,
   "id": "8462172c-f91b-44ab-8a85-c3b80e56cc38",
   "metadata": {},
   "outputs": [
    {
     "name": "stdout",
     "output_type": "stream",
     "text": [
      "                            OLS Regression Results                            \n",
      "==============================================================================\n",
      "Dep. Variable:                  SP500   R-squared:                       0.774\n",
      "Model:                            OLS   Adj. R-squared:                  0.750\n",
      "Method:                 Least Squares   F-statistic:                     32.24\n",
      "Date:                Tue, 21 Nov 2023   Prob (F-statistic):           5.73e-31\n",
      "Time:                        19:10:20   Log-Likelihood:                 489.68\n",
      "No. Observations:                 126   AIC:                            -953.4\n",
      "Df Residuals:                     113   BIC:                            -916.5\n",
      "Df Model:                          12                                         \n",
      "Covariance Type:            nonrobust                                         \n",
      "==============================================================================\n",
      "                 coef    std err          t      P>|t|      [0.025      0.975]\n",
      "------------------------------------------------------------------------------\n",
      "const         -0.0005      0.000     -0.974      0.332      -0.001       0.000\n",
      "TSLA           0.0242      0.011      2.186      0.031       0.002       0.046\n",
      "WMT            0.0268      0.041      0.654      0.514      -0.054       0.108\n",
      "MCD            0.1495      0.058      2.591      0.011       0.035       0.264\n",
      "USB            0.0160      0.051      0.313      0.754      -0.085       0.117\n",
      "YUM            0.1425      0.048      2.974      0.004       0.048       0.237\n",
      "NFLX           0.0986      0.022      4.562      0.000       0.056       0.141\n",
      "JPM            0.1445      0.055      2.618      0.010       0.035       0.254\n",
      "PFE            0.0550      0.033      1.671      0.098      -0.010       0.120\n",
      "F             -0.0084      0.036     -0.230      0.818      -0.080       0.064\n",
      "GM            -0.0110      0.027     -0.403      0.688      -0.065       0.043\n",
      "COST           0.2173      0.059      3.697      0.000       0.101       0.334\n",
      "JNJ            0.2435      0.056      4.366      0.000       0.133       0.354\n",
      "==============================================================================\n",
      "Omnibus:                        7.496   Durbin-Watson:                   1.866\n",
      "Prob(Omnibus):                  0.024   Jarque-Bera (JB):                8.449\n",
      "Skew:                           0.393   Prob(JB):                       0.0146\n",
      "Kurtosis:                       3.997   Cond. No.                         156.\n",
      "==============================================================================\n",
      "\n",
      "Notes:\n",
      "[1] Standard Errors assume that the covariance matrix of the errors is correctly specified.\n"
     ]
    }
   ],
   "source": [
    "#%% Regression\n",
    "\n",
    "import statsmodels.api as sm\n",
    "\n",
    "# add a column of ones\n",
    "X_df = sm.add_constant(X_df_no_1)\n",
    "\n",
    "\n",
    "model = sm.OLS(y_df, X_df)\n",
    "results = model.fit()\n",
    "print(results.summary())"
   ]
  },
  {
   "cell_type": "code",
   "execution_count": 6,
   "id": "0cb7679f-e5a0-44b7-88b6-ba3efb5a517b",
   "metadata": {},
   "outputs": [
    {
     "data": {
      "text/html": [
       "<div>\n",
       "<style scoped>\n",
       "    .dataframe tbody tr th:only-of-type {\n",
       "        vertical-align: middle;\n",
       "    }\n",
       "\n",
       "    .dataframe tbody tr th {\n",
       "        vertical-align: top;\n",
       "    }\n",
       "\n",
       "    .dataframe thead th {\n",
       "        text-align: right;\n",
       "    }\n",
       "</style>\n",
       "<table border=\"1\" class=\"dataframe\">\n",
       "  <thead>\n",
       "    <tr style=\"text-align: right;\">\n",
       "      <th></th>\n",
       "      <th>const</th>\n",
       "      <th>TSLA</th>\n",
       "      <th>WMT</th>\n",
       "      <th>MCD</th>\n",
       "      <th>USB</th>\n",
       "      <th>YUM</th>\n",
       "      <th>NFLX</th>\n",
       "      <th>JPM</th>\n",
       "      <th>PFE</th>\n",
       "      <th>F</th>\n",
       "      <th>GM</th>\n",
       "      <th>COST</th>\n",
       "      <th>JNJ</th>\n",
       "    </tr>\n",
       "    <tr>\n",
       "      <th>Date</th>\n",
       "      <th></th>\n",
       "      <th></th>\n",
       "      <th></th>\n",
       "      <th></th>\n",
       "      <th></th>\n",
       "      <th></th>\n",
       "      <th></th>\n",
       "      <th></th>\n",
       "      <th></th>\n",
       "      <th></th>\n",
       "      <th></th>\n",
       "      <th></th>\n",
       "      <th></th>\n",
       "    </tr>\n",
       "  </thead>\n",
       "  <tbody>\n",
       "    <tr>\n",
       "      <th>2020-07-02</th>\n",
       "      <td>1.0</td>\n",
       "      <td>0.079517</td>\n",
       "      <td>-0.004010</td>\n",
       "      <td>-0.006174</td>\n",
       "      <td>-0.002501</td>\n",
       "      <td>0.001272</td>\n",
       "      <td>-0.018017</td>\n",
       "      <td>0.003248</td>\n",
       "      <td>0.022822</td>\n",
       "      <td>0.011706</td>\n",
       "      <td>0.011218</td>\n",
       "      <td>0.003248</td>\n",
       "      <td>0.004203</td>\n",
       "    </tr>\n",
       "    <tr>\n",
       "      <th>2020-07-06</th>\n",
       "      <td>1.0</td>\n",
       "      <td>0.134794</td>\n",
       "      <td>-0.002684</td>\n",
       "      <td>0.027136</td>\n",
       "      <td>0.026191</td>\n",
       "      <td>0.022528</td>\n",
       "      <td>0.035480</td>\n",
       "      <td>0.025253</td>\n",
       "      <td>0.000000</td>\n",
       "      <td>0.023140</td>\n",
       "      <td>0.019414</td>\n",
       "      <td>0.018807</td>\n",
       "      <td>0.014258</td>\n",
       "    </tr>\n",
       "    <tr>\n",
       "      <th>2020-07-07</th>\n",
       "      <td>1.0</td>\n",
       "      <td>0.013328</td>\n",
       "      <td>0.067794</td>\n",
       "      <td>-0.014218</td>\n",
       "      <td>-0.033939</td>\n",
       "      <td>-0.018642</td>\n",
       "      <td>-0.001316</td>\n",
       "      <td>-0.028211</td>\n",
       "      <td>-0.013909</td>\n",
       "      <td>-0.011308</td>\n",
       "      <td>-0.023319</td>\n",
       "      <td>0.015217</td>\n",
       "      <td>-0.000909</td>\n",
       "    </tr>\n",
       "    <tr>\n",
       "      <th>2020-07-08</th>\n",
       "      <td>1.0</td>\n",
       "      <td>-0.017254</td>\n",
       "      <td>-0.019771</td>\n",
       "      <td>0.000162</td>\n",
       "      <td>-0.001968</td>\n",
       "      <td>-0.003569</td>\n",
       "      <td>0.019507</td>\n",
       "      <td>0.010615</td>\n",
       "      <td>-0.008228</td>\n",
       "      <td>-0.004902</td>\n",
       "      <td>-0.007561</td>\n",
       "      <td>0.000285</td>\n",
       "      <td>0.002940</td>\n",
       "    </tr>\n",
       "    <tr>\n",
       "      <th>2020-07-09</th>\n",
       "      <td>1.0</td>\n",
       "      <td>0.020792</td>\n",
       "      <td>0.026599</td>\n",
       "      <td>-0.008179</td>\n",
       "      <td>-0.036328</td>\n",
       "      <td>-0.001964</td>\n",
       "      <td>0.009905</td>\n",
       "      <td>-0.021651</td>\n",
       "      <td>-0.008592</td>\n",
       "      <td>-0.041051</td>\n",
       "      <td>-0.060946</td>\n",
       "      <td>0.029148</td>\n",
       "      <td>-0.005444</td>\n",
       "    </tr>\n",
       "    <tr>\n",
       "      <th>...</th>\n",
       "      <td>...</td>\n",
       "      <td>...</td>\n",
       "      <td>...</td>\n",
       "      <td>...</td>\n",
       "      <td>...</td>\n",
       "      <td>...</td>\n",
       "      <td>...</td>\n",
       "      <td>...</td>\n",
       "      <td>...</td>\n",
       "      <td>...</td>\n",
       "      <td>...</td>\n",
       "      <td>...</td>\n",
       "      <td>...</td>\n",
       "    </tr>\n",
       "    <tr>\n",
       "      <th>2020-12-23</th>\n",
       "      <td>1.0</td>\n",
       "      <td>0.008808</td>\n",
       "      <td>-0.006796</td>\n",
       "      <td>0.000472</td>\n",
       "      <td>0.025005</td>\n",
       "      <td>-0.005680</td>\n",
       "      <td>-0.024368</td>\n",
       "      <td>0.027945</td>\n",
       "      <td>0.019053</td>\n",
       "      <td>0.022753</td>\n",
       "      <td>0.037897</td>\n",
       "      <td>-0.000387</td>\n",
       "      <td>-0.005107</td>\n",
       "    </tr>\n",
       "    <tr>\n",
       "      <th>2020-12-24</th>\n",
       "      <td>1.0</td>\n",
       "      <td>0.024443</td>\n",
       "      <td>0.001955</td>\n",
       "      <td>-0.002972</td>\n",
       "      <td>-0.005136</td>\n",
       "      <td>0.007023</td>\n",
       "      <td>-0.000991</td>\n",
       "      <td>-0.004398</td>\n",
       "      <td>-0.004541</td>\n",
       "      <td>-0.014460</td>\n",
       "      <td>-0.020494</td>\n",
       "      <td>0.007433</td>\n",
       "      <td>0.003488</td>\n",
       "    </tr>\n",
       "    <tr>\n",
       "      <th>2020-12-28</th>\n",
       "      <td>1.0</td>\n",
       "      <td>0.002901</td>\n",
       "      <td>0.011986</td>\n",
       "      <td>0.012441</td>\n",
       "      <td>0.003657</td>\n",
       "      <td>0.020830</td>\n",
       "      <td>0.010020</td>\n",
       "      <td>0.006585</td>\n",
       "      <td>-0.012074</td>\n",
       "      <td>0.003386</td>\n",
       "      <td>0.001924</td>\n",
       "      <td>0.017774</td>\n",
       "      <td>0.004722</td>\n",
       "    </tr>\n",
       "    <tr>\n",
       "      <th>2020-12-29</th>\n",
       "      <td>1.0</td>\n",
       "      <td>0.003466</td>\n",
       "      <td>-0.006335</td>\n",
       "      <td>-0.006121</td>\n",
       "      <td>-0.011359</td>\n",
       "      <td>-0.003006</td>\n",
       "      <td>0.022634</td>\n",
       "      <td>-0.002633</td>\n",
       "      <td>0.006246</td>\n",
       "      <td>-0.007874</td>\n",
       "      <td>-0.002160</td>\n",
       "      <td>0.004474</td>\n",
       "      <td>0.006201</td>\n",
       "    </tr>\n",
       "    <tr>\n",
       "      <th>2020-12-30</th>\n",
       "      <td>1.0</td>\n",
       "      <td>0.043229</td>\n",
       "      <td>-0.000831</td>\n",
       "      <td>-0.005406</td>\n",
       "      <td>0.009626</td>\n",
       "      <td>0.000548</td>\n",
       "      <td>-0.011830</td>\n",
       "      <td>0.002800</td>\n",
       "      <td>-0.008367</td>\n",
       "      <td>0.004535</td>\n",
       "      <td>0.006495</td>\n",
       "      <td>0.004641</td>\n",
       "      <td>0.012391</td>\n",
       "    </tr>\n",
       "  </tbody>\n",
       "</table>\n",
       "<p>126 rows × 13 columns</p>\n",
       "</div>"
      ],
      "text/plain": [
       "            const      TSLA       WMT       MCD       USB       YUM      NFLX  \\\n",
       "Date                                                                            \n",
       "2020-07-02    1.0  0.079517 -0.004010 -0.006174 -0.002501  0.001272 -0.018017   \n",
       "2020-07-06    1.0  0.134794 -0.002684  0.027136  0.026191  0.022528  0.035480   \n",
       "2020-07-07    1.0  0.013328  0.067794 -0.014218 -0.033939 -0.018642 -0.001316   \n",
       "2020-07-08    1.0 -0.017254 -0.019771  0.000162 -0.001968 -0.003569  0.019507   \n",
       "2020-07-09    1.0  0.020792  0.026599 -0.008179 -0.036328 -0.001964  0.009905   \n",
       "...           ...       ...       ...       ...       ...       ...       ...   \n",
       "2020-12-23    1.0  0.008808 -0.006796  0.000472  0.025005 -0.005680 -0.024368   \n",
       "2020-12-24    1.0  0.024443  0.001955 -0.002972 -0.005136  0.007023 -0.000991   \n",
       "2020-12-28    1.0  0.002901  0.011986  0.012441  0.003657  0.020830  0.010020   \n",
       "2020-12-29    1.0  0.003466 -0.006335 -0.006121 -0.011359 -0.003006  0.022634   \n",
       "2020-12-30    1.0  0.043229 -0.000831 -0.005406  0.009626  0.000548 -0.011830   \n",
       "\n",
       "                 JPM       PFE         F        GM      COST       JNJ  \n",
       "Date                                                                    \n",
       "2020-07-02  0.003248  0.022822  0.011706  0.011218  0.003248  0.004203  \n",
       "2020-07-06  0.025253  0.000000  0.023140  0.019414  0.018807  0.014258  \n",
       "2020-07-07 -0.028211 -0.013909 -0.011308 -0.023319  0.015217 -0.000909  \n",
       "2020-07-08  0.010615 -0.008228 -0.004902 -0.007561  0.000285  0.002940  \n",
       "2020-07-09 -0.021651 -0.008592 -0.041051 -0.060946  0.029148 -0.005444  \n",
       "...              ...       ...       ...       ...       ...       ...  \n",
       "2020-12-23  0.027945  0.019053  0.022753  0.037897 -0.000387 -0.005107  \n",
       "2020-12-24 -0.004398 -0.004541 -0.014460 -0.020494  0.007433  0.003488  \n",
       "2020-12-28  0.006585 -0.012074  0.003386  0.001924  0.017774  0.004722  \n",
       "2020-12-29 -0.002633  0.006246 -0.007874 -0.002160  0.004474  0.006201  \n",
       "2020-12-30  0.002800 -0.008367  0.004535  0.006495  0.004641  0.012391  \n",
       "\n",
       "[126 rows x 13 columns]"
      ]
     },
     "execution_count": 6,
     "metadata": {},
     "output_type": "execute_result"
    }
   ],
   "source": [
    "X_df"
   ]
  },
  {
   "cell_type": "code",
   "execution_count": 7,
   "id": "76731dd6-4d2e-420c-8f91-3d8d50fab9e5",
   "metadata": {},
   "outputs": [],
   "source": [
    "#%% Regression analysis\n",
    "\n",
    "y = np.array(y_df.values)"
   ]
  },
  {
   "cell_type": "code",
   "execution_count": 8,
   "id": "9c8054ea-073c-468e-9934-80cff166bd4c",
   "metadata": {},
   "outputs": [],
   "source": [
    "X = X_df.values"
   ]
  },
  {
   "cell_type": "code",
   "execution_count": 9,
   "id": "6f0d7514-8b0d-4ffc-9e53-0d9f1a0afd4f",
   "metadata": {},
   "outputs": [
    {
     "data": {
      "text/plain": [
       "array([[ 0.06616948,  0.01689638,  0.00424831, ..., -0.01416456,\n",
       "         0.00945222,  0.02562107],\n",
       "       [ 0.01689638,  0.11266485, -0.07320823, ...,  0.03354242,\n",
       "         0.0085799 ,  0.02510994],\n",
       "       [ 0.00424831, -0.07320823,  0.27363154, ..., -0.00122017,\n",
       "        -0.02100492,  0.01554477],\n",
       "       ...,\n",
       "       [-0.01416456,  0.03354242, -0.00122017, ...,  0.0542702 ,\n",
       "         0.00804621,  0.01110257],\n",
       "       [ 0.00945222,  0.0085799 , -0.02100492, ...,  0.00804621,\n",
       "         0.04054005,  0.00786251],\n",
       "       [ 0.02562107,  0.02510994,  0.01554477, ...,  0.01110257,\n",
       "         0.00786251,  0.06008219]])"
      ]
     },
     "execution_count": 9,
     "metadata": {},
     "output_type": "execute_result"
    }
   ],
   "source": [
    "X@np.linalg.inv(X.T@X)@X.T"
   ]
  },
  {
   "cell_type": "code",
   "execution_count": 10,
   "id": "9ddd6807-06cd-4577-b9e4-b48f8b5b9b95",
   "metadata": {},
   "outputs": [],
   "source": [
    "H = X@np.linalg.inv(X.T@X)@X.T"
   ]
  },
  {
   "cell_type": "code",
   "execution_count": 11,
   "id": "6ca591c5-9833-4f0e-8d9b-e569261e6f92",
   "metadata": {},
   "outputs": [],
   "source": [
    "# coefficients\n",
    "b = np.linalg.inv(X.T@X)@X.T@y\n",
    "\n",
    "y_hat = H@y\n",
    "e = y - y_hat"
   ]
  },
  {
   "cell_type": "code",
   "execution_count": 12,
   "id": "85cf9e40-dfc4-431b-89b5-6f19b0014778",
   "metadata": {},
   "outputs": [],
   "source": [
    "#%% Analysis of Variance\n",
    "\n",
    "n = y.shape[0]\n",
    "k = X.shape[1]\n",
    "D = k - 1\n",
    "\n",
    "I = np.identity(n)\n",
    "J = np.ones((n,n))\n",
    "vec_1 = np.ones_like(y)\n",
    "\n",
    "y_bar = vec_1.T@y/n\n",
    "\n",
    "# Sum of Squares for Total, SST\n",
    "SST = y.T@(I - J/n)@y\n",
    "MST = SST/(n - 1)\n",
    "MST = MST[0,0]"
   ]
  },
  {
   "cell_type": "code",
   "execution_count": 13,
   "id": "fa9e3ba4-e628-4acf-abf7-03f063323256",
   "metadata": {},
   "outputs": [],
   "source": [
    "#%% Sum of Squares for Error, SSE\n",
    "\n",
    "SSE = y.T@(I - H)@y\n",
    "\n",
    "# mean squared error, MSE\n",
    "MSE = SSE/(n - k)\n",
    "MSE_ = e.T@e/(n - k)\n",
    "MSE = MSE[0,0]"
   ]
  },
  {
   "cell_type": "code",
   "execution_count": 14,
   "id": "39854839-eb36-4048-95c4-c449981bff32",
   "metadata": {},
   "outputs": [],
   "source": [
    "#%% Sum of Squares for Regression, SSR\n",
    "\n",
    "SSR = y.T@(H - J/n)@y\n",
    "MSR = SSR/D\n",
    "MSR = MSR[0,0]"
   ]
  },
  {
   "cell_type": "code",
   "execution_count": 15,
   "id": "df2be620-06a5-4e12-8c4b-a8c350cca4f4",
   "metadata": {},
   "outputs": [
    {
     "name": "stdout",
     "output_type": "stream",
     "text": [
      "SST =  [[0.01374375]]\n",
      "SSR + SSE =  [[0.01374375]]\n",
      "================\n",
      "y.T@y =  [[0.01402271]]\n",
      "y_hat.T@y_hat + e.T@e =  [[0.01402271]]\n",
      "================\n",
      "e.T@vec_1 =  [[-1.10154941e-16]]\n",
      "================\n",
      "e.T@(y_hat - y_bar*vec_1) =  [[6.70003061e-19]]\n",
      "================\n",
      "e.T@(y - y_bar*vec_1) =  [[0.0031065]]\n",
      "================\n",
      "e.T@X =  [[-1.37910516e-16  8.89045781e-18  1.44334414e-18 -2.79859686e-18\n",
      "   8.37546178e-18 -3.15773883e-18 -3.63207728e-18  8.71935716e-18\n",
      "   2.48350060e-18 -9.21571847e-19 -8.71596903e-19 -3.88957529e-18\n",
      "   3.02221356e-18]]\n",
      "================\n",
      "e.T@X@b =  [[5.3139846e-19]]\n"
     ]
    }
   ],
   "source": [
    "#%% Orthogonal relationships\n",
    "\n",
    "print('SST = ',SST)\n",
    "print('SSR + SSE = ',SSR + SSE)\n",
    "\n",
    "print('================')\n",
    "print('y.T@y = ',y.T@y)\n",
    "print('y_hat.T@y_hat + e.T@e = ',y_hat.T@y_hat + e.T@e)\n",
    "\n",
    "print('================')\n",
    "print('e.T@vec_1 = ', e.T@vec_1)\n",
    "\n",
    "print('================')\n",
    "print('e.T@(y_hat - y_bar*vec_1) = ', e.T@(y_hat - y_bar))\n",
    "\n",
    "print('================')\n",
    "print('e.T@(y - y_bar*vec_1) = ', e.T@(y - y_bar))\n",
    "\n",
    "print('================')\n",
    "print('e.T@X = ', e.T@X)\n",
    "\n",
    "print('================')\n",
    "print('e.T@X@b = ', e.T@X@b)"
   ]
  },
  {
   "cell_type": "code",
   "execution_count": 16,
   "id": "c337a906-a370-4a5b-a02f-5d550b365649",
   "metadata": {},
   "outputs": [],
   "source": [
    "#%% R squared goodness of fit\n",
    "\n",
    "R_squared = SSR/SST\n",
    "R_sqaured_adj = 1 - MSE/MST"
   ]
  },
  {
   "cell_type": "code",
   "execution_count": 17,
   "id": "9f512a06-cf7e-40c3-8e94-2ff8a8d02483",
   "metadata": {},
   "outputs": [],
   "source": [
    "#%% F test\n",
    "\n",
    "F = MSR/MSE\n",
    "\n",
    "from scipy import stats\n",
    "p_value_F = 1.0 - stats.f.cdf(F,k - 1,n - k)"
   ]
  },
  {
   "cell_type": "code",
   "execution_count": 18,
   "id": "4142dd8c-48c6-405a-a2be-a9763a4fa914",
   "metadata": {},
   "outputs": [],
   "source": [
    "#%% Log-likelihood\n",
    "\n",
    "sigma_MLE = np.sqrt(SSE/n)\n",
    "\n",
    "ln_L = -n*np.log(sigma_MLE*np.sqrt(2*np.pi)) - SSE/2/sigma_MLE**2\n",
    "\n",
    "AIC = 2*k - 2*ln_L\n",
    "BIC = k*np.log(n) - 2*ln_L"
   ]
  },
  {
   "cell_type": "code",
   "execution_count": 19,
   "id": "633169ac-b69e-4f98-a127-3c8d435ca1e5",
   "metadata": {},
   "outputs": [],
   "source": [
    "#%% t test\n",
    "\n",
    "C = MSE*np.linalg.inv(X.T@X)\n",
    "\n",
    "SE_b = np.sqrt(np.diag(C))\n",
    "SE_b = np.matrix(SE_b).T\n",
    "\n",
    "T = b/SE_b\n",
    "p_one_side = 1 - stats.t(n - k).cdf(np.abs(T))\n",
    "p = p_one_side*2\n",
    "# P > |t|"
   ]
  },
  {
   "cell_type": "code",
   "execution_count": 20,
   "id": "9969aeaa-809f-4626-9178-56497c11ba89",
   "metadata": {},
   "outputs": [],
   "source": [
    "#%% confidence interval of coefficients, 95%\n",
    "\n",
    "alpha = 0.05\n",
    "t = stats.t(n - k).ppf(1 - alpha/2)\n",
    "b_lower_CI = b - t*SE_b # 0.025\n",
    "b_upper_CI = b + t*SE_b # 0.975"
   ]
  },
  {
   "cell_type": "code",
   "execution_count": 21,
   "id": "da7757ac-e990-45c1-b12e-1403939b61fa",
   "metadata": {},
   "outputs": [
    {
     "name": "stdout",
     "output_type": "stream",
     "text": [
      "Rank of X\n",
      "13\n",
      "det(X.T@X)\n",
      "1.959168566704102e-17\n"
     ]
    }
   ],
   "source": [
    "#%% multi-collinearity\n",
    "\n",
    "print('Rank of X')\n",
    "print(np.linalg.matrix_rank(X))\n",
    "\n",
    "print('det(X.T@X)')\n",
    "print(np.linalg.det(X.T@X))"
   ]
  },
  {
   "cell_type": "code",
   "execution_count": 22,
   "id": "2695c964-73a8-4925-ac33-9a2d141391e0",
   "metadata": {},
   "outputs": [
    {
     "name": "stdout",
     "output_type": "stream",
     "text": [
      "const    1.098670\n",
      "TSLA     1.434394\n",
      "WMT      1.560756\n",
      "MCD      1.756690\n",
      "USB      6.653828\n",
      "YUM      1.891891\n",
      "NFLX     1.593447\n",
      "JPM      6.267205\n",
      "PFE      1.511675\n",
      "F        2.935537\n",
      "GM       2.234937\n",
      "COST     2.237682\n",
      "JNJ      1.589850\n",
      "dtype: float64\n"
     ]
    }
   ],
   "source": [
    "from statsmodels.stats.outliers_influence import variance_inflation_factor as VIF\n",
    "\n",
    "VIF_X_df = pd.Series([VIF(X_df.values, i) \n",
    "                      for i in range(X_df.shape[1])], \n",
    "                      index=X_df.columns)\n",
    "\n",
    "print(VIF_X_no_1_df)"
   ]
  },
  {
   "cell_type": "code",
   "execution_count": 23,
   "id": "ea450e0b-6768-4d7b-a852-f5c3438476c0",
   "metadata": {},
   "outputs": [
    {
     "name": "stdout",
     "output_type": "stream",
     "text": [
      "TSLA    1.451021\n",
      "WMT     1.581416\n",
      "MCD     1.778057\n",
      "USB     6.713998\n",
      "YUM     1.933338\n",
      "NFLX    1.585564\n",
      "JPM     6.352675\n",
      "PFE     1.521270\n",
      "F       3.004005\n",
      "GM      2.275904\n",
      "COST    2.275805\n",
      "JNJ     1.601897\n",
      "dtype: float64\n"
     ]
    }
   ],
   "source": [
    "VIF_X_no_1_df = pd.Series([VIF(X_df_no_1.values, i) \n",
    "               for i in range(X_df_no_1.shape[1])], \n",
    "              index=X_df_no_1.columns)\n",
    "\n",
    "print(VIF_X_df)"
   ]
  },
  {
   "cell_type": "code",
   "execution_count": 24,
   "id": "477113c3-98df-476d-8b1b-11f3614cb674",
   "metadata": {},
   "outputs": [],
   "source": [
    "#%% Conditional probability\n",
    "\n",
    "# covariance matrix\n",
    "SIGMA_df = y_X_df.cov()\n",
    "SIGMA = SIGMA_df.to_numpy()"
   ]
  },
  {
   "cell_type": "code",
   "execution_count": 25,
   "id": "4404b091-822c-400c-afb5-ce1dea05eceb",
   "metadata": {},
   "outputs": [
    {
     "data": {
      "text/plain": [
       "Text(0.5, 1.0, '$\\\\Sigma$')"
      ]
     },
     "execution_count": 25,
     "metadata": {},
     "output_type": "execute_result"
    },
    {
     "data": {
      "image/png": "[encoded data removed]",
      "text/plain": [
       "<Figure size 640x480 with 2 Axes>"
      ]
     },
     "metadata": {},
     "output_type": "display_data"
    }
   ],
   "source": [
    "fig, axs = plt.subplots()\n",
    "\n",
    "h = sns.heatmap(SIGMA_df,cmap='RdBu_r', linewidths=.05)\n",
    "h.set_aspect(\"equal\")\n",
    "h.set_title('$\\Sigma$')"
   ]
  },
  {
   "cell_type": "code",
   "execution_count": 26,
   "id": "57640cc0-5ee9-4e5d-a6cd-b14684dc1256",
   "metadata": {},
   "outputs": [
    {
     "data": {
      "text/plain": [
       "Text(0.5, 1.0, '$\\\\Sigma_{XX}^{-1}$')"
      ]
     },
     "execution_count": 26,
     "metadata": {},
     "output_type": "execute_result"
    },
    {
     "data": {
      "image/png": "[encoded data removed]",
      "text/plain": [
       "<Figure size 1200x500 with 2 Axes>"
      ]
     },
     "metadata": {},
     "output_type": "display_data"
    }
   ],
   "source": [
    "# blocks\n",
    "SIGMA_Xy = np.matrix(SIGMA[1:,0]).T\n",
    "SIGMA_XX = np.matrix(SIGMA[1:,1:])\n",
    "\n",
    "SIGMA_XX_inv = np.linalg.inv(SIGMA_XX)\n",
    "\n",
    "fig, axs = plt.subplots(1, 2, figsize=(12, 5))\n",
    "\n",
    "plt.sca(axs[0])\n",
    "ax = sns.heatmap(SIGMA_XX,cmap='RdBu_r', cbar=False, \n",
    "                 xticklabels = labels[1:],\n",
    "                 yticklabels = labels[1:], \n",
    "                 linewidths=.05)\n",
    "\n",
    "ax.set_aspect(\"equal\")\n",
    "plt.title('$\\Sigma_{XX}$')\n",
    "\n",
    "plt.sca(axs[1])\n",
    "ax = sns.heatmap(SIGMA_XX_inv,cmap='RdBu_r', cbar=False,\n",
    "                 xticklabels = labels[1:],\n",
    "                 yticklabels = labels[1:], \n",
    "                 linewidths=.05)\n",
    "\n",
    "ax.set_aspect(\"equal\")\n",
    "plt.title('$\\Sigma_{XX}^{-1}$')"
   ]
  },
  {
   "cell_type": "code",
   "execution_count": 27,
   "id": "79f303e3-e411-48ab-889f-bffe306f7398",
   "metadata": {},
   "outputs": [],
   "source": [
    "# calculate coefficient vector, b\n",
    "\n",
    "b = SIGMA_XX_inv@SIGMA_Xy"
   ]
  },
  {
   "cell_type": "code",
   "execution_count": 28,
   "id": "0a294668-b7dc-4c6f-b2ae-e7487794abf5",
   "metadata": {},
   "outputs": [
    {
     "data": {
      "text/plain": [
       "Text(0.5, 1.0, '$\\\\Sigma_{Xy}$')"
      ]
     },
     "execution_count": 28,
     "metadata": {},
     "output_type": "execute_result"
    },
    {
     "data": {
      "image/png": "[encoded data removed]",
      "text/plain": [
       "<Figure size 1200x300 with 5 Axes>"
      ]
     },
     "metadata": {},
     "output_type": "display_data"
    }
   ],
   "source": [
    "fig, axs = plt.subplots(1, 5, figsize=(12, 3))\n",
    "\n",
    "plt.sca(axs[0])\n",
    "ax = sns.heatmap(b,cmap='RdBu_r', cbar=False,\n",
    "                 yticklabels = labels[1:], \n",
    "                 linewidths=.05)\n",
    "\n",
    "ax.set_aspect(\"equal\")\n",
    "plt.title('$b$')\n",
    "\n",
    "plt.sca(axs[1])\n",
    "plt.title('=')\n",
    "plt.axis('off')\n",
    "\n",
    "plt.sca(axs[2])\n",
    "ax = sns.heatmap(SIGMA_XX_inv,cmap='RdBu_r', cbar=False,\n",
    "                 xticklabels = labels[1:],\n",
    "                 yticklabels = labels[1:], \n",
    "                 linewidths=.05)\n",
    "\n",
    "ax.set_aspect(\"equal\")\n",
    "plt.title('$\\Sigma_{XX}^{-1}$')\n",
    "\n",
    "plt.sca(axs[3])\n",
    "plt.title('@')\n",
    "plt.axis('off')\n",
    "\n",
    "plt.sca(axs[4])\n",
    "ax = sns.heatmap(SIGMA_Xy,cmap='RdBu_r', cbar=False,\n",
    "                 xticklabels = [labels[0]],\n",
    "                 yticklabels = labels[1:], \n",
    "                 linewidths=.05)\n",
    "\n",
    "ax.set_aspect(\"equal\")\n",
    "plt.title('$\\Sigma_{Xy}$')"
   ]
  },
  {
   "cell_type": "code",
   "execution_count": 29,
   "id": "e0370616-7d5d-430b-9d0e-4c7d051ab91a",
   "metadata": {},
   "outputs": [
    {
     "data": {
      "text/plain": [
       "Text(0.5, 1.0, '$b$')"
      ]
     },
     "execution_count": 29,
     "metadata": {},
     "output_type": "execute_result"
    },
    {
     "data": {
      "image/png": "[encoded data removed]",
      "text/plain": [
       "<Figure size 1200x300 with 7 Axes>"
      ]
     },
     "metadata": {},
     "output_type": "display_data"
    }
   ],
   "source": [
    "#%% calculate coefficient, b0\n",
    "\n",
    "MU = y_X_df.mean()\n",
    "MU = np.matrix(MU.to_numpy())\n",
    "\n",
    "b0 = MU[0,0] - MU[0,1:]@b\n",
    "\n",
    "fig, axs = plt.subplots(1, 7, figsize=(12, 3))\n",
    "\n",
    "plt.sca(axs[0])\n",
    "ax = sns.heatmap(b0,cmap='RdBu_r', cbar=False, \n",
    "                 linewidths=.05,xticklabels = [],\n",
    "                 yticklabels = [])\n",
    "\n",
    "ax.set_aspect(\"equal\")\n",
    "plt.title('$b_0$')\n",
    "\n",
    "plt.sca(axs[1])\n",
    "plt.title('=')\n",
    "plt.axis('off')\n",
    "\n",
    "plt.sca(axs[2])\n",
    "ax = sns.heatmap(np.matrix(MU[0,0]),cmap='RdBu_r', cbar=False,\n",
    "                 linewidths=.05, xticklabels = [],\n",
    "                 yticklabels = [])\n",
    "\n",
    "ax.set_aspect(\"equal\")\n",
    "plt.title('$\\mu_{y}$')\n",
    "\n",
    "plt.sca(axs[3])\n",
    "plt.title('-')\n",
    "plt.axis('off')\n",
    "\n",
    "plt.sca(axs[4])\n",
    "ax = sns.heatmap(MU[0,1:],cmap='RdBu_r', cbar=False,\n",
    "                 xticklabels = labels[1:], yticklabels = [],\n",
    "                 linewidths=.05)\n",
    "ax.set_aspect(\"equal\")\n",
    "plt.title('$\\mu_{X}$')\n",
    "\n",
    "\n",
    "plt.sca(axs[5])\n",
    "plt.title('@')\n",
    "plt.axis('off')\n",
    "\n",
    "plt.sca(axs[6])\n",
    "ax = sns.heatmap(b,cmap='RdBu_r', cbar=False,\n",
    "                 yticklabels = labels[1:], xticklabels = [],\n",
    "                 linewidths=.05)\n",
    "\n",
    "ax.set_aspect(\"equal\")\n",
    "plt.title('$b$')"
   ]
  }
 ],
 "metadata": {
  "kernelspec": {
   "display_name": "Python 3 (ipykernel)",
   "language": "python",
   "name": "python3"
  },
  "language_info": {
   "codemirror_mode": {
    "name": "ipython",
    "version": 3
   },
   "file_extension": ".py",
   "mimetype": "text/x-python",
   "name": "python",
   "nbconvert_exporter": "python",
   "pygments_lexer": "ipython3",
   "version": "3.10.9"
  }
 },
 "nbformat": 4,
 "nbformat_minor": 5
}
