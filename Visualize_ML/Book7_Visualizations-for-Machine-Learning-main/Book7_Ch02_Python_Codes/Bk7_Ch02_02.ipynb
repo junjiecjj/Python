{
 "cells": [
  {
   "cell_type": "markdown",
   "id": "7b3805cd-e054-4c0d-a6d7-723e8aa45288",
   "metadata": {},
   "source": [
    "Chapter 02\n",
    "\n",
    "# 方差分析\n",
    "Book_7《机器学习》 | 鸢尾花书：从加减乘除到机器学习"
   ]
  },
  {
   "cell_type": "code",
   "execution_count": 1,
   "id": "0fa7f216-879b-452e-a08b-57acc19a39a1",
   "metadata": {},
   "outputs": [],
   "source": [
    "import pandas as pd\n",
    "import seaborn as sns\n",
    "import matplotlib.pyplot as plt\n",
    "import numpy as np\n",
    "import scipy.stats as stats\n",
    "import statsmodels.api as sm\n",
    "import yfinance as yf"
   ]
  },
  {
   "cell_type": "code",
   "execution_count": 2,
   "id": "2963d1d0-d1c5-4cf8-9a3c-3e1ed2d5d92a",
   "metadata": {},
   "outputs": [],
   "source": [
    "p = plt.rcParams\n",
    "p[\"font.sans-serif\"] = [\"Roboto\"]\n",
    "p[\"font.weight\"] = \"light\"\n",
    "p[\"ytick.minor.visible\"] = False\n",
    "p[\"xtick.minor.visible\"] = False\n",
    "p[\"axes.grid\"] = True\n",
    "p[\"grid.color\"] = \"0.5\"\n",
    "p[\"grid.linewidth\"] = 0.5"
   ]
  },
  {
   "cell_type": "markdown",
   "id": "b7f3aa73-a03c-4d60-a641-b627ba27344d",
   "metadata": {},
   "source": [
    "## 下载、处理数据"
   ]
  },
  {
   "cell_type": "code",
   "execution_count": 3,
   "id": "c5cc6a4a-72e7-4e56-b0ff-2dbfd85bb09b",
   "metadata": {},
   "outputs": [
    {
     "name": "stdout",
     "output_type": "stream",
     "text": [
      "[*********************100%%**********************]  2 of 2 completed\n"
     ]
    }
   ],
   "source": [
    "y_x_df = yf.download(['AAPL','^GSPC'], start='2020-01-01', end='2020-12-31')\n",
    "y_x_df = y_x_df['Adj Close'].pct_change()\n",
    "y_x_df.dropna(inplace = True)\n",
    "\n",
    "y_x_df.rename(columns={\"^GSPC\": \"SP500\"},inplace = True)\n",
    "x_df = y_x_df[['SP500']]\n",
    "y_df = y_x_df[['AAPL']]"
   ]
  },
  {
   "cell_type": "markdown",
   "id": "1790fe3b-f008-4fdb-9af8-d523b039b4d6",
   "metadata": {},
   "source": [
    "## 线性回归"
   ]
  },
  {
   "cell_type": "code",
   "execution_count": 4,
   "id": "7979a2d5-e29a-4fff-aff4-e953e7123f84",
   "metadata": {},
   "outputs": [
    {
     "name": "stdout",
     "output_type": "stream",
     "text": [
      "                            OLS Regression Results                            \n",
      "==============================================================================\n",
      "Dep. Variable:                   AAPL   R-squared:                       0.689\n",
      "Model:                            OLS   Adj. R-squared:                  0.687\n",
      "Method:                 Least Squares   F-statistic:                     550.5\n",
      "Date:                Thu, 23 Nov 2023   Prob (F-statistic):           5.16e-65\n",
      "Time:                        14:42:03   Log-Likelihood:                 675.37\n",
      "No. Observations:                 251   AIC:                            -1347.\n",
      "Df Residuals:                     249   BIC:                            -1340.\n",
      "Df Model:                           1                                         \n",
      "Covariance Type:            nonrobust                                         \n",
      "==============================================================================\n",
      "                 coef    std err          t      P>|t|      [0.025      0.975]\n",
      "------------------------------------------------------------------------------\n",
      "const          0.0019      0.001      1.819      0.070      -0.000       0.004\n",
      "SP500          1.1234      0.048     23.462      0.000       1.029       1.218\n",
      "==============================================================================\n",
      "Omnibus:                       52.109   Durbin-Watson:                   1.871\n",
      "Prob(Omnibus):                  0.000   Jarque-Bera (JB):              210.794\n",
      "Skew:                           0.772   Prob(JB):                     1.69e-46\n",
      "Kurtosis:                       7.216   Cond. No.                         46.0\n",
      "==============================================================================\n",
      "\n",
      "Notes:\n",
      "[1] Standard Errors assume that the covariance matrix of the errors is correctly specified.\n"
     ]
    }
   ],
   "source": [
    "# 增加一列全1\n",
    "X_df = sm.add_constant(x_df)\n",
    "\n",
    "model = sm.OLS(y_df, X_df)\n",
    "results = model.fit()\n",
    "print(results.summary())"
   ]
  },
  {
   "cell_type": "markdown",
   "id": "ab2635d8-68e5-42ae-8972-ba436939eaf0",
   "metadata": {},
   "source": [
    "## ANOVA表格"
   ]
  },
  {
   "cell_type": "code",
   "execution_count": 5,
   "id": "557b6fed-52d7-4717-99ad-17f4f60ddc05",
   "metadata": {},
   "outputs": [
    {
     "name": "stdout",
     "output_type": "stream",
     "text": [
      "             df    sum_sq   mean_sq           F        PR(>F)\n",
      "x           1.0  0.149487  0.149487  550.451466  5.162541e-65\n",
      "Residual  249.0  0.067621  0.000272         NaN           NaN\n"
     ]
    }
   ],
   "source": [
    "from statsmodels.formula.api import ols\n",
    "from statsmodels.stats.anova import anova_lm\n",
    "\n",
    "data = pd.DataFrame({'x': x_df['SP500'], 'y': y_df['AAPL']})\n",
    "model_V2 = ols(\"y ~ x\", data).fit()\n",
    "anova_results = anova_lm(model_V2, typ=1)\n",
    "\n",
    "print(anova_results)"
   ]
  },
  {
   "cell_type": "markdown",
   "id": "1068f032-d215-4ac1-ab9a-14fb49ffe9d9",
   "metadata": {},
   "source": [
    "## 分析方差"
   ]
  },
  {
   "cell_type": "code",
   "execution_count": 6,
   "id": "d162f9c9-44ba-4c37-8414-5eef7198ca1a",
   "metadata": {},
   "outputs": [],
   "source": [
    "y_mean = y_df.mean()"
   ]
  },
  {
   "cell_type": "code",
   "execution_count": 11,
   "id": "8b471bb2-be84-4063-a554-d8400dbce4d0",
   "metadata": {},
   "outputs": [
    {
     "name": "stdout",
     "output_type": "stream",
     "text": [
      "AAPL    0.217108\n",
      "dtype: float64\n",
      "251\n"
     ]
    }
   ],
   "source": [
    "# Sum of Squares for Total, SST\n",
    "SST = ((y_df - y_mean)**2).sum()\n",
    "print(SST)\n",
    "n = len(y_df)\n",
    "print(n)"
   ]
  },
  {
   "cell_type": "code",
   "execution_count": 9,
   "id": "76c6574c-4df7-447b-8fba-07ff66726681",
   "metadata": {},
   "outputs": [
    {
     "name": "stdout",
     "output_type": "stream",
     "text": [
      "AAPL    0.000868\n",
      "dtype: float64\n"
     ]
    }
   ],
   "source": [
    "# degree of freedom total, DFT\n",
    "DFT = n - 1\n",
    "# mean square total, MST\n",
    "MST = SST/DFT\n",
    "print(MST)"
   ]
  },
  {
   "cell_type": "code",
   "execution_count": 27,
   "id": "351812bc-ca4c-4d81-9860-11f02f1dfda4",
   "metadata": {},
   "outputs": [
    {
     "data": {
      "text/plain": [
       "statsmodels.regression.linear_model.RegressionResultsWrapper"
      ]
     },
     "execution_count": 27,
     "metadata": {},
     "output_type": "execute_result"
    }
   ],
   "source": [
    "type(results)"
   ]
  },
  {
   "cell_type": "markdown",
   "id": "d4ebd9d5-5129-4100-ba0e-5e2d0415f6b8",
   "metadata": {},
   "source": [
    "请大家参考如下链接，获取statsmodels.regression.linear_model.RegressionResultsWrapper中的methods和properties  \n",
    "https://www.statsmodels.org/dev/generated/statsmodels.regression.linear_model.RegressionResults.html"
   ]
  },
  {
   "cell_type": "code",
   "execution_count": 13,
   "id": "7dba23f0-ce06-4616-8999-ec759a7b2086",
   "metadata": {},
   "outputs": [],
   "source": [
    "# predicted\n",
    "y_hat = results.fittedvalues\n",
    "\n",
    "y_hat = y_hat.to_frame()\n",
    "y_hat = y_hat.rename(columns={0: 'AAPL'})\n",
    " "
   ]
  },
  {
   "cell_type": "code",
   "execution_count": 15,
   "id": "1318b0ad-b6b3-418f-a48c-216494d7f487",
   "metadata": {},
   "outputs": [
    {
     "name": "stdout",
     "output_type": "stream",
     "text": [
      "AAPL    0.149487\n",
      "dtype: float64\n",
      "AAPL    0.149487\n",
      "dtype: float64\n"
     ]
    }
   ],
   "source": [
    "# Sum of Squares for Regression, SSR\n",
    "SSR = ((y_hat - y_mean)**2).sum()\n",
    "print(SSR)\n",
    "# degrees of freedom for regression model\n",
    "DFR = 1\n",
    "# MSR: mean square regression\n",
    "MSR = SSR/DFR\n",
    "print(MSR)"
   ]
  },
  {
   "cell_type": "code",
   "execution_count": 28,
   "id": "3ca1cd83-67f4-4a14-8527-09a93a14ba9b",
   "metadata": {},
   "outputs": [
    {
     "name": "stdout",
     "output_type": "stream",
     "text": [
      "AAPL    0.067621\n",
      "dtype: float64\n"
     ]
    }
   ],
   "source": [
    "# Sum of Squares for Error, SSE\n",
    "SSE = ((y_df - y_hat)**2).sum()\n",
    "print(SSE)"
   ]
  },
  {
   "cell_type": "code",
   "execution_count": 19,
   "id": "5d65a9e6-5669-4973-8e90-2e401c6f342f",
   "metadata": {},
   "outputs": [],
   "source": [
    "# degrees of freedom for error, DFE\n",
    "DFE = n - DFR - 1"
   ]
  },
  {
   "cell_type": "code",
   "execution_count": 29,
   "id": "32e2b5b9-a754-4307-afd8-ef32251efe88",
   "metadata": {},
   "outputs": [
    {
     "name": "stdout",
     "output_type": "stream",
     "text": [
      "AAPL    0.000272\n",
      "dtype: float64\n"
     ]
    }
   ],
   "source": [
    "# mean squared error, MSE\n",
    "MSE = SSE/DFE\n",
    "print(MSE)"
   ]
  },
  {
   "cell_type": "markdown",
   "id": "cd51bffc-00d4-4682-91e5-bcd6679b30b9",
   "metadata": {},
   "source": [
    "## 拟合优度\n",
    "Goodness of fit"
   ]
  },
  {
   "cell_type": "code",
   "execution_count": 21,
   "id": "80c1eefd-d259-4ba9-9fe7-ff2c6b898d79",
   "metadata": {},
   "outputs": [],
   "source": [
    "# coefficient of determination, R squared\n",
    "\n",
    "# 计算决定系数\n",
    "R2 = SSR/SST\n",
    "\n",
    "# 计算修正决定系数\n",
    "R2_adj = 1 - MSE/MST"
   ]
  },
  {
   "cell_type": "markdown",
   "id": "0df1f025-2b03-4ac4-9c06-7077d7fb1fc0",
   "metadata": {},
   "source": [
    "## F-test"
   ]
  },
  {
   "cell_type": "code",
   "execution_count": 24,
   "id": "66f83d63-77e6-4557-9b35-3d801fa836b2",
   "metadata": {},
   "outputs": [
    {
     "name": "stdout",
     "output_type": "stream",
     "text": [
      "AAPL    550.451466\n",
      "dtype: float64\n",
      "550.4514656002331\n"
     ]
    }
   ],
   "source": [
    "# 计算F检验的统计量\n",
    "F_test = MSR/MSE\n",
    "print(F_test)\n",
    "\n",
    "# 验算F检验的统计量\n",
    "N = results.nobs\n",
    "k = results.df_model+1\n",
    "dfm, dfe = k-1, N - k\n",
    "F = results.mse_model / results.mse_resid\n",
    "print(F)"
   ]
  },
  {
   "cell_type": "code",
   "execution_count": 16,
   "id": "45b022c6-393a-4e5c-a2d2-a0adb6d27bd8",
   "metadata": {},
   "outputs": [],
   "source": [
    "import scipy.stats as stats\n",
    "p = 1.0 - stats.f.cdf(F,dfm,dfe)\n",
    "\n",
    "alpha = 0.01\n",
    "# F = 549.7\n",
    "# n = 252\n",
    "# D = 1\n",
    "# p = D + 1\n",
    "\n",
    "fdistribution = stats.f(p - 1, n - p) \n",
    "# build an F-distribution object\n",
    "f_critical = fdistribution.ppf(1 - alpha)\n",
    "\n",
    "p_value = 1 - stats.f.cdf(F, p - 1, n - p)"
   ]
  },
  {
   "cell_type": "markdown",
   "id": "3f8b0251-e3a9-4564-9298-97a6c659690b",
   "metadata": {},
   "source": [
    "## 可视化"
   ]
  },
  {
   "cell_type": "code",
   "execution_count": 18,
   "id": "dbda4df0-748d-4396-9cd9-afa8ee64e783",
   "metadata": {},
   "outputs": [],
   "source": [
    "x_points = x_df.values.T\n",
    "y_points = y_df.values.T\n",
    "y_hat_points = y_hat.values.T\n",
    "\n",
    "p = model.fit().params\n",
    "\n",
    "# generate x-values for  regression line\n",
    "x = np.linspace(x_df.min(),x_df.max(),10)"
   ]
  },
  {
   "cell_type": "code",
   "execution_count": 20,
   "id": "b161a681-1c49-454a-9f9d-67f697a6333d",
   "metadata": {},
   "outputs": [
    {
     "data": {
      "text/plain": [
       "(-0.15, 0.15)"
      ]
     },
     "execution_count": 20,
     "metadata": {},
     "output_type": "execute_result"
    },
    {
     "data": {
      "image/png": "[encoded data removed]",
      "text/plain": [
       "<Figure size 640x480 with 1 Axes>"
      ]
     },
     "metadata": {},
     "output_type": "display_data"
    }
   ],
   "source": [
    "fig, ax = plt.subplots()\n",
    "plt.scatter(x_df, y_df, alpha = 0.5)\n",
    "plt.plot(x_points,y_hat_points,'+k'); \n",
    "\n",
    "plt.plot(x, p.const + p.SP500 * x,color = 'r')\n",
    "plt.plot(np.vstack((x_points,x_points)),\n",
    "     np.vstack((y_points,y_hat_points)),\n",
    "     color = [0.7,0.7,0.7], zorder = 1);\n",
    "\n",
    "plt.axis('scaled')\n",
    "plt.ylabel('y')\n",
    "plt.xlabel('x')\n",
    "plt.xlim([-0.15,0.15])\n",
    "plt.ylim([-0.15,0.15])"
   ]
  }
 ],
 "metadata": {
  "kernelspec": {
   "display_name": "Python 3 (ipykernel)",
   "language": "python",
   "name": "python3"
  },
  "language_info": {
   "codemirror_mode": {
    "name": "ipython",
    "version": 3
   },
   "file_extension": ".py",
   "mimetype": "text/x-python",
   "name": "python",
   "nbconvert_exporter": "python",
   "pygments_lexer": "ipython3",
   "version": "3.10.9"
  }
 },
 "nbformat": 4,
 "nbformat_minor": 5
}
