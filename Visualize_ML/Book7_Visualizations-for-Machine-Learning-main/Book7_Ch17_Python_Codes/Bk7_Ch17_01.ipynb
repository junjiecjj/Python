{
 "cells": [
  {
   "cell_type": "markdown",
   "id": "67b9a768-51ee-4825-b1cb-fc9ef8fd0857",
   "metadata": {},
   "source": [
    "Chapter 17\n",
    "\n",
    "# 正交回归，一元\n",
    "Book_7《机器学习》 | 鸢尾花书：从加减乘除到机器学习"
   ]
  },
  {
   "cell_type": "code",
   "execution_count": 1,
   "id": "0dc18116-1bba-48cf-93fa-c5c189f171cb",
   "metadata": {},
   "outputs": [],
   "source": [
    "# single variate TLS regression\n",
    "\n",
    "# initializations and download results \n",
    "import pandas as pd\n",
    "import yfinance as yf\n",
    "import seaborn as sns\n",
    "import matplotlib.pyplot as plt\n",
    "import numpy as np\n",
    "import scipy.stats as stats\n",
    "import statsmodels.api as sm"
   ]
  },
  {
   "cell_type": "code",
   "execution_count": 2,
   "id": "ab8002c5-e7c0-4484-b61c-d5fa78082743",
   "metadata": {},
   "outputs": [],
   "source": [
    "p = plt.rcParams\n",
    "p[\"font.sans-serif\"] = [\"Roboto\"]\n",
    "p[\"font.weight\"] = \"light\"\n",
    "p[\"ytick.minor.visible\"] = True\n",
    "p[\"xtick.minor.visible\"] = True\n",
    "p[\"axes.grid\"] = True\n",
    "p[\"grid.color\"] = \"0.5\"\n",
    "p[\"grid.linewidth\"] = 0.5\n"
   ]
  },
  {
   "cell_type": "code",
   "execution_count": 3,
   "id": "95b000d7-31c5-4ad2-9a30-416b427b1026",
   "metadata": {},
   "outputs": [
    {
     "name": "stdout",
     "output_type": "stream",
     "text": [
      "[*********************100%%**********************]  1 of 1 completed\n"
     ]
    }
   ],
   "source": [
    "# y_levels_df = web.get_data_yahoo(['AAPL'], start = '2020-01-01', end = '2020-12-31')\n",
    "\n",
    "from datetime import datetime\n",
    "startdate = datetime(2020,1,1)\n",
    "enddate = datetime(2020,12,31)\n",
    "y_levels_df = yf.download(tickers = ['AAPL'],\n",
    "                  start = startdate,\n",
    "                  end = enddate)"
   ]
  },
  {
   "cell_type": "code",
   "execution_count": 4,
   "id": "0fb404ed-2b6e-4852-b3a5-060201db88f0",
   "metadata": {},
   "outputs": [],
   "source": [
    "y_levels_df.to_pickle('y_levels_df.pkl')"
   ]
  },
  {
   "cell_type": "code",
   "execution_count": 5,
   "id": "fe954a76-ce41-4a1e-97bd-18c185797062",
   "metadata": {},
   "outputs": [
    {
     "data": {
      "text/html": [
       "<div>\n",
       "<style scoped>\n",
       "    .dataframe tbody tr th:only-of-type {\n",
       "        vertical-align: middle;\n",
       "    }\n",
       "\n",
       "    .dataframe tbody tr th {\n",
       "        vertical-align: top;\n",
       "    }\n",
       "\n",
       "    .dataframe thead th {\n",
       "        text-align: right;\n",
       "    }\n",
       "</style>\n",
       "<table border=\"1\" class=\"dataframe\">\n",
       "  <thead>\n",
       "    <tr style=\"text-align: right;\">\n",
       "      <th></th>\n",
       "      <th>Open</th>\n",
       "      <th>High</th>\n",
       "      <th>Low</th>\n",
       "      <th>Close</th>\n",
       "      <th>Adj Close</th>\n",
       "      <th>Volume</th>\n",
       "    </tr>\n",
       "    <tr>\n",
       "      <th>Date</th>\n",
       "      <th></th>\n",
       "      <th></th>\n",
       "      <th></th>\n",
       "      <th></th>\n",
       "      <th></th>\n",
       "      <th></th>\n",
       "    </tr>\n",
       "  </thead>\n",
       "  <tbody>\n",
       "    <tr>\n",
       "      <th>2020-01-02</th>\n",
       "      <td>74.06</td>\n",
       "      <td>75.15</td>\n",
       "      <td>73.80</td>\n",
       "      <td>75.09</td>\n",
       "      <td>73.15</td>\n",
       "      <td>135480400</td>\n",
       "    </tr>\n",
       "    <tr>\n",
       "      <th>2020-01-03</th>\n",
       "      <td>74.29</td>\n",
       "      <td>75.14</td>\n",
       "      <td>74.12</td>\n",
       "      <td>74.36</td>\n",
       "      <td>72.44</td>\n",
       "      <td>146322800</td>\n",
       "    </tr>\n",
       "    <tr>\n",
       "      <th>2020-01-06</th>\n",
       "      <td>73.45</td>\n",
       "      <td>74.99</td>\n",
       "      <td>73.19</td>\n",
       "      <td>74.95</td>\n",
       "      <td>73.02</td>\n",
       "      <td>118387200</td>\n",
       "    </tr>\n",
       "    <tr>\n",
       "      <th>2020-01-07</th>\n",
       "      <td>74.96</td>\n",
       "      <td>75.22</td>\n",
       "      <td>74.37</td>\n",
       "      <td>74.60</td>\n",
       "      <td>72.68</td>\n",
       "      <td>108872000</td>\n",
       "    </tr>\n",
       "    <tr>\n",
       "      <th>2020-01-08</th>\n",
       "      <td>74.29</td>\n",
       "      <td>76.11</td>\n",
       "      <td>74.29</td>\n",
       "      <td>75.80</td>\n",
       "      <td>73.84</td>\n",
       "      <td>132079200</td>\n",
       "    </tr>\n",
       "  </tbody>\n",
       "</table>\n",
       "</div>"
      ],
      "text/plain": [
       "             Open   High    Low  Close  Adj Close     Volume\n",
       "Date                                                        \n",
       "2020-01-02  74.06  75.15  73.80  75.09      73.15  135480400\n",
       "2020-01-03  74.29  75.14  74.12  74.36      72.44  146322800\n",
       "2020-01-06  73.45  74.99  73.19  74.95      73.02  118387200\n",
       "2020-01-07  74.96  75.22  74.37  74.60      72.68  108872000\n",
       "2020-01-08  74.29  76.11  74.29  75.80      73.84  132079200"
      ]
     },
     "execution_count": 5,
     "metadata": {},
     "output_type": "execute_result"
    }
   ],
   "source": [
    "y_levels_df.round(2).head()"
   ]
  },
  {
   "cell_type": "code",
   "execution_count": 6,
   "id": "4428b2c4-4437-46d2-a983-b5d1abfdf728",
   "metadata": {},
   "outputs": [],
   "source": [
    "y_df = y_levels_df['Adj Close'].pct_change()\n",
    "y_df = y_df.dropna()"
   ]
  },
  {
   "cell_type": "code",
   "execution_count": 7,
   "id": "aa65d8ac-030c-4298-97d0-711c1f272a35",
   "metadata": {},
   "outputs": [
    {
     "name": "stdout",
     "output_type": "stream",
     "text": [
      "[*********************100%%**********************]  1 of 1 completed\n"
     ]
    }
   ],
   "source": [
    "# x_levels_df = web.get_data_yahoo(['^GSPC'], start = '2020-01-01', end = '2020-12-31')\n",
    "x_levels_df = yf.download(tickers = ['^GSPC'],\n",
    "                  start = startdate,\n",
    "                  end = enddate)"
   ]
  },
  {
   "cell_type": "code",
   "execution_count": 8,
   "id": "c43e44e0-cd5e-472c-9eef-d6f1419e87e1",
   "metadata": {},
   "outputs": [
    {
     "data": {
      "text/html": [
       "<div>\n",
       "<style scoped>\n",
       "    .dataframe tbody tr th:only-of-type {\n",
       "        vertical-align: middle;\n",
       "    }\n",
       "\n",
       "    .dataframe tbody tr th {\n",
       "        vertical-align: top;\n",
       "    }\n",
       "\n",
       "    .dataframe thead th {\n",
       "        text-align: right;\n",
       "    }\n",
       "</style>\n",
       "<table border=\"1\" class=\"dataframe\">\n",
       "  <thead>\n",
       "    <tr style=\"text-align: right;\">\n",
       "      <th></th>\n",
       "      <th>Open</th>\n",
       "      <th>High</th>\n",
       "      <th>Low</th>\n",
       "      <th>Close</th>\n",
       "      <th>Adj Close</th>\n",
       "      <th>Volume</th>\n",
       "    </tr>\n",
       "    <tr>\n",
       "      <th>Date</th>\n",
       "      <th></th>\n",
       "      <th></th>\n",
       "      <th></th>\n",
       "      <th></th>\n",
       "      <th></th>\n",
       "      <th></th>\n",
       "    </tr>\n",
       "  </thead>\n",
       "  <tbody>\n",
       "    <tr>\n",
       "      <th>2020-01-02</th>\n",
       "      <td>3244.67</td>\n",
       "      <td>3258.14</td>\n",
       "      <td>3235.53</td>\n",
       "      <td>3257.85</td>\n",
       "      <td>3257.85</td>\n",
       "      <td>3459930000</td>\n",
       "    </tr>\n",
       "    <tr>\n",
       "      <th>2020-01-03</th>\n",
       "      <td>3226.36</td>\n",
       "      <td>3246.15</td>\n",
       "      <td>3222.34</td>\n",
       "      <td>3234.85</td>\n",
       "      <td>3234.85</td>\n",
       "      <td>3484700000</td>\n",
       "    </tr>\n",
       "    <tr>\n",
       "      <th>2020-01-06</th>\n",
       "      <td>3217.55</td>\n",
       "      <td>3246.84</td>\n",
       "      <td>3214.64</td>\n",
       "      <td>3246.28</td>\n",
       "      <td>3246.28</td>\n",
       "      <td>3702460000</td>\n",
       "    </tr>\n",
       "    <tr>\n",
       "      <th>2020-01-07</th>\n",
       "      <td>3241.86</td>\n",
       "      <td>3244.91</td>\n",
       "      <td>3232.43</td>\n",
       "      <td>3237.18</td>\n",
       "      <td>3237.18</td>\n",
       "      <td>3435910000</td>\n",
       "    </tr>\n",
       "    <tr>\n",
       "      <th>2020-01-08</th>\n",
       "      <td>3238.59</td>\n",
       "      <td>3267.07</td>\n",
       "      <td>3236.67</td>\n",
       "      <td>3253.05</td>\n",
       "      <td>3253.05</td>\n",
       "      <td>3726840000</td>\n",
       "    </tr>\n",
       "  </tbody>\n",
       "</table>\n",
       "</div>"
      ],
      "text/plain": [
       "               Open     High      Low    Close  Adj Close      Volume\n",
       "Date                                                                 \n",
       "2020-01-02  3244.67  3258.14  3235.53  3257.85    3257.85  3459930000\n",
       "2020-01-03  3226.36  3246.15  3222.34  3234.85    3234.85  3484700000\n",
       "2020-01-06  3217.55  3246.84  3214.64  3246.28    3246.28  3702460000\n",
       "2020-01-07  3241.86  3244.91  3232.43  3237.18    3237.18  3435910000\n",
       "2020-01-08  3238.59  3267.07  3236.67  3253.05    3253.05  3726840000"
      ]
     },
     "execution_count": 8,
     "metadata": {},
     "output_type": "execute_result"
    }
   ],
   "source": [
    "x_levels_df.round(2).head()"
   ]
  },
  {
   "cell_type": "code",
   "execution_count": 9,
   "id": "0065098a-4ae7-438a-8943-c7be498cadca",
   "metadata": {},
   "outputs": [],
   "source": [
    "x_df = x_levels_df['Adj Close'].pct_change()\n",
    "x_df = x_df.dropna()"
   ]
  },
  {
   "cell_type": "code",
   "execution_count": 10,
   "id": "336e60de-ce41-48fe-9e27-cfae02c39c62",
   "metadata": {},
   "outputs": [],
   "source": [
    "# x_df = x_df.rename(columns={\"^GSPC\": \"SP500\"})\n",
    "\n",
    "x_y_df = pd.concat([x_df, y_df], axis=1, join=\"inner\")"
   ]
  },
  {
   "cell_type": "code",
   "execution_count": 11,
   "id": "6e1dc770-53f3-43d4-99b0-d677f3831105",
   "metadata": {},
   "outputs": [],
   "source": [
    "#%% USE ODR in SciPy"
   ]
  },
  {
   "cell_type": "code",
   "execution_count": 12,
   "id": "408b1dc9-2aab-473c-b72d-41ef34e5cbdd",
   "metadata": {},
   "outputs": [],
   "source": [
    "from scipy.odr import *\n",
    "\n",
    "# Define a function to fit the data with\n",
    "def linear_func(b, x):\n",
    "   b0, b1 = b\n",
    "   return b1*x + b0"
   ]
  },
  {
   "cell_type": "code",
   "execution_count": 13,
   "id": "f6850d15-8e6f-43e5-8107-82db7853bdc8",
   "metadata": {},
   "outputs": [
    {
     "name": "stdout",
     "output_type": "stream",
     "text": [
      "Beta: [0.00164846 1.43712049]\n",
      "Beta Std Error: [0.00112716 0.05613804]\n",
      "Beta Covariance: [[ 1.22308641e-02 -2.36574753e-02]\n",
      " [-2.36574753e-02  3.03391791e+01]]\n",
      "Residual Variance: 0.0001038749070840251\n",
      "Inverse Condition #: 0.22961144322020605\n",
      "Reason(s) for Halting:\n",
      "  Sum of squares convergence\n"
     ]
    }
   ],
   "source": [
    "# Create a model for fitting\n",
    "linear_model = Model(linear_func)\n",
    "\n",
    "# Load data to the model\n",
    "data = RealData(x_df.T, y_df.T)\n",
    "\n",
    "# Set up ODR with the model and data\n",
    "odr = ODR(data, linear_model, beta0=[0., 1.])\n",
    "\n",
    "# Solve the regression\n",
    "out = odr.run()\n",
    "\n",
    "# Use the in-built pprint method to display results\n",
    "out.pprint()\n",
    "\n",
    "#%%"
   ]
  },
  {
   "cell_type": "code",
   "execution_count": 14,
   "id": "729b0add-e4be-4066-9357-6e89ab376c10",
   "metadata": {},
   "outputs": [
    {
     "data": {
      "text/plain": [
       "0.0027690720035688293"
      ]
     },
     "execution_count": 14,
     "metadata": {},
     "output_type": "execute_result"
    }
   ],
   "source": [
    "y_df.mean()"
   ]
  },
  {
   "cell_type": "code",
   "execution_count": 15,
   "id": "616e63b6-b683-474f-94dc-42cbb97c545a",
   "metadata": {},
   "outputs": [
    {
     "name": "stdout",
     "output_type": "stream",
     "text": [
      "1.437138320660491\n",
      "0.0016484446382283927\n"
     ]
    }
   ],
   "source": [
    "#%% TLS, matrix computation\n",
    "import statsmodels.api as sm\n",
    "\n",
    "SIMGA = x_y_df.cov()\n",
    "\n",
    "Lambda, V = np.linalg.eig(SIMGA)\n",
    "\n",
    "idx = Lambda.argsort()[::-1]   \n",
    "Lambda = Lambda[idx]\n",
    "V = V[:,idx]\n",
    "\n",
    "lambda_min = np.min(Lambda)\n",
    "b1_TLS = -V[0, 1]/V[1, 1]\n",
    "print(b1_TLS)\n",
    "\n",
    "b0_TLS = y_df.mean() - b1_TLS*x_df.mean()\n",
    "print(b0_TLS)"
   ]
  },
  {
   "cell_type": "code",
   "execution_count": 16,
   "id": "03af82a2-38b2-4e84-acca-2c0a77ea8706",
   "metadata": {},
   "outputs": [
    {
     "name": "stdout",
     "output_type": "stream",
     "text": [
      "                            OLS Regression Results                            \n",
      "==============================================================================\n",
      "Dep. Variable:              Adj Close   R-squared:                       0.689\n",
      "Model:                            OLS   Adj. R-squared:                  0.687\n",
      "Method:                 Least Squares   F-statistic:                     550.5\n",
      "Date:                Tue, 21 Nov 2023   Prob (F-statistic):           5.16e-65\n",
      "Time:                        20:18:17   Log-Likelihood:                 675.37\n",
      "No. Observations:                 251   AIC:                            -1347.\n",
      "Df Residuals:                     249   BIC:                            -1340.\n",
      "Df Model:                           1                                         \n",
      "Covariance Type:            nonrobust                                         \n",
      "==============================================================================\n",
      "                 coef    std err          t      P>|t|      [0.025      0.975]\n",
      "------------------------------------------------------------------------------\n",
      "const          0.0019      0.001      1.819      0.070      -0.000       0.004\n",
      "Adj Close      1.1234      0.048     23.462      0.000       1.029       1.218\n",
      "==============================================================================\n",
      "Omnibus:                       52.109   Durbin-Watson:                   1.871\n",
      "Prob(Omnibus):                  0.000   Jarque-Bera (JB):              210.792\n",
      "Skew:                           0.772   Prob(JB):                     1.69e-46\n",
      "Kurtosis:                       7.216   Cond. No.                         46.0\n",
      "==============================================================================\n",
      "\n",
      "Notes:\n",
      "[1] Standard Errors assume that the covariance matrix of the errors is correctly specified.\n"
     ]
    }
   ],
   "source": [
    "#%% OLS regression\n",
    "\n",
    "# add a column of ones\n",
    "X_df = sm.add_constant(x_df)\n",
    "\n",
    "model = sm.OLS(y_df, X_df)\n",
    "results = model.fit()\n",
    "print(results.summary())\n",
    "\n",
    "p = model.fit().params"
   ]
  },
  {
   "cell_type": "code",
   "execution_count": 17,
   "id": "045cfb7e-4c5c-4a28-93f6-9353713d3869",
   "metadata": {},
   "outputs": [],
   "source": [
    "#%% visualization\n",
    "\n",
    "b0 = out.beta[0]\n",
    "b1 = out.beta[1]\n",
    "\n",
    "# generate x-values for  regression line\n",
    "x_ = np.linspace(x_df.min(),x_df.max(),10)"
   ]
  },
  {
   "cell_type": "code",
   "execution_count": 18,
   "id": "f76cfc6b-c488-4f70-890f-e3e350081e79",
   "metadata": {},
   "outputs": [
    {
     "data": {
      "text/plain": [
       "const        0.001893\n",
       "Adj Close    1.123351\n",
       "dtype: float64"
      ]
     },
     "execution_count": 18,
     "metadata": {},
     "output_type": "execute_result"
    }
   ],
   "source": [
    "p"
   ]
  },
  {
   "cell_type": "code",
   "execution_count": 19,
   "id": "77c64dab-418a-4bda-b5dc-f53cd66a56a0",
   "metadata": {},
   "outputs": [
    {
     "data": {
      "text/plain": [
       "(-0.15, 0.15)"
      ]
     },
     "execution_count": 19,
     "metadata": {},
     "output_type": "execute_result"
    },
    {
     "data": {
      "image/png": "[encoded data removed]",
      "text/plain": [
       "<Figure size 640x480 with 1 Axes>"
      ]
     },
     "metadata": {},
     "output_type": "display_data"
    }
   ],
   "source": [
    "fig, ax = plt.subplots()\n",
    "\n",
    "# scatter-plot data\n",
    "plt.scatter(x_df, y_df, alpha = 0.5, \n",
    "            s = 8,label = 'Data')\n",
    "\n",
    "plt.plot(x_, p.const + p['Adj Close'] * x_,\n",
    "         color = 'r', label = 'OLS')\n",
    "\n",
    "plt.plot(x_, b0 + b1 * x_,\n",
    "         color = 'b', label = 'TLS')\n",
    "\n",
    "plt.axhline(y=0, color='k', linestyle='--')\n",
    "plt.axvline(x=0, color='k', linestyle='--')\n",
    "plt.axis('scaled')\n",
    "plt.legend(loc='lower right')\n",
    "\n",
    "plt.axis('scaled')\n",
    "plt.ylabel('AAPL daily return')\n",
    "plt.xlabel('S&P 500 daily return, market')\n",
    "plt.xlim([-0.15,0.15])\n",
    "plt.ylim([-0.15,0.15])"
   ]
  }
 ],
 "metadata": {
  "kernelspec": {
   "display_name": "Python 3 (ipykernel)",
   "language": "python",
   "name": "python3"
  },
  "language_info": {
   "codemirror_mode": {
    "name": "ipython",
    "version": 3
   },
   "file_extension": ".py",
   "mimetype": "text/x-python",
   "name": "python",
   "nbconvert_exporter": "python",
   "pygments_lexer": "ipython3",
   "version": "3.10.9"
  }
 },
 "nbformat": 4,
 "nbformat_minor": 5
}
