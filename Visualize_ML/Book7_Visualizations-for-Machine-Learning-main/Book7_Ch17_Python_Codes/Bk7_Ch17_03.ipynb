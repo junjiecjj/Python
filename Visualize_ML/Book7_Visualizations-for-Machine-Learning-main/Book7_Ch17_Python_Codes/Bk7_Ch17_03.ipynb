{
 "cells": [
  {
   "cell_type": "markdown",
   "id": "48974b41-9328-4aa9-b38d-8dead238d67c",
   "metadata": {},
   "source": [
    "Chapter 17\n",
    "\n",
    "# 正交回归，多元\n",
    "Book_7《机器学习》 | 鸢尾花书：从加减乘除到机器学习"
   ]
  },
  {
   "cell_type": "code",
   "execution_count": 1,
   "id": "5f63fc2e-44b7-4d8a-9172-ebd3b48d1093",
   "metadata": {},
   "outputs": [],
   "source": [
    "import pandas as pd\n",
    "import yfinance as yf\n",
    "import seaborn as sns\n",
    "import matplotlib.pyplot as plt\n",
    "import numpy as np\n",
    "import scipy.stats as stats"
   ]
  },
  {
   "cell_type": "code",
   "execution_count": 2,
   "id": "8fc56819-abf8-476a-9695-e9d352e91cbe",
   "metadata": {},
   "outputs": [],
   "source": [
    "p = plt.rcParams\n",
    "p[\"font.sans-serif\"] = [\"Roboto\"]\n",
    "p[\"font.weight\"] = \"light\"\n",
    "p[\"ytick.minor.visible\"] = True\n",
    "p[\"xtick.minor.visible\"] = True\n",
    "p[\"axes.grid\"] = True\n",
    "p[\"grid.color\"] = \"0.5\"\n",
    "p[\"grid.linewidth\"] = 0.5\n"
   ]
  },
  {
   "cell_type": "code",
   "execution_count": 3,
   "id": "c609cd51-468e-491f-9e7b-7c88d23cd61a",
   "metadata": {},
   "outputs": [
    {
     "name": "stdout",
     "output_type": "stream",
     "text": [
      "[*********************100%%**********************]  13 of 13 completed\n"
     ]
    }
   ],
   "source": [
    "tickers = ['TSLA','WMT','MCD','USB',\n",
    "           'YUM','NFLX','JPM','PFE',\n",
    "           'F','GM','COST','JNJ', '^GSPC'];\n",
    "\n",
    "stock_levels_df = yf.download(tickers, start='2020-01-01', end='2020-12-31')"
   ]
  },
  {
   "cell_type": "code",
   "execution_count": 4,
   "id": "3171a442-61a4-485d-9fc2-203baab01e45",
   "metadata": {},
   "outputs": [],
   "source": [
    "stock_levels_df.to_csv('stock_levels_df.csv')\n",
    "stock_levels_df.to_pickle('stock_levels_df.pkl')"
   ]
  },
  {
   "cell_type": "code",
   "execution_count": 5,
   "id": "486cf58a-e41f-4034-81bc-35043ecc99c2",
   "metadata": {},
   "outputs": [],
   "source": [
    "X_y_df = stock_levels_df['Adj Close'].pct_change()\n",
    "X_y_df.dropna(inplace = True)\n",
    "\n",
    "X_y_df.rename(columns={\"^GSPC\": \"SP500\"},inplace = True)\n",
    "X_df = X_y_df.iloc[:,:-1]\n",
    "y_df = X_y_df[['SP500']]"
   ]
  },
  {
   "cell_type": "code",
   "execution_count": 6,
   "id": "91f4574e-7167-41f5-b2df-74e211ac9c79",
   "metadata": {},
   "outputs": [
    {
     "name": "stdout",
     "output_type": "stream",
     "text": [
      "[ 0.25908786  0.01824322  0.0373678   0.25978646  0.15377967  0.17647761\n",
      "  0.11275032  0.04741226  0.02438509  0.04140727 -0.03435162  0.01765148]\n"
     ]
    }
   ],
   "source": [
    "#%% TLS, matrix computation\n",
    "\n",
    "SIMGA = X_y_df.cov()\n",
    "\n",
    "Lambda, V = np.linalg.eig(SIMGA)\n",
    "\n",
    "idx = Lambda.argsort()[::-1]   \n",
    "Lambda = Lambda[idx]\n",
    "V = V[:,idx]\n",
    "\n",
    "lambda_min = np.min(Lambda)\n",
    "\n",
    "D = len(tickers[:-1])\n",
    "\n",
    "b_TLS_ = -V[0:D,D]/V[D,D]\n",
    "\n",
    "print(b_TLS_)"
   ]
  },
  {
   "cell_type": "code",
   "execution_count": 7,
   "id": "b9c538b5-2643-462c-a85f-bb6eed55ed7c",
   "metadata": {},
   "outputs": [
    {
     "name": "stdout",
     "output_type": "stream",
     "text": [
      "[-0.00039445]\n"
     ]
    }
   ],
   "source": [
    "b0_TLS_ = y_df.mean().values - b_TLS_@X_df.mean().values\n",
    "print(b0_TLS_)"
   ]
  },
  {
   "cell_type": "code",
   "execution_count": 8,
   "id": "444d5d07-2649-40ca-a940-ee0bcd062bbf",
   "metadata": {},
   "outputs": [],
   "source": [
    "b_TLS = np.hstack((b0_TLS_,b_TLS_))\n",
    "\n",
    "labels = ['const'] + tickers[:-1]\n",
    "b_df_TLS = pd.DataFrame(data=b_TLS.T, index=[labels], columns=['TLS']) "
   ]
  },
  {
   "cell_type": "code",
   "execution_count": 9,
   "id": "354bd1c4-6a82-4a6a-8019-f624ff530929",
   "metadata": {},
   "outputs": [
    {
     "name": "stdout",
     "output_type": "stream",
     "text": [
      "                            OLS Regression Results                            \n",
      "==============================================================================\n",
      "Dep. Variable:                  SP500   R-squared:                       0.938\n",
      "Model:                            OLS   Adj. R-squared:                  0.935\n",
      "Method:                 Least Squares   F-statistic:                     301.8\n",
      "Date:                Tue, 21 Nov 2023   Prob (F-statistic):          1.71e-136\n",
      "Time:                        20:18:41   Log-Likelihood:                 954.64\n",
      "No. Observations:                 251   AIC:                            -1883.\n",
      "Df Residuals:                     238   BIC:                            -1837.\n",
      "Df Model:                          12                                         \n",
      "Covariance Type:            nonrobust                                         \n",
      "==============================================================================\n",
      "                 coef    std err          t      P>|t|      [0.025      0.975]\n",
      "------------------------------------------------------------------------------\n",
      "const         -0.0004      0.000     -1.111      0.267      -0.001       0.000\n",
      "COST           0.2135      0.034      6.274      0.000       0.146       0.280\n",
      "F              0.0173      0.019      0.912      0.363      -0.020       0.055\n",
      "GM             0.0425      0.018      2.405      0.017       0.008       0.077\n",
      "JNJ            0.2199      0.033      6.641      0.000       0.155       0.285\n",
      "JPM            0.1332      0.029      4.528      0.000       0.075       0.191\n",
      "MCD            0.1577      0.028      5.650      0.000       0.103       0.213\n",
      "NFLX           0.1137      0.016      7.273      0.000       0.083       0.145\n",
      "PFE            0.0665      0.024      2.801      0.006       0.020       0.113\n",
      "TSLA           0.0266      0.008      3.456      0.001       0.011       0.042\n",
      "USB            0.0583      0.025      2.353      0.019       0.009       0.107\n",
      "WMT            0.0132      0.029      0.459      0.647      -0.043       0.070\n",
      "YUM            0.0404      0.024      1.680      0.094      -0.007       0.088\n",
      "==============================================================================\n",
      "Omnibus:                       31.960   Durbin-Watson:                   2.128\n",
      "Prob(Omnibus):                  0.000   Jarque-Bera (JB):               70.936\n",
      "Skew:                           0.617   Prob(JB):                     3.95e-16\n",
      "Kurtosis:                       5.294   Cond. No.                         114.\n",
      "==============================================================================\n",
      "\n",
      "Notes:\n",
      "[1] Standard Errors assume that the covariance matrix of the errors is correctly specified.\n"
     ]
    }
   ],
   "source": [
    "#%% OLS Regression\n",
    "import statsmodels.api as sm\n",
    "\n",
    "# add a column of ones\n",
    "X_df = sm.add_constant(X_df)\n",
    "\n",
    "model = sm.OLS(y_df, X_df)\n",
    "results = model.fit()\n",
    "print(results.summary())"
   ]
  },
  {
   "cell_type": "code",
   "execution_count": 10,
   "id": "5465e943-64ee-4576-817a-23bfc6d47234",
   "metadata": {},
   "outputs": [
    {
     "name": "stdout",
     "output_type": "stream",
     "text": [
      "const   -0.000396\n",
      "COST     0.213459\n",
      "F        0.017301\n",
      "GM       0.042511\n",
      "JNJ      0.219896\n",
      "JPM      0.133239\n",
      "MCD      0.157656\n",
      "NFLX     0.113743\n",
      "PFE      0.066497\n",
      "TSLA     0.026612\n",
      "USB      0.058301\n",
      "WMT      0.013201\n",
      "YUM      0.040400\n",
      "dtype: float64\n"
     ]
    }
   ],
   "source": [
    "b_df_OLS = model.fit().params\n",
    "print(b_df_OLS)"
   ]
  },
  {
   "cell_type": "code",
   "execution_count": 11,
   "id": "ea34df84-10c9-4624-ac56-411cc7a9322d",
   "metadata": {},
   "outputs": [],
   "source": [
    "b_df_OLS = pd.DataFrame(data=b_df_OLS.values, index=[labels], columns=['OLS']) \n",
    "\n",
    "\n",
    "coeffs = pd.concat([b_df_TLS, b_df_OLS], axis=1, join=\"inner\")"
   ]
  },
  {
   "cell_type": "code",
   "execution_count": 12,
   "id": "2e4ec2e9-036e-4745-96b0-da7189420e71",
   "metadata": {},
   "outputs": [
    {
     "data": {
      "text/html": [
       "<div>\n",
       "<style scoped>\n",
       "    .dataframe tbody tr th:only-of-type {\n",
       "        vertical-align: middle;\n",
       "    }\n",
       "\n",
       "    .dataframe tbody tr th {\n",
       "        vertical-align: top;\n",
       "    }\n",
       "\n",
       "    .dataframe thead th {\n",
       "        text-align: right;\n",
       "    }\n",
       "</style>\n",
       "<table border=\"1\" class=\"dataframe\">\n",
       "  <thead>\n",
       "    <tr style=\"text-align: right;\">\n",
       "      <th></th>\n",
       "      <th>TLS</th>\n",
       "      <th>OLS</th>\n",
       "    </tr>\n",
       "  </thead>\n",
       "  <tbody>\n",
       "    <tr>\n",
       "      <th>const</th>\n",
       "      <td>-0.000394</td>\n",
       "      <td>-0.000396</td>\n",
       "    </tr>\n",
       "    <tr>\n",
       "      <th>TSLA</th>\n",
       "      <td>0.259088</td>\n",
       "      <td>0.213459</td>\n",
       "    </tr>\n",
       "    <tr>\n",
       "      <th>WMT</th>\n",
       "      <td>0.018243</td>\n",
       "      <td>0.017301</td>\n",
       "    </tr>\n",
       "    <tr>\n",
       "      <th>MCD</th>\n",
       "      <td>0.037368</td>\n",
       "      <td>0.042511</td>\n",
       "    </tr>\n",
       "    <tr>\n",
       "      <th>USB</th>\n",
       "      <td>0.259786</td>\n",
       "      <td>0.219896</td>\n",
       "    </tr>\n",
       "    <tr>\n",
       "      <th>YUM</th>\n",
       "      <td>0.153780</td>\n",
       "      <td>0.133239</td>\n",
       "    </tr>\n",
       "    <tr>\n",
       "      <th>NFLX</th>\n",
       "      <td>0.176478</td>\n",
       "      <td>0.157656</td>\n",
       "    </tr>\n",
       "    <tr>\n",
       "      <th>JPM</th>\n",
       "      <td>0.112750</td>\n",
       "      <td>0.113743</td>\n",
       "    </tr>\n",
       "    <tr>\n",
       "      <th>PFE</th>\n",
       "      <td>0.047412</td>\n",
       "      <td>0.066497</td>\n",
       "    </tr>\n",
       "    <tr>\n",
       "      <th>F</th>\n",
       "      <td>0.024385</td>\n",
       "      <td>0.026612</td>\n",
       "    </tr>\n",
       "    <tr>\n",
       "      <th>GM</th>\n",
       "      <td>0.041407</td>\n",
       "      <td>0.058301</td>\n",
       "    </tr>\n",
       "    <tr>\n",
       "      <th>COST</th>\n",
       "      <td>-0.034352</td>\n",
       "      <td>0.013201</td>\n",
       "    </tr>\n",
       "    <tr>\n",
       "      <th>JNJ</th>\n",
       "      <td>0.017651</td>\n",
       "      <td>0.040400</td>\n",
       "    </tr>\n",
       "  </tbody>\n",
       "</table>\n",
       "</div>"
      ],
      "text/plain": [
       "            TLS       OLS\n",
       "const -0.000394 -0.000396\n",
       "TSLA   0.259088  0.213459\n",
       "WMT    0.018243  0.017301\n",
       "MCD    0.037368  0.042511\n",
       "USB    0.259786  0.219896\n",
       "YUM    0.153780  0.133239\n",
       "NFLX   0.176478  0.157656\n",
       "JPM    0.112750  0.113743\n",
       "PFE    0.047412  0.066497\n",
       "F      0.024385  0.026612\n",
       "GM     0.041407  0.058301\n",
       "COST  -0.034352  0.013201\n",
       "JNJ    0.017651  0.040400"
      ]
     },
     "execution_count": 12,
     "metadata": {},
     "output_type": "execute_result"
    }
   ],
   "source": [
    "coeffs"
   ]
  },
  {
   "cell_type": "code",
   "execution_count": 13,
   "id": "08b5e241-1e53-4fe8-a60a-15be9000c4ab",
   "metadata": {},
   "outputs": [
    {
     "data": {
      "text/plain": [
       "<matplotlib.lines.Line2D at 0x1b0e2a30790>"
      ]
     },
     "execution_count": 13,
     "metadata": {},
     "output_type": "execute_result"
    },
    {
     "data": {
      "image/png": "[encoded data removed]",
      "text/plain": [
       "<Figure size 640x480 with 1 Axes>"
      ]
     },
     "metadata": {},
     "output_type": "display_data"
    }
   ],
   "source": [
    "fig, ax = plt.subplots()\n",
    "coeffs.plot.bar(ax = ax)\n",
    "# h.legend(loc='center left', bbox_to_anchor=(1, 0.5))\n",
    "plt.tight_layout()\n",
    "plt.axhline(y=0, color='r', linestyle='--')"
   ]
  }
 ],
 "metadata": {
  "kernelspec": {
   "display_name": "Python 3 (ipykernel)",
   "language": "python",
   "name": "python3"
  },
  "language_info": {
   "codemirror_mode": {
    "name": "ipython",
    "version": 3
   },
   "file_extension": ".py",
   "mimetype": "text/x-python",
   "name": "python",
   "nbconvert_exporter": "python",
   "pygments_lexer": "ipython3",
   "version": "3.10.9"
  }
 },
 "nbformat": 4,
 "nbformat_minor": 5
}
