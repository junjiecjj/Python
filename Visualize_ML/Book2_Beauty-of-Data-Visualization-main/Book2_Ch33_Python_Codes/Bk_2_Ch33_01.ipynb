{
 "cells": [
  {
   "cell_type": "markdown",
   "id": "ba7840a9-04b3-4587-aa50-6c65c3d0e2a0",
   "metadata": {},
   "source": [
    "Chapter 33\n",
    "# 一阶贝塞尔曲线原理\n",
    "Book_2《可视之美》 | 鸢尾花书：从加减乘除到机器学习  "
   ]
  },
  {
   "cell_type": "code",
   "execution_count": 1,
   "id": "e68f59a4-8706-4368-af6a-bc2bbef9e489",
   "metadata": {},
   "outputs": [],
   "source": [
    "import numpy as np\n",
    "import matplotlib.pyplot as plt\n",
    "import matplotlib as mpl\n",
    "import os\n",
    "\n",
    "# 如果文件夹不存在，创建文件夹\n",
    "if not os.path.isdir(\"Figures\"):\n",
    "    os.makedirs(\"Figures\")"
   ]
  },
  {
   "cell_type": "code",
   "execution_count": 2,
   "id": "933dc44d-c101-4277-94d4-8ad6d53e0de9",
   "metadata": {},
   "outputs": [],
   "source": [
    "p = plt.rcParams\n",
    "p[\"font.sans-serif\"] = [\"Roboto\"]\n",
    "p[\"font.weight\"] = \"light\"\n",
    "p[\"ytick.minor.visible\"] = True\n",
    "p[\"xtick.minor.visible\"] = True\n",
    "p[\"axes.grid\"] = True\n",
    "p[\"grid.color\"] = \"0.5\"\n",
    "p[\"grid.linewidth\"] = 0.5"
   ]
  },
  {
   "cell_type": "code",
   "execution_count": 3,
   "id": "26ac585b-3be9-44bb-b9dc-87b5b58c7f6c",
   "metadata": {},
   "outputs": [],
   "source": [
    "def lerp(P_a, P_b, t_array):\n",
    "    \n",
    "    P_out = [P_a * t_idx + P_b * (1 - t_idx) for t_idx in t_array]\n",
    "    P_out = np.array(P_out)\n",
    "    \n",
    "    return P_out\n"
   ]
  },
  {
   "cell_type": "code",
   "execution_count": 4,
   "id": "564a8c15-7805-4356-afa5-49076643a39c",
   "metadata": {},
   "outputs": [],
   "source": [
    "P_0 = np.array([-4, 4])\n",
    "P_1 = np.array([4, -4])\n",
    "\n",
    "delta_t = 1/16\n",
    "t_array = np.linspace(delta_t,1,int(1/delta_t - 1), endpoint = False)\n",
    "t_array_fine = np.linspace(0, 1, 101, endpoint = True)\n",
    "\n",
    "B_array = lerp(P_0, P_1, t_array)\n",
    "B_array_fine = lerp(P_0, P_1, t_array_fine)"
   ]
  },
  {
   "cell_type": "code",
   "execution_count": 5,
   "id": "6db64581-bc26-42f4-aabe-042231f3b9a1",
   "metadata": {},
   "outputs": [
    {
     "data": {
      "image/png": "[encoded data removed]",
      "text/plain": [
       "<Figure size 600x600 with 1 Axes>"
      ]
     },
     "metadata": {},
     "output_type": "display_data"
    }
   ],
   "source": [
    "fig = plt.figure(figsize=(6, 6))\n",
    "ax = fig.add_subplot(111)\n",
    "\n",
    "num = len(t_array)\n",
    "colors = plt.cm.rainbow(np.linspace(0,1,num, endpoint = True))\n",
    "\n",
    "t = mpl.markers.MarkerStyle(marker='x')\n",
    "t._transform = t.get_transform().rotate_deg(30)\n",
    "\n",
    "plt.plot([P_0[0],P_1[0]],\n",
    "         [P_0[1],P_1[1]],\n",
    "         color = 'k', \n",
    "         marker = t, ms = 20, lw = 0.5)\n",
    "\n",
    "for i in range(num):\n",
    "    \n",
    "    plt.plot(B_array[i,0],B_array[i,1], \n",
    "             marker = t, c = colors[i], \n",
    "             ms = 10, zorder = 1e5)\n",
    "\n",
    "\n",
    "plt.plot(B_array_fine[:,0],B_array_fine[:,1],c = 'k', lw = 2)\n",
    "# plt.plot(([i for (i,j) in P_0_1], [i for (i,j) in P_1_2]),\n",
    "#          ([j for (i,j) in P_0_1], [j for (i,j) in P_1_2]),\n",
    "#          c=[0.6,0.6,0.6], alpha = 0.5)\n",
    "\n",
    "ax.set_aspect('equal', adjustable='box')\n",
    "ax.set_xlim(-5, 5), ax.set_ylim(-5, 5)\n",
    "ax.set_xticks(np.arange(-5,6))\n",
    "ax.set_yticks(np.arange(-5,6))\n",
    "ax.grid(c = '0.8', lw = 0.25)\n",
    "\n",
    "fig.savefig('Figures/一阶贝塞尔曲线原理.svg', format='svg')\n",
    "\n",
    "plt.show()"
   ]
  },
  {
   "cell_type": "code",
   "execution_count": null,
   "id": "1545d119-51ad-48ac-8438-0ab930cc86e3",
   "metadata": {},
   "outputs": [],
   "source": []
  }
 ],
 "metadata": {
  "kernelspec": {
   "display_name": "Python 3 (ipykernel)",
   "language": "python",
   "name": "python3"
  },
  "language_info": {
   "codemirror_mode": {
    "name": "ipython",
    "version": 3
   },
   "file_extension": ".py",
   "mimetype": "text/x-python",
   "name": "python",
   "nbconvert_exporter": "python",
   "pygments_lexer": "ipython3",
   "version": "3.10.9"
  }
 },
 "nbformat": 4,
 "nbformat_minor": 5
}
