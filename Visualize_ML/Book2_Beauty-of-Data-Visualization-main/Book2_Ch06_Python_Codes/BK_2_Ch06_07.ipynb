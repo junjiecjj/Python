{
 "cells": [
  {
   "cell_type": "markdown",
   "id": "8ce8d189-95f6-42a1-b27c-f932895a357d",
   "metadata": {},
   "source": [
    "Chapter 6\n",
    "# 使用自定义色谱绘制热图\n",
    "Book_2《可视之美》 | 鸢尾花书：从加减乘除到机器学习  "
   ]
  },
  {
   "cell_type": "code",
   "execution_count": 7,
   "id": "7d276ff4-7744-4eb9-8fc8-6355661a27d2",
   "metadata": {},
   "outputs": [],
   "source": [
    "# 导入包\n",
    "\n",
    "import numpy as np\n",
    "import matplotlib.pyplot as plt\n",
    "import seaborn as sns\n",
    "import os\n",
    "\n",
    "# 如果文件夹不存在，创建文件夹\n",
    "if not os.path.isdir(\"Figures\"):\n",
    "    os.makedirs(\"Figures\")\n"
   ]
  },
  {
   "cell_type": "code",
   "execution_count": 2,
   "id": "82f51b4f-b346-416d-a9ca-6dc9a5cc22e8",
   "metadata": {},
   "outputs": [],
   "source": [
    "# 生成满足标准正态分布随机数\n",
    "\n",
    "data = np.random.randn(20, 20)"
   ]
  },
  {
   "cell_type": "markdown",
   "id": "26bf609b-a898-4188-ad09-0c16705cfcd2",
   "metadata": {},
   "source": [
    "### 1. 连续色谱，均匀"
   ]
  },
  {
   "cell_type": "code",
   "execution_count": 8,
   "id": "37cbdd88-b2c5-47b0-afc1-e0dd14e3ff26",
   "metadata": {},
   "outputs": [
    {
     "data": {
      "image/png": "[encoded data removed]",
      "text/html": [
       "<div style=\"vertical-align: middle;\"><strong></strong> </div><div class=\"cmap\"><img alt=\" colormap\" title=\"\" style=\"border: 1px solid #555;\" src=\"data:image/png;base64,iVBORw0KGgoAAAANSUhEUgAAAgAAAABACAYAAABsv8+/AAAAD3RFWHRUaXRsZQAgY29sb3JtYXCKlOmYAAAAFXRFWHREZXNjcmlwdGlvbgAgY29sb3JtYXAQltASAAAAMHRFWHRBdXRob3IATWF0cGxvdGxpYiB2My41LjIsIGh0dHBzOi8vbWF0cGxvdGxpYi5vcmfCWnicAAAAMnRFWHRTb2Z0d2FyZQBNYXRwbG90bGliIHYzLjUuMiwgaHR0cHM6Ly9tYXRwbG90bGliLm9yZ+z857sAAAG4SURBVHic7dbRToMwAEDRlvn3frOZDxsmzm3g4qLmnvPSQEsLL+TOMV6PY4yxHOY4jcu4ev1yf/6wMb/5/Hr9cuP5nfOHrec33uew832f/T27n/+p7xkny1zH+el6rvfH9fmPcVy/P9f1G+ds73N/ftk4Z+48Z/c+D37P3HnO8uWcW/s89j3nYYzj8WK8df/Rdc/a97fPv1g//vr7Xqx7O1+/zRvj1vx31/23fX/7/Ofuu/4PAIAQAQAAQQIAAIIEAAAECQAACBIAABAkAAAgSAAAQJAAAIAgAQAAQQIAAIIEAAAECQAACBIAABAkAAAgSAAAQJAAAIAgAQAAQQIAAIIEAAAECQAACBIAABAkAAAgSAAAQJAAAIAgAQAAQQIAAIIEAAAECQAACBIAABAkAAAgSAAAQJAAAIAgAQAAQQIAAIIEAAAECQAACBIAABAkAAAgSAAAQJAAAIAgAQAAQQIAAIIEAAAECQAACBIAABAkAAAgSAAAQJAAAIAgAQAAQQIAAIIEAAAECQAACBIAABAkAAAgSAAAQJAAAIAgAQAAQQIAAIIEAAAECQAACBIAABAkAAAg6B34BrR9nsPp/QAAAABJRU5ErkJggg==\"></div><div style=\"vertical-align: middle; max-width: 514px; display: flex; justify-content: space-between;\"><div style=\"float: left;\"><div title=\"#00008bff\" style=\"display: inline-block; width: 1em; height: 1em; margin: 0; vertical-align: middle; border: 1px solid #555; background-color: #00008bff;\"></div> under</div><div style=\"margin: 0 auto; display: inline-block;\">bad <div title=\"#00000000\" style=\"display: inline-block; width: 1em; height: 1em; margin: 0; vertical-align: middle; border: 1px solid #555; background-color: #00000000;\"></div></div><div style=\"float: right;\">over <div title=\"#ff00ffff\" style=\"display: inline-block; width: 1em; height: 1em; margin: 0; vertical-align: middle; border: 1px solid #555; background-color: #ff00ffff;\"></div></div>"
      ],
      "text/plain": [
       "<matplotlib.colors.LinearSegmentedColormap at 0x1dfb7c3e7c0>"
      ]
     },
     "execution_count": 8,
     "metadata": {},
     "output_type": "execute_result"
    }
   ],
   "source": [
    "from matplotlib.colors import LinearSegmentedColormap\n",
    "# matplotlib.colors.LinearSegmentedColormap() 可以用来产生连续色谱\n",
    "# 函数输入为list；list 内可以是RGB/RGBA色号，也可以是色彩名称\n",
    "# RGBA中的A是alpha (透明度)\n",
    "# 参考\n",
    "# https://matplotlib.org/stable/api/_as_gen/matplotlib.colors.LinearSegmentedColormap.html\n",
    "\n",
    "continuous_cmap_even = LinearSegmentedColormap.from_list('', ['darkblue','skyblue','white','pink','magenta'])\n",
    "# 采用默认均匀分布节点，线性插值点\n",
    "continuous_cmap_even"
   ]
  },
  {
   "cell_type": "code",
   "execution_count": 9,
   "id": "96402de6-7493-4a32-a93b-06ce5b86f082",
   "metadata": {},
   "outputs": [
    {
     "data": {
      "image/png": "[encoded data removed]",
      "text/plain": [
       "<Figure size 640x480 with 2 Axes>"
      ]
     },
     "metadata": {},
     "output_type": "display_data"
    }
   ],
   "source": [
    "fig, ax = plt.subplots()\n",
    "# 利用 seaborn.heatmap() 热图可视化随机数\n",
    "HM = sns.heatmap(data, ax = ax,\n",
    "                 vmin = -3,            # 色谱对应的最小值\n",
    "                 vmax = 3,             # 色谱对应的最大值\n",
    "                 cmap=continuous_cmap_even, # 使用自定义离散色谱\n",
    "                 xticklabels=False,    # 删除横轴刻度标签\n",
    "                 yticklabels=False,    # 删除纵轴刻度标签\n",
    "                 linecolor = 'grey',   # 热图网格颜色\n",
    "                 linewidths = 0.1)     # 热图网格线宽\n",
    "\n",
    "# 在数轴上，vmin (-3) 和 vmax (3) 关于原点对称\n",
    "# 这样可以保证，纯白色用来可视化 0\n",
    "\n",
    "HM.tick_params(left=False, bottom=False)\n",
    "# 删除横、纵轴刻度\n",
    "\n",
    "fig.savefig('Figures/热图_连续色谱.svg', format='svg')"
   ]
  },
  {
   "cell_type": "markdown",
   "id": "cdf0bf26-07c9-47ce-aaad-49f5ff4f67ff",
   "metadata": {},
   "source": [
    "### 2. 连续色谱，不均匀"
   ]
  },
  {
   "cell_type": "code",
   "execution_count": 6,
   "id": "76302e9d-f41d-4d4e-99f2-cfa0bbb3b90d",
   "metadata": {},
   "outputs": [
    {
     "data": {
      "image/png": "[encoded data removed]",
      "text/html": [
       "<div style=\"vertical-align: middle;\"><strong></strong> </div><div class=\"cmap\"><img alt=\" colormap\" title=\"\" style=\"border: 1px solid #555;\" src=\"data:image/png;base64,iVBORw0KGgoAAAANSUhEUgAAAgAAAABACAYAAABsv8+/AAAAD3RFWHRUaXRsZQAgY29sb3JtYXCKlOmYAAAAFXRFWHREZXNjcmlwdGlvbgAgY29sb3JtYXAQltASAAAAMHRFWHRBdXRob3IATWF0cGxvdGxpYiB2My41LjIsIGh0dHBzOi8vbWF0cGxvdGxpYi5vcmfCWnicAAAAMnRFWHRTb2Z0d2FyZQBNYXRwbG90bGliIHYzLjUuMiwgaHR0cHM6Ly9tYXRwbG90bGliLm9yZ+z857sAAAHgSURBVHic7dbbattAFEDRkd2U9tv7wy0U1AerDr7hMQqlYa/1ooxzNJJlnOxljB/rGGO8fTuO0/HLxfHreX188Prk778fH5x3fb1993F8O4wxxljGybL9cLhaL9vE+3qbu1ov28D1fuf5ybn3+7h/3dv7mNvv9fnl/vucnXvyfB7P73ves5/f7b4f+7xnP7/X55fL9/lk7tXnffv8Lo9n67odzy9crtf1/vzs+bP77T3/X11n931O7vdZnvvT8/+T+5zd73r+9/aN+bl9o34d9q0/ap+X16f/o3//LgAAIQIAAIIEAAAECQAACBIAABAkAAAgSAAAQJAAAIAgAQAAQQIAAIIEAAAECQAACBIAABAkAAAgSAAAQJAAAIAgAQAAQQIAAIIEAAAECQAACBIAABAkAAAgSAAAQJAAAIAgAQAAQQIAAIIEAAAECQAACBIAABAkAAAgSAAAQJAAAIAgAQAAQQIAAIIEAAAECQAACBIAABAkAAAgSAAAQJAAAIAgAQAAQQIAAIIEAAAECQAACBIAABAkAAAgSAAAQJAAAIAgAQAAQQIAAIIEAAAECQAACBIAABAkAAAgSAAAQJAAAIAgAQAAQQIAAIIEAAAECQAACBIAABAkAAAgSAAAQNAfuCuOfS/SoTQAAAAASUVORK5CYII=\"></div><div style=\"vertical-align: middle; max-width: 514px; display: flex; justify-content: space-between;\"><div style=\"float: left;\"><div title=\"#00008bff\" style=\"display: inline-block; width: 1em; height: 1em; margin: 0; vertical-align: middle; border: 1px solid #555; background-color: #00008bff;\"></div> under</div><div style=\"margin: 0 auto; display: inline-block;\">bad <div title=\"#00000000\" style=\"display: inline-block; width: 1em; height: 1em; margin: 0; vertical-align: middle; border: 1px solid #555; background-color: #00000000;\"></div></div><div style=\"float: right;\">over <div title=\"#ff00ffff\" style=\"display: inline-block; width: 1em; height: 1em; margin: 0; vertical-align: middle; border: 1px solid #555; background-color: #ff00ffff;\"></div></div>"
      ],
      "text/plain": [
       "<matplotlib.colors.LinearSegmentedColormap at 0x1dfb4874e80>"
      ]
     },
     "execution_count": 6,
     "metadata": {},
     "output_type": "execute_result"
    }
   ],
   "source": [
    "list_nodes  = [0.0, 0.1, 0.5, 0.9, 1.0] \n",
    "list_colors = ['darkblue','skyblue','white','pink','magenta']\n",
    "# 定义颜色节点位置，数值在 [0, 1] 之间\n",
    "# 每个值对应一个颜色\n",
    "# 'darkblue' 位于 0.0\n",
    "# 'skyblue'  位于 0.1\n",
    "# 'white'    位于 0.5\n",
    "# 'skyblue' 到 'white' 的线性过度占据色谱的 40% （0.5 - 0.1）\n",
    "# 'pink'     位于 0.9\n",
    "# 'white'  到 'pink'   的线性过度占据色谱的 40% （0.9 - 0.5）\n",
    "# 'magenta'  位于 1.0\n",
    "\n",
    "\n",
    "continuous_cmap_uneven = LinearSegmentedColormap.from_list(\"\", list(zip(list_nodes, list_colors)))\n",
    "continuous_cmap_uneven"
   ]
  },
  {
   "cell_type": "code",
   "execution_count": 5,
   "id": "6b8c12ba-ec34-4f5e-834f-fb178de30cad",
   "metadata": {},
   "outputs": [
    {
     "data": {
      "image/png": "[encoded data removed]",
      "text/plain": [
       "<Figure size 640x480 with 2 Axes>"
      ]
     },
     "metadata": {},
     "output_type": "display_data"
    }
   ],
   "source": [
    "# 采用默认线性插值点\n",
    "# 较深颜色位于色谱的两端尾部 (0.0 ~ 0.1, 0.9 ~ 1.0)\n",
    "# 使用这个色谱，更容易发现离群值\n",
    "\n",
    "fig, ax = plt.subplots()\n",
    "# 利用 seaborn.heatmap() 热图可视化随机数\n",
    "HM = sns.heatmap(data, ax = ax,\n",
    "                 vmin = -3,            # 色谱对应的最小值\n",
    "                 vmax = 3,             # 色谱对应的最大值\n",
    "                 cmap=continuous_cmap_uneven, # 使用自定义离散色谱\n",
    "                 xticklabels=False,    # 删除横轴刻度标签\n",
    "                 yticklabels=False,    # 删除纵轴刻度标签\n",
    "                 linecolor = 'grey',   # 热图网格颜色\n",
    "                 linewidths = 0.1)     # 热图网格线宽\n",
    "\n",
    "HM.tick_params(left=False, bottom=False)\n",
    "# 删除横、纵轴刻度\n",
    "\n",
    "fig.savefig('Figures/热图_连续色谱_不均匀.svg', format='svg')"
   ]
  },
  {
   "cell_type": "markdown",
   "id": "be7d7d10-af64-4cf6-ab1a-e6ac74db945b",
   "metadata": {},
   "source": [
    "### 3. 离散色谱"
   ]
  },
  {
   "cell_type": "code",
   "execution_count": 10,
   "id": "d7e434c6-0cc4-4f20-a03e-aa39c14dd7d8",
   "metadata": {},
   "outputs": [
    {
     "data": {
      "image/png": "[encoded data removed]",
      "text/html": [
       "<div style=\"vertical-align: middle;\"><strong>from_list</strong> </div><div class=\"cmap\"><img alt=\"from_list colormap\" title=\"from_list\" style=\"border: 1px solid #555;\" src=\"data:image/png;base64,iVBORw0KGgoAAAANSUhEUgAAAgAAAABACAYAAABsv8+/AAAAGHRFWHRUaXRsZQBmcm9tX2xpc3QgY29sb3JtYXBDL89FAAAAHnRFWHREZXNjcmlwdGlvbgBmcm9tX2xpc3QgY29sb3JtYXABtCnOAAAAMHRFWHRBdXRob3IATWF0cGxvdGxpYiB2My41LjIsIGh0dHBzOi8vbWF0cGxvdGxpYi5vcmfCWnicAAAAMnRFWHRTb2Z0d2FyZQBNYXRwbG90bGliIHYzLjUuMiwgaHR0cHM6Ly9tYXRwbG90bGliLm9yZ+z857sAAAFNSURBVHic7dYxDQJBAADBAw0YIUEAUpCBgy9QRU+wBBK+IVxyO6Ngyz2M8fgMfm5732YnLOd+Ps1OgH3P1+yC9VwvswuWdJwdAAD8nwEAgCADAABBBgAAggwAAAQZAAAIMgAAEGQAACDIAABAkAEAgCADAABBBgAAggwAAAQZAAAIMgAAEGQAACDIAABAkAEAgCADAABBBgAAggwAAAQZAAAIMgAAEGQAACDIAABAkAEAgCADAABBBgAAggwAAAQZAAAIMgAAEGQAACDIAABAkAEAgCADAABBBgAAggwAAAQZAAAIMgAAEGQAACDIAABAkAEAgCADAABBBgAAggwAAAQZAAAIMgAAEGQAACDIAABAkAEAgCADAABBBgAAggwAAAQZAAAIMgAAEGQAACDIAABAkAEAgCADAABBBgAAggwAAAQZAAAIMgAAEPQFr2IGfVhqfn0AAAAASUVORK5CYII=\"></div><div style=\"vertical-align: middle; max-width: 514px; display: flex; justify-content: space-between;\"><div style=\"float: left;\"><div title=\"#00008bff\" style=\"display: inline-block; width: 1em; height: 1em; margin: 0; vertical-align: middle; border: 1px solid #555; background-color: #00008bff;\"></div> under</div><div style=\"margin: 0 auto; display: inline-block;\">bad <div title=\"#00000000\" style=\"display: inline-block; width: 1em; height: 1em; margin: 0; vertical-align: middle; border: 1px solid #555; background-color: #00000000;\"></div></div><div style=\"float: right;\">over <div title=\"#ff00ffff\" style=\"display: inline-block; width: 1em; height: 1em; margin: 0; vertical-align: middle; border: 1px solid #555; background-color: #ff00ffff;\"></div></div>"
      ],
      "text/plain": [
       "<matplotlib.colors.ListedColormap at 0x1dfb7d17040>"
      ]
     },
     "execution_count": 10,
     "metadata": {},
     "output_type": "execute_result"
    }
   ],
   "source": [
    "from matplotlib.colors import ListedColormap\n",
    "# matplotlib.colors.ListedColormap() 可以用来产生离散色谱\n",
    "# 函数输入为list；list 内可以是RGB/RGBA色号，也可以是色彩名称\n",
    "# RGBA中的A是alpha (透明度)\n",
    "# 参考\n",
    "# https://matplotlib.org/stable/api/_as_gen/matplotlib.colors.ListedColormap.html\n",
    "\n",
    "import seaborn as sns\n",
    "discrete_cmap = ListedColormap(['darkblue','skyblue','white','white', 'pink','magenta'])\n",
    "# 两个白色\n",
    "discrete_cmap"
   ]
  },
  {
   "cell_type": "code",
   "execution_count": 11,
   "id": "fc9acfa7-9d1b-4f82-8ee8-49267e6a0033",
   "metadata": {},
   "outputs": [
    {
     "data": {
      "image/png": "[encoded data removed]",
      "text/plain": [
       "<Figure size 640x480 with 2 Axes>"
      ]
     },
     "metadata": {},
     "output_type": "display_data"
    }
   ],
   "source": [
    "fig, ax = plt.subplots()\n",
    "# 利用 seaborn.heatmap() 热图可视化随机数\n",
    "HM = sns.heatmap(data, ax = ax,\n",
    "                 vmin = -3,          # 色谱对应的最小值\n",
    "                 vmax = 3,           # 色谱对应的最大值                 \n",
    "                 cmap=discrete_cmap, # 使用自定义离散色谱\n",
    "                 xticklabels=False,  # 删除横轴刻度标签\n",
    "                 yticklabels=False,  # 删除纵轴刻度标签\n",
    "                 linecolor = 'grey', # 热图网格颜色\n",
    "                 linewidths = 0.1)   # 热图网格线宽\n",
    "\n",
    "HM.tick_params(left=False, bottom=False)\n",
    "# 删除横、纵轴刻度\n",
    "\n",
    "fig.savefig('Figures/热图_离散色谱.svg', format='svg')\n",
    "# [2, 3] 用品红\n",
    "# [1, 2] 用粉色\n",
    "# [-1, 1] 用白色\n",
    "# [-2, -1] 用天蓝\n",
    "# [-3, -2] 用深蓝"
   ]
  },
  {
   "cell_type": "code",
   "execution_count": null,
   "id": "01c739d9-c674-4ee0-9a20-3c90b479b1b5",
   "metadata": {},
   "outputs": [],
   "source": []
  },
  {
   "cell_type": "code",
   "execution_count": null,
   "id": "5d1d21a2-863e-46cf-bc6c-52aabf76184d",
   "metadata": {},
   "outputs": [],
   "source": [
    "# Repo: https://github.com/Visualize-ML\n",
    "# Book 2 Beauty of Visualization  |  From Basic Arithmetic to Machine Learning\n",
    "# Published and copyrighted by Tsinghua University Press\n",
    "# Beijing, China, 2023"
   ]
  }
 ],
 "metadata": {
  "kernelspec": {
   "display_name": "Python 3 (ipykernel)",
   "language": "python",
   "name": "python3"
  },
  "language_info": {
   "codemirror_mode": {
    "name": "ipython",
    "version": 3
   },
   "file_extension": ".py",
   "mimetype": "text/x-python",
   "name": "python",
   "nbconvert_exporter": "python",
   "pygments_lexer": "ipython3",
   "version": "3.10.9"
  }
 },
 "nbformat": 4,
 "nbformat_minor": 5
}
