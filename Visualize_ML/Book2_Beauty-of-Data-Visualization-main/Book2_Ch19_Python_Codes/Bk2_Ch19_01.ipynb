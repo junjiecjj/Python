{
 "cells": [
  {
   "cell_type": "markdown",
   "id": "557af245-1137-4ff8-a8be-79b8b5aa1dc2",
   "metadata": {},
   "source": [
    "Chapter 19  \n",
    "# 斐波那契数列\n",
    "Book_2《可视之美》 | 鸢尾花书：从加减乘除到机器学习  "
   ]
  },
  {
   "cell_type": "code",
   "execution_count": 1,
   "id": "de6f3447-3d17-4177-bf2e-663209fd06e6",
   "metadata": {},
   "outputs": [],
   "source": [
    "# 导入包\n",
    "import numpy as np\n",
    "import matplotlib.pyplot as plt\n",
    "from matplotlib.transforms import Affine2D"
   ]
  },
  {
   "cell_type": "code",
   "execution_count": 2,
   "id": "1fae0046-d2e4-4eba-a6ad-50b71486c7f5",
   "metadata": {},
   "outputs": [],
   "source": [
    "# 使用递归函数生成 Fibonacci 数列\n",
    "def fibonacci(n):\n",
    "    # 如果 n 小于或等于 1，它将直接返回 n\n",
    "    if n <= 1:\n",
    "        return n\n",
    "    # 否则，它将调用两次自己\n",
    "    # 并将 n-1 和 n-2 作为参数传递给它们\n",
    "    else:\n",
    "        return fibonacci(n-1) + fibonacci(n-2)"
   ]
  },
  {
   "cell_type": "markdown",
   "id": "2b9f7be4-3e7d-4bf0-a97e-1633d2e6945d",
   "metadata": {},
   "source": [
    "## 生成数列"
   ]
  },
  {
   "cell_type": "code",
   "execution_count": 3,
   "id": "b4d34837-4756-4133-b83d-ca161190cd53",
   "metadata": {},
   "outputs": [],
   "source": [
    "num = 9\n",
    "idx_array = np.arange(num)\n",
    "# 从0开始的斐波那契数列\n",
    "fibonacci_array = np.array([fibonacci(i) for i in range(num)])"
   ]
  },
  {
   "cell_type": "code",
   "execution_count": 4,
   "id": "e1c272bb-6bab-41b7-9d83-ee9ef1abf528",
   "metadata": {},
   "outputs": [],
   "source": [
    "# 从1开始的斐波那契数列\n",
    "fibonacci_array_from_1 = np.array([fibonacci(i) for i in np.arange(1, num + 1)])"
   ]
  },
  {
   "cell_type": "markdown",
   "id": "ef929acd-37c9-4546-8524-1ae5fa8fdeb7",
   "metadata": {},
   "source": [
    "## 准备数据"
   ]
  },
  {
   "cell_type": "code",
   "execution_count": 5,
   "id": "54d1703d-4bc3-402a-b933-1139bda7c953",
   "metadata": {},
   "outputs": [],
   "source": [
    "# 正方形 x 坐标\n",
    "x_array = 0 + fibonacci_array_from_1 * (-1) ** (np.floor(idx_array/2) + 2)\n",
    "x_array = np.insert(x_array, 0, 0)\n",
    "x_array = np.cumsum(x_array)"
   ]
  },
  {
   "cell_type": "code",
   "execution_count": 6,
   "id": "996cfa02-129a-4908-8e29-59c51ba87593",
   "metadata": {},
   "outputs": [],
   "source": [
    "# 正方形 y 坐标\n",
    "y_array = 0 + fibonacci_array_from_1 * (-1) ** (np.floor((1 + idx_array)/2) + 1)\n",
    "y_array = np.insert(y_array, 0, 0)\n",
    "y_array = np.cumsum(y_array)"
   ]
  },
  {
   "cell_type": "code",
   "execution_count": 7,
   "id": "f65f8180-5287-4c7c-9fb9-a52132743137",
   "metadata": {},
   "outputs": [],
   "source": [
    "# 正方形旋转角度，逆时针为正\n",
    "rotation = (idx_array - 1) * 90"
   ]
  },
  {
   "cell_type": "code",
   "execution_count": 10,
   "id": "88dc2e7b-6e68-480d-a1f0-01da516a96b9",
   "metadata": {},
   "outputs": [
    {
     "data": {
      "image/png": "[encoded data removed]",
      "text/plain": [
       "<Figure size 800x800 with 1 Axes>"
      ]
     },
     "metadata": {},
     "output_type": "display_data"
    }
   ],
   "source": [
    "fig, ax = plt.subplots(figsize = (8,8))\n",
    "\n",
    "colors = plt.cm.Blues_r(np.linspace(0,1,num + 1))\n",
    "\n",
    "for i in idx_array:\n",
    "    rotate_i = rotation[i]\n",
    "    side_idx = fibonacci_array_from_1[i]\n",
    "    rec_loc_idx = np.array([x_array[i], y_array[i]]) \n",
    "\n",
    "    rec = plt.Rectangle(rec_loc_idx, \n",
    "                        width =side_idx, \n",
    "                        height=side_idx, \n",
    "                        facecolor=colors[i + 1], \n",
    "                        edgecolor = 'k',\n",
    "                        transform=Affine2D().rotate_deg_around(\n",
    "                           x_array[i], y_array[i], rotate_i) \n",
    "                        + ax.transData)\n",
    "    ax.add_patch(rec)\n",
    "\n",
    "ax.set_aspect('equal')\n",
    "ax.plot(0, 0,  color='r', marker='x', markersize=10)\n",
    "ax.axis('off')   \n",
    "plt.show()"
   ]
  },
  {
   "cell_type": "code",
   "execution_count": null,
   "id": "2a51c66a-6cce-4ce1-bca8-c2fed62571b2",
   "metadata": {},
   "outputs": [],
   "source": []
  }
 ],
 "metadata": {
  "kernelspec": {
   "display_name": "Python 3 (ipykernel)",
   "language": "python",
   "name": "python3"
  },
  "language_info": {
   "codemirror_mode": {
    "name": "ipython",
    "version": 3
   },
   "file_extension": ".py",
   "mimetype": "text/x-python",
   "name": "python",
   "nbconvert_exporter": "python",
   "pygments_lexer": "ipython3",
   "version": "3.10.9"
  }
 },
 "nbformat": 4,
 "nbformat_minor": 5
}
