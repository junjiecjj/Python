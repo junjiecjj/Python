{
 "cells": [
  {
   "cell_type": "markdown",
   "id": "842014f3-b4d7-4add-80c1-c919b2cbaba6",
   "metadata": {},
   "source": [
    "Chapter 19  \n",
    "# 数列求和极限，第二个例子\n",
    "Book_2《可视之美》 | 鸢尾花书：从加减乘除到机器学习  "
   ]
  },
  {
   "cell_type": "code",
   "execution_count": 1,
   "id": "15ce9c8f-5e13-4138-8047-e0b75642fdae",
   "metadata": {},
   "outputs": [],
   "source": [
    "import matplotlib\n",
    "import matplotlib.pyplot as plt\n",
    "import numpy as np\n",
    "import os\n",
    "\n",
    "# 如果文件夹不存在，创建文件夹\n",
    "if not os.path.isdir(\"Figures\"):\n",
    "    os.makedirs(\"Figures\")"
   ]
  },
  {
   "cell_type": "code",
   "execution_count": 2,
   "id": "acb92f7d-aec9-4b00-8285-02f8fb6a958e",
   "metadata": {},
   "outputs": [],
   "source": [
    "p = plt.rcParams\n",
    "p[\"font.sans-serif\"] = [\"Roboto\"]\n",
    "p[\"font.weight\"] = \"light\"\n",
    "p[\"ytick.minor.visible\"] = True\n",
    "p[\"xtick.minor.visible\"] = True\n",
    "p[\"axes.grid\"] = True\n",
    "p[\"grid.color\"] = \"0.5\"\n",
    "p[\"grid.linewidth\"] = 0.5"
   ]
  },
  {
   "cell_type": "code",
   "execution_count": 6,
   "id": "0a632f56-c8f0-4677-95fe-9dcc3cec40fa",
   "metadata": {},
   "outputs": [
    {
     "data": {
      "image/png": "[encoded data removed]",
      "text/plain": [
       "<Figure size 640x480 with 1 Axes>"
      ]
     },
     "metadata": {},
     "output_type": "display_data"
    }
   ],
   "source": [
    "fig = plt.figure()\n",
    "ax = fig.add_subplot(111)\n",
    "num = 15\n",
    "\n",
    "colors = plt.cm.Blues(np.linspace(0,1,num + 1))\n",
    "\n",
    "x_idx_0 = 0\n",
    "y_idx_0 = 0\n",
    "\n",
    "for idx in np.arange(num):\n",
    "    \n",
    "    x_idx = 1 - (1/2)**np.floor((idx + 1)/2)\n",
    "    y_idx = 1 - (1/2)**np.floor(idx/2)\n",
    "    width_idx = (1/2)**(np.ceil((idx + 1)/2))\n",
    "    height_idx = (1/2)**np.floor((idx + 1)/2)\n",
    "    \n",
    "    ax.plot((x_idx_0, x_idx), (y_idx_0, y_idx), 'r')\n",
    "    \n",
    "    x_idx_0 = x_idx\n",
    "    y_idx_0 = y_idx\n",
    "    \n",
    "    rect_idx = matplotlib.patches.Rectangle((x_idx,y_idx), \n",
    "                                            width_idx, height_idx, \n",
    "                                            facecolor=colors[idx + 1], \n",
    "                                            edgecolor = 'k')\n",
    "    ax.add_patch(rect_idx)\n",
    "\n",
    "ax.set_xlim([0, 1])\n",
    "ax.set_ylim([0, 1])\n",
    "ax.set_xticks(np.arange(0, 1.25, 0.25))\n",
    "ax.set_yticks(np.arange(0, 1.25, 0.25))\n",
    "\n",
    "ax.set_aspect('equal', adjustable='box')\n",
    "fig.savefig('Figures/日取其半，万世不竭.svg', format='svg')\n",
    "plt.show()"
   ]
  },
  {
   "cell_type": "code",
   "execution_count": null,
   "id": "fb76e474-0f69-47bb-be96-a88c4e29e49e",
   "metadata": {},
   "outputs": [],
   "source": []
  },
  {
   "cell_type": "code",
   "execution_count": null,
   "id": "efac213f-dc5e-47e3-b147-71fd93e8ff5f",
   "metadata": {},
   "outputs": [],
   "source": []
  }
 ],
 "metadata": {
  "kernelspec": {
   "display_name": "Python 3 (ipykernel)",
   "language": "python",
   "name": "python3"
  },
  "language_info": {
   "codemirror_mode": {
    "name": "ipython",
    "version": 3
   },
   "file_extension": ".py",
   "mimetype": "text/x-python",
   "name": "python",
   "nbconvert_exporter": "python",
   "pygments_lexer": "ipython3",
   "version": "3.10.9"
  }
 },
 "nbformat": 4,
 "nbformat_minor": 5
}
