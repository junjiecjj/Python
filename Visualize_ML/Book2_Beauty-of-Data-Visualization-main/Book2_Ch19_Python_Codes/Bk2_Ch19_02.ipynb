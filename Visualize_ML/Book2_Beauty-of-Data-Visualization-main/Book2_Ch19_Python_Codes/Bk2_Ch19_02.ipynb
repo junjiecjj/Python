{
 "cells": [
  {
   "cell_type": "markdown",
   "id": "9872a214-cf7a-4b2f-a837-e918bcad56e1",
   "metadata": {},
   "source": [
    "Chapter 19  \n",
    "# 斐波那契数列曲线\n",
    "Book_2《可视之美》 | 鸢尾花书：从加减乘除到机器学习  "
   ]
  },
  {
   "cell_type": "code",
   "execution_count": 1,
   "id": "781a9c91-1de1-4a49-bded-78a7e68bc40c",
   "metadata": {},
   "outputs": [],
   "source": [
    "# 导入包\n",
    "import numpy as np\n",
    "import matplotlib.pyplot as plt\n",
    "from matplotlib.transforms import Affine2D"
   ]
  },
  {
   "cell_type": "code",
   "execution_count": 2,
   "id": "709219f7-77b9-4dfa-b68a-ac65c4a2976f",
   "metadata": {},
   "outputs": [],
   "source": [
    "# 使用递归函数生成 Fibonacci 数列\n",
    "def fibonacci(n):\n",
    "    # 如果 n 小于或等于 1，它将直接返回 n\n",
    "    if n <= 1:\n",
    "        return n\n",
    "    # 否则，它将调用两次自己\n",
    "    # 并将 n-1 和 n-2 作为参数传递给它们\n",
    "    else:\n",
    "        return fibonacci(n-1) + fibonacci(n-2)"
   ]
  },
  {
   "cell_type": "markdown",
   "id": "d799a4f3-2c22-48c4-a045-0964db836ebf",
   "metadata": {},
   "source": [
    "## 产生数据"
   ]
  },
  {
   "cell_type": "code",
   "execution_count": 3,
   "id": "76086ebd-9735-47ac-aefe-bee29adccda6",
   "metadata": {},
   "outputs": [],
   "source": [
    "num = 11\n",
    "idx_array = np.arange(num)\n",
    "\n",
    "fibonacci_array = np.array([fibonacci(i) for i in range(num)])"
   ]
  },
  {
   "cell_type": "code",
   "execution_count": 4,
   "id": "073b574a-8321-48c7-8a30-b565886894c8",
   "metadata": {},
   "outputs": [],
   "source": [
    "fibonacci_array_from_1 = np.array([fibonacci(i) for i in np.arange(1, num + 1)])"
   ]
  },
  {
   "cell_type": "code",
   "execution_count": 5,
   "id": "54d1703d-4bc3-402a-b933-1139bda7c953",
   "metadata": {},
   "outputs": [],
   "source": [
    "x_array = 0 + fibonacci_array_from_1 * (-1) ** (np.floor(idx_array/2) + 2)\n",
    "x_array = np.insert(x_array, 0, 0)\n",
    "x_array = np.cumsum(x_array)"
   ]
  },
  {
   "cell_type": "code",
   "execution_count": 6,
   "id": "7a3c2a16-c9d8-4f99-8902-587ab15a283a",
   "metadata": {},
   "outputs": [],
   "source": [
    "y_array = 0 + fibonacci_array_from_1 * (-1) ** (np.floor((1 + idx_array)/2) + 1)\n",
    "y_array = np.insert(y_array, 0, 0)\n",
    "y_array = np.cumsum(y_array)"
   ]
  },
  {
   "cell_type": "code",
   "execution_count": 7,
   "id": "f65f8180-5287-4c7c-9fb9-a52132743137",
   "metadata": {},
   "outputs": [],
   "source": [
    "# # 逆时针为正\n",
    "rotation = (idx_array - 1) * 90"
   ]
  },
  {
   "cell_type": "markdown",
   "id": "dbf2fa23-ce41-4d73-90f8-d64c09577ab0",
   "metadata": {},
   "source": [
    "${\\displaystyle f(t)=4\\left\\vert t-\\left\\lfloor t+3/4\\right\\rfloor +1/4\\right\\vert -1}$"
   ]
  },
  {
   "cell_type": "markdown",
   "id": "786fae2f-51b1-41ec-9422-184bed10d355",
   "metadata": {},
   "source": [
    "https://mathworld.wolfram.com/TriangleWave.html"
   ]
  },
  {
   "cell_type": "code",
   "execution_count": 8,
   "id": "593008c4-b96a-468f-b23a-db5e73d168db",
   "metadata": {},
   "outputs": [],
   "source": [
    "# t_array = np.linspace(0, 5, 101)\n",
    "# triangle_wave = 4*np.abs(t_array - np.floor(t_array +3/4) + 1/4) - 1\n",
    "\n",
    "# fig, ax = plt.subplots(figsize = (8,2))\n",
    "# ax.plot(t_array, triangle_wave)\n",
    "\n",
    "# ax.set_xlim(0,5); ax.set_ylim(-1.2, 1.2); \n",
    "# ax.spines['bottom'].set_position(('data',0))\n",
    "# ax.spines['right'].set_color('none')\n",
    "# ax.spines['top'].set_color('none')\n",
    "\n",
    "# fig.savefig('Figures/三角波.svg', format='svg')\n",
    "# plt.show()"
   ]
  },
  {
   "cell_type": "code",
   "execution_count": 9,
   "id": "84aa4f4f-ff46-48a8-b846-be6020679db5",
   "metadata": {},
   "outputs": [],
   "source": [
    "x_arc_center = fibonacci_array * (4*np.abs((idx_array - 1)/4 - np.floor((idx_array - 1)/4 + 2/4)) - 1)\n",
    "# 这一句用到了三角波的变形\n",
    "x_arc_center = np.cumsum(x_arc_center) + 1\n",
    "x_arc_center = np.insert(x_arc_center, 0, 1)"
   ]
  },
  {
   "cell_type": "code",
   "execution_count": 10,
   "id": "de2a5ba6-367a-4efd-a0dd-06b38cf30001",
   "metadata": {},
   "outputs": [],
   "source": [
    "triangle_wave = 4*np.abs((idx_array - 1)/4 - np.floor((idx_array - 1)/4 + 2/4)) - 1\n",
    "triangle_wave = np.insert(triangle_wave, 0, 0)"
   ]
  },
  {
   "cell_type": "code",
   "execution_count": 11,
   "id": "24a149a1-106e-47ab-a5c2-608727484297",
   "metadata": {},
   "outputs": [],
   "source": [
    "y_arc_center = fibonacci_array * triangle_wave[:-1]\n",
    "y_arc_center = np.cumsum(y_arc_center) + 0\n",
    "y_arc_center = np.insert(y_arc_center, 0, 0)"
   ]
  },
  {
   "cell_type": "code",
   "execution_count": 12,
   "id": "308b55aa-398d-45e1-8275-b049f6579daa",
   "metadata": {},
   "outputs": [],
   "source": [
    "# 自定义函数，绘制45度弧形\n",
    "def plot_arc(x_i, y_i, r_i, rotation_i):\n",
    "    rotation_i = rotation_i/180 * np.pi\n",
    "    angle_array = np.linspace(rotation_i, \n",
    "                              rotation_i + np.pi/2, \n",
    "                              101, endpoint = True)\n",
    "    x_arc_array = r_i * np.cos(angle_array) + x_i\n",
    "    y_arc_array = r_i * np.sin(angle_array) + y_i\n",
    "    plt.plot(x_arc_array, y_arc_array, c = 'k')\n",
    "    "
   ]
  },
  {
   "cell_type": "code",
   "execution_count": 13,
   "id": "a512a8d1-11bd-4758-8464-1a2a539a77e0",
   "metadata": {},
   "outputs": [
    {
     "data": {
      "image/png": "[encoded data removed]",
      "text/plain": [
       "<Figure size 800x800 with 1 Axes>"
      ]
     },
     "metadata": {},
     "output_type": "display_data"
    }
   ],
   "source": [
    "fig, ax = plt.subplots(figsize = (8,8))\n",
    "\n",
    "colors = plt.cm.RdYlBu(np.linspace(0,1,num + 1))\n",
    "\n",
    "for i in idx_array:\n",
    "    rotate_i = rotation[i]\n",
    "    side_idx = fibonacci_array_from_1[i]\n",
    "    rec_loc_idx = np.array([x_array[i], y_array[i]]) \n",
    "\n",
    "    rec = plt.Rectangle(rec_loc_idx, \n",
    "                        width =side_idx, \n",
    "                        height=side_idx, \n",
    "                        facecolor=colors[i + 1], \n",
    "                        edgecolor = 'w',\n",
    "                        transform=Affine2D().rotate_deg_around(\n",
    "                           x_array[i], y_array[i], rotate_i) \n",
    "                        + ax.transData)\n",
    "    ax.add_patch(rec)\n",
    "    # 绘制弧形\n",
    "    plot_arc(x_arc_center[i], y_arc_center[i], \n",
    "             fibonacci_array_from_1[i], 180 + i * 90)\n",
    "\n",
    "ax.set_aspect('equal')\n",
    "plt.axis('off')   \n",
    "plt.show()"
   ]
  },
  {
   "cell_type": "code",
   "execution_count": null,
   "id": "2a51c66a-6cce-4ce1-bca8-c2fed62571b2",
   "metadata": {},
   "outputs": [],
   "source": []
  }
 ],
 "metadata": {
  "kernelspec": {
   "display_name": "Python 3 (ipykernel)",
   "language": "python",
   "name": "python3"
  },
  "language_info": {
   "codemirror_mode": {
    "name": "ipython",
    "version": 3
   },
   "file_extension": ".py",
   "mimetype": "text/x-python",
   "name": "python",
   "nbconvert_exporter": "python",
   "pygments_lexer": "ipython3",
   "version": "3.10.9"
  }
 },
 "nbformat": 4,
 "nbformat_minor": 5
}
