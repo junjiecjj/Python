{
 "cells": [
  {
   "cell_type": "markdown",
   "id": "24489ac6-a30e-40f8-a12d-a85c7487be84",
   "metadata": {},
   "source": [
    "Chapter 12\n",
    "# 有向图\n",
    "Book_6《数据有道》 | 鸢尾花书：从加减乘除到机器学习"
   ]
  },
  {
   "cell_type": "code",
   "execution_count": 1,
   "id": "4750bf57-11ed-4690-9cc6-61020ccf31aa",
   "metadata": {},
   "outputs": [],
   "source": [
    "import matplotlib.pyplot as plt\n",
    "import networkx as nx"
   ]
  },
  {
   "cell_type": "code",
   "execution_count": 2,
   "id": "68f2adff-beac-41d4-9c6a-e9bad5e34e0b",
   "metadata": {},
   "outputs": [],
   "source": [
    "directed_G = nx.DiGraph()\n",
    "# 创建有向图的实例"
   ]
  },
  {
   "cell_type": "code",
   "execution_count": 3,
   "id": "c788870e-fdb9-4938-9059-3646913c0035",
   "metadata": {},
   "outputs": [],
   "source": [
    "directed_G.add_nodes_from(['a', 'b', 'c', 'd'])\n",
    "# 添加多个顶点"
   ]
  },
  {
   "cell_type": "code",
   "execution_count": 4,
   "id": "45f81d56-cb6b-4d0d-9f7a-40c0e8a57ccd",
   "metadata": {},
   "outputs": [],
   "source": [
    "directed_G.add_edges_from([('b','a'),\n",
    "                           ('c','b'),\n",
    "                           ('b','d'), \n",
    "                           ('d','c'),\n",
    "                           ('a','c')])\n",
    "# 增加一组有向边"
   ]
  },
  {
   "cell_type": "code",
   "execution_count": 5,
   "id": "315f9420-32ed-478a-b930-1c365098cc3e",
   "metadata": {},
   "outputs": [],
   "source": [
    "random_pos = nx.random_layout(directed_G, seed=188)\n",
    "# 设定随机种子，保证每次绘图结果一致\n",
    "\n",
    "pos = nx.spring_layout(directed_G, pos=random_pos)\n",
    "# 使用弹簧布局算法来排列图中的节点\n",
    "# 使得节点之间的连接看起来更均匀自然"
   ]
  },
  {
   "cell_type": "code",
   "execution_count": 8,
   "id": "71c4dd0b-c543-4568-bb8d-084eb1790243",
   "metadata": {},
   "outputs": [
    {
     "data": {
      "image/png": "[encoded data removed]",
      "text/plain": [
       "<Figure size 600x600 with 1 Axes>"
      ]
     },
     "metadata": {},
     "output_type": "display_data"
    }
   ],
   "source": [
    "plt.figure(figsize = (6,6))\n",
    "nx.draw_networkx(directed_G, pos = pos, \n",
    "                 arrowsize = 28,\n",
    "                 node_size = 180)\n",
    "plt.savefig('G_D_4顶点_5边.svg')"
   ]
  },
  {
   "cell_type": "markdown",
   "id": "9bdbe170-e398-4a95-abc8-3181dd21bbb0",
   "metadata": {},
   "source": [
    "## 属性"
   ]
  },
  {
   "cell_type": "code",
   "execution_count": 10,
   "id": "7957e9dd-05fa-4b79-a425-85b212bebca8",
   "metadata": {},
   "outputs": [
    {
     "data": {
      "text/plain": [
       "4"
      ]
     },
     "execution_count": 10,
     "metadata": {},
     "output_type": "execute_result"
    }
   ],
   "source": [
    "directed_G.order()\n",
    "# 图的阶"
   ]
  },
  {
   "cell_type": "code",
   "execution_count": 12,
   "id": "a934b7f4-fa2c-4fb0-9ddc-0cbe9e749bc5",
   "metadata": {},
   "outputs": [
    {
     "data": {
      "text/plain": [
       "4"
      ]
     },
     "execution_count": 12,
     "metadata": {},
     "output_type": "execute_result"
    }
   ],
   "source": [
    "directed_G.number_of_nodes()\n",
    "# 图的节点数"
   ]
  },
  {
   "cell_type": "code",
   "execution_count": 14,
   "id": "f3943fd7-c9c6-40e6-96c6-7f942cc24997",
   "metadata": {},
   "outputs": [
    {
     "data": {
      "text/plain": [
       "NodeView(('a', 'b', 'c', 'd'))"
      ]
     },
     "execution_count": 14,
     "metadata": {},
     "output_type": "execute_result"
    }
   ],
   "source": [
    "directed_G.nodes\n",
    "# 列出图的节点"
   ]
  },
  {
   "cell_type": "code",
   "execution_count": 15,
   "id": "b55977d7-b45f-4c56-b6bd-a7456087c94c",
   "metadata": {},
   "outputs": [
    {
     "data": {
      "text/plain": [
       "5"
      ]
     },
     "execution_count": 15,
     "metadata": {},
     "output_type": "execute_result"
    }
   ],
   "source": [
    "directed_G.size()\n",
    "# 图的大小"
   ]
  },
  {
   "cell_type": "code",
   "execution_count": 16,
   "id": "847d7ec8-6d74-44d5-8374-f0b58bec9d29",
   "metadata": {},
   "outputs": [
    {
     "data": {
      "text/plain": [
       "OutEdgeView([('a', 'c'), ('b', 'a'), ('b', 'd'), ('c', 'b'), ('d', 'c')])"
      ]
     },
     "execution_count": 16,
     "metadata": {},
     "output_type": "execute_result"
    }
   ],
   "source": [
    "directed_G.edges\n",
    "# 列出图的边"
   ]
  },
  {
   "cell_type": "code",
   "execution_count": 18,
   "id": "d70c2013-0465-4fef-870e-2d14809a8112",
   "metadata": {},
   "outputs": [
    {
     "data": {
      "text/plain": [
       "5"
      ]
     },
     "execution_count": 18,
     "metadata": {},
     "output_type": "execute_result"
    }
   ],
   "source": [
    "directed_G.number_of_edges()\n",
    "# 图的边数"
   ]
  },
  {
   "cell_type": "code",
   "execution_count": 19,
   "id": "90f3f66b-fb8b-45a9-8b77-580be7d4c57a",
   "metadata": {},
   "outputs": [
    {
     "data": {
      "text/plain": [
       "False"
      ]
     },
     "execution_count": 19,
     "metadata": {},
     "output_type": "execute_result"
    }
   ],
   "source": [
    "directed_G.has_edge('a', 'b')\n",
    "# 判断是否存在ab有向边"
   ]
  },
  {
   "cell_type": "code",
   "execution_count": 20,
   "id": "ef9884e1-bcfe-49c2-aedc-eca751cba363",
   "metadata": {},
   "outputs": [
    {
     "data": {
      "text/plain": [
       "True"
      ]
     },
     "execution_count": 20,
     "metadata": {},
     "output_type": "execute_result"
    }
   ],
   "source": [
    "directed_G.has_edge('b', 'a')\n",
    "# 判断是否存在ba有向边"
   ]
  },
  {
   "cell_type": "code",
   "execution_count": 21,
   "id": "45314b55-9a79-4e56-a7aa-aae8a866815d",
   "metadata": {},
   "outputs": [
    {
     "data": {
      "text/plain": [
       "DiDegreeView({'a': 2, 'b': 3, 'c': 3, 'd': 2})"
      ]
     },
     "execution_count": 21,
     "metadata": {},
     "output_type": "execute_result"
    }
   ],
   "source": [
    "directed_G.degree()\n",
    "# 图的度"
   ]
  },
  {
   "cell_type": "code",
   "execution_count": 22,
   "id": "33fdc54f-26c1-4d52-b9aa-ac14b8c77166",
   "metadata": {},
   "outputs": [
    {
     "data": {
      "text/plain": [
       "{'a': 2, 'b': 3, 'c': 3, 'd': 2}"
      ]
     },
     "execution_count": 22,
     "metadata": {},
     "output_type": "execute_result"
    }
   ],
   "source": [
    "dict(directed_G.degree())"
   ]
  },
  {
   "cell_type": "code",
   "execution_count": 23,
   "id": "7a79ec7e-7673-4745-a436-6c5acfd6e244",
   "metadata": {},
   "outputs": [
    {
     "data": {
      "text/plain": [
       "InDegreeView({'a': 1, 'b': 1, 'c': 2, 'd': 1})"
      ]
     },
     "execution_count": 23,
     "metadata": {},
     "output_type": "execute_result"
    }
   ],
   "source": [
    "directed_G.in_degree()\n",
    "# 有向图的入度"
   ]
  },
  {
   "cell_type": "code",
   "execution_count": 24,
   "id": "47893b3f-1e71-49c9-93e4-fa3c81adb0eb",
   "metadata": {},
   "outputs": [
    {
     "data": {
      "text/plain": [
       "OutDegreeView({'a': 1, 'b': 2, 'c': 1, 'd': 1})"
      ]
     },
     "execution_count": 24,
     "metadata": {},
     "output_type": "execute_result"
    }
   ],
   "source": [
    "directed_G.out_degree()\n",
    "# 有向图的出度"
   ]
  },
  {
   "cell_type": "code",
   "execution_count": 26,
   "id": "5a354c09-6b75-49a6-824a-83b6df12e507",
   "metadata": {},
   "outputs": [
    {
     "data": {
      "text/plain": [
       "2"
      ]
     },
     "execution_count": 26,
     "metadata": {},
     "output_type": "execute_result"
    }
   ],
   "source": [
    "directed_G.degree('a')\n",
    "# 节点a的度"
   ]
  },
  {
   "cell_type": "code",
   "execution_count": 27,
   "id": "127f690d-e250-4c85-a6b2-2808d2fb70e6",
   "metadata": {},
   "outputs": [
    {
     "data": {
      "text/plain": [
       "1"
      ]
     },
     "execution_count": 27,
     "metadata": {},
     "output_type": "execute_result"
    }
   ],
   "source": [
    "directed_G.in_degree('a')\n",
    "# 节点a的入度"
   ]
  },
  {
   "cell_type": "code",
   "execution_count": 30,
   "id": "a1c0a4a8-8f47-4c7b-8166-457580c52f38",
   "metadata": {},
   "outputs": [
    {
     "data": {
      "text/plain": [
       "1"
      ]
     },
     "execution_count": 30,
     "metadata": {},
     "output_type": "execute_result"
    }
   ],
   "source": [
    "directed_G.out_degree('a')\n",
    "# 节点a的出度"
   ]
  },
  {
   "cell_type": "code",
   "execution_count": 32,
   "id": "5f6d34c1-b06a-49af-8500-f4bea3e5df5d",
   "metadata": {},
   "outputs": [
    {
     "data": {
      "text/plain": [
       "1"
      ]
     },
     "execution_count": 32,
     "metadata": {},
     "output_type": "execute_result"
    }
   ],
   "source": [
    "directed_G.in_degree('b')\n",
    "# 节点b的入度"
   ]
  },
  {
   "cell_type": "code",
   "execution_count": 33,
   "id": "1d26217b-b308-4bf3-a319-8145fe6e1ed3",
   "metadata": {},
   "outputs": [
    {
     "data": {
      "text/plain": [
       "2"
      ]
     },
     "execution_count": 33,
     "metadata": {},
     "output_type": "execute_result"
    }
   ],
   "source": [
    "directed_G.out_degree('b')\n",
    "# 节点b的"
   ]
  },
  {
   "cell_type": "code",
   "execution_count": null,
   "id": "8e9d167d-3b7d-446c-a827-5f42279fcf73",
   "metadata": {},
   "outputs": [],
   "source": [
    "all_neighbors"
   ]
  },
  {
   "cell_type": "code",
   "execution_count": null,
   "id": "7f55f888-a39f-42fe-a7c1-ae6a0c2bed64",
   "metadata": {},
   "outputs": [],
   "source": []
  },
  {
   "cell_type": "code",
   "execution_count": null,
   "id": "21956e18-a042-46ff-8d9e-386da533bddb",
   "metadata": {},
   "outputs": [],
   "source": []
  },
  {
   "cell_type": "code",
   "execution_count": 44,
   "id": "c3bf55e1-7f85-48cf-8926-0d7a96ecd810",
   "metadata": {},
   "outputs": [
    {
     "data": {
      "text/plain": [
       "['b', 'c']"
      ]
     },
     "execution_count": 44,
     "metadata": {},
     "output_type": "execute_result"
    }
   ],
   "source": [
    "list(nx.all_neighbors(directed_G, 'a'))\n",
    "# 节点a所有邻居"
   ]
  },
  {
   "cell_type": "code",
   "execution_count": 37,
   "id": "aed9dce2-c7a0-4400-a894-961dedf2edef",
   "metadata": {},
   "outputs": [
    {
     "data": {
      "text/plain": [
       "['c']"
      ]
     },
     "execution_count": 37,
     "metadata": {},
     "output_type": "execute_result"
    }
   ],
   "source": [
    "list(directed_G.neighbors('a'))\n",
    "# 节点a的 (出度) 邻居"
   ]
  },
  {
   "cell_type": "code",
   "execution_count": 34,
   "id": "b13ae5b1-a269-4bd2-8aa4-b1ec3c960ca9",
   "metadata": {},
   "outputs": [
    {
     "data": {
      "text/plain": [
       "['c']"
      ]
     },
     "execution_count": 34,
     "metadata": {},
     "output_type": "execute_result"
    }
   ],
   "source": [
    "list(directed_G.successors('a'))\n",
    "# 节点a的出度邻居"
   ]
  },
  {
   "cell_type": "code",
   "execution_count": 35,
   "id": "2a313fcc-fa93-4416-b6c9-9bf85395e7ac",
   "metadata": {},
   "outputs": [
    {
     "data": {
      "text/plain": [
       "['b']"
      ]
     },
     "execution_count": 35,
     "metadata": {},
     "output_type": "execute_result"
    }
   ],
   "source": [
    "list(directed_G.predecessors('a'))\n",
    "# 节点a的入度邻居"
   ]
  },
  {
   "cell_type": "code",
   "execution_count": null,
   "id": "afd04e38-a726-41b2-a969-39b4d768fad0",
   "metadata": {},
   "outputs": [],
   "source": []
  },
  {
   "cell_type": "code",
   "execution_count": null,
   "id": "49686479-3488-4246-8d50-d0615452b935",
   "metadata": {},
   "outputs": [],
   "source": []
  }
 ],
 "metadata": {
  "kernelspec": {
   "display_name": "Python 3 (ipykernel)",
   "language": "python",
   "name": "python3"
  },
  "language_info": {
   "codemirror_mode": {
    "name": "ipython",
    "version": 3
   },
   "file_extension": ".py",
   "mimetype": "text/x-python",
   "name": "python",
   "nbconvert_exporter": "python",
   "pygments_lexer": "ipython3",
   "version": "3.10.9"
  }
 },
 "nbformat": 4,
 "nbformat_minor": 5
}
