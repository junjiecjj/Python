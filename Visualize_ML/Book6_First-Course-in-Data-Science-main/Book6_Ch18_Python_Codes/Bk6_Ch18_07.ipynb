{
 "cells": [
  {
   "cell_type": "markdown",
   "id": "a50b59ef-51d5-4c14-8a8a-55836f3bd1dd",
   "metadata": {},
   "source": [
    "Chapter 18\n",
    "# 邻接矩阵乘法\n",
    "Book_6《数据有道》 | 鸢尾花书：从加减乘除到机器学习"
   ]
  },
  {
   "cell_type": "code",
   "execution_count": 1,
   "id": "24cdaf05-5567-4b87-b232-ae82a9abff83",
   "metadata": {},
   "outputs": [],
   "source": [
    "import matplotlib.pyplot as plt\n",
    "import networkx as nx"
   ]
  },
  {
   "cell_type": "code",
   "execution_count": 12,
   "id": "5f2ecd59-f6c8-4a23-bcdb-dc3c73b727b6",
   "metadata": {},
   "outputs": [],
   "source": [
    "directed_G = nx.DiGraph()\n",
    "# 创建有向图的实例"
   ]
  },
  {
   "cell_type": "code",
   "execution_count": 13,
   "id": "4ed86243-583b-4d8e-931c-b3b47ed09203",
   "metadata": {},
   "outputs": [],
   "source": [
    "directed_G.add_nodes_from(['a', 'b', 'c', 'd'])\n",
    "# 添加多个顶点"
   ]
  },
  {
   "cell_type": "code",
   "execution_count": 14,
   "id": "fdde0032-d5ba-4993-8235-97d806cd7e9a",
   "metadata": {},
   "outputs": [],
   "source": [
    "directed_G.add_edges_from([('a','b'),('b','a'),\n",
    "                           ('c','b'),('b','c'),\n",
    "                           ('b','d'),('d','c'),\n",
    "                           ('a','c')])\n",
    "# 增加一组有向边"
   ]
  },
  {
   "cell_type": "code",
   "execution_count": 22,
   "id": "4bb4c143-66fd-448a-9edd-feaf035d61e3",
   "metadata": {},
   "outputs": [
    {
     "data": {
      "image/png": "[encoded data removed]",
      "text/plain": [
       "<Figure size 600x600 with 1 Axes>"
      ]
     },
     "metadata": {},
     "output_type": "display_data"
    }
   ],
   "source": [
    "plt.figure(figsize = (6,6))\n",
    "nx.draw_networkx(directed_G, \n",
    "                 pos = nx.spring_layout(directed_G,seed = 8),\n",
    "                 node_size = 180)\n",
    "plt.savefig('有向图.svg')"
   ]
  },
  {
   "cell_type": "code",
   "execution_count": 17,
   "id": "1a1319c4-8551-402b-842b-7dd3ab432145",
   "metadata": {},
   "outputs": [],
   "source": [
    "A = nx.adjacency_matrix(directed_G).todense()"
   ]
  },
  {
   "cell_type": "code",
   "execution_count": 18,
   "id": "d893fa39-4bcc-4803-bbd9-1c9738d22600",
   "metadata": {},
   "outputs": [
    {
     "data": {
      "text/plain": [
       "array([[0, 1, 1, 0],\n",
       "       [1, 0, 1, 1],\n",
       "       [0, 1, 0, 0],\n",
       "       [0, 0, 1, 0]], dtype=int32)"
      ]
     },
     "execution_count": 18,
     "metadata": {},
     "output_type": "execute_result"
    }
   ],
   "source": [
    "A"
   ]
  },
  {
   "cell_type": "markdown",
   "id": "31c21d26-20cc-40eb-99c2-0c712160de9e",
   "metadata": {},
   "source": [
    "## $A^{2}$"
   ]
  },
  {
   "cell_type": "code",
   "execution_count": 21,
   "id": "88aaaea2-c974-4cf8-849b-dfc92e33d55a",
   "metadata": {},
   "outputs": [
    {
     "data": {
      "text/plain": [
       "array([[1, 1, 1, 1],\n",
       "       [0, 2, 2, 0],\n",
       "       [1, 0, 1, 1],\n",
       "       [0, 1, 0, 0]], dtype=int32)"
      ]
     },
     "execution_count": 21,
     "metadata": {},
     "output_type": "execute_result"
    }
   ],
   "source": [
    "A @ A"
   ]
  },
  {
   "cell_type": "code",
   "execution_count": null,
   "id": "2f44fbc2-bcd4-42c5-aaec-1d9d560a6f16",
   "metadata": {},
   "outputs": [],
   "source": []
  },
  {
   "cell_type": "markdown",
   "id": "7a4a7565-fec9-4f18-aa45-7b8a820bd2f9",
   "metadata": {},
   "source": [
    "## $A^{n}$"
   ]
  },
  {
   "cell_type": "code",
   "execution_count": null,
   "id": "724f9349-1888-4d7f-91f8-12bb6a0cdcc9",
   "metadata": {},
   "outputs": [],
   "source": [
    "A @ A @ A @ A"
   ]
  },
  {
   "cell_type": "markdown",
   "id": "092cc210-91b0-46b0-9499-e2c0a5332a2c",
   "metadata": {},
   "source": [
    "## $AA^{T}$"
   ]
  },
  {
   "cell_type": "code",
   "execution_count": 19,
   "id": "0f1d17d5-d942-41aa-8adc-be659836a841",
   "metadata": {},
   "outputs": [
    {
     "data": {
      "text/plain": [
       "array([[2, 1, 1, 1],\n",
       "       [1, 3, 0, 1],\n",
       "       [1, 0, 1, 0],\n",
       "       [1, 1, 0, 1]], dtype=int32)"
      ]
     },
     "execution_count": 19,
     "metadata": {},
     "output_type": "execute_result"
    }
   ],
   "source": [
    "A @ A.T"
   ]
  },
  {
   "cell_type": "markdown",
   "id": "c9e99455-7444-4bed-9b65-ae75ab29d464",
   "metadata": {},
   "source": [
    "## $A^{T}A$"
   ]
  },
  {
   "cell_type": "code",
   "execution_count": 20,
   "id": "df7a5495-cdac-4731-8ee9-ef9a202215e1",
   "metadata": {},
   "outputs": [
    {
     "data": {
      "text/plain": [
       "array([[1, 0, 1, 1],\n",
       "       [0, 2, 1, 0],\n",
       "       [1, 1, 3, 1],\n",
       "       [1, 0, 1, 1]], dtype=int32)"
      ]
     },
     "execution_count": 20,
     "metadata": {},
     "output_type": "execute_result"
    }
   ],
   "source": [
    "A.T @ A"
   ]
  },
  {
   "cell_type": "code",
   "execution_count": null,
   "id": "186e4b04-44dc-48ce-86ee-a3ccdc6a6263",
   "metadata": {},
   "outputs": [],
   "source": []
  }
 ],
 "metadata": {
  "kernelspec": {
   "display_name": "Python 3 (ipykernel)",
   "language": "python",
   "name": "python3"
  },
  "language_info": {
   "codemirror_mode": {
    "name": "ipython",
    "version": 3
   },
   "file_extension": ".py",
   "mimetype": "text/x-python",
   "name": "python",
   "nbconvert_exporter": "python",
   "pygments_lexer": "ipython3",
   "version": "3.10.9"
  }
 },
 "nbformat": 4,
 "nbformat_minor": 5
}
