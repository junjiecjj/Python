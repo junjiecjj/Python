{
 "cells": [
  {
   "cell_type": "markdown",
   "id": "89b223ce-cdb7-4017-8ef1-1cc899c5ee0e",
   "metadata": {},
   "source": [
    "Chapter 05\n",
    "\n",
    "# 余弦距离\n",
    "Book_6《数据有道》 | 鸢尾花书：从加减乘除到机器学习"
   ]
  },
  {
   "cell_type": "code",
   "execution_count": 1,
   "id": "822a1d38-5dfe-4066-aa8a-e3c468b08822",
   "metadata": {},
   "outputs": [],
   "source": [
    "import numpy as np\n",
    "from scipy.spatial import distance"
   ]
  },
  {
   "cell_type": "code",
   "execution_count": 2,
   "id": "37b339e8-b7dd-4c05-9800-55bf4f718b8c",
   "metadata": {},
   "outputs": [],
   "source": [
    "x = np.array([8, 2])\n",
    "q = np.array([7, 9])"
   ]
  },
  {
   "cell_type": "code",
   "execution_count": 3,
   "id": "fd7f8ba3-c558-480b-8fe8-78d4d7505228",
   "metadata": {},
   "outputs": [
    {
     "name": "stdout",
     "output_type": "stream",
     "text": [
      "0.21294408484869354\n"
     ]
    }
   ],
   "source": [
    "d_x_q = distance.cosine(x,q)\n",
    "print(d_x_q)"
   ]
  }
 ],
 "metadata": {
  "kernelspec": {
   "display_name": "Python 3 (ipykernel)",
   "language": "python",
   "name": "python3"
  },
  "language_info": {
   "codemirror_mode": {
    "name": "ipython",
    "version": 3
   },
   "file_extension": ".py",
   "mimetype": "text/x-python",
   "name": "python",
   "nbconvert_exporter": "python",
   "pygments_lexer": "ipython3",
   "version": "3.10.9"
  }
 },
 "nbformat": 4,
 "nbformat_minor": 5
}
