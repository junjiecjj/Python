{
 "cells": [
  {
   "cell_type": "markdown",
   "id": "7332a2d0-10c9-40f2-8bda-9a2ec630f13f",
   "metadata": {},
   "source": [
    "Chapter 21\n",
    "# 无向图的拉普拉斯矩阵\n",
    "Book_6《数据有道》 | 鸢尾花书：从加减乘除到机器学习"
   ]
  },
  {
   "cell_type": "code",
   "execution_count": 1,
   "id": "ac43e145-b958-4c37-be88-32516fe9bdf0",
   "metadata": {},
   "outputs": [],
   "source": [
    "import matplotlib.pyplot as plt\n",
    "import networkx as nx\n",
    "import numpy as np\n",
    "import seaborn as sns"
   ]
  },
  {
   "cell_type": "code",
   "execution_count": 2,
   "id": "8aa6b49e-bbb9-48e1-94ca-6034b04f6fe3",
   "metadata": {},
   "outputs": [],
   "source": [
    "G = nx.Graph()\n",
    "# 创建无向图的实例"
   ]
  },
  {
   "cell_type": "code",
   "execution_count": 3,
   "id": "6d040088-8f36-4e83-9203-4536c4d8188a",
   "metadata": {},
   "outputs": [],
   "source": [
    "G.add_nodes_from(['a', 'b', 'c', 'd'])\n",
    "# 添加多个顶点"
   ]
  },
  {
   "cell_type": "code",
   "execution_count": 4,
   "id": "f37a2cdf-1e76-4a46-bf35-5492af13e615",
   "metadata": {},
   "outputs": [],
   "source": [
    "G.add_edges_from([('a','b'),('b','c'),\n",
    "                  ('b','d'),('c','d'),\n",
    "                  ('c','a')])\n",
    "# 增加一组边"
   ]
  },
  {
   "cell_type": "markdown",
   "id": "135de57a-48aa-4d48-9131-62deabb7f6d5",
   "metadata": {},
   "source": [
    "## 拉普拉斯矩阵"
   ]
  },
  {
   "cell_type": "code",
   "execution_count": 9,
   "id": "c4c3e7a1-7799-4c4d-b984-7cedc4cafdd3",
   "metadata": {},
   "outputs": [],
   "source": [
    "L = nx.laplacian_matrix(G).toarray()"
   ]
  },
  {
   "cell_type": "code",
   "execution_count": 10,
   "id": "3b214a5c-4331-48c5-b82b-28c3cb529d42",
   "metadata": {},
   "outputs": [
    {
     "data": {
      "text/plain": [
       "array([[ 2, -1, -1,  0],\n",
       "       [-1,  3, -1, -1],\n",
       "       [-1, -1,  3, -1],\n",
       "       [ 0, -1, -1,  2]], dtype=int32)"
      ]
     },
     "execution_count": 10,
     "metadata": {},
     "output_type": "execute_result"
    }
   ],
   "source": [
    "L"
   ]
  },
  {
   "cell_type": "code",
   "execution_count": 11,
   "id": "6382a2cc-1425-43ba-a4fc-c1666ab9bc90",
   "metadata": {},
   "outputs": [
    {
     "data": {
      "image/png": "[encoded data removed]",
      "text/plain": [
       "<Figure size 640x480 with 2 Axes>"
      ]
     },
     "metadata": {},
     "output_type": "display_data"
    }
   ],
   "source": [
    "sns.heatmap(L, cmap = 'Blues', \n",
    "            annot = True, fmt = '.0f',\n",
    "            xticklabels = list(G.nodes), \n",
    "            yticklabels = list(G.nodes),\n",
    "            linecolor = 'k', square = True,\n",
    "            linewidths = 0.2)\n",
    "plt.savefig('拉普拉斯矩阵.svg')"
   ]
  },
  {
   "cell_type": "markdown",
   "id": "0cfbe37e-531f-4199-80a9-cdd225f78119",
   "metadata": {},
   "source": [
    "## 验证拉普拉斯矩阵"
   ]
  },
  {
   "cell_type": "code",
   "execution_count": 5,
   "id": "c2821e08-e748-41bd-9288-d73c02c145b1",
   "metadata": {},
   "outputs": [
    {
     "data": {
      "text/plain": [
       "array([[0, 1, 1, 0],\n",
       "       [1, 0, 1, 1],\n",
       "       [1, 1, 0, 1],\n",
       "       [0, 1, 1, 0]], dtype=int32)"
      ]
     },
     "execution_count": 5,
     "metadata": {},
     "output_type": "execute_result"
    }
   ],
   "source": [
    "A = nx.adjacency_matrix(G).todense()\n",
    "A"
   ]
  },
  {
   "cell_type": "code",
   "execution_count": 6,
   "id": "fccbafd1-66d6-48ac-ba4a-16ae7984afd2",
   "metadata": {},
   "outputs": [
    {
     "data": {
      "text/plain": [
       "array([2, 3, 3, 2], dtype=int32)"
      ]
     },
     "execution_count": 6,
     "metadata": {},
     "output_type": "execute_result"
    }
   ],
   "source": [
    "D = A.sum(axis = 0)\n",
    "D"
   ]
  },
  {
   "cell_type": "code",
   "execution_count": 7,
   "id": "07a8a484-5d16-4c1c-b2d7-6955bc9dff45",
   "metadata": {},
   "outputs": [
    {
     "data": {
      "text/plain": [
       "array([[2, 0, 0, 0],\n",
       "       [0, 3, 0, 0],\n",
       "       [0, 0, 3, 0],\n",
       "       [0, 0, 0, 2]], dtype=int32)"
      ]
     },
     "execution_count": 7,
     "metadata": {},
     "output_type": "execute_result"
    }
   ],
   "source": [
    "D = np.diag(D)\n",
    "D"
   ]
  },
  {
   "cell_type": "code",
   "execution_count": 8,
   "id": "38462470-87c2-4c7d-98e4-16d70c86503b",
   "metadata": {},
   "outputs": [
    {
     "data": {
      "text/plain": [
       "array([[ 2, -1, -1,  0],\n",
       "       [-1,  3, -1, -1],\n",
       "       [-1, -1,  3, -1],\n",
       "       [ 0, -1, -1,  2]], dtype=int32)"
      ]
     },
     "execution_count": 8,
     "metadata": {},
     "output_type": "execute_result"
    }
   ],
   "source": [
    "D - A"
   ]
  },
  {
   "cell_type": "markdown",
   "id": "dc0b23bc-d8fb-4534-9e35-3160487bf434",
   "metadata": {},
   "source": [
    "## 归一化 (对称) 拉普拉斯矩阵"
   ]
  },
  {
   "cell_type": "markdown",
   "id": "42a80f3d-4f54-44c0-a381-6fa54bac8ee4",
   "metadata": {},
   "source": [
    "$$L_N = D^{-1/2} L D^{-1/2}$$"
   ]
  },
  {
   "cell_type": "code",
   "execution_count": 12,
   "id": "f95f9eff-3a67-4e3c-baa4-0f933149843c",
   "metadata": {},
   "outputs": [],
   "source": [
    "L_N = nx.normalized_laplacian_matrix(G).todense()"
   ]
  },
  {
   "cell_type": "code",
   "execution_count": 13,
   "id": "312f9817-430c-4090-b874-c8e727791a51",
   "metadata": {},
   "outputs": [
    {
     "data": {
      "text/plain": [
       "array([[ 1.        , -0.40824829, -0.40824829,  0.        ],\n",
       "       [-0.40824829,  1.        , -0.33333333, -0.40824829],\n",
       "       [-0.40824829, -0.33333333,  1.        , -0.40824829],\n",
       "       [ 0.        , -0.40824829, -0.40824829,  1.        ]])"
      ]
     },
     "execution_count": 13,
     "metadata": {},
     "output_type": "execute_result"
    }
   ],
   "source": [
    "L_N"
   ]
  },
  {
   "cell_type": "code",
   "execution_count": 14,
   "id": "efabd6b3-69fc-4ade-8993-df18bf7ba862",
   "metadata": {},
   "outputs": [
    {
     "data": {
      "image/png": "[encoded data removed]",
      "text/plain": [
       "<Figure size 640x480 with 2 Axes>"
      ]
     },
     "metadata": {},
     "output_type": "display_data"
    }
   ],
   "source": [
    "sns.heatmap(L_N, cmap = 'Blues', \n",
    "            annot = True, fmt = '.3f',\n",
    "            xticklabels = list(G.nodes), \n",
    "            yticklabels = list(G.nodes),\n",
    "            linecolor = 'k', square = True,\n",
    "            linewidths = 0.2)\n",
    "plt.savefig('归一化拉普拉斯矩阵.svg')"
   ]
  },
  {
   "cell_type": "markdown",
   "id": "55bbf154-bf7e-4f87-8985-b44ae7bf4072",
   "metadata": {},
   "source": [
    "## 验证归一化拉普拉斯矩阵"
   ]
  },
  {
   "cell_type": "code",
   "execution_count": 15,
   "id": "256533ed-a8db-4532-90d8-c3e386d35c4c",
   "metadata": {},
   "outputs": [
    {
     "data": {
      "text/plain": [
       "array([[0.70710678, 0.        , 0.        , 0.        ],\n",
       "       [0.        , 0.57735027, 0.        , 0.        ],\n",
       "       [0.        , 0.        , 0.57735027, 0.        ],\n",
       "       [0.        , 0.        , 0.        , 0.70710678]])"
      ]
     },
     "execution_count": 15,
     "metadata": {},
     "output_type": "execute_result"
    }
   ],
   "source": [
    "D_sqrt_inv = np.diag(1/np.sqrt(A.sum(axis = 0)))\n",
    "D_sqrt_inv"
   ]
  },
  {
   "cell_type": "code",
   "execution_count": 16,
   "id": "82492f5b-8976-4984-90e8-401210b698af",
   "metadata": {},
   "outputs": [
    {
     "data": {
      "text/plain": [
       "array([[ 1.        , -0.40824829, -0.40824829,  0.        ],\n",
       "       [-0.40824829,  1.        , -0.33333333, -0.40824829],\n",
       "       [-0.40824829, -0.33333333,  1.        , -0.40824829],\n",
       "       [ 0.        , -0.40824829, -0.40824829,  1.        ]])"
      ]
     },
     "execution_count": 16,
     "metadata": {},
     "output_type": "execute_result"
    }
   ],
   "source": [
    "D_sqrt_inv @ L @ D_sqrt_inv"
   ]
  },
  {
   "cell_type": "code",
   "execution_count": null,
   "id": "c4b03288-e105-4939-9989-3141141d6e50",
   "metadata": {},
   "outputs": [],
   "source": []
  },
  {
   "cell_type": "code",
   "execution_count": null,
   "id": "4e7bb359-c539-4101-ac17-aa65f7a89119",
   "metadata": {},
   "outputs": [],
   "source": []
  }
 ],
 "metadata": {
  "kernelspec": {
   "display_name": "Python 3 (ipykernel)",
   "language": "python",
   "name": "python3"
  },
  "language_info": {
   "codemirror_mode": {
    "name": "ipython",
    "version": 3
   },
   "file_extension": ".py",
   "mimetype": "text/x-python",
   "name": "python",
   "nbconvert_exporter": "python",
   "pygments_lexer": "ipython3",
   "version": "3.10.9"
  }
 },
 "nbformat": 4,
 "nbformat_minor": 5
}
