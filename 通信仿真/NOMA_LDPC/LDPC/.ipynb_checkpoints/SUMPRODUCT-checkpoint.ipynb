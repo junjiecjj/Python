{
 "cells": [
  {
   "cell_type": "code",
   "execution_count": null,
   "metadata": {
    "id": "ed3dOkfFKXSe"
   },
   "outputs": [],
   "source": [
    "import pandas as pd\n",
    "import numpy as np\n",
    "import re\n",
    "import matplotlib.pyplot as plt"
   ]
  },
  {
   "cell_type": "code",
   "execution_count": null,
   "metadata": {
    "colab": {
     "base_uri": "https://localhost:8080/"
    },
    "id": "DRmf79tUKt9s",
    "outputId": "b3f96204-c0c0-4397-be97-a2ab449449aa"
   },
   "outputs": [
    {
     "name": "stdout",
     "output_type": "stream",
     "text": [
      "Drive already mounted at /content/drive; to attempt to forcibly remount, call drive.mount(\"/content/drive\", force_remount=True).\n"
     ]
    }
   ],
   "source": [
    "from google.colab import drive\n",
    "drive.mount('/content/drive')"
   ]
  },
  {
   "cell_type": "code",
   "execution_count": null,
   "metadata": {
    "id": "aBTFMhI0LoTz"
   },
   "outputs": [],
   "source": [
    "class LoadMatfiles:\n",
    "    def __init__(self, ParityCheckMatrixDirection, DestinationFile):\n",
    "        self.ParityCheckMatrixDirection = ParityCheckMatrixDirection\n",
    "        self.DestinationFile = DestinationFile\n",
    "\n",
    "    # This function, firstly, convert the .Mat file to .txt file,then generat prity check matrix H\n",
    "    def LoadMatfile(self):\n",
    "        pattern = re.compile(r\"(\\[\\[|\\],|\\[|\\]])\")\n",
    "        filename = self.ParityCheckMatrixDirection\n",
    "        with open(filename, \"r\") as file:\n",
    "            file = file.read()\n",
    "            newfile = pattern.sub(r\"\", file)\n",
    "        with open(self.DestinationFile, \"w\") as f:\n",
    "            f.write(newfile)\n",
    "        f.close()\n",
    "\n",
    "        ParityCheckMatrix = pd.read_csv(\n",
    "            self.DestinationFile,\n",
    "            comment=\"%\",\n",
    "            header=None,\n",
    "            sep=\",\",\n",
    "            skip_blank_lines=True,\n",
    "            na_filter=False,\n",
    "        )\n",
    "\n",
    "        ParityCheckMatrix = np.array(ParityCheckMatrix)\n",
    "        return ParityCheckMatrix"
   ]
  },
  {
   "cell_type": "code",
   "execution_count": null,
   "metadata": {
    "id": "xBtJ546zLr1a"
   },
   "outputs": [],
   "source": [
    "class InitializationProcess(LoadMatfiles):\n",
    "    def __init__(self, ParityCheckMatrix, ReceivedVector, channel = 'AWGN' , Crossover_or_SNR = 1.25):\n",
    "        self.ParityCheckMatrix = ParityCheckMatrix\n",
    "        self.ReceivedVector    = ReceivedVector\n",
    "        self.channel           = channel\n",
    "        self.Crossover_or_SNR  = Crossover_or_SNR\n",
    "\n",
    "    def NoneZeros(self):\n",
    "        ## 字典{行号:{不为0的列号}}\n",
    "        SetBitsInParities  = {f'{i}': set(np.nonzero(self.ParityCheckMatrix[i,:])[0].astype(int))\n",
    "                            for i in np.arange(0,np.shape(self.ParityCheckMatrix)[0])}\n",
    "        ## 字典{列号:{不为0的行号}}\n",
    "        SetParitiesForBits = {f'{j}': set(np.nonzero(self.ParityCheckMatrix[:,j])[0].astype(int))\n",
    "                            for j in np.arange(0,np.shape(self.ParityCheckMatrix)[1])}\n",
    "        return SetBitsInParities, SetParitiesForBits\n",
    "\n",
    "    def Initialization(self, SetBitsInParities, SetParitiesForBits):\n",
    "        if self.channel == 'BSC':\n",
    "            p           = self.Crossover_or_SNR\n",
    "            PrioriMProb = np.zeros((np.shape(self.ReceivedVector)))\n",
    "            for i in np.arange(0, np.shape(self.ReceivedVector)[1]):\n",
    "                if self.ReceivedVector[0, i] == 1:\n",
    "                    PrioriMProb[0, i] = (np.log(p/(1-p)))\n",
    "                else:\n",
    "                    PrioriMProb[0, i] = (np.log((1-p)/p))\n",
    "\n",
    "        elif self.channel == 'AWGN':\n",
    "            SNR   = self.Crossover_or_SNR\n",
    "            ## 接收序列转换为 对数域的 LLR\n",
    "            r     = [ 4*self.ReceivedVector[0,i]*SNR for i in np.arange(0,np.shape(self.ReceivedVector)[1]) ]\n",
    "            PrioriMProb = np.array([r])\n",
    "        \n",
    "        ## 变量节点 到 校验节点 的初始化信息\n",
    "        PrioriMBitToCheck = np.zeros(np.shape(self.ParityCheckMatrix))\n",
    "\n",
    "        for key in SetParitiesForBits.keys():\n",
    "            for i in SetParitiesForBits[f'{key}']:\n",
    "                PrioriMBitToCheck[int(i), int(key)] = PrioriMProb[0, int(key)]\n",
    "        return PrioriMBitToCheck, PrioriMProb\n",
    "\n"
   ]
  },
  {
   "cell_type": "code",
   "execution_count": null,
   "metadata": {
    "id": "ciIwFiKQLxL6"
   },
   "outputs": [],
   "source": [
    "import pandas as pd\n",
    "import numpy as np\n",
    "import re\n",
    "\n",
    "ParityCheckMatrixDirection = \"/content/drive/My Drive/Colab Notebooks/Code1_MinDis8_Girth6_Dimen56_Rate0518_Length108\"\n",
    "DestinationFile = \"/content/drive/My Drive/Colab Notebooks/newfile1.txt\"\n",
    "decoding = LoadMatfiles(ParityCheckMatrixDirection, DestinationFile )\n",
    "\n",
    "ParityCheckMatrix = decoding.LoadMatfile()\n",
    "\n",
    "ParityCheckMatrix = ParityCheckMatrix[0:54, :]\n"
   ]
  },
  {
   "cell_type": "code",
   "execution_count": null,
   "metadata": {
    "colab": {
     "base_uri": "https://localhost:8080/"
    },
    "id": "qGM-7yP1MCAs",
    "outputId": "cdac6dab-001f-4a07-8c55-f32e4d84aed6"
   },
   "outputs": [
    {
     "name": "stdout",
     "output_type": "stream",
     "text": [
      "(54, 108)\n"
     ]
    }
   ],
   "source": [
    "print(np.shape(ParityCheckMatrix))"
   ]
  },
  {
   "cell_type": "code",
   "execution_count": null,
   "metadata": {
    "id": "ac7IeyOIMPMD"
   },
   "outputs": [],
   "source": [
    "## 对数域的消息传播, 更新 [校验节点] 到 [变量节点] 的消息\n",
    "def ExtrinsicMessages(MBitToCheck, SetBitsInParities):\n",
    "    ExtInfo = np.zeros(np.shape(MBitToCheck))\n",
    "    for key in SetBitsInParities.keys():\n",
    "        for BitV in SetBitsInParities[f'{key}']:\n",
    "            Pt = 1\n",
    "            for j in SetBitsInParities[f'{key}']:\n",
    "                if j != BitV:\n",
    "                    Pt *= np.tanh(MBitToCheck[int(key), int(j)]/2)\n",
    "            ExtInfo[int(key), int(BitV)] = np.log((1+(0.9*Pt))/(1-(0.9*Pt)))\n",
    "    return ExtInfo"
   ]
  },
  {
   "cell_type": "code",
   "execution_count": null,
   "metadata": {
    "id": "dFgDUoxeMS1r"
   },
   "outputs": [],
   "source": [
    "## 计算变量节点的那半边的输出信息, 在计算半边的输出的时候, 半边输入信息也要考虑进去\n",
    "def TotalLLRs(ExtrinsicInfo, PriorLLRs, SetParitiesForBits):\n",
    "    TLLRs = np.zeros(np.shape(PriorLLRs))\n",
    "    for key in SetParitiesForBits.keys():\n",
    "        TLLR = 0\n",
    "        for i in SetParitiesForBits[f'{key}']:\n",
    "            TLLR += ExtrinsicInfo[int(i),int(key)]\n",
    "        TLLRs[0,int(key)] = TLLR + PriorLLRs[0,int(key)]\n",
    "    return TLLRs"
   ]
  },
  {
   "cell_type": "code",
   "execution_count": null,
   "metadata": {
    "id": "34_DiISrMYNq"
   },
   "outputs": [],
   "source": [
    "def HardDecision(TLLRs):\n",
    "    CodeWord = np.zeros(np.shape(TLLRs)).astype(int)\n",
    "    sgn = np.sign(TLLRs)\n",
    "    for i in range(0,np.shape(TLLRs)[1]):\n",
    "        if sgn[0,i] == -1:\n",
    "            CodeWord[0,i] = 1\n",
    "            \n",
    "    return CodeWord"
   ]
  },
  {
   "cell_type": "code",
   "execution_count": null,
   "metadata": {
    "id": "PQjoJ4g-MZor"
   },
   "outputs": [],
   "source": [
    "\n",
    "def CodeWordValidation(ParityCheckMatrix, CodeWord):\n",
    "    if np.all((np.dot(CodeWord, np.transpose(ParityCheckMatrix))%2 == 0)):\n",
    "        return True\n",
    "    else:\n",
    "        return False\n"
   ]
  },
  {
   "cell_type": "code",
   "execution_count": null,
   "metadata": {
    "id": "KDCsw6CQMda6"
   },
   "outputs": [],
   "source": [
    "## 更新 [变量节点] 到 [校验节点] 的消息，半边输入信息也要考虑进去\n",
    "def MBitToCheck(ExtrinsicInfo, SetParitiesForBits, PriorLLRs):\n",
    "    BitToCheckInfo = np.zeros(np.shape(ExtrinsicInfo))\n",
    "    for key in SetParitiesForBits.keys():\n",
    "        for val in SetParitiesForBits[f'{key}']:\n",
    "            Mes = 0\n",
    "            for i in SetParitiesForBits[f'{key}']:\n",
    "                if i != val:\n",
    "                    Mes += ExtrinsicInfo[int(i),int(key)]\n",
    "            BitToCheckInfo[int(val),int(key)] = Mes +  PriorLLRs[0, int(key)]\n",
    "    return BitToCheckInfo\n"
   ]
  },
  {
   "cell_type": "code",
   "execution_count": null,
   "metadata": {
    "id": "P_P_SiH-Mf3z"
   },
   "outputs": [],
   "source": [
    "def SumProduct(ParityCheckMatrix,  ReceivedVector, channel = 'AWGN', Crossover_or_SNR=1.25):\n",
    "    #Initialization\n",
    "    init = InitializationProcess(ParityCheckMatrix,ReceivedVector,channel, Crossover_or_SNR)\n",
    "\n",
    "    SetBitsInParities, SetParitiesForBits = init.NoneZeros()\n",
    "    BitToCheckInfo, PriorLLRs = init.Initialization(SetBitsInParities, SetParitiesForBits)\n",
    "    \n",
    "    Itr = 1\n",
    "    while True:\n",
    "        ExtrinsicInfo = ExtrinsicMessages(BitToCheckInfo, SetBitsInParities)        \n",
    "#         print('Iteration:  ', Itr)\n",
    "#         print('ExtrinsicInfo: ')\n",
    "#         print(ExtrinsicInfo)\n",
    "#         print('\\n')\n",
    "\n",
    "        TLRRs = TotalLLRs(ExtrinsicInfo, PriorLLRs, SetParitiesForBits)\n",
    "#         print(\"TotalLLRs: \")\n",
    "#         print(TLRRs)\n",
    "#         print('\\n')\n",
    "\n",
    "        CodeWord = HardDecision(TLRRs)\n",
    "#         print(\"CodeWord\")\n",
    "#         print(CodeWord)\n",
    "#         print('\\n')\n",
    "        if Itr >= 100:\n",
    "            return CodeWord\n",
    "            break\n",
    "        elif  CodeWordValidation(ParityCheckMatrix, CodeWord)== True:\n",
    "#             print('True Code word:')\n",
    "#             print(CodeWord)\n",
    "            return CodeWord\n",
    "            break\n",
    "        BitToCheckInfo = MBitToCheck(ExtrinsicInfo, SetParitiesForBits, PriorLLRs)\n",
    "        Itr += 1\n",
    "#         print('BitToCheckInfo: ')\n",
    "#         print(BitToCheckInfo)\n",
    "#         print('\\n')\n",
    "        "
   ]
  },
  {
   "cell_type": "code",
   "execution_count": null,
   "metadata": {
    "id": "551w4munMiVK"
   },
   "outputs": [],
   "source": [
    "#BPSK BER\n",
    "\n",
    "\n",
    "def BPSK_AWGN_Simulation(ParityCheckMatrix ,MinSNR , MaxSNR, CodeRate, CodeLength=100000,  MaxIteration=1000):\n",
    "    \n",
    "    SNR = np.array([np.arange(MinSNR, MaxSNR+1 , 0.5)])\n",
    "    BER = []\n",
    "    FER = []\n",
    "    for snr in np.arange(MinSNR, MaxSNR+1, 0.5):\n",
    "        snr = 10**(0.1*snr)\n",
    "        NoiseVar = 1/(2*CodeRate*snr)\n",
    "        itr = 0; Error = 0; FError =0\n",
    "        \n",
    "        while True:\n",
    "#             Message = np.array([np.random.randint(2, size=CodeLength)])\n",
    "            Message = np.zeros((1, CodeLength))\n",
    "            BPSKModulation = 1-2*Message\n",
    "            #print(np.shape(Message))\n",
    "            \n",
    "            RandomVector = np.random.normal(0,NoiseVar, size=CodeLength)\n",
    "            ReceivedVector = BPSKModulation + RandomVector\n",
    "#             mess_cap = [(-np.sign(i)+1)/2 for i in RecievedMess]\n",
    "#             mess_cap =np.array(mess_cap).astype(int)\n",
    "            mess_cap= SumProduct(ParityCheckMatrix, \n",
    "                                 ReceivedVector, channel = 'AWGN',\n",
    "                                 Crossover_or_SNR= snr)\n",
    "\n",
    "            NoneEquales = np.sum(mess_cap != Message)\n",
    "            Error += NoneEquales\n",
    "            itr += 1\n",
    "            \n",
    "            if NoneEquales >= 1:\n",
    "                FError +=1\n",
    "\n",
    "            if FError >= 30: \n",
    "                break\n",
    "            \n",
    "        BER.append(Error/(CodeLength*itr))\n",
    "        FER.append(FError/itr)\n",
    "\n",
    "    return SNR, np.array([BER]), np.array([FER])\n",
    "    "
   ]
  },
  {
   "cell_type": "code",
   "execution_count": null,
   "metadata": {
    "colab": {
     "base_uri": "https://localhost:8080/"
    },
    "id": "YUhFpnfVMplL",
    "outputId": "c9c78a90-d6c9-4963-aba9-6f33efc54dff"
   },
   "outputs": [
    {
     "name": "stdout",
     "output_type": "stream",
     "text": [
      "BER: \n",
      " [[1.20370370e-01 7.36331570e-02 2.89855072e-02 9.20604513e-03\n",
      "  1.27200220e-03 2.59748197e-04 3.38237781e-05 5.99759548e-06]]\n",
      "FER: \n",
      " [[8.82352941e-01 7.14285714e-01 4.34782609e-01 1.72413793e-01\n",
      "  3.71287129e-02 1.23762376e-02 1.95694716e-03 5.55205981e-04]]\n"
     ]
    }
   ],
   "source": [
    "SNR, BER, FER = BPSK_AWGN_Simulation(ParityCheckMatrix ,\n",
    "                                MinSNR=0 , MaxSNR=3,\n",
    "                                CodeRate=(1/2),\n",
    "                                CodeLength=108,\n",
    "                                MaxIteration=1000\n",
    "                               )\n",
    "print('BER: \\n', BER)\n",
    "print('FER: \\n', FER)"
   ]
  },
  {
   "cell_type": "code",
   "execution_count": null,
   "metadata": {
    "colab": {
     "base_uri": "https://localhost:8080/",
     "height": 279
    },
    "id": "JRC-jEtGMqoS",
    "outputId": "9fdd70a1-2c93-4d0c-c9f5-3cf2284f4c92"
   },
   "outputs": [
    {
     "data": {
      "image/png": "[encoded data removed]",
      "text/plain": [
       "<Figure size 432x288 with 1 Axes>"
      ]
     },
     "metadata": {
      "needs_background": "light",
      "tags": []
     },
     "output_type": "display_data"
    }
   ],
   "source": [
    "import matplotlib.pyplot as plt\n",
    "\n",
    "\n",
    "plt.semilogy(SNR[0,:], BER[0,:], label= 'BER')\n",
    "plt.semilogy(SNR[0,:], FER[0,:], label='FER')\n",
    "plt.xlabel('SNR in db')\n",
    "plt.ylabel(\"Error\")\n",
    "# plt.semilogy(SNR[0,:], FER[0,:])\n",
    "plt.show()\n",
    "\n"
   ]
  },
  {
   "cell_type": "code",
   "execution_count": null,
   "metadata": {
    "id": "4PAxeBSMuPfi"
   },
   "outputs": [],
   "source": []
  }
 ],
 "metadata": {
  "accelerator": "GPU",
  "colab": {
   "collapsed_sections": [],
   "name": "SUMPRODUCT.ipynb",
   "provenance": []
  },
  "kernelspec": {
   "display_name": "Python 3 (ipykernel)",
   "language": "python",
   "name": "python3"
  },
  "language_info": {
   "codemirror_mode": {
    "name": "ipython",
    "version": 3
   },
   "file_extension": ".py",
   "mimetype": "text/x-python",
   "name": "python",
   "nbconvert_exporter": "python",
   "pygments_lexer": "ipython3",
   "version": "3.9.7"
  }
 },
 "nbformat": 4,
 "nbformat_minor": 1
}
